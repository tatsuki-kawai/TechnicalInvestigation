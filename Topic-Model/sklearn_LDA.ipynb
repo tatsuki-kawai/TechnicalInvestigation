{
 "cells": [
  {
   "cell_type": "code",
   "execution_count": 2,
   "metadata": {},
   "outputs": [],
   "source": [
    "from sklearn.feature_extraction.text import TfidfVectorizer\n",
    "from sklearn.decomposition import LatentDirichletAllocation\n",
    "from sklearn.pipeline import Pipeline\n",
    "from sklearn.feature_extraction.text import CountVectorizer as CV\n",
    "import numpy as np\n",
    "import pandas as pd\n",
    "from MyNLP import WordDividerMecab"
   ]
  },
  {
   "cell_type": "code",
   "execution_count": 3,
   "metadata": {},
   "outputs": [],
   "source": [
    "df = pd.read_csv(\"data/2022_09_22/comment_2022_09_22.csv\", encoding=\"SHIFT=JIS\", header=None)\n",
    "comment_list = []\n",
    "row_data = df[0][1:].to_numpy().tolist()\n",
    "temp_row_data = []\n",
    "for text in row_data:\n",
    "    if len(text) >= 50:\n",
    "        temp_row_data.append(text)\n",
    "row_data = temp_row_data\n",
    "wd = WordDividerMecab()\n",
    "stop_word_list = [\"まだ\", \"ある\", \"なる\", \"なる\", \"する\", \"し\", \"する\", \"いる\", \"なっ\", \"せ\", \"い\", \"やる\", \"ない\"]\n",
    "\n",
    "comment_list = [wd.wakati_text_delete(text=text, stop_word_list=stop_word_list) for text in row_data]"
   ]
  },
  {
   "cell_type": "code",
   "execution_count": 4,
   "metadata": {},
   "outputs": [],
   "source": [
    "#comment_list = np.array(comment_list)\n",
    "#comment_list = comment_list.reshape(1, -1)"
   ]
  },
  {
   "cell_type": "code",
   "execution_count": 5,
   "metadata": {},
   "outputs": [
    {
     "data": {
      "text/plain": [
       "LatentDirichletAllocation(max_iter=50, n_jobs=-1, random_state=0)"
      ]
     },
     "execution_count": 5,
     "metadata": {},
     "output_type": "execute_result"
    }
   ],
   "source": [
    "topic_num=10\n",
    "lda =LatentDirichletAllocation(n_components=topic_num,  max_iter=50, \\\n",
    "                        learning_method='batch', random_state=0, n_jobs=-1)\n",
    "cv = CV()\n",
    "lda.fit(cv.fit_transform(comment_list))"
   ]
  },
  {
   "cell_type": "code",
   "execution_count": 73,
   "metadata": {},
   "outputs": [
    {
     "name": "stdout",
     "output_type": "stream",
     "text": [
      "component: 0\n",
      "思う 8.100127301545319\n",
      "メタノール 7.417166108127965\n",
      "簡単 5.100068226280531\n",
      "難しい 5.100020889331517\n",
      "容疑者 4.100084009768488\n",
      "component: 1\n",
      "子供 3.100046307519035\n",
      "逮捕 3.100027507862842\n",
      "考える 3.100024677181627\n",
      "わかる 2.1000450163608684\n",
      "研究者 2.100040589094662\n",
      "component: 2\n",
      "メタノール 28.755765897623004\n",
      "殺す 10.977051000142355\n",
      "殺害 10.100076535575361\n",
      "知識 8.09999544669099\n",
      "薬品 8.099974618546398\n",
      "component: 3\n",
      "思う 8.10002912167937\n",
      "メタノール 7.100025876780006\n",
      "知る 5.100053983105891\n",
      "戦後 5.100041051221148\n",
      "メチルアルコール 5.100033984025585\n",
      "component: 4\n",
      "思う 11.100161664497593\n",
      "できる 7.100135841585257\n",
      "考える 6.1000431179615955\n",
      "お子さん 5.100084422956873\n",
      "自分 4.100072354115989\n",
      "component: 5\n",
      "メタノール 15.684230611668909\n",
      "思う 12.050274852700717\n",
      "飲む 8.765906662048431\n",
      "奥さん 8.100116234202083\n",
      "バレる 6.100040200147023\n",
      "component: 6\n",
      "思う 19.065446420640846\n",
      "バレる 10.045441405126388\n",
      "殺す 7.957536278177971\n",
      "使う 6.100036933223069\n",
      "考える 6.0999909183325425\n",
      "component: 7\n",
      "夫婦 8.100041979629061\n",
      "子供 5.100029351201734\n",
      "かわいそう 5.099990549484726\n",
      "会社 4.100035831851766\n",
      "子ども 4.100019321341305\n",
      "component: 8\n",
      "逮捕 13.100075960506668\n",
      "メタノール 8.543133259007964\n",
      "思う 8.149758396657191\n",
      "警察 7.100075738545115\n",
      "理由 6.100016002544275\n",
      "component: 9\n",
      "メタノール 7.0999925031403395\n",
      "逮捕 6.100029196142009\n",
      "わかる 5.100094688576614\n",
      "事件 5.100056014485792\n",
      "薬品 4.100012742597751\n"
     ]
    }
   ],
   "source": [
    "feature_names = np.array(cv.get_feature_names())\n",
    "for i, component in enumerate(lda.components_[:10]):\n",
    "    print(\"component:\", i)\n",
    "    idx = component.argsort()[::-1][:5]\n",
    "    for j in idx:\n",
    "        print(feature_names[j], component[j])"
   ]
  },
  {
   "cell_type": "code",
   "execution_count": 9,
   "metadata": {},
   "outputs": [
    {
     "name": "stdout",
     "output_type": "stream",
     "text": [
      "0.1\n"
     ]
    }
   ],
   "source": [
    "print(lda.doc_topic_prior_)"
   ]
  },
  {
   "cell_type": "code",
   "execution_count": null,
   "metadata": {},
   "outputs": [],
   "source": []
  }
 ],
 "metadata": {
  "kernelspec": {
   "display_name": "Python 3",
   "language": "python",
   "name": "python3"
  },
  "language_info": {
   "codemirror_mode": {
    "name": "ipython",
    "version": 3
   },
   "file_extension": ".py",
   "mimetype": "text/x-python",
   "name": "python",
   "nbconvert_exporter": "python",
   "pygments_lexer": "ipython3",
   "version": "3.8.1"
  }
 },
 "nbformat": 4,
 "nbformat_minor": 4
}
