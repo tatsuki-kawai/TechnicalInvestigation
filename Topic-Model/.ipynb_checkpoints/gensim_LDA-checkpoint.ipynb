{
 "cells": [
  {
   "cell_type": "code",
   "execution_count": 5,
   "metadata": {},
   "outputs": [],
   "source": [
    "import pandas as pd\n",
    "import numpy as np\n",
    "from MyNLP import WordDividerMecab\n",
    "from gensim.test.utils import common_texts\n",
    "from gensim.corpora.dictionary import Dictionary\n",
    "from gensim.models.ldamodel import LdaModel\n",
    "from collections import defaultdict"
   ]
  },
  {
   "cell_type": "code",
   "execution_count": 6,
   "metadata": {},
   "outputs": [],
   "source": [
    "df = pd.read_csv(\"data/2023_01_04/kakogawa_baibasu_ziko_comment2.csv\", encoding=\"cp932\", header=None)\n",
    "comment_list = []\n",
    "row_data = df[0][1:].to_numpy().tolist()\n",
    "temp_row_data = []\n",
    "for text in row_data:\n",
    "    if len(text) >= 50:\n",
    "        temp_row_data.append(text)\n",
    "row_data = temp_row_data\n",
    "wd = WordDividerMecab()\n",
    "stop_word_list = [\"まだ\", \"ある\", \"なる\", \"なる\", \"する\", \"し\", \"する\", \"いる\", \"なっ\", \"せ\", \"い\", \"やる\", \"ない\"]\n",
    "for text in row_data:\n",
    "    if len(text) >= 10:\n",
    "        text = wd.wakati_text_delete(text=text, stop_word_list=stop_word_list)\n",
    "        comment_list.append(text)\n",
    "dataset = [comment.split() for comment in comment_list]"
   ]
  },
  {
   "cell_type": "code",
   "execution_count": 7,
   "metadata": {},
   "outputs": [
    {
     "name": "stdout",
     "output_type": "stream",
     "text": [
      "1568\n",
      "296\n"
     ]
    }
   ],
   "source": [
    "dictionary = Dictionary(dataset)\n",
    "print(len(dictionary))\n",
    "\n",
    "dictionary.filter_extremes(no_below=3, no_above=0.1)\n",
    "print(len(dictionary))\n",
    "\n",
    "score_by_topic = defaultdict(int)\n",
    "corpus = [dictionary.doc2bow(text) for text in dataset]"
   ]
  },
  {
   "cell_type": "code",
   "execution_count": 9,
   "metadata": {},
   "outputs": [],
   "source": [
    "# corpus"
   ]
  },
  {
   "cell_type": "code",
   "execution_count": null,
   "metadata": {},
   "outputs": [],
   "source": [
    "lda = LdaModel(corpus=corpus, num_topics=10, id2word=dictionary)\n",
    "#lda.show_topics()\n",
    "print(lda[corpus[3]])"
   ]
  },
  {
   "cell_type": "code",
   "execution_count": 59,
   "metadata": {},
   "outputs": [
    {
     "name": "stdout",
     "output_type": "stream",
     "text": [
      "       0      1    2      3      4      5      6      7      8      9\n",
      "0  0.000  0.000  0.0  0.953  0.000  0.000  0.000  0.000  0.000  0.000\n",
      "1  0.000  0.529  0.0  0.000  0.000  0.000  0.000  0.000  0.000  0.443\n",
      "2  0.000  0.000  0.0  0.000  0.000  0.000  0.000  0.000  0.961  0.000\n",
      "3  0.925  0.000  0.0  0.000  0.000  0.000  0.000  0.000  0.000  0.000\n",
      "4  0.011  0.011  0.9  0.011  0.011  0.011  0.011  0.011  0.011  0.011\n"
     ]
    }
   ],
   "source": [
    "topic_df = pd.DataFrame(index = range(len(corpus)))\n",
    "\n",
    "for c in range(10):\n",
    "    topic_df[c] = 0.0\n",
    "\n",
    "for i in range(len(corpus)):\n",
    "    topics = lda[corpus[i]]\n",
    "    for t, p in topics:\n",
    "        topic_df.loc[i][t] = p\n",
    "        \n",
    "print(topic_df.head().round(3))"
   ]
  },
  {
   "cell_type": "code",
   "execution_count": null,
   "metadata": {},
   "outputs": [],
   "source": []
  }
 ],
 "metadata": {
  "kernelspec": {
   "display_name": "Python 3",
   "language": "python",
   "name": "python3"
  },
  "language_info": {
   "codemirror_mode": {
    "name": "ipython",
    "version": 3
   },
   "file_extension": ".py",
   "mimetype": "text/x-python",
   "name": "python",
   "nbconvert_exporter": "python",
   "pygments_lexer": "ipython3",
   "version": "3.8.1"
  }
 },
 "nbformat": 4,
 "nbformat_minor": 4
}
