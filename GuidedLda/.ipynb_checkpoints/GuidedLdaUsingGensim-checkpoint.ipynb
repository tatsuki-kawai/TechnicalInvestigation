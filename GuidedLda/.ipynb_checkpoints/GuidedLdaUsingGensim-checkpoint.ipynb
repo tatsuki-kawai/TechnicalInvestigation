{
 "cells": [
  {
   "cell_type": "code",
   "execution_count": 9,
   "metadata": {},
   "outputs": [],
   "source": [
    "import warnings\n",
    "warnings.filterwarnings(action='ignore', category=UserWarning)\n",
    "import gensim\n",
    "import numpy as np\n",
    "import nltk\n",
    "from nltk.corpus import stopwords\n",
    "from nltk.stem import WordNetLemmatizer\n",
    "import matplotlib.pyplot as plt\n",
    "%matplotlib inline"
   ]
  },
  {
   "cell_type": "code",
   "execution_count": 10,
   "metadata": {},
   "outputs": [
    {
     "name": "stderr",
     "output_type": "stream",
     "text": [
      "[nltk_data] Downloading package stopwords to\n",
      "[nltk_data]     C:\\Users\\tatsuki\\AppData\\Roaming\\nltk_data...\n",
      "[nltk_data]   Unzipping corpora\\stopwords.zip.\n"
     ]
    },
    {
     "data": {
      "text/plain": [
       "True"
      ]
     },
     "execution_count": 10,
     "metadata": {},
     "output_type": "execute_result"
    }
   ],
   "source": [
    "# nltk.download('averaged_perceptron_tagger')\n",
    "# nltk.download('wordnet')\n",
    "nltk.download('stopwords')"
   ]
  },
  {
   "cell_type": "code",
   "execution_count": null,
   "metadata": {},
   "outputs": [],
   "source": [
    "'''簡単なテキスト文字列のコーパスを準備しましょう。最初の2つは食べ物に関連しているように見え、次の2つは動物に関連しているように見え、最後の1つは両方の要素が含まれています。'''"
   ]
  },
  {
   "cell_type": "code",
   "execution_count": 11,
   "metadata": {},
   "outputs": [
    {
     "data": {
      "text/plain": [
       "5"
      ]
     },
     "execution_count": 11,
     "metadata": {},
     "output_type": "execute_result"
    }
   ],
   "source": [
    "txt = [\n",
    "    'I like to eat broccoli and bananas.',\n",
    "    'I munched a banana and spinach smoothie for breakfast.',\n",
    "    'Chinchillas and kittens are cute.',\n",
    "    'My sister adopted a kitten yesterday.',\n",
    "    'Look at this cute hamster munching on a piece of broccoli.'\n",
    "]\n",
    "len(txt)"
   ]
  },
  {
   "cell_type": "code",
   "execution_count": null,
   "metadata": {},
   "outputs": [],
   "source": [
    "'''多くの自然言語処理アプリケーションにおいて、最初のステップはテキスト文字列の前処理です。以下の処理を行います：\n",
    "\n",
    "gensim.simple_preprocess - トークン化、句読点の除去、小文字化などの前処理を実行します。\n",
    "レンマ化 - 単語を基本形に変換します。例えば、\"shaving\"を\"shave\"に変換することです（注意：これはステミングとは異なります。ステミングは\"shaving\"を\"shav\"に変換します）。\n",
    "レンマ化を実行するには、nltkパッケージを介して提供されるWordNet言語モデルを使用します。WordNetLemmatizer.lemmatize（）関数には、名詞、動詞、形容詞、副詞のどれを渡しているかを示す品詞タグが必要です。たとえば、\"shaving\"は動詞としても名詞としても使用できます。名詞として渡した場合は、既に基本形であるため、レンマ化関数はそのままにしておく必要があります。しかし、動詞として渡された場合は、\"shaving\"を\"shave\"に変換する必要があります。\n",
    "特定の単語がどの品詞であるかを特定することは簡単ではありませんが、nltkは再び助けとなり、与えられたテキストの各単語に対して適切な品詞タグを返す品詞タガーにアクセスできるようにしています。\n",
    "\n",
    "問題は、nltk.pos_tag関数が単語のPenn Treebankタグを返すが、単にその単語が名詞、動詞、形容詞、副詞のどれであるかを返してほしいだけであることです。Pennタグから簡単なタグへの変換ルーチンが必要です。'''"
   ]
  },
  {
   "cell_type": "code",
   "execution_count": 12,
   "metadata": {},
   "outputs": [],
   "source": [
    "# simplify Penn tags to n (NOUN), v (VERB), a (ADJECTIVE) or r (ADVERB)\n",
    "def simplify(penn_tag):\n",
    "    pre = penn_tag[0]\n",
    "    if (pre == 'J'):\n",
    "        return 'a'\n",
    "    elif (pre == 'R'):\n",
    "        return 'r'\n",
    "    elif (pre == 'V'):\n",
    "        return 'v'\n",
    "    else:\n",
    "        return 'n'"
   ]
  },
  {
   "cell_type": "code",
   "execution_count": null,
   "metadata": {},
   "outputs": [],
   "source": [
    "'''これで、テキストのシンプルな前処理を行う準備が整いました。'''"
   ]
  },
  {
   "cell_type": "code",
   "execution_count": 13,
   "metadata": {},
   "outputs": [],
   "source": [
    "def preprocess(text):\n",
    "    stop_words = stopwords.words('english')\n",
    "    toks = gensim.utils.simple_preprocess(str(text), deacc=True)\n",
    "    wn = WordNetLemmatizer()\n",
    "    return [wn.lemmatize(tok, simplify(pos)) for tok, pos in nltk.pos_tag(toks) if tok not in stop_words]"
   ]
  },
  {
   "cell_type": "code",
   "execution_count": 14,
   "metadata": {},
   "outputs": [
    {
     "data": {
      "text/plain": [
       "[['like', 'eat', 'broccoli', 'banana'],\n",
       " ['munch', 'banana', 'spinach', 'smoothie', 'breakfast'],\n",
       " ['chinchilla', 'kitten', 'cute'],\n",
       " ['sister', 'adopt', 'kitten', 'yesterday'],\n",
       " ['look', 'cute', 'hamster', 'munch', 'piece', 'broccoli']]"
      ]
     },
     "execution_count": 14,
     "metadata": {},
     "output_type": "execute_result"
    }
   ],
   "source": [
    "corp = [preprocess(line) for line in txt]\n",
    "corp"
   ]
  },
  {
   "cell_type": "code",
   "execution_count": null,
   "metadata": {},
   "outputs": [],
   "source": [
    "'''上記の出力を見ると、単語が基本形に翻訳され、小文字に変換されていることがわかります。また、この段階で、'this', 'on', 'are'などのような、トピック確率にほとんど寄与しない「ストップワード」を省略していることが分かります。'''"
   ]
  },
  {
   "cell_type": "code",
   "execution_count": 16,
   "metadata": {},
   "outputs": [
    {
     "data": {
      "text/plain": [
       "17"
      ]
     },
     "execution_count": 16,
     "metadata": {},
     "output_type": "execute_result"
    }
   ],
   "source": [
    "dictionary = gensim.corpora.Dictionary(corp)\n",
    "len(dictionary)"
   ]
  },
  {
   "cell_type": "code",
   "execution_count": null,
   "metadata": {},
   "outputs": [],
   "source": [
    "'''17個の単語からなる語彙があります（ストップワードを削除した後）。gensimのLDAアルゴリズムの実装では、文を「単語袋」と呼ばれる形式で読み取ります。この構造では、文中に存在する各単語が一度だけリストに表示され、文中に出現する回数とともに示されます。gensim辞書は、doc2bow関数を提供しており、行をそれに対応する「bow」形式に変換することができます。'''"
   ]
  },
  {
   "cell_type": "code",
   "execution_count": 17,
   "metadata": {},
   "outputs": [
    {
     "data": {
      "text/plain": [
       "[[(0, 1), (1, 1), (2, 1), (3, 1)],\n",
       " [(0, 1), (4, 1), (5, 1), (6, 1), (7, 1)],\n",
       " [(8, 1), (9, 1), (10, 1)],\n",
       " [(10, 1), (11, 1), (12, 1), (13, 1)],\n",
       " [(1, 1), (5, 1), (9, 1), (14, 1), (15, 1), (16, 1)]]"
      ]
     },
     "execution_count": 17,
     "metadata": {},
     "output_type": "execute_result"
    }
   ],
   "source": [
    "bow = [dictionary.doc2bow(line) for line in corp]\n",
    "bow"
   ]
  },
  {
   "cell_type": "code",
   "execution_count": null,
   "metadata": {},
   "outputs": [],
   "source": [
    "'''gensimの実装において、単語がどの用語に割り当てられるかを追跡するモデルパラメーターは、etaと呼ばれます。gensimは、etaが提供されなかった場合、またはキーワード'auto'として提供された場合、用語とトピック全体で均等に分布するものと仮定します。私たちが知りたいのは、非均等行列をetaパラメーターとして提供した場合、単語と文書に割り当てられるトピック分布に影響を与えるかどうかです。\n",
    "\n",
    "それを確認するために、まず、'auto'キーワードを使用して、設定した文のコーパスでトピックモデルをトレーニングします。次に、楽しみのために、自動生成されたモデルと同じ方向に歪んだ事前分布を使用してモデルをトレーニングし、逆方向にモデルを推進するために事前分布を使用して別のモデルをトレーニングします。\n",
    "\n",
    "アルゴリズムによって計算された確率分布を表示する関数を設定して、単語に割り当てられたトピックを確認します。'''"
   ]
  },
  {
   "cell_type": "code",
   "execution_count": 18,
   "metadata": {},
   "outputs": [],
   "source": [
    "def viz_model(model, modeldict):\n",
    "    ntopics = model.num_topics\n",
    "    # top words associated with the resulting topics\n",
    "    topics = ['Topic {}: {}'.format(t,modeldict[w]) for t in range(ntopics) for w,p in model.get_topic_terms(t, topn=1)]\n",
    "    terms = [modeldict[w] for w in modeldict.keys()]\n",
    "    fig,ax=plt.subplots()\n",
    "    ax.imshow(model.get_topics())  # plot the numpy matrix\n",
    "    ax.set_xticks(modeldict.keys())  # set up the x-axis\n",
    "    ax.set_xticklabels(terms, rotation=90)\n",
    "    ax.set_yticks(np.arange(ntopics))  # set up the y-axis\n",
    "    ax.set_yticklabels(topics)\n",
    "    plt.show()"
   ]
  },
  {
   "cell_type": "code",
   "execution_count": null,
   "metadata": {},
   "outputs": [],
   "source": [
    "'''各テストで以下の関数を実行します。事前分布（または 'auto'）を使用してモデルをトレーニングし、モデルをプロットし、トピック分布を印刷し、コーパスのトピック割り当てを表示します。'''"
   ]
  },
  {
   "cell_type": "code",
   "execution_count": 19,
   "metadata": {},
   "outputs": [],
   "source": [
    "def test_eta(eta, dictionary, ntopics, print_topics=True, print_dist=True):\n",
    "    np.random.seed(42) # set the random seed for repeatability\n",
    "    bow = [dictionary.doc2bow(line) for line in corp] # get the bow-format lines with the set dictionary\n",
    "    with (np.errstate(divide='ignore')):  # ignore divide-by-zero warnings\n",
    "        model = gensim.models.ldamodel.LdaModel(\n",
    "            corpus=bow, id2word=dictionary, num_topics=ntopics,\n",
    "            random_state=42, chunksize=100, eta=eta,\n",
    "            eval_every=-1, update_every=1,\n",
    "            passes=150, alpha='auto', per_word_topics=True)\n",
    "    # visuzlize the model term topics\n",
    "    viz_model(model, dictionary)\n",
    "    print('Perplexity: {:.2f}'.format(model.log_perplexity(bow)))\n",
    "    if print_topics:\n",
    "        # display the top terms for each topic\n",
    "        for topic in range(ntopics):\n",
    "            print('Topic {}: {}'.format(topic, [dictionary[w] for w,p in model.get_topic_terms(topic, topn=3)]))\n",
    "    if print_dist:\n",
    "        # display the topic probabilities for each document\n",
    "        for line,bag in zip(txt,bow):\n",
    "            doc_topics = ['({}, {:.1%})'.format(topic, prob) for topic,prob in model.get_document_topics(bag)]\n",
    "            print('{} {}'.format(line, doc_topics))\n",
    "    return model"
   ]
  },
  {
   "cell_type": "code",
   "execution_count": null,
   "metadata": {},
   "outputs": [],
   "source": [
    "'''カスタム事前分布を試す前に、デフォルトの設定である「auto」でモデルがどのように機能するかを確認しましょう。\n",
    "'''"
   ]
  },
  {
   "cell_type": "code",
   "execution_count": 20,
   "metadata": {},
   "outputs": [
    {
     "data": {
      "image/png": "[encoded data removed]",
      "text/plain": [
       "<Figure size 432x288 with 1 Axes>"
      ]
     },
     "metadata": {
      "needs_background": "light"
     },
     "output_type": "display_data"
    },
    {
     "name": "stdout",
     "output_type": "stream",
     "text": [
      "Perplexity: -3.23\n",
      "Topic 0: ['banana', 'like', 'smoothie']\n",
      "Topic 1: ['kitten', 'cute', 'adopt']\n",
      "I like to eat broccoli and bananas. ['(0, 99.1%)']\n",
      "I munched a banana and spinach smoothie for breakfast. ['(0, 99.3%)']\n",
      "Chinchillas and kittens are cute. ['(1, 99.2%)']\n",
      "My sister adopted a kitten yesterday. ['(1, 99.4%)']\n",
      "Look at this cute hamster munching on a piece of broccoli. ['(1, 99.6%)']\n"
     ]
    },
    {
     "data": {
      "text/plain": [
       "<gensim.models.ldamodel.LdaModel at 0x2472050a1f0>"
      ]
     },
     "execution_count": 20,
     "metadata": {},
     "output_type": "execute_result"
    }
   ],
   "source": [
    "test_eta('auto',dictionary,ntopics=2)"
   ]
  },
  {
   "cell_type": "code",
   "execution_count": null,
   "metadata": {},
   "outputs": [],
   "source": [
    "'''まあまあです。均等に開始された分布は、最初の2つと次の2つを別々のトピックとして正しく識別しますが、最後の文章に両方のトピックの要素が含まれていることを識別できません。\n",
    "\n",
    "先行分布を定義するには、トピックと用語の数と同じ行列をnumpyで作成する必要があります。その後、この行列に先行分布を設定します。これを行うには、すべての行列要素を1で事前に準備し、ガイドされた用語-トピック分布に対応する要素には非常に高い数値を設定します。'''"
   ]
  },
  {
   "cell_type": "code",
   "execution_count": 21,
   "metadata": {},
   "outputs": [],
   "source": [
    "def create_eta(priors, etadict, ntopics):\n",
    "    eta = np.full(shape=(ntopics, len(etadict)), fill_value=1) # create a (ntopics, nterms) matrix and fill with 1\n",
    "    for word, topic in priors.items(): # for each word in the list of priors\n",
    "        keyindex = [index for index,term in etadict.items() if term==word] # look up the word in the dictionary\n",
    "        if (len(keyindex)>0): # if it's in the dictionary\n",
    "            eta[topic,keyindex[0]] = 1e7  # put a large number in there\n",
    "    eta = np.divide(eta, eta.sum(axis=0)) # normalize so that the probabilities sum to 1 over all topics\n",
    "    return eta"
   ]
  },
  {
   "cell_type": "code",
   "execution_count": null,
   "metadata": {},
   "outputs": [],
   "source": [
    "'''同じトピックの単語を使うリストから始めましょう。'''"
   ]
  },
  {
   "cell_type": "code",
   "execution_count": 22,
   "metadata": {},
   "outputs": [
    {
     "data": {
      "image/png": "[encoded data removed]",
      "text/plain": [
       "<Figure size 432x288 with 1 Axes>"
      ]
     },
     "metadata": {
      "needs_background": "light"
     },
     "output_type": "display_data"
    },
    {
     "name": "stdout",
     "output_type": "stream",
     "text": [
      "Perplexity: -1.30\n",
      "Topic 0: ['banana', 'broccoli', 'munch']\n",
      "Topic 1: ['kitten', 'cute', 'sister']\n",
      "I like to eat broccoli and bananas. ['(0, 96.3%)', '(1, 3.7%)']\n",
      "I munched a banana and spinach smoothie for breakfast. ['(0, 97.0%)', '(1, 3.0%)']\n",
      "Chinchillas and kittens are cute. ['(0, 4.8%)', '(1, 95.2%)']\n",
      "My sister adopted a kitten yesterday. ['(0, 3.7%)', '(1, 96.3%)']\n",
      "Look at this cute hamster munching on a piece of broccoli. ['(0, 40.4%)', '(1, 59.6%)']\n"
     ]
    },
    {
     "data": {
      "text/plain": [
       "<gensim.models.ldamodel.LdaModel at 0x24720609820>"
      ]
     },
     "execution_count": 22,
     "metadata": {},
     "output_type": "execute_result"
    }
   ],
   "source": [
    "apriori_original = {\n",
    "    'banana':0, 'broccoli':0, 'munch':0,\n",
    "    'cute':1, 'kitten':1  # we'll leave out broccoli from this one!\n",
    "}\n",
    "eta = create_eta(apriori_original, dictionary, 2)\n",
    "test_eta(eta, dictionary, 2)"
   ]
  },
  {
   "cell_type": "code",
   "execution_count": null,
   "metadata": {},
   "outputs": [],
   "source": [
    "'''「フーディー」トピックにいくつかの単語を、そして「アニマリー」トピックに他の単語を割り当てるように分布を誘導すると、実際には同じトピック配分方向でより明確な分布を得ることができ、最後の文章については両方のトピックにより多くの確率が割り当てられるようになります。'''"
   ]
  },
  {
   "cell_type": "code",
   "execution_count": 23,
   "metadata": {},
   "outputs": [
    {
     "data": {
      "image/png": "[encoded data removed]",
      "text/plain": [
       "<Figure size 432x288 with 1 Axes>"
      ]
     },
     "metadata": {
      "needs_background": "light"
     },
     "output_type": "display_data"
    },
    {
     "name": "stdout",
     "output_type": "stream",
     "text": [
      "Perplexity: -1.46\n",
      "Topic 0: ['kitten', 'cute', 'chinchilla']\n",
      "Topic 1: ['banana', 'broccoli', 'munch']\n",
      "I like to eat broccoli and bananas. ['(0, 8.3%)', '(1, 91.7%)']\n",
      "I munched a banana and spinach smoothie for breakfast. ['(0, 6.9%)', '(1, 93.1%)']\n",
      "Chinchillas and kittens are cute. ['(0, 86.8%)', '(1, 13.2%)']\n",
      "My sister adopted a kitten yesterday. ['(0, 89.3%)', '(1, 10.7%)']\n",
      "Look at this cute hamster munching on a piece of broccoli. ['(0, 22.9%)', '(1, 77.1%)']\n"
     ]
    },
    {
     "data": {
      "text/plain": [
       "<gensim.models.ldamodel.LdaModel at 0x24720661d90>"
      ]
     },
     "execution_count": 23,
     "metadata": {},
     "output_type": "execute_result"
    }
   ],
   "source": [
    "apriori_opposite = {\n",
    "    'cute':0, 'kitten':0,\n",
    "    'banana':1, 'broccoli':1, 'munch':1\n",
    "}\n",
    "eta = create_eta(apriori_opposite, dictionary, 2)\n",
    "test_eta(eta, dictionary, 2)"
   ]
  },
  {
   "cell_type": "code",
   "execution_count": null,
   "metadata": {},
   "outputs": [],
   "source": [
    "'''成功です！私たちはモデルを反対方向に押しました。以前トピック0に割り当てられていた用語は今やトピック1に割り当てられ、逆もまた同様です。しかし、モデルがこれに苦戦しているようです！分布がはっきりしないようです。もう少し強くプッシュしたらどうなるでしょうか？'''"
   ]
  },
  {
   "cell_type": "code",
   "execution_count": 24,
   "metadata": {},
   "outputs": [
    {
     "data": {
      "image/png": "[encoded data removed]",
      "text/plain": [
       "<Figure size 432x288 with 1 Axes>"
      ]
     },
     "metadata": {
      "needs_background": "light"
     },
     "output_type": "display_data"
    },
    {
     "name": "stdout",
     "output_type": "stream",
     "text": [
      "Perplexity: -1.17\n",
      "Topic 0: ['kitten', 'cute', 'chinchilla']\n",
      "Topic 1: ['banana', 'munch', 'broccoli']\n",
      "I like to eat broccoli and bananas. ['(0, 4.1%)', '(1, 95.9%)']\n",
      "I munched a banana and spinach smoothie for breakfast. ['(0, 3.3%)', '(1, 96.7%)']\n",
      "Chinchillas and kittens are cute. ['(0, 94.6%)', '(1, 5.4%)']\n",
      "My sister adopted a kitten yesterday. ['(0, 95.8%)', '(1, 4.2%)']\n",
      "Look at this cute hamster munching on a piece of broccoli. ['(0, 50.0%)', '(1, 50.0%)']\n"
     ]
    },
    {
     "data": {
      "text/plain": [
       "<gensim.models.ldamodel.LdaModel at 0x247206c9220>"
      ]
     },
     "execution_count": 24,
     "metadata": {},
     "output_type": "execute_result"
    }
   ],
   "source": [
    "apriori_harder = {\n",
    "    'cute':0, 'kitten':0, 'hamster':0, 'chinchilla':0, 'look':0,\n",
    "    'banana':1, 'broccoli':1, 'piece':1, 'breakfast':1, 'munch':1\n",
    "}\n",
    "eta = create_eta(apriori_harder, dictionary, 2)\n",
    "test_eta(eta, dictionary, 2)"
   ]
  },
  {
   "cell_type": "code",
   "execution_count": null,
   "metadata": {},
   "outputs": [],
   "source": [
    "'''明らかに、追加の用語をトピックに関連付けることで、モデルにより極性が与えられました。\n",
    "\n",
    "私たちは、先に用語-トピック分布をモデルに提供することで、LDAを有用なトピックモデルに導くことができることを見てきました。\n",
    "\n",
    "しかし、最後に1つだけ質問があります。LDAトレーニングアルゴリズムは反復的な性質を持っているため、辞書内の単語の順序には影響があるのでしょうか？それを調べてみましょう。まず、現在持っている辞書を見てみましょう。'''"
   ]
  },
  {
   "cell_type": "code",
   "execution_count": 25,
   "metadata": {},
   "outputs": [
    {
     "name": "stdout",
     "output_type": "stream",
     "text": [
      "['banana', 'broccoli', 'eat', 'like', 'breakfast', 'munch', 'smoothie', 'spinach', 'chinchilla', 'cute', 'kitten', 'adopt', 'sister', 'yesterday', 'hamster', 'look', 'piece']\n"
     ]
    }
   ],
   "source": [
    "print([dictionary[w] for w in dictionary.keys()])"
   ]
  },
  {
   "cell_type": "code",
   "execution_count": null,
   "metadata": {},
   "outputs": [],
   "source": [
    "'''新しい辞書を、異なる単語の順序で作成してみましょう。'''"
   ]
  },
  {
   "cell_type": "code",
   "execution_count": 26,
   "metadata": {},
   "outputs": [
    {
     "name": "stdout",
     "output_type": "stream",
     "text": [
      "['adopt', 'banana', 'breakfast', 'broccoli', 'chinchilla', 'cute', 'eat', 'hamster', 'kitten', 'like', 'look', 'munch', 'piece', 'sister', 'smoothie', 'spinach', 'yesterday']\n"
     ]
    }
   ],
   "source": [
    "dictionary2 = gensim.corpora.Dictionary(\n",
    "    [['banana', 'broccoli', 'eat', 'like', 'breakfast', 'munch', 'smoothie', 'spinach', 'chinchilla',\n",
    "    'cute', 'kitten', 'adopt', 'sister', 'yesterday', 'hamster', 'look', 'piece']]\n",
    ")\n",
    "print([dictionary2[w] for w in dictionary2.keys()])"
   ]
  },
  {
   "cell_type": "code",
   "execution_count": 27,
   "metadata": {},
   "outputs": [
    {
     "data": {
      "image/png": "[encoded data removed]",
      "text/plain": [
       "<Figure size 432x288 with 1 Axes>"
      ]
     },
     "metadata": {
      "needs_background": "light"
     },
     "output_type": "display_data"
    },
    {
     "name": "stdout",
     "output_type": "stream",
     "text": [
      "Perplexity: -1.17\n",
      "Topic 0: ['kitten', 'cute', 'chinchilla']\n",
      "Topic 1: ['banana', 'munch', 'broccoli']\n",
      "I like to eat broccoli and bananas. ['(0, 4.1%)', '(1, 95.9%)']\n",
      "I munched a banana and spinach smoothie for breakfast. ['(0, 3.3%)', '(1, 96.7%)']\n",
      "Chinchillas and kittens are cute. ['(0, 94.6%)', '(1, 5.4%)']\n",
      "My sister adopted a kitten yesterday. ['(0, 95.8%)', '(1, 4.2%)']\n",
      "Look at this cute hamster munching on a piece of broccoli. ['(0, 50.0%)', '(1, 50.0%)']\n"
     ]
    },
    {
     "data": {
      "image/png": "[encoded data removed]",
      "text/plain": [
       "<Figure size 432x288 with 1 Axes>"
      ]
     },
     "metadata": {
      "needs_background": "light"
     },
     "output_type": "display_data"
    },
    {
     "name": "stdout",
     "output_type": "stream",
     "text": [
      "Perplexity: -1.17\n",
      "Topic 0: ['kitten', 'cute', 'chinchilla']\n",
      "Topic 1: ['banana', 'broccoli', 'munch']\n",
      "I like to eat broccoli and bananas. ['(0, 3.9%)', '(1, 96.1%)']\n",
      "I munched a banana and spinach smoothie for breakfast. ['(0, 3.2%)', '(1, 96.8%)']\n",
      "Chinchillas and kittens are cute. ['(0, 94.8%)', '(1, 5.2%)']\n",
      "My sister adopted a kitten yesterday. ['(0, 96.0%)', '(1, 4.0%)']\n",
      "Look at this cute hamster munching on a piece of broccoli. ['(0, 50.0%)', '(1, 50.0%)']\n"
     ]
    },
    {
     "data": {
      "text/plain": [
       "<gensim.models.ldamodel.LdaModel at 0x24720716910>"
      ]
     },
     "execution_count": 27,
     "metadata": {},
     "output_type": "execute_result"
    }
   ],
   "source": [
    "eta = create_eta(apriori_harder, dictionary, 2)\n",
    "test_eta(eta, dictionary, 2)\n",
    "\n",
    "eta = create_eta(apriori_harder, dictionary2, 2)\n",
    "test_eta(eta, dictionary2, 2)"
   ]
  },
  {
   "cell_type": "code",
   "execution_count": null,
   "metadata": {},
   "outputs": [],
   "source": [
    "'''単語の順序や文書のトピック確率の並び方に微小な違いがあるものの、2つのモデルはほとんど同じです。'''"
   ]
  }
 ],
 "metadata": {
  "kernelspec": {
   "display_name": "Python 3",
   "language": "python",
   "name": "python3"
  },
  "language_info": {
   "codemirror_mode": {
    "name": "ipython",
    "version": 3
   },
   "file_extension": ".py",
   "mimetype": "text/x-python",
   "name": "python",
   "nbconvert_exporter": "python",
   "pygments_lexer": "ipython3",
   "version": "3.8.1"
  }
 },
 "nbformat": 4,
 "nbformat_minor": 4
}
