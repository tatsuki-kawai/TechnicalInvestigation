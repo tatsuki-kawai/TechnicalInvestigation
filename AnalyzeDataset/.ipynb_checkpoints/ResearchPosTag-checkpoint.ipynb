{
 "cells": [
  {
   "cell_type": "code",
   "execution_count": 1,
   "metadata": {},
   "outputs": [],
   "source": [
    "import sys\n",
    "sys.path.append('../Data')\n",
    "sys.path.append('../NLP')\n",
    "\n",
    "import csv\n",
    "import pandas as pd\n",
    "import numpy as np\n",
    "import time\n",
    "from MyNLP import WordDividerMecab\n",
    "from CommentDataset import CommentDataset"
   ]
  },
  {
   "cell_type": "code",
   "execution_count": 2,
   "metadata": {},
   "outputs": [
    {
     "name": "stdout",
     "output_type": "stream",
     "text": [
      "199\n"
     ]
    }
   ],
   "source": [
    "import csv\n",
    "\n",
    "df = pd.read_csv(\"../Data/yahoo/2023_04_04/20230404_1.csv\", encoding=\"cp932\", header=None)\n",
    "comment_list = df[0][1:].to_numpy().tolist()\n",
    "\n",
    "wd = WordDividerMecab()\n",
    "temp_comment_list = []\n",
    "print(len(comment_list))\n",
    "for comment in comment_list:\n",
    "    comment = wd.split_text_with_pos_tags(comment)\n",
    "    temp_comment_list.append(comment)\n",
    "    \n",
    "comment_list = temp_comment_list\n",
    "\n",
    "# CSVファイルに書き込む\n",
    "with open('../Data/yahoo/2023_04_04/analyze_pos_tag_20230404_1.csv', 'w', newline='', encoding='cp932') as f:\n",
    "    writer = csv.writer(f)\n",
    "    for comment in comment_list:\n",
    "        for morpheme in comment:\n",
    "            writer.writerow(morpheme)"
   ]
  },
  {
   "cell_type": "code",
   "execution_count": null,
   "metadata": {},
   "outputs": [],
   "source": []
  }
 ],
 "metadata": {
  "kernelspec": {
   "display_name": "Python 3",
   "language": "python",
   "name": "python3"
  },
  "language_info": {
   "codemirror_mode": {
    "name": "ipython",
    "version": 3
   },
   "file_extension": ".py",
   "mimetype": "text/x-python",
   "name": "python",
   "nbconvert_exporter": "python",
   "pygments_lexer": "ipython3",
   "version": "3.8.1"
  }
 },
 "nbformat": 4,
 "nbformat_minor": 4
}
