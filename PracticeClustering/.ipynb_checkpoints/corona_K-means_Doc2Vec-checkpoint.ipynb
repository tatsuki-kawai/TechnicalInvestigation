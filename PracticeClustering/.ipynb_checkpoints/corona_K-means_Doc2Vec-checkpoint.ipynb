{
 "cells": [
  {
   "cell_type": "code",
   "execution_count": 59,
   "metadata": {},
   "outputs": [],
   "source": [
    "import pandas as pd\n",
    "import numpy as np\n",
    "import matplotlib.pyplot as plt\n",
    "from MyNLP import WordDivider\n",
    "\n",
    "list = []\n",
    "df1 = pd.read_csv('CSV/corona_work_depression/corona_work_depression.csv', encoding='shift_jis', header=None)\n",
    "df2 = pd.read_csv('CSV/corona_work_depression/corona_work_depression2.csv', encoding='shift_jis', header=None)\n",
    "df3 = pd.read_csv('CSV/corona_work_depression/corona_work_depression3.csv', encoding='shift_jis', header=None)\n",
    "df4 = pd.read_csv('CSV/corona_work_depression/corona_work_depression4.csv', encoding='cp932', header=None)\n",
    "df5 = pd.read_csv('CSV/corona_work_depression/corona_work_depression5.csv', encoding='shift_jis', header=None)\n",
    "df6 = pd.read_csv('CSV/corona_work_depression/corona_work_depression6.csv', encoding='shift_jis', header=None)\n",
    "df7 = pd.read_csv('CSV/corona_work_depression/corona_work_depression7.csv', encoding='shift_jis', header=None)\n",
    "df8 = pd.read_csv('CSV/corona_work_depression/corona_work_depression8.csv', encoding='shift_jis', header=None)\n",
    "df9 = pd.read_csv('CSV/corona_work_depression/corona_work_depression9.csv', encoding='shift_jis', header=None)\n",
    "df10 = pd.read_csv('CSV/corona_work_depression/corona_work_depression10.csv', encoding='shift_jis', header=None)\n",
    "df11 = pd.read_csv('CSV/corona_work_depression/corona_work_depression11.csv', encoding='shift_jis', header=None)\n",
    "df12 = pd.read_csv('CSV/corona_work_depression/corona_work_depression12.csv', encoding='shift_jis', header=None)\n",
    "df13 = pd.read_csv('CSV/corona_work_depression/corona_work_depression13.csv', encoding='shift_jis', header=None)\n",
    "df14 = pd.read_csv('CSV/corona_work_depression/corona_work_depression14.csv', encoding='shift_jis', header=None)\n",
    "list.append(df1)\n",
    "list.append(df2)\n",
    "list.append(df3)\n",
    "list.append(df4)\n",
    "list.append(df5)\n",
    "list.append(df6)\n",
    "list.append(df7)\n",
    "list.append(df8)\n",
    "list.append(df9)\n",
    "list.append(df10)\n",
    "list.append(df11)\n",
    "list.append(df12)\n",
    "list.append(df13)\n",
    "list.append(df14)\n",
    "corona_work_depression = []\n",
    "for index, comments in enumerate(list):\n",
    "    if index == 1:\n",
    "        corona_work_depression = comments.iloc[1:, 0].tolist()\n",
    "    else:\n",
    "        comments = comments.iloc[1:, 0].tolist()\n",
    "        for comment in comments:\n",
    "            corona_work_depression.append(comment)\n",
    "            \n",
    "wd = WordDivider()\n",
    "keitaiso = [wd.wakati_text(text) for text in corona_work_depression]"
   ]
  },
  {
   "cell_type": "code",
   "execution_count": 66,
   "metadata": {},
   "outputs": [],
   "source": [
    "from gensim.models.doc2vec import Doc2Vec\n",
    "from gensim.models.doc2vec import TaggedDocument\n",
    "trainings = [TaggedDocument(words = data.split(), tags = [i]) for i, data in enumerate(keitaiso)]\n",
    "m = Doc2Vec(documents=trainings)\n",
    "print(m)\n",
    "#print(m.dv.most_similar(0))\n",
    "#print(m.dv[0])\n",
    "vecs = []\n",
    "for i in range(0,len(keitaiso)):\n",
    "    vecs.append(m.dv[i])"
   ]
  },
  {
   "cell_type": "code",
   "execution_count": 65,
   "metadata": {},
   "outputs": [
    {
     "data": {
      "image/png": "[encoded data removed]",
      "text/plain": [
       "<Figure size 432x288 with 1 Axes>"
      ]
     },
     "metadata": {
      "needs_background": "light"
     },
     "output_type": "display_data"
    }
   ],
   "source": [
    "from sklearn.cluster import KMeans\n",
    "\n",
    "distortions = []\n",
    "\n",
    "for i in range(1, 11):\n",
    "    km = KMeans(n_clusters=i,\n",
    "                init='k-means++')\n",
    "    km.fit(vecs)\n",
    "    distortions.append(km.inertia_)\n",
    "\n",
    "plt.plot(range(1,11),distortions,marker='o')\n",
    "plt.xlabel('Number of clusters')\n",
    "plt.ylabel('Distortion')\n",
    "plt.show()"
   ]
  },
  {
   "cell_type": "code",
   "execution_count": 62,
   "metadata": {},
   "outputs": [
    {
     "name": "stdout",
     "output_type": "stream",
     "text": [
      "[1 1 1 0 1 1 0 0 1 1 0 1 0 1 1 1 1 1 0 0 0 1 1 0 0 0 0 0 0 0 0 1 0 1 0 0 1\n",
      " 1 1 0 0 0 0 1 0 0 0 1 1 0 0 1 1 1 0 0 1 1 1 1 0 1 0 1 0 0 0 0 1 0 0 0 0 1\n",
      " 0 0 0 0 0 1 0 0 0 0 0 0 0 1 0 0 1 1 0 0 0 0 0 0 0 0 1 0 0 0 0 0 0 0 0 0 0\n",
      " 1 0 0 1 0 0 1 1 0 0 0 0 1 0 1 0 1 0 1]\n",
      "[0 1]\n",
      "[83 47]\n",
      "8.06692113300645\n"
     ]
    }
   ],
   "source": [
    "km = KMeans(init ='k-means++', n_clusters=2)\n",
    "result = km.fit(vecs)\n",
    "label = result.labels_\n",
    "print(label)\n",
    "u, counts = np.unique(label, return_counts=True)\n",
    "print(u)\n",
    "print(counts)\n",
    "print(km.inertia_)\n",
    "\n",
    "label = pd.DataFrame(label, columns=['cluster'])\n",
    "comments = pd.DataFrame(corona_work_depression, columns=['comments'])\n",
    "clustering_result = pd.concat([comments, label], axis=1)\n",
    "clustering_result.to_csv(\"./clustering_doc2vec.result2.csv\")"
   ]
  },
  {
   "cell_type": "code",
   "execution_count": 63,
   "metadata": {},
   "outputs": [
    {
     "name": "stdout",
     "output_type": "stream",
     "text": [
      "[1 2 2 2 1 1 0 2 2 1 0 1 0 2 1 2 2 1 2 2 0 1 1 0 2 0 0 0 2 0 0 2 0 2 0 2 1\n",
      " 2 1 0 0 0 0 1 0 2 2 2 2 0 0 2 2 1 2 0 1 2 1 2 0 1 0 1 0 0 0 2 2 0 0 2 2 2\n",
      " 2 0 0 0 2 2 0 0 0 0 0 0 0 2 2 0 2 1 0 0 0 2 0 2 0 2 1 0 0 2 0 0 0 2 0 0 0\n",
      " 1 0 2 1 0 0 2 2 0 2 0 2 2 0 1 2 1 2 1]\n",
      "[0 1 2]\n",
      "[57 24 49]\n",
      "4.366723669097329\n"
     ]
    }
   ],
   "source": [
    "km = KMeans(init ='k-means++', n_clusters=3)\n",
    "result = km.fit(vecs)\n",
    "label = result.labels_\n",
    "print(label)\n",
    "u, counts = np.unique(label, return_counts=True)\n",
    "print(u)\n",
    "print(counts)\n",
    "print(km.inertia_)\n",
    "\n",
    "label = pd.DataFrame(label, columns=['cluster'])\n",
    "comments = pd.DataFrame(corona_work_depression, columns=['comments'])\n",
    "clustering_result = pd.concat([comments, label], axis=1)\n",
    "clustering_result.to_csv(\"./clustering_doc2vec.result3.csv\")"
   ]
  },
  {
   "cell_type": "code",
   "execution_count": 64,
   "metadata": {},
   "outputs": [
    {
     "name": "stdout",
     "output_type": "stream",
     "text": [
      "[2 0 0 0 2 2 1 0 0 2 1 2 3 0 0 0 0 2 1 0 1 2 0 1 0 1 1 1 1 1 3 0 1 0 3 1 2\n",
      " 0 2 1 1 3 3 2 3 1 0 0 0 1 3 0 0 0 1 1 2 0 2 0 1 2 1 2 1 1 1 1 0 1 3 0 1 0\n",
      " 1 1 3 1 1 0 3 3 1 1 3 3 1 0 0 3 0 2 3 3 3 1 1 0 3 1 2 1 3 0 1 3 1 1 1 1 1\n",
      " 2 3 0 0 1 3 0 0 3 1 3 1 0 3 0 1 2 0 0]\n",
      "[0 1 2 3]\n",
      "[40 47 18 25]\n",
      "2.6483463073772953\n"
     ]
    }
   ],
   "source": [
    "km = KMeans(init ='k-means++', n_clusters=4)\n",
    "result = km.fit(vecs)\n",
    "label = result.labels_\n",
    "print(label)\n",
    "u, counts = np.unique(label, return_counts=True)\n",
    "print(u)\n",
    "print(counts)\n",
    "print(km.inertia_)\n",
    "\n",
    "label = pd.DataFrame(label, columns=['cluster'])\n",
    "comments = pd.DataFrame(corona_work_depression, columns=['comments'])\n",
    "clustering_result = pd.concat([comments, label], axis=1)\n",
    "clustering_result.to_csv(\"./clustering_doc2vec.result4.csv\")"
   ]
  },
  {
   "cell_type": "code",
   "execution_count": null,
   "metadata": {},
   "outputs": [],
   "source": []
  }
 ],
 "metadata": {
  "kernelspec": {
   "display_name": "Python 3",
   "language": "python",
   "name": "python3"
  },
  "language_info": {
   "codemirror_mode": {
    "name": "ipython",
    "version": 3
   },
   "file_extension": ".py",
   "mimetype": "text/x-python",
   "name": "python",
   "nbconvert_exporter": "python",
   "pygments_lexer": "ipython3",
   "version": "3.8.1"
  }
 },
 "nbformat": 4,
 "nbformat_minor": 4
}
