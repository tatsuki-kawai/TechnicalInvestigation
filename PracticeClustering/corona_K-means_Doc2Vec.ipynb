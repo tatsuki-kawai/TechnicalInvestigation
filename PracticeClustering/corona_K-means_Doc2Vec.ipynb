{
 "cells": [
  {
   "cell_type": "code",
   "execution_count": 59,
   "metadata": {},
   "outputs": [],
   "source": [
    "import pandas as pd\n",
    "import numpy as np\n",
    "import matplotlib.pyplot as plt\n",
    "from MyNLP import WordDivider\n",
    "\n",
    "list = []\n",
    "df1 = pd.read_csv('CSV/corona_work_depression/corona_work_depression.csv', encoding='shift_jis', header=None)\n",
    "df2 = pd.read_csv('CSV/corona_work_depression/corona_work_depression2.csv', encoding='shift_jis', header=None)\n",
    "df3 = pd.read_csv('CSV/corona_work_depression/corona_work_depression3.csv', encoding='shift_jis', header=None)\n",
    "df4 = pd.read_csv('CSV/corona_work_depression/corona_work_depression4.csv', encoding='cp932', header=None)\n",
    "df5 = pd.read_csv('CSV/corona_work_depression/corona_work_depression5.csv', encoding='shift_jis', header=None)\n",
    "df6 = pd.read_csv('CSV/corona_work_depression/corona_work_depression6.csv', encoding='shift_jis', header=None)\n",
    "df7 = pd.read_csv('CSV/corona_work_depression/corona_work_depression7.csv', encoding='shift_jis', header=None)\n",
    "df8 = pd.read_csv('CSV/corona_work_depression/corona_work_depression8.csv', encoding='shift_jis', header=None)\n",
    "df9 = pd.read_csv('CSV/corona_work_depression/corona_work_depression9.csv', encoding='shift_jis', header=None)\n",
    "df10 = pd.read_csv('CSV/corona_work_depression/corona_work_depression10.csv', encoding='shift_jis', header=None)\n",
    "df11 = pd.read_csv('CSV/corona_work_depression/corona_work_depression11.csv', encoding='shift_jis', header=None)\n",
    "df12 = pd.read_csv('CSV/corona_work_depression/corona_work_depression12.csv', encoding='shift_jis', header=None)\n",
    "df13 = pd.read_csv('CSV/corona_work_depression/corona_work_depression13.csv', encoding='shift_jis', header=None)\n",
    "df14 = pd.read_csv('CSV/corona_work_depression/corona_work_depression14.csv', encoding='shift_jis', header=None)\n",
    "list.append(df1)\n",
    "list.append(df2)\n",
    "list.append(df3)\n",
    "list.append(df4)\n",
    "list.append(df5)\n",
    "list.append(df6)\n",
    "list.append(df7)\n",
    "list.append(df8)\n",
    "list.append(df9)\n",
    "list.append(df10)\n",
    "list.append(df11)\n",
    "list.append(df12)\n",
    "list.append(df13)\n",
    "list.append(df14)\n",
    "corona_work_depression = []\n",
    "for index, comments in enumerate(list):\n",
    "    if index == 1:\n",
    "        corona_work_depression = comments.iloc[1:, 0].tolist()\n",
    "    else:\n",
    "        comments = comments.iloc[1:, 0].tolist()\n",
    "        for comment in comments:\n",
    "            corona_work_depression.append(comment)\n",
    "            \n",
    "wd = WordDivider()\n",
    "keitaiso = [wd.wakati_text(text) for text in corona_work_depression]"
   ]
  },
  {
   "cell_type": "code",
   "execution_count": 68,
   "metadata": {},
   "outputs": [
    {
     "name": "stdout",
     "output_type": "stream",
     "text": [
      "Doc2Vec<dm/m,d100,n5,w5,mc5,s0.001,t3>\n",
      "[-0.15732951 -0.0017293  -0.03693172  0.08661043  0.02319758 -0.27452528\n",
      "  0.09159094  0.33653212 -0.2515818  -0.1653311  -0.06384027 -0.20322233\n",
      " -0.08834416 -0.05874905  0.12755309 -0.19082426  0.11816283 -0.07597016\n",
      " -0.1296302  -0.3613856  -0.00649684  0.09135754  0.05908547 -0.0670618\n",
      " -0.05087952  0.03021438 -0.36060894 -0.04113177 -0.17055634 -0.07171026\n",
      "  0.20960827  0.06463546  0.07552914 -0.14086215 -0.0728715   0.23473065\n",
      "  0.06006858 -0.208427   -0.11363308 -0.25643048  0.16806926 -0.20173873\n",
      " -0.08336749 -0.11707366  0.08856703 -0.01435097 -0.08641674 -0.06049485\n",
      "  0.1441782   0.04076402  0.0141318  -0.03397473  0.04201341 -0.04791959\n",
      " -0.18732639  0.12621577  0.01430733  0.03193843 -0.2933633   0.11024586\n",
      "  0.13583505  0.18212608  0.09943219 -0.05015165 -0.1379871   0.216246\n",
      "  0.10809451  0.2609174  -0.35305363  0.08090795 -0.10301317  0.03941154\n",
      "  0.16704166  0.04260914  0.20902619  0.17779575 -0.0120033  -0.07782122\n",
      " -0.12073532 -0.09321764 -0.14193264  0.11816683 -0.21448764  0.27371866\n",
      " -0.15945989  0.1067403   0.13149528  0.07418234  0.19185013  0.04970201\n",
      "  0.16615784  0.21452454 -0.02992636  0.02646391  0.27274528  0.18587835\n",
      " -0.05347347 -0.21965978  0.02404622 -0.03855583]\n"
     ]
    }
   ],
   "source": [
    "from gensim.models.doc2vec import Doc2Vec\n",
    "from gensim.models.doc2vec import TaggedDocument\n",
    "trainings = [TaggedDocument(words = data.split(), tags = [i]) for i, data in enumerate(keitaiso)]\n",
    "m = Doc2Vec(documents=trainings)\n",
    "print(m)\n",
    "#print(m.dv.most_similar(0))\n",
    "print(m.dv[0])\n",
    "vecs = []\n",
    "for i in range(0,len(keitaiso)):\n",
    "    vecs.append(m.dv[i])"
   ]
  },
  {
   "cell_type": "code",
   "execution_count": 69,
   "metadata": {},
   "outputs": [
    {
     "data": {
      "image/png": "[encoded data removed]",
      "text/plain": [
       "<Figure size 432x288 with 1 Axes>"
      ]
     },
     "metadata": {
      "needs_background": "light"
     },
     "output_type": "display_data"
    }
   ],
   "source": [
    "from sklearn.cluster import KMeans\n",
    "\n",
    "distortions = []\n",
    "\n",
    "for i in range(1, 11):\n",
    "    km = KMeans(n_clusters=i,\n",
    "                init='k-means++')\n",
    "    km.fit(vecs)\n",
    "    distortions.append(km.inertia_)\n",
    "\n",
    "plt.plot(range(1,11),distortions,marker='o')\n",
    "plt.xlabel('Number of clusters')\n",
    "plt.ylabel('Distortion')\n",
    "plt.show()"
   ]
  },
  {
   "cell_type": "code",
   "execution_count": 62,
   "metadata": {},
   "outputs": [
    {
     "name": "stdout",
     "output_type": "stream",
     "text": [
      "[1 1 1 0 1 1 0 0 1 1 0 1 0 1 1 1 1 1 0 0 0 1 1 0 0 0 0 0 0 0 0 1 0 1 0 0 1\n",
      " 1 1 0 0 0 0 1 0 0 0 1 1 0 0 1 1 1 0 0 1 1 1 1 0 1 0 1 0 0 0 0 1 0 0 0 0 1\n",
      " 0 0 0 0 0 1 0 0 0 0 0 0 0 1 0 0 1 1 0 0 0 0 0 0 0 0 1 0 0 0 0 0 0 0 0 0 0\n",
      " 1 0 0 1 0 0 1 1 0 0 0 0 1 0 1 0 1 0 1]\n",
      "[0 1]\n",
      "[83 47]\n",
      "8.06692113300645\n"
     ]
    }
   ],
   "source": [
    "km = KMeans(init ='k-means++', n_clusters=2)\n",
    "result = km.fit(vecs)\n",
    "label = result.labels_\n",
    "print(label)\n",
    "u, counts = np.unique(label, return_counts=True)\n",
    "print(u)\n",
    "print(counts)\n",
    "print(km.inertia_)\n",
    "\n",
    "label = pd.DataFrame(label, columns=['cluster'])\n",
    "comments = pd.DataFrame(corona_work_depression, columns=['comments'])\n",
    "clustering_result = pd.concat([comments, label], axis=1)\n",
    "clustering_result.to_csv(\"./clustering_doc2vec.result2.csv\")"
   ]
  },
  {
   "cell_type": "code",
   "execution_count": 63,
   "metadata": {},
   "outputs": [
    {
     "name": "stdout",
     "output_type": "stream",
     "text": [
      "[1 2 2 2 1 1 0 2 2 1 0 1 0 2 1 2 2 1 2 2 0 1 1 0 2 0 0 0 2 0 0 2 0 2 0 2 1\n",
      " 2 1 0 0 0 0 1 0 2 2 2 2 0 0 2 2 1 2 0 1 2 1 2 0 1 0 1 0 0 0 2 2 0 0 2 2 2\n",
      " 2 0 0 0 2 2 0 0 0 0 0 0 0 2 2 0 2 1 0 0 0 2 0 2 0 2 1 0 0 2 0 0 0 2 0 0 0\n",
      " 1 0 2 1 0 0 2 2 0 2 0 2 2 0 1 2 1 2 1]\n",
      "[0 1 2]\n",
      "[57 24 49]\n",
      "4.366723669097329\n"
     ]
    }
   ],
   "source": [
    "km = KMeans(init ='k-means++', n_clusters=3)\n",
    "result = km.fit(vecs)\n",
    "label = result.labels_\n",
    "print(label)\n",
    "u, counts = np.unique(label, return_counts=True)\n",
    "print(u)\n",
    "print(counts)\n",
    "print(km.inertia_)\n",
    "\n",
    "label = pd.DataFrame(label, columns=['cluster'])\n",
    "comments = pd.DataFrame(corona_work_depression, columns=['comments'])\n",
    "clustering_result = pd.concat([comments, label], axis=1)\n",
    "clustering_result.to_csv(\"./clustering_doc2vec.result3.csv\")"
   ]
  },
  {
   "cell_type": "code",
   "execution_count": 64,
   "metadata": {},
   "outputs": [
    {
     "name": "stdout",
     "output_type": "stream",
     "text": [
      "[2 0 0 0 2 2 1 0 0 2 1 2 3 0 0 0 0 2 1 0 1 2 0 1 0 1 1 1 1 1 3 0 1 0 3 1 2\n",
      " 0 2 1 1 3 3 2 3 1 0 0 0 1 3 0 0 0 1 1 2 0 2 0 1 2 1 2 1 1 1 1 0 1 3 0 1 0\n",
      " 1 1 3 1 1 0 3 3 1 1 3 3 1 0 0 3 0 2 3 3 3 1 1 0 3 1 2 1 3 0 1 3 1 1 1 1 1\n",
      " 2 3 0 0 1 3 0 0 3 1 3 1 0 3 0 1 2 0 0]\n",
      "[0 1 2 3]\n",
      "[40 47 18 25]\n",
      "2.6483463073772953\n"
     ]
    }
   ],
   "source": [
    "km = KMeans(init ='k-means++', n_clusters=4)\n",
    "result = km.fit(vecs)\n",
    "label = result.labels_\n",
    "print(label)\n",
    "u, counts = np.unique(label, return_counts=True)\n",
    "print(u)\n",
    "print(counts)\n",
    "print(km.inertia_)\n",
    "\n",
    "label = pd.DataFrame(label, columns=['cluster'])\n",
    "comments = pd.DataFrame(corona_work_depression, columns=['comments'])\n",
    "clustering_result = pd.concat([comments, label], axis=1)\n",
    "clustering_result.to_csv(\"./clustering_doc2vec.result4.csv\")"
   ]
  },
  {
   "cell_type": "code",
   "execution_count": null,
   "metadata": {},
   "outputs": [],
   "source": []
  }
 ],
 "metadata": {
  "kernelspec": {
   "display_name": "Python 3",
   "language": "python",
   "name": "python3"
  },
  "language_info": {
   "codemirror_mode": {
    "name": "ipython",
    "version": 3
   },
   "file_extension": ".py",
   "mimetype": "text/x-python",
   "name": "python",
   "nbconvert_exporter": "python",
   "pygments_lexer": "ipython3",
   "version": "3.8.1"
  }
 },
 "nbformat": 4,
 "nbformat_minor": 4
}
