{
 "cells": [
  {
   "cell_type": "code",
   "execution_count": 1,
   "metadata": {},
   "outputs": [],
   "source": [
    "import pandas as pd\n",
    "import numpy as np\n",
    "from MyNLP import WordDivider\n",
    "from matplotlib import pyplot as plt\n",
    "\n",
    "list = []\n",
    "df1 = pd.read_csv('CSV/corona_work_depression/corona_work_depression.csv', encoding='shift_jis', header=None)\n",
    "df2 = pd.read_csv('CSV/corona_work_depression/corona_work_depression2.csv', encoding='shift_jis', header=None)\n",
    "df3 = pd.read_csv('CSV/corona_work_depression/corona_work_depression3.csv', encoding='shift_jis', header=None)\n",
    "df4 = pd.read_csv('CSV/corona_work_depression/corona_work_depression4.csv', encoding='cp932', header=None)\n",
    "df5 = pd.read_csv('CSV/corona_work_depression/corona_work_depression5.csv', encoding='shift_jis', header=None)\n",
    "df6 = pd.read_csv('CSV/corona_work_depression/corona_work_depression6.csv', encoding='shift_jis', header=None)\n",
    "df7 = pd.read_csv('CSV/corona_work_depression/corona_work_depression7.csv', encoding='shift_jis', header=None)\n",
    "df8 = pd.read_csv('CSV/corona_work_depression/corona_work_depression8.csv', encoding='shift_jis', header=None)\n",
    "df9 = pd.read_csv('CSV/corona_work_depression/corona_work_depression9.csv', encoding='shift_jis', header=None)\n",
    "df10 = pd.read_csv('CSV/corona_work_depression/corona_work_depression10.csv', encoding='shift_jis', header=None)\n",
    "df11 = pd.read_csv('CSV/corona_work_depression/corona_work_depression11.csv', encoding='shift_jis', header=None)\n",
    "df12 = pd.read_csv('CSV/corona_work_depression/corona_work_depression12.csv', encoding='shift_jis', header=None)\n",
    "df13 = pd.read_csv('CSV/corona_work_depression/corona_work_depression13.csv', encoding='shift_jis', header=None)\n",
    "df14 = pd.read_csv('CSV/corona_work_depression/corona_work_depression14.csv', encoding='shift_jis', header=None)\n",
    "list.append(df1)\n",
    "list.append(df2)\n",
    "list.append(df3)\n",
    "list.append(df4)\n",
    "list.append(df5)\n",
    "list.append(df6)\n",
    "list.append(df7)\n",
    "list.append(df8)\n",
    "list.append(df9)\n",
    "list.append(df10)\n",
    "list.append(df11)\n",
    "list.append(df12)\n",
    "list.append(df13)\n",
    "list.append(df14)\n",
    "corona_work_depression = []\n",
    "for index, comments in enumerate(list):\n",
    "    if index == 1:\n",
    "        corona_work_depression = comments.iloc[1:, 0].tolist()\n",
    "    else:\n",
    "        comments = comments.iloc[1:, 0].tolist()\n",
    "        for comment in comments:\n",
    "            corona_work_depression.append(comment)\n",
    "            \n",
    "wd = WordDivider()\n",
    "keitaiso = [wd.wakati_text(text) for text in corona_work_depression]\n",
    "\n",
    "def plot_dendrogram(model, **kwargs):\n",
    "   # Create linkage matrix and then plot the dendrogram\n",
    "\n",
    "   # create the counts of samples under each node\n",
    "   counts = np.zeros(model.children_.shape[0])\n",
    "   n_samples = len(model.labels_)\n",
    "   for i, merge in enumerate(model.children_):\n",
    "      current_count = 0\n",
    "      for child_idx in merge:\n",
    "         if child_idx < n_samples:\n",
    "            current_count += 1 # leaf node\n",
    "         else:\n",
    "            current_count += counts[child_idx - n_samples]\n",
    "      counts[i] = current_count\n",
    "\n",
    "   linkage_matrix = np.column_stack([model.children_, model.distances_,\n",
    "counts]).astype(float)\n",
    "\n",
    "   # Plot the corresponding dendrogram\n",
    "   dendrogram(linkage_matrix, **kwargs)"
   ]
  },
  {
   "cell_type": "code",
   "execution_count": 2,
   "metadata": {},
   "outputs": [],
   "source": [
    "from gensim.models.doc2vec import Doc2Vec\n",
    "from gensim.models.doc2vec import TaggedDocument\n",
    "trainings = [TaggedDocument(words = data.split(), tags = [i]) for i, data in enumerate(keitaiso)]\n",
    "m = Doc2Vec(documents=trainings)\n",
    "#print(m.dv.most_similar(0))\n",
    "#print(m.dv[0])\n",
    "vecs = []\n",
    "for i in range(0,len(keitaiso)):\n",
    "    vecs.append(m.dv[i])"
   ]
  },
  {
   "cell_type": "code",
   "execution_count": 3,
   "metadata": {},
   "outputs": [
    {
     "ename": "TypeError",
     "evalue": "'<=' not supported between instances of 'str' and 'int'",
     "output_type": "error",
     "traceback": [
      "\u001b[1;31m---------------------------------------------------------------------------\u001b[0m",
      "\u001b[1;31mTypeError\u001b[0m                                 Traceback (most recent call last)",
      "\u001b[1;32m<ipython-input-3-1f838f1b9e75>\u001b[0m in \u001b[0;36m<module>\u001b[1;34m\u001b[0m\n\u001b[0;32m      4\u001b[0m                                      linkage='ward', distance_threshold=0)\n\u001b[0;32m      5\u001b[0m \u001b[1;31m# clustering = AgglomerativeClustering(linkage='ward', n_clusters=10)\u001b[0m\u001b[1;33m\u001b[0m\u001b[1;33m\u001b[0m\u001b[1;33m\u001b[0m\u001b[0m\n\u001b[1;32m----> 6\u001b[1;33m \u001b[0mclustering\u001b[0m \u001b[1;33m=\u001b[0m \u001b[0mclustering\u001b[0m\u001b[1;33m.\u001b[0m\u001b[0mfit\u001b[0m\u001b[1;33m(\u001b[0m\u001b[0mvecs\u001b[0m\u001b[1;33m)\u001b[0m\u001b[1;33m\u001b[0m\u001b[1;33m\u001b[0m\u001b[0m\n\u001b[0m\u001b[0;32m      7\u001b[0m \u001b[0mlabel\u001b[0m \u001b[1;33m=\u001b[0m \u001b[0mclustering\u001b[0m\u001b[1;33m.\u001b[0m\u001b[0mlabels_\u001b[0m\u001b[1;33m\u001b[0m\u001b[1;33m\u001b[0m\u001b[0m\n\u001b[0;32m      8\u001b[0m \u001b[0mprint\u001b[0m\u001b[1;33m(\u001b[0m\u001b[0mlabel\u001b[0m\u001b[1;33m)\u001b[0m\u001b[1;33m\u001b[0m\u001b[1;33m\u001b[0m\u001b[0m\n",
      "\u001b[1;32mc:\\users\\tatsuki\\appdata\\local\\programs\\python\\python38\\lib\\site-packages\\sklearn\\cluster\\_agglomerative.py\u001b[0m in \u001b[0;36mfit\u001b[1;34m(self, X, y)\u001b[0m\n\u001b[0;32m    835\u001b[0m         \u001b[0mmemory\u001b[0m \u001b[1;33m=\u001b[0m \u001b[0mcheck_memory\u001b[0m\u001b[1;33m(\u001b[0m\u001b[0mself\u001b[0m\u001b[1;33m.\u001b[0m\u001b[0mmemory\u001b[0m\u001b[1;33m)\u001b[0m\u001b[1;33m\u001b[0m\u001b[1;33m\u001b[0m\u001b[0m\n\u001b[0;32m    836\u001b[0m \u001b[1;33m\u001b[0m\u001b[0m\n\u001b[1;32m--> 837\u001b[1;33m         \u001b[1;32mif\u001b[0m \u001b[0mself\u001b[0m\u001b[1;33m.\u001b[0m\u001b[0mn_clusters\u001b[0m \u001b[1;32mis\u001b[0m \u001b[1;32mnot\u001b[0m \u001b[1;32mNone\u001b[0m \u001b[1;32mand\u001b[0m \u001b[0mself\u001b[0m\u001b[1;33m.\u001b[0m\u001b[0mn_clusters\u001b[0m \u001b[1;33m<=\u001b[0m \u001b[1;36m0\u001b[0m\u001b[1;33m:\u001b[0m\u001b[1;33m\u001b[0m\u001b[1;33m\u001b[0m\u001b[0m\n\u001b[0m\u001b[0;32m    838\u001b[0m             raise ValueError(\"n_clusters should be an integer greater than 0.\"\n\u001b[0;32m    839\u001b[0m                              \" %s was provided.\" % str(self.n_clusters))\n",
      "\u001b[1;31mTypeError\u001b[0m: '<=' not supported between instances of 'str' and 'int'"
     ]
    }
   ],
   "source": [
    "from sklearn.cluster import AgglomerativeClustering\n",
    "\n",
    "clustering = AgglomerativeClustering(n_clusters='None', affinity='euclidean', \n",
    "                                     linkage='ward', distance_threshold=0)\n",
    "# clustering = AgglomerativeClustering(linkage='ward', n_clusters=10)\n",
    "clustering = clustering.fit(vecs)\n",
    "label = clustering.labels_\n",
    "print(label)\n",
    "plot_dendrogram(clustering, truncate_mode='level', p=3)\n",
    "label = pd.DataFrame(label, columns=['cluster'])\n",
    "comments = pd.DataFrame(corona_work_depression, columns=['comments'])\n",
    "clustering_result = pd.concat([comments, label], axis=1)\n",
    "clustering_result.to_csv(\"./AgglomerativeClustering_doc2vec_result.csv\")"
   ]
  },
  {
   "cell_type": "code",
   "execution_count": null,
   "metadata": {},
   "outputs": [],
   "source": []
  }
 ],
 "metadata": {
  "kernelspec": {
   "display_name": "Python 3",
   "language": "python",
   "name": "python3"
  },
  "language_info": {
   "codemirror_mode": {
    "name": "ipython",
    "version": 3
   },
   "file_extension": ".py",
   "mimetype": "text/x-python",
   "name": "python",
   "nbconvert_exporter": "python",
   "pygments_lexer": "ipython3",
   "version": "3.8.1"
  }
 },
 "nbformat": 4,
 "nbformat_minor": 4
}
