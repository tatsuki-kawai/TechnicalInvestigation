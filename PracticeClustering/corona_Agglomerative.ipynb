{
 "cells": [
  {
   "cell_type": "code",
   "execution_count": 1,
   "metadata": {},
   "outputs": [],
   "source": [
    "import pandas as pd\n",
    "import numpy as np\n",
    "from MyNLP import WordDivider\n",
    "list = []\n",
    "df1 = pd.read_csv('CSV/corona_work_depression/corona_work_depression.csv', encoding='shift_jis', header=None)\n",
    "df2 = pd.read_csv('CSV/corona_work_depression/corona_work_depression2.csv', encoding='shift_jis', header=None)\n",
    "df3 = pd.read_csv('CSV/corona_work_depression/corona_work_depression3.csv', encoding='shift_jis', header=None)\n",
    "df4 = pd.read_csv('CSV/corona_work_depression/corona_work_depression4.csv', encoding='cp932', header=None)\n",
    "df5 = pd.read_csv('CSV/corona_work_depression/corona_work_depression5.csv', encoding='shift_jis', header=None)\n",
    "df6 = pd.read_csv('CSV/corona_work_depression/corona_work_depression6.csv', encoding='shift_jis', header=None)\n",
    "df7 = pd.read_csv('CSV/corona_work_depression/corona_work_depression7.csv', encoding='shift_jis', header=None)\n",
    "df8 = pd.read_csv('CSV/corona_work_depression/corona_work_depression8.csv', encoding='shift_jis', header=None)\n",
    "df9 = pd.read_csv('CSV/corona_work_depression/corona_work_depression9.csv', encoding='shift_jis', header=None)\n",
    "df10 = pd.read_csv('CSV/corona_work_depression/corona_work_depression10.csv', encoding='shift_jis', header=None)\n",
    "df11 = pd.read_csv('CSV/corona_work_depression/corona_work_depression11.csv', encoding='shift_jis', header=None)\n",
    "df12 = pd.read_csv('CSV/corona_work_depression/corona_work_depression12.csv', encoding='shift_jis', header=None)\n",
    "df13 = pd.read_csv('CSV/corona_work_depression/corona_work_depression13.csv', encoding='shift_jis', header=None)\n",
    "df14 = pd.read_csv('CSV/corona_work_depression/corona_work_depression14.csv', encoding='shift_jis', header=None)\n",
    "list.append(df1)\n",
    "list.append(df2)\n",
    "list.append(df3)\n",
    "list.append(df4)\n",
    "list.append(df5)\n",
    "list.append(df6)\n",
    "list.append(df7)\n",
    "list.append(df8)\n",
    "list.append(df9)\n",
    "list.append(df10)\n",
    "list.append(df11)\n",
    "list.append(df12)\n",
    "list.append(df13)\n",
    "list.append(df14)\n",
    "corona_work_depression = []\n",
    "for index, comments in enumerate(list):\n",
    "    if index == 1:\n",
    "        corona_work_depression = comments.iloc[1:, 0].tolist()\n",
    "    else:\n",
    "        comments = comments.iloc[1:, 0].tolist()\n",
    "        for comment in comments:\n",
    "            corona_work_depression.append(comment)\n",
    "            \n",
    "wd = WordDivider()\n",
    "keitaiso = [wd.wakati_text(text) for text in corona_work_depression]           "
   ]
  },
  {
   "cell_type": "code",
   "execution_count": 2,
   "metadata": {},
   "outputs": [],
   "source": [
    "from sklearn.feature_extraction.text import CountVectorizer, TfidfTransformer, TfidfVectorizer\n",
    "vectorizer = CountVectorizer()\n",
    "transformer = TfidfTransformer()\n",
    "tf = vectorizer.fit_transform(keitaiso)\n",
    "# tfidf = transformer.fit_transform(tf)\n",
    "# print(tfidf.shape)\n",
    "# print(tfidf[1])\n",
    "# print(tfidf[1].toarray())"
   ]
  },
  {
   "cell_type": "code",
   "execution_count": 3,
   "metadata": {},
   "outputs": [],
   "source": [
    "from sklearn.feature_extraction.text import CountVectorizer, TfidfTransformer, TfidfVectorizer\n",
    "vectorizer = TfidfVectorizer()\n",
    "tfidf = vectorizer.fit_transform(keitaiso)\n",
    "# print(tfidf.shape)\n",
    "# print(tfidf[1])\n",
    "# print(tfidf[1].toarray())"
   ]
  },
  {
   "cell_type": "code",
   "execution_count": 4,
   "metadata": {},
   "outputs": [
    {
     "name": "stdout",
     "output_type": "stream",
     "text": [
      "[0 1 4 0 1 0 0 1 1 1 0 0 1 1 1 1 0 1 1 0 1 1 1 1 1 1 4 1 1 1 0 0 1 0 0 4 0\n",
      " 0 1 0 0 1 0 1 1 1 0 4 0 0 1 1 0 0 1 1 0 1 1 1 0 1 1 1 1 0 4 1 1 1 1 1 0 0\n",
      " 1 4 0 1 4 0 1 0 1 4 1 0 1 1 1 1 1 1 1 0 1 1 0 1 1 1 1 0 1 0 0 1 1 0 3 5 8\n",
      " 2 7 6 9 0 4 1 1 1 3 1 5 8 0 1 7 2 6 9]\n"
     ]
    }
   ],
   "source": [
    "from sklearn.cluster import AgglomerativeClustering\n",
    "\n",
    "#clustering = AgglomerativeClustering(n_clusters='None', affinity='euclidean', \n",
    "#                                     linkage='ward', distance_threshold=0)\n",
    "clustering = AgglomerativeClustering(linkage='ward', n_clusters=10)\n",
    "clustering = clustering.fit(tfidf.toarray())\n",
    "label = clustering.labels_\n",
    "print(label)\n",
    "label = pd.DataFrame(label, columns=['cluster'])\n",
    "comments = pd.DataFrame(corona_work_depression, columns=['comments'])\n",
    "clustering_result = pd.concat([comments, label], axis=1)\n",
    "clustering_result.to_csv(\"./AgglomerativeClustering_result.csv\")"
   ]
  },
  {
   "cell_type": "code",
   "execution_count": null,
   "metadata": {},
   "outputs": [],
   "source": []
  }
 ],
 "metadata": {
  "kernelspec": {
   "display_name": "Python 3",
   "language": "python",
   "name": "python3"
  },
  "language_info": {
   "codemirror_mode": {
    "name": "ipython",
    "version": 3
   },
   "file_extension": ".py",
   "mimetype": "text/x-python",
   "name": "python",
   "nbconvert_exporter": "python",
   "pygments_lexer": "ipython3",
   "version": "3.8.1"
  }
 },
 "nbformat": 4,
 "nbformat_minor": 4
}
