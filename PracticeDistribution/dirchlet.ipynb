{
 "cells": [
  {
   "cell_type": "code",
   "execution_count": 15,
   "metadata": {},
   "outputs": [],
   "source": [
    "import numpy as np\n",
    "from scipy.special import gamma, loggamma, digamma\n",
    "from scipy.stats import dirichlet"
   ]
  },
  {
   "cell_type": "code",
   "execution_count": 16,
   "metadata": {},
   "outputs": [],
   "source": [
    "#パラメータの指定\n",
    "beta_v = np.array([0.1, 0.1, 0.1])\n",
    "\n",
    "#確率変数の値を指定\n",
    "phi_v = np.array([0.5, 0.3, 0.2])"
   ]
  },
  {
   "cell_type": "code",
   "execution_count": 17,
   "metadata": {},
   "outputs": [
    {
     "name": "stdout",
     "output_type": "stream",
     "text": [
      "0.0815582448867783\n"
     ]
    }
   ],
   "source": [
    "#定義式から計算\n",
    "C = gamma(np.sum(beta_v)) / np.prod(gamma(beta_v))\n",
    "dens = C * np.prod(phi_v**(beta_v-1))\n",
    "print(dens)"
   ]
  },
  {
   "cell_type": "code",
   "execution_count": 14,
   "metadata": {},
   "outputs": [
    {
     "name": "stdout",
     "output_type": "stream",
     "text": [
      "3.642008994798161\n"
     ]
    }
   ],
   "source": [
    "#関数により確率密度を計算\n",
    "dens = dirichlet.pdf(x=phi_v, alpha=beta_v)\n",
    "rv = dirichlet(beta_v)\n",
    "print(dens)"
   ]
  },
  {
   "cell_type": "code",
   "execution_count": 6,
   "metadata": {},
   "outputs": [
    {
     "name": "stdout",
     "output_type": "stream",
     "text": [
      "<scipy.stats._multivariate.dirichlet_frozen object at 0x00000280B3C83580>\n"
     ]
    }
   ],
   "source": [
    "rv = dirichlet(beta_v)\n",
    "print(rv)"
   ]
  },
  {
   "cell_type": "code",
   "execution_count": 10,
   "metadata": {},
   "outputs": [
    {
     "data": {
      "text/plain": [
       "array([[0.34788712, 0.07148444, 0.58062845]])"
      ]
     },
     "execution_count": 10,
     "metadata": {},
     "output_type": "execute_result"
    }
   ],
   "source": [
    "dirichlet.rvs(beta_v, size=1)"
   ]
  }
 ],
 "metadata": {
  "kernelspec": {
   "display_name": "Python 3",
   "language": "python",
   "name": "python3"
  },
  "language_info": {
   "codemirror_mode": {
    "name": "ipython",
    "version": 3
   },
   "file_extension": ".py",
   "mimetype": "text/x-python",
   "name": "python",
   "nbconvert_exporter": "python",
   "pygments_lexer": "ipython3",
   "version": "3.8.1"
  }
 },
 "nbformat": 4,
 "nbformat_minor": 4
}
