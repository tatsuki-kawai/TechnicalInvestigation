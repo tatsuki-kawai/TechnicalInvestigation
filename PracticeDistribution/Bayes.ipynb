{
 "cells": [
  {
   "cell_type": "code",
   "execution_count": 1,
   "id": "2009fa50-ec41-4b97-b7ce-7e7aa7257e94",
   "metadata": {},
   "outputs": [
    {
     "name": "stdout",
     "output_type": "stream",
     "text": [
      "事後確率: 0.6315789473684211\n"
     ]
    }
   ],
   "source": [
    "# 袋の種類\n",
    "BAG_A = 0\n",
    "BAG_B = 1\n",
    "\n",
    "# 玉の色\n",
    "BALL_RED = 0\n",
    "BALL_WHITE = 1\n",
    "\n",
    "# 袋を選ぶ確率\n",
    "_prob_bag = []\n",
    "_prob_bag.insert(BAG_A, 1/2)\n",
    "_prob_bag.insert(BAG_B, 1/2)\n",
    "\n",
    "# 袋内の玉の色を選ぶ確率\n",
    "_prob_ball = []\n",
    "\n",
    "_prob_ball_a = []\n",
    "_prob_ball_a.insert(BALL_RED, 2/3)\n",
    "_prob_ball_a.insert(BALL_WHITE, 1/3)\n",
    "_prob_ball.insert(BAG_A, _prob_ball_a)\n",
    "\n",
    "_prob_ball_b = []\n",
    "_prob_ball_b.insert(BALL_RED, 1/4)\n",
    "_prob_ball_b.insert(BALL_WHITE, 3/4)\n",
    "_prob_ball.insert(BAG_B, _prob_ball_b)"
   ]
  },
  {
   "cell_type": "code",
   "execution_count": null,
   "id": "fbd40977-be55-4b37-9f89-a647325cc656",
   "metadata": {},
   "outputs": [],
   "source": [
    "# 事後確率を計算する\n",
    "def posterior(ball_list, bag):\n",
    "    if len(ball_list) == 1:\n",
    "        return _prob_ball[bag][ball_list[0]] * _prob_bag[bag]\n",
    "    else:\n",
    "        return _prob_ball[bag][ball_list[0]] * posterior(ball_list[1:], bag)\n",
    "\n",
    "# 袋Aが選ばれる確率を計算する\n",
    "def posterior_a(ball_list):\n",
    "    return posterior(ball_list, BAG_A) / (posterior(ball_list, BAG_A) + posterior(ball_list, BAG_B))\n"
   ]
  }
 ],
 "metadata": {
  "kernelspec": {
   "display_name": "Python 3 (ipykernel)",
   "language": "python",
   "name": "python3"
  },
  "language_info": {
   "codemirror_mode": {
    "name": "ipython",
    "version": 3
   },
   "file_extension": ".py",
   "mimetype": "text/x-python",
   "name": "python",
   "nbconvert_exporter": "python",
   "pygments_lexer": "ipython3",
   "version": "3.8.10"
  }
 },
 "nbformat": 4,
 "nbformat_minor": 5
}
