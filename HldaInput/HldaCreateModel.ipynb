{
 "cells": [
  {
   "cell_type": "code",
   "execution_count": 1,
   "id": "295d48f4-3cde-4f34-8172-5f59a5080651",
   "metadata": {},
   "outputs": [],
   "source": [
    "import sys\n",
    "sys.path.append('../Data')\n",
    "\n",
    "import pandas as pd\n",
    "import numpy as np\n",
    "import time\n",
    "from CommentDataset import CommentDataset"
   ]
  },
  {
   "cell_type": "code",
   "execution_count": 2,
   "id": "4f13f1ee-b2f8-4e24-a243-e5f0d06330f8",
   "metadata": {},
   "outputs": [],
   "source": [
    "comment_list_name = \"AIhyouka_sannkou_gyakutaimiokuri\"\n",
    "comment_list_path = \"2023_07_11/\" + comment_list_name + \".csv\""
   ]
  },
  {
   "cell_type": "code",
   "execution_count": null,
   "id": "07060553-61cd-4b6a-b2d8-6e5bd5d18c4c",
   "metadata": {},
   "outputs": [],
   "source": [
    "# 指定すべき文字コードはファイルによる\n",
    "\n",
    "df = pd.read_csv(\"../Data/yahoo/\"+comment_list_path, encoding=\"utf-8\", header=None)\n",
    "# comment_list = df[0][1:].to_numpy().tolist()\n",
    "comment_list = df[0][1:10].to_numpy().tolist()\n",
    "comment_dataset = CommentDataset(comment_list)\n",
    "comment_dataset.delete_comment_specified_string(50)\n",
    "comment_dataset.formatted_input_hlda(appear_tagging_list=[\"名詞\", \"形容詞\", \"動詞\"], stop_tagging_list=[\"助詞\", \"助動詞\", \"非自立\"])"
   ]
  },
  {
   "cell_type": "code",
   "execution_count": 4,
   "id": "d9eeca64-0dd6-4701-bf83-edffc8abb386",
   "metadata": {},
   "outputs": [],
   "source": [
    "from hlda.sampler import HierarchicalLDA\n",
    "\n",
    "#default\n",
    "# n_samples = 500       # no of iterations for the sampler\n",
    "n_samples = 50       # no of iterations for the sampler\n",
    "alpha = 10.0          # smoothing over level distributions\n",
    "gamma = 1.0           # CRP smoothing parameter; number of imaginary customers at next, as yet unused table\n",
    "eta = 0.1             # smoothing over topic-word distributions\n",
    "num_levels = 3        # the number of levels in the tree\n",
    "display_topics = 50   # the number of iterations between printing a brief summary of the topics so far\n",
    "n_words = 10           # the number of most probable words to print for each topic after model estimation\n",
    "with_weights = False  # whether to print the words with the weights"
   ]
  },
  {
   "cell_type": "code",
   "execution_count": 5,
   "id": "3a83c6d5-2522-48aa-8f2e-d1bf43fb1819",
   "metadata": {
    "scrolled": true
   },
   "outputs": [
    {
     "name": "stdout",
     "output_type": "stream",
     "text": [
      "HierarchicalLDA sampling\n",
      "\n",
      ".................................................. 50\n",
      "topic=0 level=0 (documents=1200): 思う, 判断, れる, データ, 子供, 職員, 虐待, それ, 仕事, 問題, \n",
      "    topic=1 level=1 (documents=481): 保護, 判断, 人間, 責任, 使う, 対応, できる, 言う, 数値, 思う, \n",
      "        topic=2 level=2 (documents=18): 解体, 委員, 怪しい, 人事, 組織, 手段, クビ, 強化, 不幸, 失態, \n",
      "        topic=7 level=2 (documents=51): 人間, 判断, 機械, 最終, 技術, 進む, 逃れ, 委ねる, 公表, 便利, \n",
      "        topic=9 level=2 (documents=10): 警察, 時間, 部署, 連携, 新しい, 頼み, 役割, 今度, 仕組み, 守る, \n",
      "        topic=10 level=2 (documents=24): 子供, 日本, アメリカ, 対策, 疑い, 予算, 守る, あなた, 施設, 国民, \n",
      "        topic=14 level=2 (documents=85): 長期, 欠席, 保育園, 問題, その後, 情報, 面会, 対応, 得る, 女児, \n",
      "        topic=16 level=2 (documents=6): パンク, 馬鹿, 受け止める, 疑わしい, つながる, 若干, エンド, 側面, 困惑, 恐れる, \n",
      "        topic=24 level=2 (documents=11): 組織, 関係, 強い, センター, セン, 支援, 下部, １つ, 使命, 集団, \n",
      "        topic=27 level=2 (documents=17): 人類, 滅ぼす, 業務, 定義, 生命, 不用意, みる, 骨頂, 全て, 飼い主, \n",
      "        topic=29 level=2 (documents=15): 犯罪, 叩く, 母親, 起きる, 権限, 産む, 文句, 防げる, こども, つける, \n",
      "        topic=30 level=2 (documents=27): データ, 学習, せる, バイアス, 実績, 偏る, かかる, 次第, 黒人, 精査, \n",
      "        topic=31 level=2 (documents=13): 処罰, やつ, 流行る, 言い方, 想像, つける, 及ぶ, はかる, 気持ち, 裁判, \n",
      "        topic=34 level=2 (documents=11): 自動, 運転, 不明, 便利, 技術, バット, 偉い, エンディング, カメラ, 早い, \n",
      "        topic=38 level=2 (documents=14): 解体, 大きい, コントロール, 向上, 制度, 資質, 多く, 出鱈目, 委託, もらう, \n",
      "        topic=40 level=2 (documents=6): 飲食, ただ, 解釈, その後, 人数, 信号, 発生, 姿勢, 美味しい, 落ちる, \n",
      "        topic=42 level=2 (documents=7): 職業, 今回, 日本人, マスコミ, 全知全能, 本質, 聴く, エラー, 民度, 恥ずかしい, \n",
      "        topic=48 level=2 (documents=16): ケースワーカー, 幼稚園, おかしい, 出る, 色々, 欠く, 使える, 目的, ナンバー, 働き手, \n",
      "        topic=49 level=2 (documents=17): 自治体, ツール, 活用, 便利, 減らし, 特性, 単純, 導入, 助ける, 血税, \n",
      "        topic=53 level=2 (documents=4): 想定, 執刀, 警察, スタッフ, 全部, 重々, ピンチ, 依存, 承知, 放置, \n",
      "        topic=55 level=2 (documents=13): とる, 表示, ひとり, 目的, 視点, 決まる, 忘れる, 有り得る, 保身, 親権, \n",
      "        topic=58 level=2 (documents=12): 受け取る, 近く, 目安, 病院, 受け入れ, 細かい, すねる, 素直, 名前, 委員, \n",
      "        topic=71 level=2 (documents=9): 時間, 即時, 環境, 選ぶ, 応援, 項目, 確認, 求める, 維持, 専門, \n",
      "        topic=73 level=2 (documents=15): 冥福, お祈り, 見直す, カネ, 過去, 飽和, 投資, ひとつ, 勘違い, 小手先, \n",
      "        topic=78 level=2 (documents=8): 打ち込む, 答え, 加減, 放棄, 偏る, 態度, 答える, 未熟, 表情, 書く, \n",
      "        topic=86 level=2 (documents=12): 資料, 例える, 玩具, 逃す, エラー, 極み, 一つ, 高価, 行ける, 元気, \n",
      "        topic=88 level=2 (documents=7): 動く, 解雇, 採用, 難関, ぶれる, 資格, 事後, なす, 諦める, 免許, \n",
      "        topic=90 level=2 (documents=9): 深い, デジタル, 移り変わる, 典型, 更新, 入る, 常識, 平成, 異論, 感情, \n",
      "        topic=92 level=2 (documents=11): 見当たる, なでる, 不備, 成る, 過ごせる, 痒い, 多忙, 傾向, 廃止, 及ぶ, \n",
      "        topic=93 level=2 (documents=6): 叩く, 参考, レベル, いた事, 悪い, その間, 事故, 発生, 正当, 後まわし, \n",
      "        topic=94 level=2 (documents=7): 適切, 文句, 話し方, 箇所, 読み取れる, 同居, なす, 悔しい, 規模, しんどい, \n",
      "        topic=95 level=2 (documents=1): 示す, 実例, 共有, 経験, １つ, 勝敗, 務める, 勝てる, 勝る, 勝手, \n",
      "        topic=97 level=2 (documents=4): 足る, 臨床, 夜中, おりる, おば, 当て嵌る, 下がる, 警察官, アタマ, すぎ, \n",
      "        topic=100 level=2 (documents=15): 無能, 低い, 落ちる, 質問, 駄目, 愚か者, 愚か, 非常, 事項, わし, \n",
      "    topic=3 level=1 (documents=169): 保護, 責任, 人間, 判断, 評価, できる, 高い, 考える, 危険, 使う, \n",
      "        topic=4 level=2 (documents=29): 評価, つく, 鵜呑み, 名人, 重大, 本質, 連中, 知恵, いま, 使える, \n",
      "        topic=15 level=2 (documents=8): 漏らす, 世の中, フィードバック, 作成, 税金, 母親, 討つ, やり過ごす, 算定, もつ, \n",
      "        topic=19 level=2 (documents=8): 近い, コスト, 近づく, 費用, あなた, 絡む, 回転, スルー, 画一, 受け止める, \n",
      "        topic=22 level=2 (documents=18): 思考, 停止, 連中, 判決, 早い, マス, 結局, 非難, 電話, チャット, \n",
      "        topic=35 level=2 (documents=17): 権限, 減少, 三重, 生じる, 体重, 構造, ごろ, 続く, 地域, 学び, \n",
      "        topic=39 level=2 (documents=4): 少子化, 親権, 感想, 過ち, 兄弟, 地域, 解消, わる, 受ける, 亡くなる, \n",
      "        topic=57 level=2 (documents=9): 生活, 読者, 認識, 悲しい, 受給, 朝日新聞, とこ, 読む, 苦しみ, 番目, \n",
      "        topic=61 level=2 (documents=13): 向き合う, 使いこなせる, 真摯, 主観, バイト, まとも, 派遣, 言い逃れる, 不誠実, 残り, \n",
      "        topic=65 level=2 (documents=10): スマ, 助かる, 考え, バス, 若い, 係わる, 設ける, もらえる, 皆さん, おう, \n",
      "        topic=67 level=2 (documents=14): 遅い, 世界, いつ, 無い, いい, 危ない, ニッポン, やれる, 保育, 検証, \n",
      "        topic=68 level=2 (documents=7): 実績, 殴る, 大袈裟, 先生, かばう, 増やせる, 引退, かう, 青山, ほったらかす, \n",
      "        topic=74 level=2 (documents=5): 所為, 反映, 把握, 続ける, 任す, 超過, アンケート, 養護, 同種, 違反, \n",
      "        topic=79 level=2 (documents=10): 処理, 公表, 現場, 選択肢, 構造, 実務, 経験, 廃止, 想い, ふざける, \n",
      "        topic=91 level=2 (documents=16): 掛かる, 怒る, 例える, 命令, 虐待, 少ない, 断定, 教える, 覚える, 当時, \n",
      "        topic=101 level=2 (documents=1): 確率, 照らす, 呼べる, １つ, 勤まる, 務める, 勝てる, 勝る, 勝手, 勝敗, \n",
      "    topic=5 level=1 (documents=162): 保護, 人間, 判断, できる, 責任, 使う, いい, れる, 言う, 数値, \n",
      "        topic=6 level=2 (documents=6): 連続, 金儲け, 度重なる, 代償, 給与, 重症, 圧力, 不安, 相対, ネタ, \n",
      "        topic=8 level=2 (documents=19): 説明, マスコミ, 取り上げる, 誤る, 根拠, 決定, 使い方, 高める, 極み, 困る, \n",
      "        topic=13 level=2 (documents=9): 日本人, 通り, 振り回す, 国民, 政府, 物事, 民族, 日本, 肝心, 思想, \n",
      "        topic=17 level=2 (documents=15): 担当, 施設, 止める, 影響, 真面目, 騒ぐ, 最適, 戻る, さん, 押し付ける, \n",
      "        topic=21 level=2 (documents=22): 知能, 人工, データベース, 勉強, 一緒, 養子, やつ, 平均, 机上, 何かしら, \n",
      "        topic=33 level=2 (documents=15): 踏み込む, 自作, 証明, 信頼, 理由, 泥棒, 世代, 必死, 普及, 統合, \n",
      "        topic=43 level=2 (documents=15): 施設, 疑う, ルール, たん, 面談, スタッフ, 処分, 相談, 操作, 解雇, \n",
      "        topic=44 level=2 (documents=5): 真っ白, 悲しい, 違い, 馬鹿げる, 虚しい, 託す, ショック, 苦しい, ふざける, 地域, \n",
      "        topic=46 level=2 (documents=8): 面会, 会う, さん, くれる, 保育, 強制, 話す, 病気, 行く, よう, \n",
      "        topic=52 level=2 (documents=14): 役に立つ, 怠慢, 障る, システム, おかしい, 相次ぐ, 可愛い, 降りかかる, 役所, 横着, \n",
      "        topic=63 level=2 (documents=10): 政策, 録画, 記録, 地域, たち, 公開, 国税, 耐える, 出力, アーカイブ, \n",
      "        topic=81 level=2 (documents=10): 払う, 後手, タライ, 現状, 割り切る, 福祉, 誤解, 叫び, 裁く, 余談, \n",
      "        topic=85 level=2 (documents=14): 赤ちゃん, ポスト, 民間, そもそも, やつ, 法人, やり方, お母さん, 信念, 失礼, \n",
      "    topic=11 level=1 (documents=291): 保護, 判断, 責任, 人間, 高い, いい, できる, 思う, 虐待, 児童, \n",
      "        topic=12 level=2 (documents=26): 相談, 児童, 警察, 税金, 疑い, 逮捕, 謝罪, 積極, 転職, 時間, \n",
      "        topic=18 level=2 (documents=15): アザ, 単純, 指標, 負う, 遊ぶ, 悪い, 首長, 鈍る, 懸念, ただす, \n",
      "        topic=20 level=2 (documents=20): 降水, 持つ, 確率, 降る, 天気, 統計, 予報, 保育園, 正確, 表情, \n",
      "        topic=23 level=2 (documents=17): 介護, 全国, 逃れる, 高齢, 方々, 優秀, 民間, うち, 全面, 認定, \n",
      "        topic=25 level=2 (documents=20): チャット, 削減, 現場, システム, 管理, 人件, 医療, 対応, 生命, 福祉, \n",
      "        topic=26 level=2 (documents=13): 死亡, 成功, つまり, 過去, 職業, 政府, 道具, 手抜き, 向く, 検索, \n",
      "        topic=28 level=2 (documents=20): 母親, あざ, 評価, 事件, 断定, 支援, 起こる, 指導, みせる, よう, \n",
      "        topic=32 level=2 (documents=9): 回る, 雰囲気, 不手際, 軽視, 面倒, 決断, 踏まえる, 気配, やむを得る, 集まり, \n",
      "        topic=41 level=2 (documents=6): 大騒ぎ, 簡単, 割り切れる, 絡む, スルー, ごと, 改ざん, 面倒, 傾向, でる, \n",
      "        topic=45 level=2 (documents=4): 幾ら, 叫ぶ, 今度, 犯人, 一行, 莫大, 前者, 常時, いれる, 体験, \n",
      "        topic=54 level=2 (documents=14): 微妙, 作成, 基礎, 効果, 事実, 抜き, 正常, 論点, 指す, 将棋, \n",
      "        topic=56 level=2 (documents=5): 苦しむ, 単純, 沢山, マクロ, 給与, 老後, 女の子, スルー, 機械, もらう, \n",
      "        topic=59 level=2 (documents=9): 通報, 回数, 質問, 周辺, 削減, 若い, 異常, 基礎, 糖尿, 曖昧, \n",
      "        topic=62 level=2 (documents=13): 使い方, 天気, 不完全, 事項, 予報, 間違える, 本部, 様子見, 鈍る, 規制, \n",
      "        topic=64 level=2 (documents=15): 排除, 法律, 意思, 奪う, 途上, 幼児, 発展, 救世主, 昨日, 帰る, \n",
      "        topic=66 level=2 (documents=6): 待遇, 起こす, 配属, 早急, 踏まえる, 福利, 現在, 逆転, 最善, 過程, \n",
      "        topic=69 level=2 (documents=6): 進める, 世界一, 弱者, 政府, 遭難, 変化, 忙しい, 困る, 本気, 政権, \n",
      "        topic=70 level=2 (documents=8): 育てる, 転嫁, 生き物, 日々, 見直す, がらみ, 名前, 一線, 見送る, 外す, \n",
      "        topic=72 level=2 (documents=7): 支配, 言いなり, 緊急, 取材, 答える, 暴力, 疑義, 普及, 庇護, 放棄, \n",
      "        topic=76 level=2 (documents=10): 唖然, 野球, 守れる, 打率, バッター, 面会, 仕組み, 同様, 全体, 女の子, \n",
      "        topic=77 level=2 (documents=12): 事情, 置き換える, 役立つ, 前提, 回転, 見方, 計り, 面接, 合唱, 鈍る, \n",
      "        topic=82 level=2 (documents=10): 倫理, 福祉, 配慮, 利益, 起こす, 投資, 警察官, 安易, あげる, 支援, \n",
      "        topic=84 level=2 (documents=7): 死傷, 非難, 目的, 犯罪, 心配, 身体, 健康, チェック, 治療, 立つ, \n",
      "        topic=87 level=2 (documents=9): 未来, 兆候, 県庁, 詭弁, 新しい, 強制, 検査, 引鉄, 満つ, 監視, \n",
      "        topic=89 level=2 (documents=10): 知識, 上げる, 生まれる, 引く, 識者, 人手, 単発, 素人, 足りる, 近しい, \n",
      "    topic=36 level=1 (documents=97): 保護, 責任, 判断, 人間, 使う, 虐待, 高い, 確率, いい, 職員, \n",
      "        topic=37 level=2 (documents=8): 完璧, 予測, よる, とんでも, モデル, 物事, もと, 正答, 価値, 真剣, \n",
      "        topic=47 level=2 (documents=7): 実情, わたし, どれ, オリンピック, いつ, 飢饉, 息巻く, たつ, 次元, 状態, \n",
      "        topic=50 level=2 (documents=11): 役人, 学校, デジタル, 休む, 言い訳, 先生, アナログ, 感じ, 優れる, 失敗, \n",
      "        topic=51 level=2 (documents=8): 人命, 悲劇, くすぐる, 働く, スムーズ, 錯誤, 誤る, 文句, プラス, 無駄遣い, \n",
      "        topic=60 level=2 (documents=10): 判例, 増やす, 弁護士, コピー, 偏る, 趣味, 所得, 多忙, 見つける, 傷つく, \n",
      "        topic=75 level=2 (documents=14): 要素, どれ, 次元, 求める, 法律, 代わり, 務まる, 正当, 痛い, 言い訳, \n",
      "        topic=80 level=2 (documents=8): 負う, 色々, たずさわる, 作業, 選択, 導き出す, 正義, 悲しみ, そこら, 小説, \n",
      "        topic=83 level=2 (documents=4): 教える, 要る, 失態, 意向, 選ぶ, 勝てる, サイコロ, 人達, 閑職, 浅はか, \n",
      "        topic=96 level=2 (documents=9): 補償, かって, 痛み, 記者, ほしい, 慣れる, 折りたたみ, 今日, 今度, 本末転倒, \n",
      "        topic=98 level=2 (documents=6): 黄色, 信号, もの, 場所, 失態, 重大, 生活, 向く, 強制, 事故, \n",
      "        topic=99 level=2 (documents=12): 拠点, 問題, 市町村, 都道府県, 住む, 数多い, 押す, 笑う, ボタン, 検索, \n"
     ]
    }
   ],
   "source": [
    "hlda = HierarchicalLDA(comment_dataset.comment_list, comment_dataset.voc, alpha=alpha, gamma=gamma, eta=eta, num_levels=num_levels)\n",
    "hlda.estimate(n_samples, display_topics=display_topics, n_words=n_words, with_weights=with_weights)"
   ]
  },
  {
   "cell_type": "code",
   "execution_count": 6,
   "id": "565a8c8e-e717-4da8-8ad2-f29966c9a439",
   "metadata": {},
   "outputs": [],
   "source": [
    "from model.HldaModel import ExpandHldaModel\n",
    "import os\n",
    "\n",
    "create_date = \"2023_07_26\"\n",
    "parameter_name = \"default\"\n",
    "model_name = comment_list_name + \"_\" + parameter_name + \".pickle\"\n",
    "model_dir = \"model/pickle/\" + create_date + \"/\" +model_name\n",
    "create_date_path = \"model/pickle/\" + create_date\n",
    "\n",
    "if not os.path.exists(create_date_path):\n",
    "    os.makedirs(create_date_path)\n",
    "\n",
    "expandHlda = ExpandHldaModel(pickle_path=hlda)\n",
    "expandHlda.save_zipped_pickle(filename=model_dir)"
   ]
  },
  {
   "cell_type": "code",
   "execution_count": 7,
   "id": "edee7993-db7c-44ec-8d01-9d2e95534fc5",
   "metadata": {},
   "outputs": [
    {
     "ename": "AttributeError",
     "evalue": "'list' object has no attribute 'replace'",
     "output_type": "error",
     "traceback": [
      "\u001b[1;31m---------------------------------------------------------------------------\u001b[0m",
      "\u001b[1;31mAttributeError\u001b[0m                            Traceback (most recent call last)",
      "\u001b[1;32m~\\AppData\\Local\\Temp\\ipykernel_10716\\4105158405.py\u001b[0m in \u001b[0;36m<module>\u001b[1;34m\u001b[0m\n\u001b[1;32m----> 1\u001b[1;33m \u001b[0mexpandHlda\u001b[0m\u001b[1;33m.\u001b[0m\u001b[0mget_topic_multi_document\u001b[0m\u001b[1;33m(\u001b[0m\u001b[0mcomment_list\u001b[0m\u001b[1;33m=\u001b[0m\u001b[0mcomment_list\u001b[0m\u001b[1;33m,\u001b[0m \u001b[0mcorpus\u001b[0m\u001b[1;33m=\u001b[0m\u001b[0mcomment_dataset\u001b[0m\u001b[1;33m.\u001b[0m\u001b[0mcomment_list\u001b[0m\u001b[1;33m)\u001b[0m\u001b[1;33m\u001b[0m\u001b[1;33m\u001b[0m\u001b[0m\n\u001b[0m",
      "\u001b[1;32m~\\OneDrive\\デスクトップ\\program\\TechnicalInvestigation\\HldaInput\\model\\HldaModel.py\u001b[0m in \u001b[0;36mget_topic_multi_document\u001b[1;34m(self, comment_list, corpus)\u001b[0m\n\u001b[0;32m     62\u001b[0m         \u001b[0mresult\u001b[0m \u001b[1;33m=\u001b[0m \u001b[1;33m[\u001b[0m\u001b[1;33m]\u001b[0m\u001b[1;33m\u001b[0m\u001b[1;33m\u001b[0m\u001b[0m\n\u001b[0;32m     63\u001b[0m         \u001b[1;32mfor\u001b[0m \u001b[0mcomment\u001b[0m \u001b[1;32min\u001b[0m \u001b[0mcorpus\u001b[0m\u001b[1;33m:\u001b[0m\u001b[1;33m\u001b[0m\u001b[1;33m\u001b[0m\u001b[0m\n\u001b[1;32m---> 64\u001b[1;33m             \u001b[0mcomment\u001b[0m \u001b[1;33m=\u001b[0m \u001b[0mcomment\u001b[0m\u001b[1;33m.\u001b[0m\u001b[0mreplace\u001b[0m\u001b[1;33m(\u001b[0m\u001b[1;34m\"\\n\"\u001b[0m\u001b[1;33m,\u001b[0m \u001b[1;34m\" \"\u001b[0m\u001b[1;33m)\u001b[0m\u001b[1;33m\u001b[0m\u001b[1;33m\u001b[0m\u001b[0m\n\u001b[0m\u001b[0;32m     65\u001b[0m             \u001b[0msentence_list\u001b[0m \u001b[1;33m=\u001b[0m \u001b[0mcomment\u001b[0m\u001b[1;33m.\u001b[0m\u001b[0msplit\u001b[0m\u001b[1;33m(\u001b[0m\u001b[0mseparators\u001b[0m\u001b[1;33m)\u001b[0m\u001b[1;33m\u001b[0m\u001b[1;33m\u001b[0m\u001b[0m\n\u001b[0;32m     66\u001b[0m \u001b[1;33m\u001b[0m\u001b[0m\n",
      "\u001b[1;31mAttributeError\u001b[0m: 'list' object has no attribute 'replace'"
     ]
    }
   ],
   "source": [
    "expandHlda.get_topic_multi_document(comment_list=comment_list, corpus=comment_dataset.comment_list)"
   ]
  }
 ],
 "metadata": {
  "kernelspec": {
   "display_name": "Python 3 (ipykernel)",
   "language": "python",
   "name": "python3"
  },
  "language_info": {
   "codemirror_mode": {
    "name": "ipython",
    "version": 3
   },
   "file_extension": ".py",
   "mimetype": "text/x-python",
   "name": "python",
   "nbconvert_exporter": "python",
   "pygments_lexer": "ipython3",
   "version": "3.10.1"
  }
 },
 "nbformat": 4,
 "nbformat_minor": 5
}
