{
 "cells": [
  {
   "cell_type": "code",
   "execution_count": 7,
   "metadata": {},
   "outputs": [],
   "source": [
    "import sys\n",
    "sys.path.append('../Data')\n",
    "\n",
    "import pandas as pd\n",
    "import numpy as np\n",
    "import time\n",
    "from CommentDataset import CommentDataset"
   ]
  },
  {
   "cell_type": "code",
   "execution_count": 8,
   "metadata": {},
   "outputs": [],
   "source": [
    "df = pd.read_csv(\"../Data/yahoo/2022_09_22/comment_2022_09_22.csv\", encoding=\"cp932\", header=None)\n",
    "comment_list = df[0][1:].to_numpy().tolist()\n",
    "comment_dataset = CommentDataset(comment_list)\n",
    "comment_dataset.delete_comment_specified_string(50)\n",
    "comment_dataset.formatted_input_hlda(appear_tagging_list=['名詞'], stop_tagging_list=['非自立', '接尾', '代名詞'])"
   ]
  },
  {
   "cell_type": "code",
   "execution_count": 9,
   "metadata": {},
   "outputs": [],
   "source": [
    "input_comment_list = comment_dataset.comment_list\n",
    "input_voc = comment_dataset.voc\n",
    "corpus = comment_dataset.corpus"
   ]
  },
  {
   "cell_type": "code",
   "execution_count": 10,
   "metadata": {},
   "outputs": [
    {
     "data": {
      "text/plain": [
       "210"
      ]
     },
     "execution_count": 10,
     "metadata": {},
     "output_type": "execute_result"
    }
   ],
   "source": [
    "len(input_comment_list)"
   ]
  },
  {
   "cell_type": "code",
   "execution_count": 11,
   "metadata": {},
   "outputs": [],
   "source": [
    "from hlda.sampler import HierarchicalLDA\n",
    "\n",
    "n_samples = 50       # サンプラーの反復回数\n",
    "alpha = 10.0          # smoothing over level distributions\n",
    "gamma = 1.0          # CRP smoothing parameter; number of imaginary customers at next, as yet unused table\n",
    "eta = 0.1             # smoothing over topic-word distributions\n",
    "num_levels = 2      # the number of levels in the tree\n",
    "display_topics = 50  # the number of iterations between printing a brief summary of the topics so far\n",
    "n_words = 7          # the number of most probable words to print for each topic after model estimation\n",
    "with_weights = False  # whether to print the words with the weights"
   ]
  },
  {
   "cell_type": "code",
   "execution_count": 12,
   "metadata": {},
   "outputs": [
    {
     "name": "stdout",
     "output_type": "stream",
     "text": [
      "HierarchicalLDA sampling\n",
      "\n",
      ".................................................. 50\n",
      "topic=0 level=0 (documents=210): メタノール, 逮捕, 奥さん, 子供, 殺害, 薬品, 事件, \n",
      "    topic=1 level=1 (documents=4): 修士号, 二人, 犯人, 選択肢, 状況証拠, 科捜研, 真相, \n",
      "    topic=2 level=1 (documents=6): 旦那, 痛み, 第三者, 自ら, 思考, 不倫, 濡れ衣, \n",
      "    topic=3 level=1 (documents=5): メーカー, 製薬, 大手, 鬼畜, 医薬品, 薬学部, 勤務, \n",
      "    topic=4 level=1 (documents=6): 分解, 今回, 血中濃度, プロ, 製薬, アマゾン, もろもろ, \n",
      "    topic=5 level=1 (documents=7): 大学院, 京都大学, 薬学部, 3年, 専業主婦, 寿退社, 学歴, \n",
      "    topic=6 level=1 (documents=15): お母さん, お父さん, お子さん, 心配, 間違い, 段階, ケア, \n",
      "    topic=7 level=1 (documents=4): 確定, なのか, 知能, 専門家, 最低, 子育て, 京都大学大学院, \n",
      "    topic=9 level=1 (documents=4): 燃料, 危険, お酒, 其の様, 具体, 世の中, 対処, \n",
      "    topic=12 level=1 (documents=5): 吉宗, 仕事, 題材, 消去法, 兄さん, 門前, 和歌山カレー事件, \n",
      "    topic=13 level=1 (documents=6): 以前, 鎮痛剤, ニュース, 合成, 破綻, 煽り, 酩酊, \n",
      "    topic=15 level=1 (documents=10): 疑問, 検死, 分野, 原因, 専門, 専門家, 旦那, \n",
      "    topic=16 level=1 (documents=3): 異常者, 勉強, シロウト, 放火, 理学部, 思いやり, 研究者, \n",
      "    topic=17 level=1 (documents=6): 仲良し, プロ, 手口, 好き, どこか, 大勢, 記事, \n",
      "    topic=18 level=1 (documents=7): 京大, 悪化, 大学院, 推測, 思い, 教育, 学歴, \n",
      "    topic=19 level=1 (documents=9): 報道, 勉強, 確定, 否認, 部分, 検察, 過程, \n",
      "    topic=20 level=1 (documents=7): 気の毒, キャリア, ケンカ, 不思議, 精神, お互い, 頭脳明晰, \n",
      "    topic=21 level=1 (documents=4): 自死, 模試, 毎日, アルコール, 有毒, 簡単, 勤務, \n",
      "    topic=22 level=1 (documents=11): 戦後, 失明, メチルアルコール, 燃料, アルコール, 戦中, 続出, \n",
      "    topic=23 level=1 (documents=6): 子ども, 犯罪, 捜査, 病院, 依頼, 知り合い, 大事, \n",
      "    topic=24 level=1 (documents=9): 人間, 残念, 留学, 半径, 明るみ, たくさん, 世界, \n",
      "    topic=25 level=1 (documents=8): ギ酸, ホルムアルデヒド, 症状, 変化, 摂取, 失明, メチルアルコール, \n",
      "    topic=26 level=1 (documents=6): 精神的, 気持ち, 試薬, 人生, 少量, 情状, 酌量, \n",
      "    topic=27 level=1 (documents=11): 捜査, 警察, 明らか, 冤罪, 慎重, 真相, 真実, \n",
      "    topic=28 level=1 (documents=3): 問題, 会社, 劇薬, 劇物, コンプラ, マネージメント, 入手経路, \n",
      "    topic=29 level=1 (documents=5): 偽装, 病死, ダメ, 保険金殺人, 派手, 勝手, アホ, \n",
      "    topic=30 level=1 (documents=5): 死因, 有機物, 専門的, 捜査, 会社, 容易, そこら, \n",
      "    topic=31 level=1 (documents=4): アメフト部, 科学者, 様子, 出端, 意味不明, 犯罪, 脳内出血, \n",
      "    topic=32 level=1 (documents=6): 人材, 退職, 残念, 20年, データ, ナイト, オボ, \n",
      "    topic=33 level=1 (documents=2): 身だしなみ, 死亡, 真相, 一月, 今頃, リーマン, しまだ, \n",
      "    topic=35 level=1 (documents=7): 職業, 有名, 良識, 給食, 漂白剤, 学校, 高学歴, \n",
      "    topic=36 level=1 (documents=3): 毒物, 劇物, 指定, インド, 命懸け, 充分, メキシコ, \n",
      "    topic=37 level=1 (documents=5): 摂取, 死亡, 匙加減, 体内, 吸収, 誤認逮捕, 一つ, \n",
      "    topic=38 level=1 (documents=8): 冤罪, 自宅, 感じ, 農家, 農薬, 破綻, 確か, \n",
      "    topic=39 level=1 (documents=2): 栄誉, 風評被害, 京大, 日本初, 理性, 大丈夫, 心臓移植, \n",
      "    topic=40 level=1 (documents=1): 治験, した, 死刑, 後悔, 一生, 注入, ワクチン, \n"
     ]
    }
   ],
   "source": [
    "hlda = HierarchicalLDA(input_comment_list, input_voc, alpha=alpha, gamma=gamma, eta=eta, num_levels=num_levels)\n",
    "hlda.estimate(n_samples, display_topics=display_topics, n_words=n_words, with_weights=with_weights)"
   ]
  },
  {
   "cell_type": "code",
   "execution_count": 15,
   "metadata": {},
   "outputs": [
    {
     "name": "stdout",
     "output_type": "stream",
     "text": [
      "[衝撃的な事件だけど、これ、防ぎようがないよな。メタノールなんて市販の燃料用アルコールに含まれてるし、家族に毒を盛られるなんて普通は考えない。危険運転なんかもそうだけど、世の中、善意と信頼と常識でなんとか成り立って回ってるのだけど、それを崩す行為が起きると、対処しきれない。]\n",
      "\n",
      "\n",
      "[燃料用メタノールの販売規制に動かなければ良いが・・・\n",
      "溶媒などで利用することが多々あるので。安くて便利。無論、危険な側面は承知して、対策している。]\n",
      "\n",
      "\n",
      "[メタノールの臭いは、比較的エタノールのそれに近くて割と弱いので、エタノール（いわゆるアルコールですね）臭のするお酒に混ぜられても気がつきにくいのではないかと思います。\n",
      "メタノールのそのような具体的な性質を知っている人だからこそ、できたことのように感じました。模倣犯（猿まねは笑いもの）が出ないことを願っています。]\n",
      "\n",
      "\n",
      "[薬品のプロがメタノール使うか疑問だけどね。]\n",
      "\n",
      "\n"
     ]
    }
   ],
   "source": [
    "from model.HldaModel import ExpandHldaModel\n",
    "\n",
    "expand_hlda = ExpandHldaModel(hlda)\n",
    "expand_hlda.save_zipped_pickle('model/pickle/2023_03_26/test.pickle')\n",
    "expand_hlda.print_topic_document(comment_list, corpus, 9)"
   ]
  },
  {
   "cell_type": "code",
   "execution_count": null,
   "metadata": {},
   "outputs": [],
   "source": []
  }
 ],
 "metadata": {
  "kernelspec": {
   "display_name": "Python 3",
   "language": "python",
   "name": "python3"
  },
  "language_info": {
   "codemirror_mode": {
    "name": "ipython",
    "version": 3
   },
   "file_extension": ".py",
   "mimetype": "text/x-python",
   "name": "python",
   "nbconvert_exporter": "python",
   "pygments_lexer": "ipython3",
   "version": "3.8.1"
  }
 },
 "nbformat": 4,
 "nbformat_minor": 4
}
