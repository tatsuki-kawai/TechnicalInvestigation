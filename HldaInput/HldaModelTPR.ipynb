{
 "cells": [
  {
   "cell_type": "code",
   "execution_count": 2,
   "id": "29a17c06-3037-4eee-a3ad-828f8a6d4ed2",
   "metadata": {},
   "outputs": [],
   "source": [
    "import sys\n",
    "sys.path.append('../Data')\n",
    "sys.path.append('../GenerateLabel')\n",
    "\n",
    "\n",
    "import pandas as pd\n",
    "import numpy as np\n",
    "import time\n",
    "from CommentDataset import CommentDataset\n",
    "from PageRank import WordGraph, TopicalPageRank"
   ]
  },
  {
   "cell_type": "code",
   "execution_count": 3,
   "id": "231e0a97-1284-4248-b9d9-7767e205cca5",
   "metadata": {},
   "outputs": [],
   "source": [
    "comment_list_name = \"20230627_mynumbercard_untenmenkyosyou\"\n",
    "comment_list_path = \"2023_06_27/\" + comment_list_name + \".csv\"\n",
    "\n",
    "model_path = \"model/pickle/2023_06_27/20230627_mynumbercard_untenmenkyosyou_default.pickle\""
   ]
  },
  {
   "cell_type": "code",
   "execution_count": 5,
   "id": "5c734986-8a72-4d0f-887e-93689d9049ff",
   "metadata": {},
   "outputs": [],
   "source": [
    "# 指定すべき文字コードはファイルによる ex.cp932, utf-8\n",
    "df = pd.read_csv(\"../Data/yahoo/\"+comment_list_path, encoding=\"utf-8\", header=None)\n",
    "comment_list = df[0][1:].to_numpy().tolist()\n",
    "comment_dataset = CommentDataset(comment_list)\n",
    "comment_dataset.delete_comment_specified_string(50)\n",
    "comment_dataset.formatted_input_hlda(appear_tagging_list=[\"名詞\", \"形容詞\", \"動詞\"], stop_tagging_list=[\"助詞\", \"助動詞\", \"非自立\"])"
   ]
  },
  {
   "cell_type": "code",
   "execution_count": 6,
   "id": "26906a90-0e81-4100-828c-5f8edc30abdb",
   "metadata": {},
   "outputs": [],
   "source": [
    "from model.HldaModel import ExpandHldaModel\n",
    "\n",
    "expandHlda = ExpandHldaModel(pickle_path=model_path)"
   ]
  },
  {
   "cell_type": "code",
   "execution_count": 18,
   "id": "fedf78e4-5f2e-4f80-8d2b-28123d0fb2b5",
   "metadata": {},
   "outputs": [
    {
     "name": "stdout",
     "output_type": "stream",
     "text": [
      "topic=0 level=0 (documents=528): 免許 (400), れる (227), 運転 (223), できる (161), 保険 (145), 確認 (132), 思う (121), カード (114), 本人 (111), 情報 (103), \n",
      "    topic=1 level=1 (documents=152): 国民 (67), 言う (33), 政府 (32), これ (24), 日本 (21), 岸田 (15), 政治 (14), 自民党 (13), 信用 (12), 支持 (11), \n",
      "        topic=2 level=2 (documents=18): 暗証 (12), 番号 (8), 補完 (4), 間違える (4), 違反 (4), 警察官 (4), 読み取り (3), 設定 (3), 大変 (3), 認証 (3), \n",
      "        topic=6 level=2 (documents=21): 任意 (13), 信用 (8), 義務 (8), 公安 (5), 実質 (5), 一切 (4), 与える (4), 委員 (3), 姑息 (3), 管轄 (3), \n",
      "        topic=10 level=2 (documents=8): 有る (5), 普及 (3), 何処 (2), ゼロ (2), 上がる (2), ども (2), 確約 (2), 無視 (2), 常識 (1), 時期 (1), \n",
      "        topic=12 level=2 (documents=11): フォン (6), スマート (6), モバイル (5), 所持 (3), 人間 (2), 悪い (2), 不正 (2), 覗く (1), 壊れる (1), 近く (1), \n",
      "        topic=15 level=2 (documents=12): 与党 (12), 潰す (4), 政権 (4), 公明党 (4), 内閣 (4), 存在 (3), 正しい (3), 皆さん (3), 下落 (2), 老人 (2), \n",
      "        topic=32 level=2 (documents=7): デジタル (8), 世界 (6), アナログ (5), 人類 (3), 対応 (3), 時点 (2), 進行 (2), 遅れる (2), 破綻 (2), 仕組み (2), \n",
      "        topic=33 level=2 (documents=9): 実装 (3), でる (2), 逃れ (2), マトモ (2), 作れる (2), 破産 (2), 初期 (2), だらけ (2), 次期 (1), 一片 (1), \n",
      "        topic=47 level=2 (documents=12): 不具合 (4), それぞれ (4), 非常 (3), 全て (3), 推し進める (3), 分ける (3), 目的 (2), 脆弱 (2), かむ (2), 乗る (2), \n",
      "        topic=444 level=2 (documents=11): 競争 (3), 仕方 (3), 申請 (3), 不正 (2), やつ (2), まわす (2), 原本 (2), 整備 (2), 奪う (2), 変更 (2), \n",
      "        topic=463 level=2 (documents=6): 纏める (2), 取得 (2), 権益 (1), 解消 (1), セキュリティ (1), 始め (1), 法案 (1), 人達 (1), 反対 (1), 来る (1), \n",
      "        topic=517 level=2 (documents=11): 登録 (8), 誤る (6), 議員 (6), 河野 (4), 銀行 (4), 文雄 (3), られる (3), 国会 (3), 歓迎 (3), 口座 (3), \n",
      "        topic=566 level=2 (documents=8): 対策 (4), ただ (4), 関わる (4), ばら (3), 撒く (3), 完全 (2), 整える (2), 保証 (2), 居る (2), しな (2), \n",
      "        topic=609 level=2 (documents=4): 本来 (3), 磁気 (2), 年寄り (2), 余す (1), なに (1), リスク (1), 刑務所 (1), 徴兵 (1), 徴収 (1), 曝す (1), \n",
      "        topic=611 level=2 (documents=6): 未来 (3), 若者 (2), 繋ぐ (2), 考える (2), 思い (2), 全て (2), 方式 (1), 国税局 (1), 感じ (1), 貰う (1), \n",
      "        topic=621 level=2 (documents=5): リスク (3), 分散 (3), 書き換え (2), 犯罪 (2), 出来る (2), 売買 (2), 功績 (1), クレジットカード (1), 預け (1), 乗せる (1), \n",
      "        topic=626 level=2 (documents=3): 期限 (3), 貴方 (2), 取れる (1), 沈没 (1), 保健所 (1), 身動き (1), ふざける (1), 今回 (1), 酷い (1), ミス (1), \n",
      "    topic=3 level=1 (documents=72): 国民 (28), 政府 (17), 日本 (12), 言う (12), 自民党 (10), 作る (9), これ (7), 政治 (7), 責任 (6), せる (6), \n",
      "        topic=24 level=2 (documents=18): 銀行 (23), 口座 (19), 開設 (8), 電話 (7), 携帯 (7), 契約 (5), これ (5), 任意 (5), 過ぎる (4), ライセンス (3), \n",
      "        topic=382 level=2 (documents=7): 中国 (7), 好き (3), 岸田 (3), 背番号 (3), すぎ (2), 落とす (2), 真似 (2), 一族 (2), いとこ (2), 移住 (2), \n",
      "        topic=384 level=2 (documents=3): 携帯 (3), 常時 (2), 罰則 (2), 報道 (1), 見過ごす (1), 印象 (1), 売り飛ばす (1), 利便 (1), メディア (1), 日常 (1), \n",
      "        topic=523 level=2 (documents=2): 読み込める (2), 逮捕 (1), 厳重 (1), そう (1), 反則 (1), 渡す (1), 基本 (1), 起こる (1), 出す (1), 削減 (0), \n",
      "        topic=526 level=2 (documents=4): 二流 (2), スポーツマン (2), 三流 (2), 使い (2), 統一 (2), ビジネスマン (2), 一流 (2), 何処 (1), 無能 (1), 癒着 (1), \n",
      "        topic=591 level=2 (documents=6): チップ (2), 今後 (2), 結果 (2), 掛かる (2), 立ち止まる (2), ヶ月 (2), 中身 (1), 向う (1), 反応 (1), 安物 (1), \n",
      "        topic=596 level=2 (documents=9): エラー (4), たらい (2), 警官 (2), 回し (2), 勝手 (2), ヒューマン (2), 確実 (2), 一つ (2), 電話 (1), 公明党 (1), \n",
      "        topic=600 level=2 (documents=1): 項目 (2), 祈る (1), みる (1), テレビ局 (1), テレビ (1), いま (1), 立つ (1), 立場 (1), コメンテーター (1), 切る (1), \n",
      "        topic=601 level=2 (documents=6): 保険 (3), 中身 (2), 太郎 (2), 助かる (2), 経つ (1), 同様 (1), 選択肢 (1), 友人 (1), 財布 (1), 知人 (1), \n",
      "        topic=614 level=2 (documents=3): 費用 (3), 記者 (1), いじめ (1), 削減 (1), キー (1), おまけ (1), いれる (1), 取れる (1), 等々 (1), 同等 (1), \n",
      "        topic=624 level=2 (documents=3): 振り回す (2), 一つ (1), 合併 (1), 検問 (1), メガ (1), 参照 (1), 追加 (1), ユーザー (1), たくさん (1), 似る (1), \n",
      "        topic=627 level=2 (documents=3): さん (1), 大学生 (1), 横暴 (1), 名寄せ (1), ホント (1), 幼稚園 (1), 異常 (1), 根幹 (1), 税金 (1), 火種 (1), \n",
      "        topic=632 level=2 (documents=7): マイ (3), 試験 (3), 判断 (2), オレ (2), 合体 (2), 合格 (2), バッチ (2), 好き (2), 紛失 (2), 保証 (2), \n",
      "    topic=8 level=1 (documents=144): 国民 (53), 言う (33), これ (30), 政府 (28), 自民党 (18), せる (17), 日本 (15), 岸田 (14), 国家 (14), 政治 (13), \n",
      "        topic=9 level=2 (documents=13): そう (5), どこ (4), 政権 (4), 腐る (4), 週間 (3), いく (3), まみれ (3), 利権 (3), 大変 (3), 一体 (3), \n",
      "        topic=45 level=2 (documents=10): コピー (7), 公的 (6), 計画 (5), 認証 (4), 対面 (3), やり方 (3), 現状 (2), 割合 (2), 向ける (2), 書く (2), \n",
      "        topic=175 level=2 (documents=16): チップ (7), 記載 (7), 住所 (7), 交通 (6), 番号 (6), 名前 (5), 専用 (5), 機器 (5), 端末 (5), 有効 (5), \n",
      "        topic=477 level=2 (documents=9): 普及 (12), メリット (5), 庶民 (3), ポイント (3), 抜け道 (2), 選ぶ (2), 増やす (2), 自然 (2), 知る (2), 普通 (2), \n",
      "        topic=498 level=2 (documents=5): 働く (3), 持たす (1), 理解 (1), 事実 (1), 適当 (1), 結果 (1), 論理 (1), 請け負う (1), 民主 (1), 怒り (1), \n",
      "        topic=510 level=2 (documents=11): 議員 (10), 国会 (6), 資産 (4), 日本人 (4), 閲覧 (4), 削減 (3), 公安 (3), 銀行 (2), 介護 (2), 仕組み (2), \n",
      "        topic=541 level=2 (documents=8): 値上がり (3), パスワード (3), 終わる (3), づける (2), 起こす (2), 強引 (1), 給料 (1), 示す (1), そりゃ (1), 静脈 (1), \n",
      "        topic=548 level=2 (documents=6): 無くす (9), 原案 (3), ラーメン (2), 吠える (1), ご飯 (1), 王国 (1), 前提 (1), 曰く (1), 確率 (1), まえる (1), \n",
      "        topic=550 level=2 (documents=7): 怖い (3), 利己 (2), 友達 (2), トヨタ (2), 民主 (2), 制度 (2), 財産 (2), 見つかる (2), 提供 (2), 利便 (2), \n",
      "        topic=559 level=2 (documents=4): 船舶 (2), 恐ろしい (2), 目先 (1), 若手 (1), 反旗 (1), 退職 (1), 過労 (1), 後始末 (1), 崩壊 (1), 推進 (1), \n",
      "        topic=575 level=2 (documents=3): 使用 (4), 従業 (2), 仕事 (2), 当方 (2), 電子 (1), 場面 (1), 印鑑 (1), 読む (1), 返す (1), 貰う (1), \n",
      "        topic=578 level=2 (documents=5): 保持 (3), 企業 (2), つける (1), 実務 (1), 協会 (1), 現場 (1), 居座る (1), バカ (1), 限定 (1), 勧める (1), \n",
      "        topic=587 level=2 (documents=5): 軽視 (2), 利便 (2), 母子 (2), 子ども (2), 手帳 (2), リスト (2), 喧伝 (1), 渡す (1), 素晴らしい (1), 合理 (1), \n",
      "        topic=590 level=2 (documents=11): ダメ (4), くっつける (3), 待つ (3), ついてる (2), 検討 (2), 担当 (2), 中国共産党 (1), 野党 (1), 絞る (1), 絡む (1), \n",
      "        topic=599 level=2 (documents=9): お金 (5), 見える (5), 日本人 (4), 興味 (3), 行う (3), 副作用 (2), 長い (2), 監視 (2), デジタル (2), 勤め先 (2), \n",
      "        topic=625 level=2 (documents=5): 指紋 (4), 写真 (2), 防止 (1), 廃止 (1), 導入 (1), 解除 (1), 収益 (1), 疲れる (1), ダブル (1), 手数料 (1), \n",
      "        topic=628 level=2 (documents=5): 運行 (4), 移行 (3), 運送 (2), 点呼 (2), 安易 (2), これら (2), 失効 (1), 車種 (1), 種類 (1), 裏書 (1), \n",
      "        topic=629 level=2 (documents=5): 若者 (2), 拍車 (1), 思える (1), 疑問 (1), いろいろ (1), 続出 (1), 変わる (1), 民主 (1), インフラ (1), 不可欠 (1), \n",
      "        topic=635 level=2 (documents=7): ふざける (2), 同意 (2), 買い替える (1), 生じる (1), 申請 (1), 後進 (1), コスト (1), 該当 (1), か月 (1), 空白 (1), \n",
      "    topic=79 level=1 (documents=76): 国民 (16), 日本 (12), 政府 (12), 言う (10), 政権 (9), せる (9), 選挙 (8), 進める (7), これ (7), 利権 (6), \n",
      "        topic=542 level=2 (documents=12): 役人 (6), 無能 (3), ダメ (3), 設計 (3), 制度 (3), 現場 (3), 天下り (2), めちゃくちゃ (2), 段階 (2), マイナー (2), \n",
      "        topic=555 level=2 (documents=7): みる (4), 対策 (3), 怒り (3), 被害 (2), 入力 (1), 不十分 (1), ダメ (1), 矛盾 (1), 沸き上がる (1), 研究 (1), \n",
      "        topic=558 level=2 (documents=14): 減る (7), 記載 (5), オランダ (4), 海外 (3), 外国 (3), られる (3), 進む (3), 予算 (2), 事項 (2), よい (2), \n",
      "        topic=571 level=2 (documents=10): 投票 (10), 皆さん (3), 彼ら (3), 非常 (2), 一部 (2), 交代 (2), 自公 (2), 結果 (2), お願い (2), 日本人 (2), \n",
      "        topic=581 level=2 (documents=9): 効率 (5), コード (5), 基本 (4), 整備 (4), づける (2), 悪い (2), なに (2), ヒューマン (2), わける (2), 徴収 (2), \n",
      "        topic=583 level=2 (documents=5): 失敗 (2), 普通 (1), 不自由 (1), 地上波 (1), 愚行 (1), 惚ける (1), 裁判 (1), られる (1), 化す (1), 権化 (1), \n",
      "        topic=594 level=2 (documents=4): 公式 (5), 苦情 (2), 総理 (2), チェック (2), 受付 (1), 厚生 (1), 警察庁 (1), 移す (1), 裏面 (1), 勝手 (1), \n",
      "        topic=618 level=2 (documents=8): 見せる (5), 見える (3), お巡りさん (3), あげる (2), 隠す (2), 現場 (2), 基地 (2), 始まる (1), 始める (1), 杜撰 (1), \n",
      "        topic=634 level=2 (documents=7): 財務省 (3), 軽い (2), そこ (2), 強引 (1), かさ (1), 注視 (1), 成り下がる (1), マスコミ (1), 実行 (1), 預金 (1), \n",
      "    topic=328 level=1 (documents=84): 国民 (28), 言う (25), 政府 (22), 選挙 (11), 日本 (10), 強制 (9), これ (9), 任意 (9), そう (7), 作る (7), \n",
      "        topic=468 level=2 (documents=3): 来る (3), 田舎 (2), 止める (2), 郵便 (2), 代金 (1), 一つ (1), 用意 (1), 必要 (1), 事柄 (1), 答える (1), \n",
      "        topic=484 level=2 (documents=19): 更新 (35), 免許 (7), ゴールド (6), 違反 (5), 期間 (4), 即日 (3), ブルー (3), かかる (3), 視力 (2), 赤ちゃん (2), \n",
      "        topic=536 level=2 (documents=10): チップ (11), 埋め込む (5), マイクロ (4), ここ (2), 人体 (2), 離す (2), 特定 (2), 離脱 (1), ネック (1), 吸い上げる (1), \n",
      "        topic=543 level=2 (documents=3): 公明党 (3), 望む (3), 地獄 (2), 維新 (2), ボロボロ (1), 区分 (1), 社会 (1), 会社 (1), 発電 (1), 最後 (1), \n",
      "        topic=592 level=2 (documents=8): 世の中 (3), レベル (3), 続出 (2), 解散 (2), 当たり前 (2), リリース (2), その後 (1), 問う (1), 思える (1), 比較 (1), \n",
      "        topic=597 level=2 (documents=7): 向かう (2), 目指す (2), 高齢 (2), 危機 (2), 市民 (1), 見える (1), 進む (1), 異常 (1), 奴隷 (1), おける (1), \n",
      "        topic=604 level=2 (documents=2): 漏洩 (2), 使える (2), 故意 (2), 複雑 (2), 作成 (1), 始まる (1), 改ざん (1), 知らせる (1), 矛盾 (1), 届出 (1), \n",
      "        topic=607 level=2 (documents=3): 徹底的 (2), 見直す (2), 批判 (1), 立つ (1), 恥ずかしい (1), まみれる (1), 戸籍 (1), 推し進める (1), 山積 (1), 目処 (1), \n",
      "        topic=608 level=2 (documents=8): 天下り (2), せる (2), 権力 (2), 中身 (2), 都合 (2), 併用 (1), 王様 (1), 身元 (1), 事態 (1), ドラマ (1), \n",
      "        topic=616 level=2 (documents=5): 最初 (5), 監視 (3), 特殊 (2), 方針 (2), 断る (2), 大型 (2), 中型 (2), 券面 (1), 根源 (1), 忘れる (1), \n",
      "        topic=622 level=2 (documents=5): 医者 (1), 言葉 (1), ダメ (1), 向ける (1), 住民 (1), 住所 (1), 差し出す (1), 延期 (1), 韓国 (1), 保有 (1), \n",
      "        topic=631 level=2 (documents=5): 無能 (4), 操作 (2), 行為 (2), 技術 (2), インストール (2), 原因 (2), 行う (2), 入力 (2), 多い (1), 売国奴 (1), \n",
      "        topic=636 level=2 (documents=6): いい (3), 限り (2), 民主党 (1), 生体 (1), 下野 (1), 呼ぶ (1), 諮問 (1), 安倍 (1), その後 (1), 手っ取り早い (1), \n"
     ]
    }
   ],
   "source": [
    "expandHlda.print_nodes(words = 10, weights = True)"
   ]
  },
  {
   "cell_type": "code",
   "execution_count": 15,
   "id": "ec8f0726-8055-4a94-bb2f-f2949d050e3d",
   "metadata": {},
   "outputs": [
    {
     "name": "stdout",
     "output_type": "stream",
     "text": [
      "['任意だから選んだ国民', ['任意', 'だ', 'から', '選ぶ', 'だ', '国民'], 0.07158285288873795]\n",
      "['実質義務化', ['実質', '義務', '化'], 0.06966310319530553]\n",
      "['任意のはず', ['任意', 'の', 'はず'], 0.06519140531906019]\n",
      "['任意', ['任意'], 0.06462175444045536]\n",
      "['「任意', ['「', '任意'], 0.06462175444045536]\n",
      "['“任意', ['“', '任意'], 0.06462175444045536]\n",
      "['顔認証付きカードリーダーを普及するのも苦労しているのにさらに規模を拡大して普及できるもの', ['顔', '認証', '付き', 'カード', 'リーダー', 'を', '普及', 'する', 'の', 'も', '苦労', 'する', 'て', 'いる', 'の', 'に', 'さらに', '規模', 'を', '拡大', 'する', 'て', '普及', 'できる', 'もの'], 0.05415367266344477]\n",
      "['実質的に取得しなければ不利益を与えるようなやり方', ['実質', '的', 'に', '取得', 'する', 'ない', 'ば', '不利益', 'を', '与える', 'よう', 'だ', 'やり方'], 0.05138424348015635]\n",
      "['いっそのこと義務', ['いっそ', 'の', 'こと', '義務'], 0.04871571460299793]\n",
      "['もしれないが「義務', ['も', 'しれる', 'ない', 'が', '「', '義務'], 0.047599303144605296]\n"
     ]
    }
   ],
   "source": [
    "topic_id = 6\n",
    "topic_document_list = expandHlda.get_topic_document(comment_list=comment_list, corpus=comment_dataset.comment_list, topic_id=topic_id)\n",
    "tpr = TopicalPageRank(collection=topic_document_list, appear_tagging_list=[\"名詞\", \"形容詞\"], w=10)\n",
    "topic_word_weighted = expandHlda.get_weighted(topic_id)\n",
    "phrase_list = tpr.extract_phrase(damping_factor=0.3, word_weighted_list=topic_word_weighted)\n",
    "\n",
    "for phrase in phrase_list[0:10]:\n",
    "    print(phrase)"
   ]
  },
  {
   "cell_type": "code",
   "execution_count": 16,
   "id": "cd67417a-562e-4c01-b3de-afdc1d71de1c",
   "metadata": {},
   "outputs": [
    {
     "name": "stdout",
     "output_type": "stream",
     "text": [
      "['新しく開設する銀行口座', ['新しい', '開設', 'する', '銀行', '口座'], 0.2703191385369026]\n",
      "['大切な物を入れてる金庫を無くした もしくは盗まれた実印 銀行口座', ['大切', 'だ', '物', 'を', '入れる', 'てる', '金庫', 'を', '無くす', 'た', 'もしくは', '盗む', 'れる', 'た', '実印', '銀行', '口座'], 0.22814461556008941]\n",
      "['銀行口座', ['銀行', '口座'], 0.22313567585935928]\n",
      "['口座開設', ['口座', '開設'], 0.14769625132149788]\n",
      "['地元都市銀行', ['地元', '都市', '銀行'], 0.144708197939078]\n",
      "['大手都市銀行４行', ['大手', '都市', '銀行', '４', '行'], 0.1375611622010842]\n",
      "['しないかは銀行次第', ['する', 'ない', 'か', 'は', '銀行', '次第'], 0.13613895435343354]\n",
      "['民間銀行', ['民間', '銀行'], 0.12288526884425242]\n",
      "['どの銀行', ['どの', '銀行'], 0.12061419512524797]\n",
      "['銀行', ['銀行'], 0.12061419512524797]\n"
     ]
    }
   ],
   "source": [
    "topic_id = 24\n",
    "topic_document_list = expandHlda.get_topic_document(comment_list=comment_list, corpus=comment_dataset.comment_list, topic_id=topic_id)\n",
    "tpr = TopicalPageRank(collection=topic_document_list, appear_tagging_list=[\"名詞\", \"形容詞\"], w=10)\n",
    "topic_word_weighted = expandHlda.get_weighted(topic_id)\n",
    "phrase_list = tpr.extract_phrase(damping_factor=0.3, word_weighted_list=topic_word_weighted)\n",
    "\n",
    "for phrase in phrase_list[0:10]:\n",
    "    print(phrase)"
   ]
  },
  {
   "cell_type": "code",
   "execution_count": 17,
   "id": "0d1f3af0-23f2-480c-8a79-628978c182ca",
   "metadata": {},
   "outputs": [
    {
     "name": "stdout",
     "output_type": "stream",
     "text": [
      "['運転免許更新', ['運転', '免許', '更新'], 0.24399515900266552]\n",
      "['免許更新', ['免許', '更新'], 0.2399162336262838]\n",
      "['免許証更新', ['免許', '証', '更新'], 0.2399162336262838]\n",
      "['ゴールドカードを更新してた人たち', ['ゴールド', 'カード', 'を', '更新', 'する', 'てる', 'た', '人', 'たち'], 0.2316251148326113]\n",
      "['最低でも更新期間1.2回', ['最低', 'で', 'も', '更新', '期間', '*', '*', '*', '回'], 0.21831695695101466]\n",
      "['同じような更新手続き', ['同じ', 'よう', 'だ', '更新', '手続き'], 0.20926056299085874]\n",
      "['更新会場', ['更新', '会場'], 0.20389282016063578]\n",
      "['更新手続き', ['更新', '手続き'], 0.2020273133055084]\n",
      "['成人だったら１０年写真を更新しないマイナンバーカード', ['成人', 'だ', 'た', '１', '０', '年', '写真', 'を', '更新', 'する', 'ない', '*'], 0.20056812182993494]\n",
      "['自動更新', ['自動', '更新'], 0.19663299084968508]\n"
     ]
    }
   ],
   "source": [
    "topic_id = 484\n",
    "topic_document_list = expandHlda.get_topic_document(comment_list=comment_list, corpus=comment_dataset.comment_list, topic_id=topic_id)\n",
    "tpr = TopicalPageRank(collection=topic_document_list, appear_tagging_list=[\"名詞\", \"形容詞\"], w=10)\n",
    "topic_word_weighted = expandHlda.get_weighted(topic_id)\n",
    "phrase_list = tpr.extract_phrase(damping_factor=0.3, word_weighted_list=topic_word_weighted)\n",
    "\n",
    "for phrase in phrase_list[0:10]:\n",
    "    print(phrase)"
   ]
  },
  {
   "cell_type": "code",
   "execution_count": 19,
   "id": "249d39d9-58a4-4567-bd7b-ff49fb1e8447",
   "metadata": {},
   "outputs": [
    {
     "name": "stdout",
     "output_type": "stream",
     "text": [
      "['アナログ対応', ['アナログ', '対応'], 0.11862763686892508]\n",
      "['デジタル化', ['デジタル', '化'], 0.1059404006737948]\n",
      "['必ず起こるアナログ人間', ['必ず', '起こる', 'アナログ', '人間'], 0.08490755304765313]\n",
      "['世界', ['世界'], 0.07574917517953622]\n",
      "['アナログ', ['アナログ'], 0.06966498803117288]\n",
      "['人類史', ['人類', '史'], 0.04225719779771875]\n",
      "['日常生活', ['日常', '生活'], 0.03800578068314113]\n",
      "['日本政府', ['日本', '政府'], 0.034019867613059376]\n",
      "['より良きシステム', ['より', '良い', 'システム'], 0.03100091185966953]\n",
      "['困難に直面する事', ['困難', 'に', '直面', 'する', '事'], 0.029114331811358897]\n"
     ]
    }
   ],
   "source": [
    "topic_id = 32\n",
    "topic_document_list = expandHlda.get_topic_document(comment_list=comment_list, corpus=comment_dataset.comment_list, topic_id=topic_id)\n",
    "tpr = TopicalPageRank(collection=topic_document_list, appear_tagging_list=[\"名詞\", \"形容詞\"], w=10)\n",
    "topic_word_weighted = expandHlda.get_weighted(topic_id)\n",
    "phrase_list = tpr.extract_phrase(damping_factor=0.3, word_weighted_list=topic_word_weighted)\n",
    "\n",
    "for phrase in phrase_list[0:10]:\n",
    "    print(phrase)"
   ]
  },
  {
   "cell_type": "code",
   "execution_count": null,
   "id": "e472ff2c-ce84-47fa-9d8d-c92fd8abc932",
   "metadata": {},
   "outputs": [],
   "source": []
  }
 ],
 "metadata": {
  "kernelspec": {
   "display_name": "Python 3 (ipykernel)",
   "language": "python",
   "name": "python3"
  },
  "language_info": {
   "codemirror_mode": {
    "name": "ipython",
    "version": 3
   },
   "file_extension": ".py",
   "mimetype": "text/x-python",
   "name": "python",
   "nbconvert_exporter": "python",
   "pygments_lexer": "ipython3",
   "version": "3.10.1"
  }
 },
 "nbformat": 4,
 "nbformat_minor": 5
}
