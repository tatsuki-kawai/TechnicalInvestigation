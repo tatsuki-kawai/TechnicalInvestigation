{
 "cells": [
  {
   "cell_type": "code",
   "execution_count": 1,
   "id": "ca6380da-952b-4bc5-9b3c-53f6e033b942",
   "metadata": {},
   "outputs": [],
   "source": [
    "import sys\n",
    "sys.path.append('../Data')\n",
    "\n",
    "import pandas as pd\n",
    "import numpy as np\n",
    "import time\n",
    "from CommentDataset import CommentDataset\n",
    "\n",
    "comment_list_name = \"20230627_mynumbercard_untenmenkyosyou\"\n",
    "comment_list_path = \"2023_06_27/\" + comment_list_name + \".csv\"\n",
    "\n",
    "# 指定すべき文字コードはファイルによる(cp932 or utf-8)\n",
    "df = pd.read_csv(\"../Data/yahoo/\"+comment_list_path, encoding=\"cp932\", header=None)\n",
    "# comment_list = df[0][1:].to_numpy().tolist()\n",
    "comment_list = df[0][1:].to_numpy().tolist()\n",
    "comment_dataset = CommentDataset(comment_list)\n",
    "comment_dataset.delete_comment_specified_string(50)\n",
    "comment_list = comment_dataset.comment_list\n",
    "comment_dataset.formatted_input_hlda(appear_tagging_list=[\"名詞\", \"形容詞\", \"動詞\"], stop_tagging_list=[\"助詞\", \"助動詞\", \"非自立\"])"
   ]
  },
  {
   "cell_type": "code",
   "execution_count": 2,
   "id": "ad4910c2-20b4-4aa1-8a1f-e799ae08b4ea",
   "metadata": {},
   "outputs": [],
   "source": [
    "from model.HldaModel import ExpandHldaModel\n",
    "\n",
    "model_path = \"model/pickle/2023_08_01/20230627_mynumbercard_untenmenkyosyou_default.pickle\"\n",
    "expandHlda = ExpandHldaModel(pickle_path=model_path)"
   ]
  },
  {
   "cell_type": "code",
   "execution_count": 3,
   "id": "8b91aaa8-c78a-4c84-a428-1a8d93d822d7",
   "metadata": {},
   "outputs": [
    {
     "name": "stdout",
     "output_type": "stream",
     "text": [
      "topic=0 level=0 (documents=530): 免許, れる, 運転, できる, 保険, 思う, 確認, 本人, 情報, カード, \n",
      "    topic=1 level=1 (documents=90): 国民, 政府, 言う, 日本, これ, それ, せる, 作る, 岸田, 政治, \n",
      "        topic=58 level=2 (documents=13): 認証, コピー, 指紋, 書類, 計画, 対面, 悪用, パスワード, 公的, やり方, \n",
      "        topic=145 level=2 (documents=7): 中国, 老害, 一族, 好き, 移住, いとこ, 真似, 支配, 保護, 人類, \n",
      "        topic=157 level=2 (documents=11): スマート, フォン, モバイル, 搭載, 変える, 恐ろしい, スマ, つる, どっち, 事故, \n",
      "        topic=628 level=2 (documents=10): エラー, それぞれ, 推し進める, 出る, 脆弱, 分ける, 網羅, 思う, 活用, ツール, \n",
      "        topic=678 level=2 (documents=2): 余計, でる, 勘弁, かける, 結果, 加減, 加入, 加わる, 加える, 功績, \n",
      "        topic=693 level=2 (documents=3): 想像, 流出, 利用, 危機, 無い, 市民, うける, 年貢, 潤う, ハッキング, \n",
      "        topic=729 level=2 (documents=6): 無能, ヒューマン, 行為, 危険, 行う, 磁気, 原因, 技術, 聴く, 売国奴, \n",
      "        topic=760 level=2 (documents=4): オランダ, 任意, 強引, 外国, 取り上げる, 準備, 帰国, 交換, 上がる, 委ねる, \n",
      "        topic=776 level=2 (documents=9): ダメ, くっつける, 警察官, 絡む, 一つ, ついてる, 方々, 捨てる, 改善, 倒す, \n",
      "        topic=781 level=2 (documents=5): 認める, 整備, インフラ, 対策, 心情, 成立, 法案, 優れる, 決める, 環境, \n",
      "        topic=783 level=2 (documents=7): 口座, 未来, 権力, 残る, 岸田, 証券, 天下り, 把握, めちゃくちゃ, 自治体, \n",
      "        topic=791 level=2 (documents=1): 普及, 値する, 普通, 身元, 今更, 商法, 学生, ごり押し, 無茶苦茶, 価値, \n",
      "        topic=798 level=2 (documents=7): 項目, 基本, 祈る, 多く, パイプ, 切る, 立場, 立つ, コメンテーター, 取り上げる, \n",
      "        topic=799 level=2 (documents=5): 軽視, 疑心暗鬼, 住民, 得体, 知れる, 接種, ツール, たくさん, 面倒い, 学業, \n",
      "    topic=3 level=1 (documents=105): 国民, 言う, これ, 政府, 作る, せる, 岸田, 信用, 自民党, 自分, \n",
      "        topic=17 level=2 (documents=9): 支持, 有る, 勝手, 総理, 公的, 証明, 間違い, 盗む, 聞く, 下がる, \n",
      "        topic=19 level=2 (documents=6): 関わる, 諮問, 仕向ける, 重ねる, なりふり, 事実, 来す, 化す, よい, 窓口, \n",
      "        topic=36 level=2 (documents=6): チップ, 交通, 住所, 専用, 表面, 記載, 違反, パトカー, 有効, 車両, \n",
      "        topic=51 level=2 (documents=6): 公安, 与える, 横行, 委員, 偽札, 崩れる, 管轄, 不正, つまる, 置ける, \n",
      "        topic=379 level=2 (documents=16): 議員, 国会, さん, 役人, 河野, 誤る, 無能, 太郎, 文雄, 払う, \n",
      "        topic=451 level=2 (documents=15): 任意, 義務, 実質, やり方, ふざける, ミス, 陰険, 同意, バイト, いやらしい, \n",
      "        topic=673 level=2 (documents=6): 値上がり, 給料, なれる, 近づく, あんた, 制度, 補助, 国々, 覇権, 全力, \n",
      "        topic=751 level=2 (documents=5): 端末, 見せる, 加える, 電子, 住所, サービス, 監視, 契約, 開始, 読み込む, \n",
      "        topic=780 level=2 (documents=6): 携帯, 各所, 場所, 負け, 支給, まみれる, 同様, 自治体, 譲る, 補助, \n",
      "        topic=786 level=2 (documents=4): ごまかし, 流れ, 誤謬, 譲る, かざす, 徹底的, いろいろ, 保証, 確認, 対策, \n",
      "        topic=788 level=2 (documents=5): 環境, セキュリティ, 理解, 通信, 優良, 弊害, 確認, 上げる, かむ, 発行, \n",
      "        topic=790 level=2 (documents=7): 対策, 整備, 示す, 整える, 居る, バッチ, 向ける, ただ, 合格, しな, \n",
      "        topic=797 level=2 (documents=4): 操作, 電子, 自治体, 従業, インストール, 重要, 使用, 発想, 当方, だし, \n",
      "        topic=801 level=2 (documents=5): 財務省, 原案, 軽い, 利益, 達す, ごと, ごり押し, 実行, 預金, 徴収, \n",
      "        topic=802 level=2 (documents=5): 普段, 写し, 抜け道, 保管, 無駄, もらう, 買える, 貧困, くい, 新た, \n",
      "    topic=6 level=1 (documents=88): 国民, 日本, 言う, 選挙, 自民党, 政権, 政府, これ, 政治, 国家, \n",
      "        topic=7 level=2 (documents=9): 保持, 補完, 統一, 賛成, 検討, スピード, 役人, 持ち運び, 流行, 速やか, \n",
      "        topic=116 level=2 (documents=19): 更新, ゴールド, ブルー, 即日, 会場, 信用度, 置く, アホ, 検査, オレ, \n",
      "        topic=447 level=2 (documents=12): 投票, 選挙, 政党, 彼ら, 時代, 強い, 衆議院, 自公, 強行, 結果, \n",
      "        topic=599 level=2 (documents=6): コメント, レベル, 大変, つまり, 比較, 過渡, 承知, 心底, 作れる, 必然, \n",
      "        topic=682 level=2 (documents=7): 起きる, 矛盾, 公平, 影響, 隠す, 始める, 行政, システム, お金, 改革, \n",
      "        topic=744 level=2 (documents=5): 犯罪, 履歴, クレジットカード, 売買, 体制, 減る, せる, 購入, 監視, 勤め先, \n",
      "        topic=777 level=2 (documents=10): アメリカ, 独裁, 優先, 奴隷, 民族, 必死, 歴史, 検問, 長い, 裕福, \n",
      "        topic=779 level=2 (documents=3): 狙い, 特定, スムーズ, 吸い上げる, 源泉, 操縦, 納税, でる, 通院, 暮らし, \n",
      "        topic=784 level=2 (documents=4): 民主, 決定, 閣議, 主義, 道路, 情けない, 湯水, 乗りまわす, 滑り落ちる, 負ける, \n",
      "        topic=787 level=2 (documents=4): 来る, 田舎, 無い, いま, 説明, 止める, 大臣, 若手, 後始末, 年齢, \n",
      "        topic=793 level=2 (documents=2): 見る, 私利, ゴリ押し, 今度, よる, ブロック, 大切, 保管, ここ, 突きつける, \n",
      "        topic=794 level=2 (documents=7): まとめる, 運行, 大型, 点呼, 断る, 失効, 資格, たくさん, 運送, 中型, \n",
      "    topic=8 level=1 (documents=126): 国民, 携帯, 言う, これ, 政府, 日本, 任意, それ, せる, 政治, \n",
      "        topic=9 level=2 (documents=32): 紛失, 発行, リスク, 無くす, 病院, 場合, 万が一, 簡単, 行ける, 書く, \n",
      "        topic=26 level=2 (documents=16): 銀行, 口座, 作る, 開設, 電話, 契約, 政府, ライセンス, 民間, バカ, \n",
      "        topic=161 level=2 (documents=7): アナログ, 増やす, 言える, 世界, デジタル, ついていける, 遅れる, 時点, 必須, 確立, \n",
      "        topic=193 level=2 (documents=4): 禁止, 本来, 許可, 大差, メリット, 自然, 多く, 撒く, ポイント, 壊す, \n",
      "        topic=696 level=2 (documents=11): チップ, 埋め込む, マイクロ, ここ, バカ, 肌身, 離す, 認識, 意図, 仕事, \n",
      "        topic=698 level=2 (documents=6): 与党, 潰す, 存在, 正しい, 内閣, 公明党, 事実, 衝撃, 次回, もっとも, \n",
      "        topic=704 level=2 (documents=12): 基本, コード, なに, 年寄り, 取り扱い, センター, 統一, 住民, 人的, マイ, \n",
      "        topic=731 level=2 (documents=4): 割合, 天下り, トラブル, 推奨, 在席, 掛ける, 過疎, 推し進める, 解らん, 突き進む, \n",
      "        topic=732 level=2 (documents=4): 効率, 行政, スピード, 太郎, 徴収, まずい, 結びつける, 物凄い, すごい, 定数, \n",
      "        topic=735 level=2 (documents=5): 増やす, 友達, 大勢, 共産党, 繰り返す, それぞれ, 戻る, 年金, 民度, 利他, \n",
      "        topic=739 level=2 (documents=5): 船舶, 順番, 続く, 物事, 理想, 着く, 甘い, 成る, 義務付ける, 発車, \n",
      "        topic=755 level=2 (documents=3): 芋づる, 登録, 期限, 悪い, みな, 番号, 結果, バラバラ, 縛る, クレジットカード, \n",
      "        topic=762 level=2 (documents=4): 対策, 盗難, 嫌がる, 言いきる, 痛い, いく, いくら, 認める, かわり, 方法, \n",
      "        topic=767 level=2 (documents=6): 撒く, 市町村, どん, ばら, 都道府県, アナログ, 赤ちゃん, 発行, 人手, 晒す, \n",
      "        topic=782 level=2 (documents=3): 機器, 配備, 作業, 得る, 於く, 取り締まり, 存在, 読み込む, 異議, 外濠, \n",
      "        topic=800 level=2 (documents=4): 統合, リリース, 民間, 自国, 販売, 大前提, 保護, 素晴らしい, 解消, 判断, \n",
      "    topic=11 level=1 (documents=121): 国民, 政府, 言う, せる, 自民党, これ, 政治, 政権, 選挙, 作る, \n",
      "        topic=14 level=2 (documents=15): 番号, 暗証, 記載, 役所, 高齢, 入力, 間違える, 住民, 住所, 付く, \n",
      "        topic=16 level=2 (documents=9): 若者, 費用, 腐る, 滅茶苦茶, 見切り, 通信, くい, おかしい, まみれ, 引っ張る, \n",
      "        topic=35 level=2 (documents=7): あげる, 作れる, 逃れ, マトモ, 破産, 詐欺, でる, 初期, ベール, ポイント, \n",
      "        topic=310 level=2 (documents=7): 指摘, ケース, それら, まわす, やつ, 外国, 気付く, 格納, 改悪, 陥れる, \n",
      "        topic=632 level=2 (documents=6): いく, 連携, 注ぐ, 集約, 説明, マジ, 腐る, リスク, 結果, 将来, \n",
      "        topic=681 level=2 (documents=5): 成立, 内閣, 上手い, 文句, 知る, 自信, 知れる, 場面, 病院, リスク, \n",
      "        topic=720 level=2 (documents=10): 説明, 不足, 競争, 続出, 有る, 本来, 加入, 行動, 強い, 流出, \n",
      "        topic=745 level=2 (documents=9): お巡りさん, だらけ, 連絡, 助かる, 電子, 現場, 検証, 山積, 論理, 携行, \n",
      "        topic=759 level=2 (documents=10): 手帳, 資産, 個人, 公安, 銀行, 閲覧, 自民, 議員, 母子, 貯金, \n",
      "        topic=766 level=2 (documents=11): 役場, 公的, 設置, 近い, 普及, オンライン, 日本, れる, 国政, まり, \n",
      "        topic=768 level=2 (documents=7): かける, お前, 役人, 照会, 引きずる, 解体, 管轄, 仕事, 加減, 被害, \n",
      "        topic=785 level=2 (documents=9): たち, かも, スポーツマン, 三流, 一流, 信用, ビジネスマン, 全員, 携帯, 読み込む, \n",
      "        topic=789 level=2 (documents=8): 公式, 犯罪, 苦情, 反対, そう, 官邸, 公明党, 返す, メール, 心配, \n",
      "        topic=795 level=2 (documents=8): 破綻, 違い, 振り回す, 沙汰, 狂気, 間違い, 得意, 経験, 合併, 根源, \n"
     ]
    }
   ],
   "source": [
    "expandHlda.print_nodes(n_words = 10, weights = False)"
   ]
  },
  {
   "cell_type": "code",
   "execution_count": 4,
   "id": "1684bbae-6367-44c8-83c1-6a1c4a9a8e51",
   "metadata": {},
   "outputs": [
    {
     "name": "stdout",
     "output_type": "stream",
     "text": [
      "topic=0 level=0 (documents=530): 免許 (0.079),運転免許 (0.061),免許確認 (0.053),\n",
      "    topic=1 level=1 (documents=90): 国民 (0.048),政府 (0.047),日本政府 (0.039),\n",
      "        topic=58 level=2 (documents=13): 指紋認証 (0.058),コピー (0.057),指紋 (0.041),\n",
      "        topic=145 level=2 (documents=7): 中国 (0.104),一族 (0.056),職員 (0.026),\n",
      "スマートフォン (0.058),7 level=2 (documents=11): スマートフォン (0.087),スマートフォン料金 (0.064),\n",
      "        topic=628 level=2 (documents=10): エラー (0.054),それぞれ (0.050),警官 (0.027),\n",
      "        topic=678 level=2 (documents=2): 余計な税金 (0.085),多額 (0.022),まま (0.014),\n",
      "        topic=693 level=2 (documents=3): 能力 (0.044),バックアップ (0.043),ハッキング (0.043),\n",
      "        topic=729 level=2 (documents=6): 無能 (0.064),無能政府 (0.039),危険 (0.034),\n",
      "        topic=760 level=2 (documents=4): オランダ (0.072),オランダ政府 (0.040),外国 (0.038),\n",
      "        topic=776 level=2 (documents=9): 一つ (0.041),警察官 (0.035),どれ (0.026),\n",
      "        topic=781 level=2 (documents=5): インフラ整備 (0.082),義務 (0.041),法案成立 (0.039),\n",
      "        topic=783 level=2 (documents=7): 口座 (0.036),未来 (0.032),証券口座 (0.028),\n",
      "        topic=791 level=2 (documents=1): いくら普及しないものを無理やり普及させるため (0.048),価値 (0.039),「押しつけ商法 (0.027),\n",
      "        topic=798 level=2 (documents=7): 項目 (0.059),立場 (0.035),一つ (0.032),\n",
      "        topic=799 level=2 (documents=5): ツール (0.045),根源 (0.037),諸悪 (0.033),\n",
      "    topic=3 level=1 (documents=105): 国民 (0.062),これ (0.040),国民全体 (0.032),\n",
      "        topic=17 level=2 (documents=9): 支持率 (0.034),間違い (0.034),総理就任時 (0.026),\n",
      "        topic=19 level=2 (documents=6): 集団 (0.030),権化 (0.029),なりふり (0.028),\n",
      "        topic=36 level=2 (documents=6): チップ (0.060),交通違反 (0.031),ICチップ (0.030),\n",
      "        topic=51 level=2 (documents=6): 公安 (0.090),信用 (0.058),公安委員会 (0.054),\n",
      "        topic=379 level=2 (documents=16): 議員 (0.099),国会議員 (0.082),議員さん (0.071),\n",
      "        topic=451 level=2 (documents=15): 任意 (0.103),実質 (0.044),実質義務化 (0.035),\n",
      "        topic=673 level=2 (documents=6): 給料 (0.082),値上がり物価 (0.077),お給料 (0.041),\n",
      "        topic=751 level=2 (documents=5): 端末 (0.058),端末機 (0.029),住所 (0.028),\n",
      "        topic=780 level=2 (documents=6): 日本人 (0.049),負け (0.043),外国企業 (0.043),\n",
      "        topic=786 level=2 (documents=4): 誤謬 (0.068),ごまかし (0.064),徹底的な対策 (0.054),\n",
      "        topic=788 level=2 (documents=5): 通信環境 (0.065),いちいち通信環境 (0.043),セキュリティ効果 (0.034),\n",
      "        topic=790 level=2 (documents=7): 対策 (0.064),整備 (0.044),選択肢 (0.036),\n",
      "        topic=797 level=2 (documents=4): 操作 (0.034),当方 (0.033),インストール (0.033),\n",
      "        topic=801 level=2 (documents=5): 原案 (0.078),財務省 (0.072),軽い軽い神輿 (0.050),\n",
      "        topic=802 level=2 (documents=5): 普段 (0.046),抜け道 (0.045),常時 (0.025),\n",
      "    topic=6 level=1 (documents=88): 国民 (0.066),日本国民 (0.050),日本 (0.033),\n",
      "        topic=7 level=2 (documents=9): 賛成 (0.031),統一 (0.031),保持者 (0.026),\n",
      "        topic=116 level=2 (documents=19): 更新 (0.171),免許更新 (0.093),更新会場 (0.093),\n",
      "        topic=447 level=2 (documents=12): 選挙 (0.052),政党 (0.036),衆議院選挙 (0.034),\n",
      "        topic=599 level=2 (documents=6): コメント (0.056),大学生レベル (0.037),サービスレベル (0.029),\n",
      "        topic=682 level=2 (documents=7): 行政 (0.025),矛盾 (0.025),システム能力 (0.024),\n",
      "        topic=744 level=2 (documents=5): 犯罪 (0.043),クレジットカード (0.024),勤め先 (0.024),\n",
      "        topic=777 level=2 (documents=10): アメリカ (0.063),アメリカ国籍 (0.037),アメリカ領域 (0.037),\n",
      "        topic=779 level=2 (documents=3): 狙い (0.069),コスト (0.064),分離源泉納税 (0.063),\n",
      "        topic=784 level=2 (documents=4): 民主主義 (0.056),間接民主主義 (0.038),民主政治 (0.037),\n",
      "        topic=787 level=2 (documents=4): いま (0.044),後始末 (0.028),年齢 (0.022),\n",
      "        topic=793 level=2 (documents=2): ここ (0.088),今度 (0.086),利権ゴリ押し (0.047),\n",
      "        topic=794 level=2 (documents=7): 大型 (0.028),大型免許 (0.028),免許 (0.027),\n",
      "    topic=8 level=1 (documents=126): 国民 (0.051),携帯 (0.029),国民無視 (0.027),\n",
      "        topic=9 level=2 (documents=32): 紛失 (0.095),発行 (0.095),紛失リスク (0.069),\n",
      "        topic=26 level=2 (documents=16): 銀行 (0.114),銀行口座 (0.100),口座 (0.087),\n",
      "        topic=161 level=2 (documents=7): アナログ (0.065),アナログ対応 (0.038),世界 (0.027),\n",
      "        topic=193 level=2 (documents=4): 禁止 (0.132),本来 (0.088),「禁止 (0.066),\n",
      "        topic=696 level=2 (documents=11): マイクロチップ (0.071),マイクロチップ体 (0.047),ICチップ (0.043),\n",
      "        topic=698 level=2 (documents=6): 与党 (0.075),現与党 (0.037),現政権与党 (0.027),\n",
      "        topic=704 level=2 (documents=12): 基本 (0.048),取り扱い (0.023),基本コード一本化 (0.018),\n",
      "        topic=731 level=2 (documents=4): 割合 (0.055),楽しみ (0.038),天下り団体 (0.034),\n",
      "        topic=732 level=2 (documents=4): 効率化 (0.053),行政 (0.042),行政申請手続き (0.021),\n",
      "        topic=735 level=2 (documents=5): 選択 (0.038),社員 (0.037),お友達 (0.036),\n",
      "        topic=739 level=2 (documents=5): 順番 (0.121),船舶免許 (0.063),物事 (0.063),\n",
      "        topic=755 level=2 (documents=3): 利用期限 (0.025),胸糞 (0.025),区役所 (0.024),\n",
      "        topic=762 level=2 (documents=4): 対策 (0.062),いくら (0.035),かわり (0.033),\n",
      "        topic=767 level=2 (documents=6): 市町村 (0.046),どん (0.043),アナログ (0.033),\n",
      "        topic=782 level=2 (documents=3): 機器 (0.073),その機器 (0.037),年間 (0.026),\n",
      "        topic=800 level=2 (documents=4): リリース (0.063),自国 (0.038),統合個人カード (0.032),\n",
      "    topic=11 level=1 (documents=121): 国民 (0.062),政府 (0.043),日本国民 (0.038),\n",
      "        topic=14 level=2 (documents=15): 暗証番号 (0.069),暗証番号入力 (0.052),暗証番号設定 (0.050),\n",
      "        topic=16 level=2 (documents=9): 若者 (0.040),ステータス (0.027),見切り発車 (0.026),\n",
      "        topic=35 level=2 (documents=7): 詐欺 (0.052),実装初期 (0.034),徴収 (0.025),\n",
      "        topic=310 level=2 (documents=7): ケース (0.078),モデル (0.034),根底 (0.033),\n",
      "        topic=632 level=2 (documents=6): 説明 (0.068),リスク (0.067),アホ (0.043),\n",
      "        topic=681 level=2 (documents=5): 内閣 (0.062),全員 (0.038),閣議決定 (0.034),\n",
      "        topic=720 level=2 (documents=10): 説明不足 (0.057),説明 (0.053),準備不足 (0.033),\n",
      "        topic=745 level=2 (documents=9): お巡りさん (0.064),そのお巡りさん (0.032),怒り (0.025),\n",
      "        topic=759 level=2 (documents=10): 個人 (0.026),個人資産 (0.025),母子手帳 (0.024),\n",
      "        topic=766 level=2 (documents=11): 役場 (0.025),公明 (0.016),葬儀 (0.015),\n",
      "        topic=768 level=2 (documents=7): 役人 (0.057),お前 (0.048),照会 (0.043),\n",
      "        topic=785 level=2 (documents=9): 官僚たち (0.043),私たち (0.043),私たち個々 (0.033),\n",
      "        topic=789 level=2 (documents=8): 公式 (0.047),犯罪 (0.041),総理公式 (0.035),\n",
      "        topic=795 level=2 (documents=8): 違い (0.069),沙汰 (0.046),狂気 (0.035),\n"
     ]
    }
   ],
   "source": [
    "expandHlda.print_phrases(comment_list=comment_list, corpus=comment_dataset.comment_list, n_phrase=3, with_score=True)"
   ]
  },
  {
   "cell_type": "code",
   "execution_count": 5,
   "id": "e8c64db9-f4b0-48f3-bd44-1c649cd99282",
   "metadata": {},
   "outputs": [],
   "source": [
    "# expandHlda.get_topic_by_sentence(comment_list=comment_list, corpus=comment_dataset.comment_list, n_words=5)"
   ]
  },
  {
   "cell_type": "code",
   "execution_count": 6,
   "id": "0086c7fa-9d2b-4e12-ba24-957f44ae5728",
   "metadata": {},
   "outputs": [
    {
     "ename": "AttributeError",
     "evalue": "'WordDividerMecab' object has no attribute 'wakati_text_surface'",
     "output_type": "error",
     "traceback": [
      "\u001b[1;31m---------------------------------------------------------------------------\u001b[0m",
      "\u001b[1;31mAttributeError\u001b[0m                            Traceback (most recent call last)",
      "\u001b[1;32m~\\AppData\\Local\\Temp\\ipykernel_18568\\344309983.py\u001b[0m in \u001b[0;36m<module>\u001b[1;34m\u001b[0m\n\u001b[1;32m----> 1\u001b[1;33m \u001b[0mexpandHlda\u001b[0m\u001b[1;33m.\u001b[0m\u001b[0mget_topic_with_color\u001b[0m\u001b[1;33m(\u001b[0m\u001b[0mcomment_list\u001b[0m\u001b[1;33m=\u001b[0m\u001b[0mcomment_list\u001b[0m\u001b[1;33m,\u001b[0m \u001b[0mcorpus\u001b[0m\u001b[1;33m=\u001b[0m\u001b[0mcomment_dataset\u001b[0m\u001b[1;33m.\u001b[0m\u001b[0mcomment_list\u001b[0m\u001b[1;33m,\u001b[0m \u001b[0mn_words\u001b[0m\u001b[1;33m=\u001b[0m\u001b[1;36m10\u001b[0m\u001b[1;33m)\u001b[0m\u001b[1;33m\u001b[0m\u001b[1;33m\u001b[0m\u001b[0m\n\u001b[0m",
      "\u001b[1;32m~\\OneDrive\\デスクトップ\\program\\TechnicalInvestigation\\HldaInput\\model\\HldaModel.py\u001b[0m in \u001b[0;36mget_topic_with_color\u001b[1;34m(self, comment_list, corpus, n_words)\u001b[0m\n\u001b[0;32m    516\u001b[0m \u001b[1;33m\u001b[0m\u001b[0m\n\u001b[0;32m    517\u001b[0m                 \u001b[1;32mif\u001b[0m \u001b[0mlen\u001b[0m\u001b[1;33m(\u001b[0m\u001b[0msentence\u001b[0m\u001b[1;33m)\u001b[0m \u001b[1;33m>\u001b[0m \u001b[1;36m0\u001b[0m\u001b[1;33m:\u001b[0m\u001b[1;33m\u001b[0m\u001b[1;33m\u001b[0m\u001b[0m\n\u001b[1;32m--> 518\u001b[1;33m                     \u001b[0mtext\u001b[0m \u001b[1;33m=\u001b[0m \u001b[0mwd\u001b[0m\u001b[1;33m.\u001b[0m\u001b[0mwakati_text_surface\u001b[0m\u001b[1;33m(\u001b[0m\u001b[0mtext\u001b[0m\u001b[1;33m=\u001b[0m\u001b[0msentence\u001b[0m\u001b[1;33m)\u001b[0m\u001b[1;33m\u001b[0m\u001b[1;33m\u001b[0m\u001b[0m\n\u001b[0m\u001b[0;32m    519\u001b[0m \u001b[1;33m\u001b[0m\u001b[0m\n\u001b[0;32m    520\u001b[0m                     \u001b[0mtext\u001b[0m \u001b[1;33m=\u001b[0m \u001b[0mtext\u001b[0m\u001b[1;33m.\u001b[0m\u001b[0msplit\u001b[0m\u001b[1;33m(\u001b[0m\u001b[1;34m\" \"\u001b[0m\u001b[1;33m)\u001b[0m\u001b[1;33m\u001b[0m\u001b[1;33m\u001b[0m\u001b[0m\n",
      "\u001b[1;31mAttributeError\u001b[0m: 'WordDividerMecab' object has no attribute 'wakati_text_surface'"
     ]
    }
   ],
   "source": [
    "expandHlda.get_topic_with_color(comment_list=comment_list, corpus=comment_dataset.comment_list, n_words=10)"
   ]
  },
  {
   "cell_type": "code",
   "execution_count": null,
   "id": "fec1d7fb-d383-4aec-a774-a5be592d125a",
   "metadata": {},
   "outputs": [],
   "source": [
    "expandHlda.get_multi_topic_with_color(comment_list=comment_list, corpus=comment_dataset.comment_list, n_words=10)"
   ]
  },
  {
   "cell_type": "code",
   "execution_count": null,
   "id": "0189d3ed-dfe9-4199-ab25-5bff505f90e3",
   "metadata": {},
   "outputs": [],
   "source": []
  }
 ],
 "metadata": {
  "kernelspec": {
   "display_name": "Python 3 (ipykernel)",
   "language": "python",
   "name": "python3"
  },
  "language_info": {
   "codemirror_mode": {
    "name": "ipython",
    "version": 3
   },
   "file_extension": ".py",
   "mimetype": "text/x-python",
   "name": "python",
   "nbconvert_exporter": "python",
   "pygments_lexer": "ipython3",
   "version": "3.10.1"
  }
 },
 "nbformat": 4,
 "nbformat_minor": 5
}
