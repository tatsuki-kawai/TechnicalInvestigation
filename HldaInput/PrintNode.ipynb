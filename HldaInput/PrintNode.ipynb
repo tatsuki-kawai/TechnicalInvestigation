{
 "cells": [
  {
   "cell_type": "code",
   "execution_count": 1,
   "metadata": {},
   "outputs": [],
   "source": [
    "import pickle\n",
    "import gzip\n",
    "\n",
    "def save_zipped_pickle(obj, filename, protocol=-1):\n",
    "    with gzip.open(filename, 'wb') as f:\n",
    "        pickle.dump(obj, f, protocol)\n",
    "        \n",
    "def load_zipped_pickle(filename):\n",
    "    with gzip.open(filename, 'rb') as f:\n",
    "        loaded_object = pickle.load(f)\n",
    "        return loaded_object"
   ]
  },
  {
   "cell_type": "code",
   "execution_count": 2,
   "metadata": {},
   "outputs": [],
   "source": [
    "hlda = load_zipped_pickle('model/2022_11_15/yahoo_hlda_levels3_α10_γ0.005_η10.pickle')\n",
    "#hlda = load_zipped_pickle('2022_11_15/yahoo_hlda_default.pickle')"
   ]
  },
  {
   "cell_type": "code",
   "execution_count": 3,
   "metadata": {},
   "outputs": [
    {
     "name": "stdout",
     "output_type": "stream",
     "text": [
      "topic=0 level=0 (documents=456): メタノール, 思う, ない, 殺す, 子供, \n",
      "    topic=6 level=1 (documents=14): 研究, もったいない, 痛み, 子供, 使用, \n",
      "        topic=5262 level=2 (documents=9): 大手, 精神疾患, 死因, サスペンス, 思い出, \n",
      "        topic=5277 level=2 (documents=5): 京都大, 家庭, 修了, 大切, 生きる, \n",
      "    topic=57 level=1 (documents=15): 誰か, いい, 考える, 分かる, いたたまれない, \n",
      "        topic=5110 level=2 (documents=4): 無い, 悲惨, いや, 模試, 燃料, \n",
      "        topic=5242 level=2 (documents=5): 研究室, 起訴, 子供, 全て, 息子, \n",
      "        topic=5322 level=2 (documents=1): 遅効, 死亡, 盛る, 帰る, 劇薬, \n",
      "        topic=5341 level=2 (documents=4): 思う, 痛み, ネタ, 映画, 想像, \n",
      "        topic=5355 level=2 (documents=1): 黙認, 利益, 刺す, 刺激, 前提, \n",
      "    topic=160 level=1 (documents=8): 入手, 簡単, 結果, 溜池, 中毒, \n",
      "        topic=5127 level=2 (documents=2): メタノール, 対策, 側面, 動く, 承知, \n",
      "        topic=5158 level=2 (documents=2): 天才, 可能, 努力, 刺す, 刺激, \n",
      "        topic=5203 level=2 (documents=4): 病院, つける, 接種, 薬剤師, 意識, \n",
      "    topic=329 level=1 (documents=56): お子さん, 研究, 奥さん, 警察, 薬学, \n",
      "        topic=5114 level=2 (documents=5): 徹底的, 氷山の一角, 露出, 怖い, 事件, \n",
      "        topic=5121 level=2 (documents=4): 知る, 感じる, 其の様, 模倣犯, 誤認逮捕, \n",
      "        topic=5138 level=2 (documents=5): 調べる, ろう, 統合失調症, 出せる, エリート, \n",
      "        topic=5191 level=2 (documents=1): 出る, メタノール, 刺す, 刺激, 前提, \n",
      "        topic=5268 level=2 (documents=4): 殺害, 本人, ドラマ, 事件, 長引く, \n",
      "        topic=5281 level=2 (documents=6): 家族, 模試, 最悪, 亭主, 売る, \n",
      "        topic=5298 level=2 (documents=6): 持ち出す, 博士号, 亡くなる, 死ぬ, 事故死, \n",
      "        topic=5320 level=2 (documents=2): 良い, 良識, 高学歴, 弁護士, 見掛ける, \n",
      "        topic=5324 level=2 (documents=6): 関心, 哀れ, 死ぬ, 思う, 鎮痛剤, \n",
      "        topic=5329 level=2 (documents=3): 京大, 可哀そう, 出身, 短絡, 模試, \n",
      "        topic=5344 level=2 (documents=7): 残る, 第三者, 分かる, 不倫, 事件, \n",
      "        topic=5348 level=2 (documents=3): バレバレ, 黙認, 制度, 刺激, 前提, \n",
      "        topic=5352 level=2 (documents=4): 学ぶ, 学歴, スーパー, 詳細, 刑事, \n",
      "    topic=587 level=1 (documents=14): 考える, 犯人, お子さん, 強い, 不仲, \n",
      "        topic=5060 level=2 (documents=2): 早い, 症状, 入れる, あらわれる, 72時間, \n",
      "        topic=5168 level=2 (documents=6): 深刻, 行う, 操作, 頑張る, 子供のこと, \n",
      "        topic=5236 level=2 (documents=1): ギ酸, 特定, 黙認, 助ける, 刺激, \n",
      "        topic=5271 level=2 (documents=4): 聞く, 方法, 思う, 薬剤, 飲む, \n",
      "        topic=5336 level=2 (documents=1): 他人, 考え, 離婚, 不思議, 薬物, \n",
      "    topic=864 level=1 (documents=8): 至る, 自殺, 作る, 戦中, からだ, \n",
      "        topic=5264 level=2 (documents=8): 薬品, 捜査, 進める, 無い, 容疑者, \n",
      "    topic=1177 level=1 (documents=13): 研究, 展開, 知らせる, 苦しむ, 知る, \n",
      "        topic=5112 level=2 (documents=5): 大手, 息子, 自分, 言う, メタノール, \n",
      "        topic=5217 level=2 (documents=2): メーカー, 毒性, 知識, 無い, 理解, \n",
      "        topic=5231 level=2 (documents=2): 目的, 新た, 研究, 記事, 大きい, \n",
      "        topic=5303 level=2 (documents=4): 失敗, 決まる, 選択肢, 家族, 至る, \n",
      "    topic=1262 level=1 (documents=16): 先月, 今後, 分かる, 可能性, 下がる, \n",
      "        topic=5086 level=2 (documents=2): サスペンスドラマ, 無い, 芸能人, 写真, バレる, \n",
      "        topic=5207 level=2 (documents=1): 関係, 黙認, 助ける, 刺す, 刺激, \n",
      "        topic=5239 level=2 (documents=3): 原因, 捕まる, 回す, 検死, 黙認, \n",
      "        topic=5282 level=2 (documents=3): 落ちる, イメージ, 関係, 選ぶ, 判明, \n",
      "        topic=5297 level=2 (documents=2): 恐い, 黙認, 助ける, 刺す, 刺激, \n",
      "        topic=5346 level=2 (documents=5): 男性, 蚕棚, 亡くなる, わかる, 第一三共, \n",
      "    topic=1738 level=1 (documents=14): 髪型, いい, 家族, 毎回, 犯罪事実, \n",
      "        topic=4665 level=2 (documents=6): 付く, 現時点, 薬学, 間違う, 思う, \n",
      "        topic=5237 level=2 (documents=5): 出る, 第一三共, 子育て, 同僚, 会社, \n",
      "        topic=5309 level=2 (documents=3): 出来る, 依存, 我慢, アルコール, 本人, \n",
      "    topic=2419 level=1 (documents=9): エリート, 毒物, 亡くなる, 正直, かわいそう, \n",
      "        topic=5256 level=2 (documents=5): 毒物, 本人, 使う, 必要, 確証, \n",
      "        topic=5290 level=2 (documents=3): 知る, 学歴, 本気, 黙認, 制度, \n",
      "        topic=5353 level=2 (documents=1): 黙認, 利益, 刺す, 刺激, 前提, \n",
      "    topic=2486 level=1 (documents=7): 思う, 学者, 利子, 実利, 匂い, \n",
      "        topic=5241 level=2 (documents=3): 出端, うち, 分かる, 幸い, 黙認, \n",
      "        topic=5347 level=2 (documents=4): ドラマ, 勿体, 民間, 立派, チューハイ, \n",
      "    topic=2705 level=1 (documents=29): 夫婦, 思える, 題材, わかる, 思う, \n",
      "        topic=4664 level=2 (documents=5): 死因, 解剖, 犯罪, サリン, 思える, \n",
      "        topic=4946 level=2 (documents=4): 祈る, 殺人, 前髪, 最低, こいつ, \n",
      "        topic=5172 level=2 (documents=2): 薬物, 事情, それぞれ, 決めつける, しょうが, \n",
      "        topic=5253 level=2 (documents=1): ショック, わかる, 黙認, 努力, 前提, \n",
      "        topic=5265 level=2 (documents=3): 報道, 見つかる, 自宅, 自供, 渡る, \n",
      "        topic=5287 level=2 (documents=8): 感じ, 残念, 壊れる, 小説, 最近, \n",
      "        topic=5304 level=2 (documents=6): 混ぜる, 平常心, バカ, 晩酌, 永い, \n",
      "    topic=2745 level=1 (documents=26): 近所, 毒殺, 優秀, 殺す, 奥様, \n",
      "        topic=4897 level=2 (documents=2): こいつ, 否定, アホ, 動く, モラハラ, \n",
      "        topic=5143 level=2 (documents=3): 全て, 上がる, 終わる, メーカー, もったいない, \n",
      "        topic=5147 level=2 (documents=4): 飲む, 奥さん, 考える, うい, 偽装, \n",
      "        topic=5166 level=2 (documents=4): 子ども, ドラマ, 社名, 社内, 感じ取る, \n",
      "        topic=5252 level=2 (documents=1): 理由, 黙認, 努力, 刺す, 刺激, \n",
      "        topic=5295 level=2 (documents=8): ケンカ, 冤罪, 入る, 一月, 段階, \n",
      "        topic=5323 level=2 (documents=4): エリート, 理由, 言える, 就職先, 事案, \n",
      "    topic=3314 level=1 (documents=9): エリート, 研修, 努力, 増える, 立派, \n",
      "        topic=5307 level=2 (documents=4): 奥さん, 殺害, エリート, 羨ましい, 将来, \n",
      "        topic=5337 level=2 (documents=5): 悪い, 経緯, 長男, 薬品, 研究, \n",
      "    topic=3336 level=1 (documents=18): 依頼, 疑問, 私生活, ホームセンター, 半年, \n",
      "        topic=4903 level=2 (documents=3): 受け手, 見守る, 事件, 葡萄, 知り合い, \n",
      "        topic=5152 level=2 (documents=3): 出来る, 漂白剤, 優秀, 狂う, 意味, \n",
      "        topic=5163 level=2 (documents=2): 黙認, 利益, 刺す, 刺激, 前提, \n",
      "        topic=5195 level=2 (documents=4): 混ぜる, アマゾン, 請求, 警察, できる, \n",
      "        topic=5283 level=2 (documents=2): ばれる, 高学歴, アメリカ, 真相, 薬剤, \n",
      "        topic=5305 level=2 (documents=3): 消去法, 優秀, 人材, 凄い, 仕事, \n",
      "        topic=5354 level=2 (documents=1): 髪型, いう, 黙認, 努力, 刺す, \n",
      "    topic=3496 level=1 (documents=18): 研究者, 多様, 情報, うる, 事件, \n",
      "        topic=4970 level=2 (documents=3): 王子, 電車, 居眠り, 政府, 治安, \n",
      "        topic=5113 level=2 (documents=1): 出端, 方法, 黙認, 助ける, 刺す, \n",
      "        topic=5173 level=2 (documents=6): 分解, 探偵, 残す, 余裕, 楽しみ, \n",
      "        topic=5175 level=2 (documents=6): 広げる, 専門的, アルコール, 行う, 有機物, \n",
      "        topic=5333 level=2 (documents=2): 殺害, 可能, 完全, 吉宗, 最終的, \n",
      "    topic=3821 level=1 (documents=30): 鬼畜, 人生, 可能性, いい, 被害者, \n",
      "        topic=4786 level=2 (documents=7): 人生, 普通, できる, 金田一, 経済的, \n",
      "        topic=5278 level=2 (documents=3): 容疑者, 避ける, 具体, 困る, 勤め, \n",
      "        topic=5284 level=2 (documents=6): 持つ, 疑う, 自殺, 降る, 隠す, \n",
      "        topic=5299 level=2 (documents=4): 父親, 将来, 納得, 小説現代, 事件, \n",
      "        topic=5316 level=2 (documents=5): 研究者, 容疑者, 事件, 無責任, 人付き合い, \n",
      "        topic=5335 level=2 (documents=5): 会社, 化学, 厳しい, 極刑, 業種, \n",
      "    topic=4205 level=1 (documents=16): エリート, 見る, キャリア, 研究者, 100ml, \n",
      "        topic=5117 level=2 (documents=3): 勿体, 羨ましい, 人生, 本当, 夫婦, \n",
      "        topic=5174 level=2 (documents=5): 学ぶ, 調べる, 持つ, めちゃくちゃ, 事故, \n",
      "        topic=5276 level=2 (documents=2): 非常, 密造酒, つく, 欠ける, 人体, \n",
      "        topic=5321 level=2 (documents=4): 致死量, 検死, 小学校, 管理, 息子, \n",
      "        topic=5330 level=2 (documents=2): バイオエタノール, ホルムアルデヒド, 身体, ガス, 消す, \n",
      "    topic=4297 level=1 (documents=14): 自殺, お父さん, 苦しむ, いい, 息子, \n",
      "        topic=5119 level=2 (documents=2): 助ける, 開発, 世間, 特効薬, 優秀, \n",
      "        topic=5222 level=2 (documents=3): 難しい, 殺害, 就職, 証拠, そうだ, \n",
      "        topic=5293 level=2 (documents=1): 黙認, 利益, 刺す, 刺激, 前提, \n",
      "        topic=5334 level=2 (documents=4): ちゃう, 思う, カウンセラー, 取得, お母さん, \n",
      "        topic=5349 level=2 (documents=4): アホ, ない, 新薬, 肩書き, 理由, \n",
      "    topic=4481 level=1 (documents=16): 子供, 証拠, 匙加減, 離婚, 事実, \n",
      "        topic=5201 level=2 (documents=2): 密造酒, 教え, 商品, 助ける, 刺す, \n",
      "        topic=5218 level=2 (documents=6): 逮捕, 見る, 狂わせる, いく, 事件, \n",
      "        topic=5339 level=2 (documents=4): 旦那, 言う, 原因, 生まれ, 怖い, \n",
      "        topic=5340 level=2 (documents=4): 稚拙, 結婚, 薬物, 疑う, 解剖, \n",
      "    topic=4537 level=1 (documents=19): 製薬会社, 怖い, 分かる, 教育, 明晰, \n",
      "        topic=5108 level=2 (documents=4): トラブル, 犯行, 失敗, 否定, 刺激, \n",
      "        topic=5248 level=2 (documents=8): エタノール, 不憫, 破綻, 二人, 悪い, \n",
      "        topic=5266 level=2 (documents=3): 出身, 冤罪, 世界, 離れる, 残念, \n",
      "        topic=5296 level=2 (documents=2): 専業, 息子, 良い, 書き方, 大学院, \n",
      "        topic=5343 level=2 (documents=2): 容易, 黙認, 助ける, 刺す, 刺激, \n",
      "    topic=4610 level=1 (documents=11): 幼稚, 優秀, 模倣犯, わかる, 覚悟, \n",
      "        topic=5136 level=2 (documents=3): 間違い, 聞き入れる, 自分, 子供, 利益, \n",
      "        topic=5246 level=2 (documents=2): 見る, 可能性, 危ない, 夫婦, そうだ, \n",
      "        topic=5326 level=2 (documents=3): 良い, よい, 冤罪, やの, 黙認, \n",
      "        topic=5331 level=2 (documents=3): 殺害, 使用, 注意, 刺す, 刺激, \n",
      "    topic=4947 level=1 (documents=23): 経歴, 思う, 凄い, 会社, 下す, \n",
      "        topic=5090 level=2 (documents=2): 三共, 限る, 入社, 高額, 給与, \n",
      "        topic=5186 level=2 (documents=4): エタ, 新薬, 蟻酸, 知識, きた, \n",
      "        topic=5261 level=2 (documents=2): 薬物, 製薬会社, 不思議, 問う, 黙認, \n",
      "        topic=5267 level=2 (documents=4): 薬学部, 旦那, 北大, 重い, 考える, \n",
      "        topic=5325 level=2 (documents=5): 家族, 持ち込み, 学歴, 早い, 京都大学大学院, \n",
      "        topic=5338 level=2 (documents=2): ロキソニン, 夫婦, 気の毒, 加害者, 制度, \n",
      "        topic=5345 level=2 (documents=4): 良い, 警察, アルコールランプ, 普通, 学位, \n",
      "    topic=5093 level=1 (documents=17): できる, 自殺, 人間, 殺害, 理由, \n",
      "        topic=5094 level=2 (documents=3): 現場, 学歴, あと, 完全犯罪, 自分, \n",
      "        topic=5144 level=2 (documents=4): 長い, 幼い, 殺す, 黙認, 助ける, \n",
      "        topic=5233 level=2 (documents=4): 至る, ない, 記事, からだ, 書く, \n",
      "        topic=5311 level=2 (documents=2): 製薬会社, 自殺, 研究者, 管理体制, 共犯者, \n",
      "        topic=5350 level=2 (documents=4): 父親, こわい, 助ける, 制度, 刺す, \n",
      "    topic=5227 level=1 (documents=24): 知識, 立証, 判別, 残る, 心配, \n",
      "        topic=5250 level=2 (documents=2): 意気, 利益, 刺す, 刺激, 前提, \n",
      "        topic=5288 level=2 (documents=5): 殺す, 苦しい, 和らげる, 研究者, やり口, \n",
      "        topic=5300 level=2 (documents=2): 黙認, 利益, 刺す, 刺激, 前提, \n",
      "        topic=5306 level=2 (documents=2): いう, 離婚, 息子, 高い, 努力, \n",
      "        topic=5314 level=2 (documents=6): 思い出す, 無くす, 自白, 難しい, タイトル, \n",
      "        topic=5332 level=2 (documents=4): 事件, 安い, ドラマ, 裏切り, お父さん, \n",
      "        topic=5342 level=2 (documents=3): 依頼, 協力, 普通, 夫婦, 研究, \n",
      "    topic=5272 level=1 (documents=12): 科学者, 関学, した, 一流, アメフト部, \n",
      "        topic=5294 level=2 (documents=2): 非常, 冷たい, 憎まれる, 勉強, できる, \n",
      "        topic=5318 level=2 (documents=4): 事件, いく, 狂う, 出端, 過ぎる, \n",
      "        topic=5327 level=2 (documents=3): データ, オボ, 子供, 黙認, 努力, \n",
      "        topic=5328 level=2 (documents=2): 他人事, メンタル, 黙認, 努力, 刺す, \n",
      "        topic=5351 level=2 (documents=1): いう, 丁度, 適当, 勉強, 人間, \n"
     ]
    }
   ],
   "source": [
    "hlda.print_nodes(n_words=5, with_weights=False)"
   ]
  },
  {
   "cell_type": "code",
   "execution_count": 4,
   "metadata": {},
   "outputs": [
    {
     "ename": "NameError",
     "evalue": "name 'corpus' is not defined",
     "output_type": "error",
     "traceback": [
      "\u001b[1;31m---------------------------------------------------------------------------\u001b[0m",
      "\u001b[1;31mNameError\u001b[0m                                 Traceback (most recent call last)",
      "\u001b[1;32m<ipython-input-4-6c0b536457e8>\u001b[0m in \u001b[0;36m<module>\u001b[1;34m\u001b[0m\n\u001b[0;32m     26\u001b[0m         \u001b[0mprint\u001b[0m\u001b[1;33m(\u001b[0m\u001b[1;34m\"\\n\"\u001b[0m\u001b[1;33m)\u001b[0m\u001b[1;33m\u001b[0m\u001b[1;33m\u001b[0m\u001b[0m\n\u001b[0;32m     27\u001b[0m \u001b[1;33m\u001b[0m\u001b[0m\n\u001b[1;32m---> 28\u001b[1;33m \u001b[0mpath_list\u001b[0m \u001b[1;33m=\u001b[0m \u001b[0mget_document_path_list\u001b[0m\u001b[1;33m(\u001b[0m\u001b[0mhlda\u001b[0m\u001b[1;33m,\u001b[0m \u001b[0mcorpus\u001b[0m\u001b[1;33m)\u001b[0m\u001b[1;33m\u001b[0m\u001b[1;33m\u001b[0m\u001b[0m\n\u001b[0m\u001b[0;32m     29\u001b[0m \u001b[0mprint_topic_document\u001b[0m\u001b[1;33m(\u001b[0m\u001b[0mrow_data\u001b[0m\u001b[1;33m,\u001b[0m \u001b[0mpath_list\u001b[0m\u001b[1;33m,\u001b[0m \u001b[1;36m15356\u001b[0m\u001b[1;33m)\u001b[0m\u001b[1;33m\u001b[0m\u001b[1;33m\u001b[0m\u001b[0m\n",
      "\u001b[1;31mNameError\u001b[0m: name 'corpus' is not defined"
     ]
    }
   ],
   "source": [
    "def get_document_path(hlda, doc_index):\n",
    "    node = hlda.document_leaves[doc_index]\n",
    "    path = []\n",
    "    while node is not None:\n",
    "        path.append(node.node_id)\n",
    "        node = node.parent\n",
    "    path.reverse()\n",
    "    return path\n",
    "\n",
    "def get_document_path_list(hlda, corpus):\n",
    "    document_path_list = []\n",
    "    for i in range(len(corpus)):\n",
    "        path = get_document_path(hlda, i)\n",
    "        document_path_list.append(path)\n",
    "    return document_path_list\n",
    "\n",
    "def print_topic_document(corpus, path_list, topic_id):\n",
    "    document_index_list = []\n",
    "    for i, path in enumerate(path_list):\n",
    "        if topic_id in path:\n",
    "            document_index_list.append(i)\n",
    "    if len(document_index_list) == 0:\n",
    "        print(f\"{topic_id}がみつかりません\")\n",
    "    for i in document_index_list:\n",
    "        print(f\"[{corpus[i]}]\")\n",
    "        print(\"\\n\")\n",
    "\n",
    "path_list = get_document_path_list(hlda, corpus)\n",
    "print_topic_document(row_data, path_list, 15356)"
   ]
  },
  {
   "cell_type": "code",
   "execution_count": null,
   "metadata": {},
   "outputs": [],
   "source": []
  },
  {
   "cell_type": "code",
   "execution_count": 34,
   "metadata": {},
   "outputs": [
    {
     "name": "stdout",
     "output_type": "stream",
     "text": [
      "司法 (1), 犯人 (1), 真相 (1), 不自然 (1), 立証 (1), 望む (1), 解剖 (1), 手段 (1), 研究 (1), 見物 (1), くる (1), 飲める (1), 疑う (1), どれ (1), いう (1), 間違い (1), 現時点 (1), 思う (1), 残る (1), 使用 (0), 代謝 (0), 作れる (0), 佳苗 (0), 代わり (0), 付ける (0), 使い (0), 使う (0), 使える (0), 使命 (0), 付く (0), 余計 (0), 依存 (0), 依頼 (0), 便利 (0), 保留 (0), 他殺 (0), 保護 (0), 他人 (0), 保険 (0), 作る (0), 企図 (0), 企業 (0), 体調 (0), 会社 (0), 企む (0), 伴う (0), 仲良し (0), 低下 (0), 体内 (0), 体制 (0), 仰天 (0), 以前 (0), 何かしら (0), 余程 (0), 何で (0), 何とか (0), 何より (0), 信じる (0), 何れ (0), 何処 (0), 何故 (0), 何者 (0), 余り (0), 余裕 (0), 修士 (0), 信用 (0), 全国 (0), 免許 (0), 児童 (0), 入り (0), 入り込める (0), 入る (0), 入れる (0), 入手 (0), 入社 (0), 全く (0), 全て (0), 全然 (0), 先生 (0), 全部 (0), 公判 (0), 公的 (0), 公表 (0), 共に (0), 共働き (0), 共犯 (0), 兵衛 (0), 具体 (0), 内容 (0), 先走る (0), \n"
     ]
    }
   ],
   "source": [
    "print(hlda.document_leaves[1].get_top_words(90, 1))"
   ]
  },
  {
   "cell_type": "code",
   "execution_count": 27,
   "metadata": {},
   "outputs": [
    {
     "name": "stdout",
     "output_type": "stream",
     "text": [
      "メタノール (106), 思う (85), なる (74), てる (55), 子供 (47), 事件 (44), 研究 (40), 殺す (39), そう (38), 夫婦 (36), 逮捕 (35), 殺害 (34), 会社 (34), 奥さん (32), 考える (28), バレる (28), 飲む (26), 薬品 (25), やる (25), わかる (23), 使う (22), お子さん (22), できる (22), 製薬 (21), 知識 (21), これ (20), 容疑 (19), 言う (19), 離婚 (18), 優秀 (18), 証拠 (17), 簡単 (17), 三共 (16), エリート (16), 分かる (16), 犯罪 (15), 知る (14), どう (14), 犯人 (14), しまう (14), 残す (14), 見る (13), かわいそう (13), 亡くなる (13), 方法 (13), 学歴 (13), ドラマ (12), 専門 (12), 警察 (12), まだ (12), 自分 (12), 自殺 (12), 出る (12), 人生 (12), いう (12), お母さん (11), すぐ (11), アルコール (11), 殺人 (11), よく (10), 本当に (10), 心配 (9), 冤罪 (9), 理由 (9), 母親 (8), さん (8), 普通 (8), 動機 (8), 不憫 (7), 経歴 (7), 高学歴 (7), 可能 (7), 何故 (7), 開発 (7), 関係 (7), 捜査 (7), 勉強 (7), それ (7), 入手 (7), 燃料 (6), 家族 (6), お父さん (6), 実験 (6), 薬学 (6), すぎる (6), 子ども (6), 博士 (6), 結婚 (6), 入る (6), 不倫 (6), \n"
     ]
    }
   ],
   "source": [
    "print(hlda.root_node.get_top_words(90, 1))"
   ]
  },
  {
   "cell_type": "code",
   "execution_count": 32,
   "metadata": {},
   "outputs": [
    {
     "name": "stdout",
     "output_type": "stream",
     "text": [
      "40.0\n"
     ]
    }
   ],
   "source": [
    "print(hlda.root_node.word_counts[1344])"
   ]
  },
  {
   "cell_type": "code",
   "execution_count": 35,
   "metadata": {},
   "outputs": [
    {
     "name": "stdout",
     "output_type": "stream",
     "text": [
      "Node=6890 level=2 customers=3 total_words=12 parent=2678\n"
     ]
    }
   ],
   "source": [
    "print(hlda.document_leaves[0])"
   ]
  },
  {
   "cell_type": "code",
   "execution_count": 36,
   "metadata": {},
   "outputs": [
    {
     "name": "stdout",
     "output_type": "stream",
     "text": [
      "Node=0 level=0 customers=461 total_words=2631 parent=None\n"
     ]
    }
   ],
   "source": [
    "print(hlda.root_node)"
   ]
  },
  {
   "cell_type": "code",
   "execution_count": 37,
   "metadata": {},
   "outputs": [
    {
     "name": "stdout",
     "output_type": "stream",
     "text": [
      "[Node=265 level=1 customers=24 total_words=81 parent=0, Node=429 level=1 customers=24 total_words=73 parent=0, Node=1562 level=1 customers=14 total_words=41 parent=0, Node=2124 level=1 customers=20 total_words=61 parent=0, Node=2143 level=1 customers=18 total_words=44 parent=0, Node=2678 level=1 customers=32 total_words=134 parent=0, Node=3052 level=1 customers=37 total_words=76 parent=0, Node=4193 level=1 customers=3 total_words=7 parent=0, Node=4558 level=1 customers=11 total_words=46 parent=0, Node=4720 level=1 customers=19 total_words=55 parent=0, Node=4806 level=1 customers=20 total_words=46 parent=0, Node=5195 level=1 customers=32 total_words=120 parent=0, Node=5515 level=1 customers=25 total_words=59 parent=0, Node=5825 level=1 customers=19 total_words=97 parent=0, Node=6099 level=1 customers=46 total_words=130 parent=0, Node=6154 level=1 customers=19 total_words=55 parent=0, Node=6415 level=1 customers=33 total_words=89 parent=0, Node=6427 level=1 customers=10 total_words=37 parent=0, Node=6439 level=1 customers=19 total_words=52 parent=0, Node=6451 level=1 customers=28 total_words=50 parent=0, Node=6674 level=1 customers=8 total_words=9 parent=0]\n"
     ]
    }
   ],
   "source": [
    "print(hlda.root_node.children)"
   ]
  },
  {
   "cell_type": "code",
   "execution_count": null,
   "metadata": {},
   "outputs": [],
   "source": []
  }
 ],
 "metadata": {
  "kernelspec": {
   "display_name": "Python 3",
   "language": "python",
   "name": "python3"
  },
  "language_info": {
   "codemirror_mode": {
    "name": "ipython",
    "version": 3
   },
   "file_extension": ".py",
   "mimetype": "text/x-python",
   "name": "python",
   "nbconvert_exporter": "python",
   "pygments_lexer": "ipython3",
   "version": "3.8.1"
  }
 },
 "nbformat": 4,
 "nbformat_minor": 4
}
