{
 "cells": [
  {
   "cell_type": "code",
   "execution_count": 16,
   "id": "e663dccb-f3f5-4139-8d7e-89c076da283e",
   "metadata": {},
   "outputs": [],
   "source": [
    "import sys\n",
    "sys.path.append('../Data')\n",
    "sys.path.append('../GenerateLabel')\n",
    "\n",
    "\n",
    "import pandas as pd\n",
    "import numpy as np\n",
    "import time\n",
    "from CommentDataset import CommentDataset\n",
    "from GenerateLabelCollectionDocument import WordSurfacePhrase"
   ]
  },
  {
   "cell_type": "code",
   "execution_count": 17,
   "id": "67b776c3-9a50-4795-8c7d-bc1ae3e0da15",
   "metadata": {},
   "outputs": [],
   "source": [
    "comment_list_name = \"comment_2022_09_22\"\n",
    "comment_list_path = \"2022_09_22/\" + comment_list_name + \".csv\"\n",
    "\n",
    "model_path = \"model/pickle/2023_05_23/comment_2022_09_22_default_50.pickle\""
   ]
  },
  {
   "cell_type": "code",
   "execution_count": 19,
   "id": "05db31c9-df85-4cd2-96b3-1a674dc74882",
   "metadata": {},
   "outputs": [],
   "source": [
    "# 指定すべき文字コードはファイルによる ex.cp932, utf-8\n",
    "df = pd.read_csv(\"../Data/yahoo/\"+comment_list_path, encoding=\"cp932\", header=None)\n",
    "comment_list = df[0][1:].to_numpy().tolist()\n",
    "comment_dataset = CommentDataset(comment_list)\n",
    "comment_dataset.delete_comment_specified_string(50)\n",
    "comment_dataset.formatted_input_hlda()"
   ]
  },
  {
   "cell_type": "code",
   "execution_count": 22,
   "id": "d784509e-e6e1-4b4f-ac88-532aee74c885",
   "metadata": {},
   "outputs": [
    {
     "name": "stdout",
     "output_type": "stream",
     "text": [
      "['のん兵衛の男', ['の', 'ん兵衛', 'の', '男'], 14.800788806176381, 717.0]\n",
      "['抜群の頭脳の', ['抜群', 'の', '頭脳', 'の'], 14.800788806176381, 717.0]\n",
      "['の第一製薬の基礎研究', ['の', '第一製薬', 'の', '基礎研究'], 15.899401094844492, 716.0]\n",
      "['の闇市の安', ['の', '闇市', 'の', '安'], 15.899401094844492, 716.0]\n",
      "['の別枠組の試験', ['の', '別枠組', 'の', '試験'], 15.899401094844492, 716.0]\n",
      "['の三角関係の縺れ', ['の', '三角関係', 'の', '縺れ'], 15.899401094844492, 716.0]\n",
      "['の関学アメフト部出身の保険金殺人事件', ['の', '関学アメフト部出身', 'の', '保険金殺人事件'], 15.899401094844492, 716.0]\n",
      "['の青いウォッシャー液の', ['の', '青い', 'ウォッシャー液', 'の'], 15.89940109484449, 716.0]\n",
      "['合併前の第一製薬の', ['合併前', 'の', '第一製薬', 'の'], 15.89940109484449, 716.0]\n",
      "['昭和戦後の闇市の', ['昭和戦後', 'の', '闇市', 'の'], 15.89940109484449, 716.0]\n",
      "['特定一種の別枠組の', ['特定一種', 'の', '別枠組', 'の'], 15.89940109484449, 716.0]\n",
      "['日本初の心臓移植手術の', ['日本初', 'の', '心臓移植手術', 'の'], 15.89940109484449, 716.0]\n",
      "['社内の業務上の', ['社内', 'の', '業務上', 'の'], 15.89940109484449, 716.0]\n",
      "['門前のBBAの', ['門前', 'の', 'BBA', 'の'], 15.89940109484449, 716.0]\n",
      "['先日の関学アメフト部出身の', ['先日', 'の', '関学アメフト部出身', 'の'], 15.89940109484449, 716.0]\n",
      "['関学アメフト部出身の保険金殺人事件の', ['関学アメフト部出身', 'の', '保険金殺人事件', 'の'], 15.89940109484449, 716.0]\n",
      "['先月の保険金殺人の', ['先月', 'の', '保険金殺人', 'の'], 15.89940109484449, 716.0]\n",
      "['\\n\\n社内の業務上の', ['\\n\\n', '社内', 'の', '業務上', 'の'], 21.54622894339874, 665.4538301039375]\n",
      "['の三角関係の縺れとか', ['の', '三角関係', 'の', '縺れ', 'とか'], 21.882701180019954, 658.2984125759381]\n",
      "['身内の方サポート団体の', ['身内', 'の', '方', 'サポート団体', 'の'], 21.2148718074443, 652.9318494299387]\n"
     ]
    }
   ],
   "source": [
    "wsp = WordSurfacePhrase(comment_list)\n",
    "wsp.ngram_range_extract_phrase_rank_watf(start_n=2, end_n=5, threshold_mode=\"percentage\", percentage_score=40)\n",
    "wsp.print_phrase_list(n=20)"
   ]
  },
  {
   "cell_type": "code",
   "execution_count": 20,
   "id": "ad5e653f-b5b5-4220-8b2d-de897a8cec93",
   "metadata": {},
   "outputs": [],
   "source": [
    "from model.HldaModel import ExpandHldaModel\n",
    "\n",
    "expandHlda = ExpandHldaModel(pickle_path=model_path)"
   ]
  },
  {
   "cell_type": "code",
   "execution_count": 21,
   "id": "3471d60d-460c-4140-89e3-913099b0af04",
   "metadata": {},
   "outputs": [
    {
     "name": "stdout",
     "output_type": "stream",
     "text": [
      "topic=0 level=0 (documents=210): メタノール, 思う, 逮捕, 子供, 殺す, バレる, 使う, 考える, わかる, 薬品, \n",
      "    topic=1 level=1 (documents=25): 奥さん, 事件, 致死量, 自死, 痛み, 起訴, 毎日, 捜査, 証明, 出身, \n",
      "        topic=881 level=2 (documents=6): 摂取, 容疑者, 自白, 知る, 吉宗, ギ酸, 認める, 浮かぶ, ホルムアルデヒド, ひどい, \n",
      "        topic=886 level=2 (documents=4): 怖い, 命懸け, 自分, 酒臭い, メディア, 精神的, ぶつける, 将来, 永い, 手厚い, \n",
      "        topic=957 level=2 (documents=5): 思い出, 恐ろしい, メタノール, 事実, やわらげる, 明るみ, 自ら, こいつ, 不可解, 掴む, \n",
      "        topic=959 level=2 (documents=6): アメフト部, 仕事, 科学者, 保険金殺人, 時代, 意味不明, 非科学, 社員, 厳しい, 人格, \n",
      "        topic=960 level=2 (documents=4): 病死, 頭脳明晰, 鉄板, 偽装, 役立つ, 勿体ない, 周り, 人格, 息子, 派手, \n",
      "    topic=3 level=1 (documents=47): 父親, 殺す, 残す, 飲む, でる, 話す, 真相, 容疑者, 息子, トラブル, \n",
      "        topic=839 level=2 (documents=6): 毒物, 専門的, 依頼, イケメン, キャリア, 捜査, 知り合い, 身内, アジ化ナトリウム, 経つ, \n",
      "        topic=912 level=2 (documents=3): 戛戛, 死ぬ, 解剖, 都内, 結びつける, 稚拙, 鎮痛剤, 予想, 大学, やめる, \n",
      "        topic=919 level=2 (documents=3): 側面, 承知, 密造, 充分, がんばる, 対策, 蝕む, 苦心, 初荷, 危険, \n",
      "        topic=932 level=2 (documents=7): 偽装, 書く, 病死, 報道, 病気, ドラマ, 記事, 入る, いたわしい, 危ない橋, \n",
      "        topic=934 level=2 (documents=4): 学ぶ, 職業, 正直, 高学歴, 子ども, 与える, 良識, こじれる, 見掛ける, 決まる, \n",
      "        topic=940 level=2 (documents=4): 刺す, 本人, 悪化, 政府, 不自然, 容易, 経済, 出端, 長引く, 自由, \n",
      "        topic=941 level=2 (documents=3): 分野, 哀れ, 研究者, 薬殺, 学歴, 職場, 無理, 課金, 疑問, 接する, \n",
      "        topic=946 level=2 (documents=6): 受ける, 一生, 健在, 出身, いく, ワクチン, 年齢, 狂わせる, 育てる, 賢い, \n",
      "        topic=949 level=2 (documents=4): 劇薬, 開発者, 破綻, 夫婦生活, 取得, 有理, ふざける, 悲しい, 大切, 飲ます, \n",
      "        topic=950 level=2 (documents=2): 怖い, ロシア, お悔やみ申し上げます, お祈り, 対応, 特定, 指摘, 違う, 割く, 通り, \n",
      "        topic=952 level=2 (documents=4): 精神疾患, 肉親, 殺人犯, 他人, 調書, 夫婦, 量る, 人間なんて, 弱い, 鑑定留置, \n",
      "        topic=962 level=2 (documents=1): やり口, 上手い, 行く, 卑劣, てこ, 卑怯, へったくれ, 南米, 化学者, 北大, \n",
      "    topic=5 level=1 (documents=102): 奥さん, アルコール, 知る, 殺す, 不倫, 飲む, 出来る, 専門家, 死ぬ, 入る, \n",
      "        topic=376 level=2 (documents=8): 大学院, もったいない, 京都大学, 薬学部, 3年, 凄い, 退職, びっくり, メーカー, 薬剤, \n",
      "        topic=599 level=2 (documents=10): 戦後, 燃料, 失明, メチルアルコール, 続出, 戦中, 混ぜる, 密造酒, 爆弾, そうだ, \n",
      "        topic=781 level=2 (documents=11): お子さん, お母さん, お父さん, 心配, 小学生, 南都, ケア, 段階, 生きる, 殺人容疑, \n",
      "        topic=831 level=2 (documents=3): 無念, 職業, 分かる, ドラマ, 愛す, 殺人容疑, 証拠, 夫婦, 家庭内, 流れる, \n",
      "        topic=865 level=2 (documents=4): 事案, 市販, 世の中, 至る, 積み上げる, 慎重, 起きる, 避ける, 能力, 愛人, \n",
      "        topic=883 level=2 (documents=2): 判る, 精神的, 僂指, 幸い, 素手, 投げやり, 離婚, 化学, 髪型, 気持ち, \n",
      "        topic=905 level=2 (documents=5): 間違える, 簡単, 有毒, 買える, 自死, 検出, 迷惑, 起きる, 一つ, 失う, \n",
      "        topic=926 level=2 (documents=8): 学歴, 疑問, 方法, 小学校, 取り柄, 報道, 北海道大学, 家族旅行, 仲良し, 勤務先, \n",
      "        topic=928 level=2 (documents=8): 理由, 完全犯罪, 捜査, 他人, 慎重, 企図, 頭脳明晰, 他殺, 変死, 秘密の暴露, \n",
      "        topic=933 level=2 (documents=5): 鬼畜, 踏み切る, データ, 握る, 何者, ナイト, 警察, 論文, 無期懲役, 技術, \n",
      "        topic=939 level=2 (documents=4): 真相, 明らか, 意見, 就職先, 見物, しまだ, イメージ, 残る, リーマン, なんだろう, \n",
      "        topic=944 level=2 (documents=3): お酒, エタノール, 願う, どこか, 臭い, のん, 購入, 入れる, メタノール中毒, 話し合う, \n",
      "        topic=945 level=2 (documents=3): 起こす, 南米, 血中濃度, タヒチ, テトロドトキシン, 詳細, ヤドクガエル, バトラコトキシン, 河豚, 微量, \n",
      "        topic=951 level=2 (documents=6): 事情, 気の毒, 旧帝大, 過程, 奪う, 面白い, 華々しい, きっかけ, 感じる, 人生, \n",
      "        topic=954 level=2 (documents=3): 旦那, 濡れ衣, 事故, 起きる, 混ぜる, 看護, 状態, 断つ, 企む, 悪意, \n",
      "        topic=955 level=2 (documents=6): 抑える, 日本初, 生活, 優しい, 学校, 経緯, 難しい, 他罰, 異人, 社名, \n",
      "        topic=956 level=2 (documents=5): ものすごい, 接種, 選ぶ, 十字架, 背負う, 社則, 意識, 起こる, 大手, ロン, \n",
      "        topic=958 level=2 (documents=3): ケンカ, 同士, お互い, カップル, お子さん, 激しい, 才能, ひどい, きく, 言える, \n",
      "        topic=961 level=2 (documents=5): 病院, 捨てる, 致死率, 旦那さん, 重い, リスク, 注射, 経歴, 蒼い, 最低, \n",
      "    topic=9 level=1 (documents=36): 奥さん, 考える, 理解, 犯行, 飲む, 劇物, 詳しい, 状況, 新薬, 相当, \n",
      "        topic=813 level=2 (documents=8): メーカー, 十分, 家庭, 自宅, 医薬品, 天然, 冤罪, アルコール中毒, 少量, おう, \n",
      "        topic=855 level=2 (documents=8): 思える, 死因, 題材, 見える, 半径, 周り, 男性, 離れる, 属す, 人間, \n",
      "        topic=902 level=2 (documents=5): 問題, 症状, 優秀, 私生活, 云う, 困難, 現場, 記事, 人体実験, 専門知識, \n",
      "        topic=948 level=2 (documents=10): 難しい, 致死量, うい, 部分, 時間, 報道, 正直, 様子, 内容, 続報, \n",
      "        topic=953 level=2 (documents=5): 異常者, 放火, シロウト, やり方, 実行, 化学, 承知, バレる, 起こす, よる, \n"
     ]
    }
   ],
   "source": [
    "expandHlda.print_nodes(words = 10, weights = False)"
   ]
  },
  {
   "cell_type": "code",
   "execution_count": 23,
   "id": "f5ead1a3-d545-4742-b25b-c2add970f75f",
   "metadata": {},
   "outputs": [
    {
     "name": "stdout",
     "output_type": "stream",
     "text": [
      "方サポート団体の力を\n",
      "サポート団体の力を借り\n",
      "酒の代わりに飲ん\n",
      "まだ容疑者の段階な\n",
      "容疑者の段階なので\n",
      "の段階なので冤罪\n",
      "社会人ドクターとなって博士号\n",
      "いろいろと感じ取っていたん\n",
      "キャリアも一流企業の社員\n",
      "のキャリアも積んでる\n",
      "まだ容疑者の\n",
      "容疑者の段階\n",
      "息子さんのこと\n",
      "くれる身内の\n",
      "身内の方\n",
      "の方サポート団体\n",
      "方サポート団体の\n",
      "サポート団体の力\n",
      "たらたくさんの\n",
      "そこまでの\n"
     ]
    }
   ],
   "source": [
    "#指定したトピックのフレーズを抽出する\n",
    "topic_document_list = expandHlda.get_topic_document(comment_list=comment_list, corpus=comment_dataset.comment_list, topic_id=781)\n",
    "wsp_topic_document = WordSurfacePhrase(topic_document_list)\n",
    "wsp_topic_document.ngram_range_extract_phrase_rank_watf(start_n=2, end_n=5, threshold_mode=\"percentage\", percentage_score=40)\n",
    "\n",
    "count = 0\n",
    "while count < 20:\n",
    "    print(wsp_topic_document.phrase_list[count][0])\n",
    "    count += 1"
   ]
  },
  {
   "cell_type": "code",
   "execution_count": null,
   "id": "cba806b7-e85d-4441-a087-07c0cc75e870",
   "metadata": {},
   "outputs": [],
   "source": []
  }
 ],
 "metadata": {
  "kernelspec": {
   "display_name": "Python 3 (ipykernel)",
   "language": "python",
   "name": "python3"
  },
  "language_info": {
   "codemirror_mode": {
    "name": "ipython",
    "version": 3
   },
   "file_extension": ".py",
   "mimetype": "text/x-python",
   "name": "python",
   "nbconvert_exporter": "python",
   "pygments_lexer": "ipython3",
   "version": "3.8.10"
  }
 },
 "nbformat": 4,
 "nbformat_minor": 5
}
