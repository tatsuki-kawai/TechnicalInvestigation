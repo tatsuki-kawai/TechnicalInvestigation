{
 "cells": [
  {
   "cell_type": "code",
   "execution_count": 1,
   "metadata": {},
   "outputs": [],
   "source": [
    "import pandas as pd\n",
    "import numpy as np\n",
    "import time\n",
    "# hennkou\n",
    "from MyNLP import WordDividerMecab"
   ]
  },
  {
   "cell_type": "code",
   "execution_count": 2,
   "metadata": {},
   "outputs": [],
   "source": [
    "df = pd.read_csv(\"data/2022_09_22/comment_2022_09_22.csv\", encoding=\"cp932\", header=None)\n",
    "comment_list = []\n",
    "row_data = df[0][1:].to_numpy().tolist()\n",
    "temp_row_data = []\n",
    "for text in row_data:\n",
    "    if len(text) >= 0:\n",
    "        temp_row_data.append(text)\n",
    "row_data = temp_row_data\n",
    "wd = WordDividerMecab()\n",
    "stop_word_list = [\"まだ\", \"ある\", \"なる\", \"なる\", \"する\", \"し\", \"する\", \"いる\", \"なっ\", \"せ\", \"い\", \"やる\", \"ない\"]\n",
    "for text in row_data:\n",
    "    if len(text) >= 50:\n",
    "        text = wd.wakati_text_delete(text=text, stop_word_list=stop_word_list)\n",
    "        comment_list.append(text)\n",
    "#comment_list = [comment for comment in comment_list if comment != '']"
   ]
  },
  {
   "cell_type": "code",
   "execution_count": 3,
   "metadata": {},
   "outputs": [
    {
     "data": {
      "text/plain": [
       "pandas.core.frame.DataFrame"
      ]
     },
     "execution_count": 3,
     "metadata": {},
     "output_type": "execute_result"
    }
   ],
   "source": [
    "type(df)"
   ]
  },
  {
   "cell_type": "code",
   "execution_count": 4,
   "metadata": {},
   "outputs": [],
   "source": [
    "from sklearn.feature_extraction.text import TfidfVectorizer\n",
    "\n",
    "vectorizer = TfidfVectorizer()\n",
    "tfidf = vectorizer.fit_transform(comment_list)\n",
    "voc = vectorizer.vocabulary_\n",
    "voc = sorted(voc)"
   ]
  },
  {
   "cell_type": "code",
   "execution_count": 5,
   "metadata": {},
   "outputs": [],
   "source": [
    "# print(voc)\n",
    "# print(tfidf)"
   ]
  },
  {
   "cell_type": "code",
   "execution_count": 6,
   "metadata": {},
   "outputs": [
    {
     "name": "stdout",
     "output_type": "stream",
     "text": [
      "職場 研究者 多い 接する 機会 専門 分野 ずば抜ける 高い 関心 分野 一般常識 レベル 知る 驚く ステータス 一部 振る 他 知識 伴う 知識 学歴 供 人 バレる やり方 疑問 思う 無理 当人 わかる 母親 失う 父親 逮捕 残す 子供 哀れ \n"
     ]
    }
   ],
   "source": [
    "print(comment_list[0])"
   ]
  },
  {
   "cell_type": "code",
   "execution_count": 7,
   "metadata": {},
   "outputs": [],
   "source": [
    "#print(voc)"
   ]
  },
  {
   "cell_type": "code",
   "execution_count": 8,
   "metadata": {},
   "outputs": [],
   "source": [
    "corpus = []\n",
    "\n",
    "for comment in comment_list:\n",
    "    list = comment.split(\" \")\n",
    "    corpus.append(list)\n",
    "filtered_corpus = []\n",
    "for comment in corpus:\n",
    "    filtered_comment = []\n",
    "    for word in comment:\n",
    "        if word in voc:\n",
    "            filtered_comment.append(word)\n",
    "    filtered_corpus.append(filtered_comment)"
   ]
  },
  {
   "cell_type": "code",
   "execution_count": 9,
   "metadata": {},
   "outputs": [
    {
     "data": {
      "text/plain": [
       "['職場',\n",
       " '研究者',\n",
       " '多い',\n",
       " '接する',\n",
       " '機会',\n",
       " '専門',\n",
       " '分野',\n",
       " 'ずば抜ける',\n",
       " '高い',\n",
       " '関心',\n",
       " '分野',\n",
       " '一般常識',\n",
       " 'レベル',\n",
       " '知る',\n",
       " '驚く',\n",
       " 'ステータス',\n",
       " '一部',\n",
       " '振る',\n",
       " '知識',\n",
       " '伴う',\n",
       " '知識',\n",
       " '学歴',\n",
       " 'バレる',\n",
       " 'やり方',\n",
       " '疑問',\n",
       " '思う',\n",
       " '無理',\n",
       " '当人',\n",
       " 'わかる',\n",
       " '母親',\n",
       " '失う',\n",
       " '父親',\n",
       " '逮捕',\n",
       " '残す',\n",
       " '子供',\n",
       " '哀れ']"
      ]
     },
     "execution_count": 9,
     "metadata": {},
     "output_type": "execute_result"
    }
   ],
   "source": [
    "filtered_corpus[0]"
   ]
  },
  {
   "cell_type": "code",
   "execution_count": 10,
   "metadata": {},
   "outputs": [],
   "source": [
    "corpus = filtered_corpus\n",
    "corpus = [comment for comment in corpus if len(comment) != 0]"
   ]
  },
  {
   "cell_type": "code",
   "execution_count": 11,
   "metadata": {},
   "outputs": [],
   "source": [
    "#for comment in corpus:\n",
    "    #print(comment)"
   ]
  },
  {
   "cell_type": "code",
   "execution_count": 12,
   "metadata": {},
   "outputs": [],
   "source": [
    "vocab_index = {}\n",
    "for i, w in enumerate(voc):\n",
    "    vocab_index[w] = i"
   ]
  },
  {
   "cell_type": "code",
   "execution_count": 13,
   "metadata": {},
   "outputs": [],
   "source": [
    "#print(len(voc))\n",
    "#print(voc[0:100])"
   ]
  },
  {
   "cell_type": "code",
   "execution_count": 14,
   "metadata": {},
   "outputs": [],
   "source": [
    "new_corpus = []\n",
    "corpus = [comment for comment in corpus if comment != '']\n",
    "for sentence in corpus:\n",
    "    new_sentence = []\n",
    "    for word in sentence:\n",
    "        word_idx = vocab_index[word]\n",
    "        new_sentence.append(word_idx)\n",
    "    new_corpus.append(new_sentence)"
   ]
  },
  {
   "cell_type": "code",
   "execution_count": 15,
   "metadata": {},
   "outputs": [
    {
     "name": "stdout",
     "output_type": "stream",
     "text": [
      "['職場', '研究者', '多い', '接する', '機会', '専門', '分野', 'ずば抜ける', '高い', '関心']\n",
      "[1196, 1105, 590, 812, 913, 666, 441, 94, 1457, 1417]\n",
      "212\n",
      "36\n",
      "36\n",
      "212\n"
     ]
    }
   ],
   "source": [
    "print(corpus[0][0:10])\n",
    "print(new_corpus[0][0:10])\n",
    "print(len(new_corpus))\n",
    "print(len(corpus[0]))\n",
    "print(len(new_corpus[0]))\n",
    "print(len(new_corpus))"
   ]
  },
  {
   "cell_type": "code",
   "execution_count": 20,
   "metadata": {},
   "outputs": [
    {
     "data": {
      "text/plain": [
       "212"
      ]
     },
     "execution_count": 20,
     "metadata": {},
     "output_type": "execute_result"
    }
   ],
   "source": [
    "len(new_corpus)"
   ]
  },
  {
   "cell_type": "code",
   "execution_count": 16,
   "metadata": {},
   "outputs": [],
   "source": [
    "from hlda.sampler import HierarchicalLDA\n",
    "\n",
    "#default\n",
    "n_samples = 500       # no of iterations for the sampler\n",
    "alpha = 10.0          # smoothing over level distributions\n",
    "gamma = 1.0           # CRP smoothing parameter; number of imaginary customers at next, as yet unused table\n",
    "eta = 0.1             # smoothing over topic-word distributions\n",
    "num_levels = 3        # the number of levels in the tree\n",
    "display_topics = 50   # the number of iterations between printing a brief summary of the topics so far\n",
    "n_words = 10           # the number of most probable words to print for each topic after model estimation\n",
    "with_weights = False  # whether to print the words with the weights"
   ]
  },
  {
   "cell_type": "code",
   "execution_count": 17,
   "metadata": {},
   "outputs": [],
   "source": [
    "from hlda.sampler import HierarchicalLDA\n",
    "\n",
    "n_samples = 500       # サンプラーの反復回数\n",
    "alpha = 10.0          # smoothing over level distributions\n",
    "gamma = 1.0          # CRP smoothing parameter; number of imaginary customers at next, as yet unused table\n",
    "eta = 0.1             # smoothing over topic-word distributions\n",
    "num_levels = 2      # the number of levels in the tree\n",
    "display_topics = 50  # the number of iterations between printing a brief summary of the topics so far\n",
    "n_words = 7          # the number of most probable words to print for each topic after model estimation\n",
    "with_weights = False  # whether to print the words with the weights"
   ]
  },
  {
   "cell_type": "code",
   "execution_count": 509,
   "metadata": {},
   "outputs": [],
   "source": [
    "from hlda.sampler import HierarchicalLDA\n",
    "\n",
    "n_samples = 1000       # サンプラーの反復回数\n",
    "alpha = 10.0          # smoothing over level distributions\n",
    "gamma = 0.5           # CRP smoothing parameter; number of imaginary customers at next, as yet unused table\n",
    "eta = 1.0             # smoothing over topic-word distributions\n",
    "num_levels = 4        # the number of levels in the tree\n",
    "display_topics = 50  # the number of iterations between printing a brief summary of the topics so far\n",
    "n_words = 3          # the number of most probable words to print for each topic after model estimation\n",
    "with_weights = True  # whether to print the words with the weights"
   ]
  },
  {
   "cell_type": "code",
   "execution_count": 18,
   "metadata": {},
   "outputs": [
    {
     "name": "stdout",
     "output_type": "stream",
     "text": [
      "HierarchicalLDA sampling\n",
      "\n",
      ".................................................. 50\n",
      "topic=0 level=0 (documents=212): メタノール, 思う, 殺す, 逮捕, 奥さん, 考える, 殺害, 事件, バレる, お子さん, \n",
      "    topic=1 level=1 (documents=71): 怖い, 子供, 家族, 出る, 痛み, 死ぬ, 冤罪, ギ酸, 使う, 製薬, \n",
      "        topic=16 level=2 (documents=9): 戦後, 飲む, 失明, 燃料, 続出, アルコール, 混ぜる, 戦中, 密造酒, 相当, \n",
      "        topic=35 level=2 (documents=3): 下衆, 捨てる, 悲しい, 代わり, 経歴, 観る, 邪魔, 蒼い, 申し分, 自ら, \n",
      "        topic=80 level=2 (documents=5): 病院, ゴミ袋, 仕掛ける, 憎しみ, 積み重ね, 塗装, 関係, 毒母, 二人, 十分, \n",
      "        topic=83 level=2 (documents=5): 死因, 解剖, 起こす, 属す, 扱い, 旦那さん, 分解, 注意, 代謝, 陳腐, \n",
      "        topic=85 level=2 (documents=2): 依頼, 身内, 成長, 京都大学大学院, 理解不能, 経つ, 耐える, 半年, 受け手, ひとり, \n",
      "        topic=86 level=2 (documents=5): 毒性, 苦しめる, 病気, とこ, 頑張る, 吸収, 優秀, 他罰, いじる, 肝硬変, \n",
      "        topic=90 level=2 (documents=7): 無念, 誰か, 状況, 裁判, 真相, 証拠, 明らか, 就職先, 起訴, 不思議, \n",
      "        topic=91 level=2 (documents=8): 京大, 想像, 理性, 出来る, 自宅, 変化, 対応, お祈り, 書く, プレッシャー, \n",
      "        topic=95 level=2 (documents=8): 原因, 大手, ひとり, sexless, 生成, 採用, 企業, 会社, 殺人, 起きる, \n",
      "        topic=97 level=2 (documents=6): 小学生, 段階, 人材, 南都, 間違い, 優しい, 社会人, 覚悟, 年齢的, 団体, \n",
      "        topic=98 level=2 (documents=6): 子ども, かわいい, 匙加減, 大事, 持つ, 学ぶ, 傾向, 与える, ものすごい, 切り出す, \n",
      "        topic=105 level=2 (documents=4): 鬼畜, 刺す, 極刑, 政府, 関の山, 出し手, かける, 狂わせる, 経済, 無期懲役, \n",
      "        topic=107 level=2 (documents=3): 繰り返す, つかう, 難しい, 苦心, がんばる, 人間, 毎回, 抜く, 勤め, 薬物, \n",
      "    topic=5 level=1 (documents=34): 燃料, 解明, 置く, 関係, 市販, 科学者, 勿体ない, 科捜研, 世の中, 出端, \n",
      "        topic=23 level=2 (documents=6): アメフト部, 年月, 出身, しれる, 研究所, 事故, 過ぎる, 脳内出血, 非科学, いい, \n",
      "        topic=24 level=2 (documents=7): 症状, 試薬, 入れる, 天然, 鉄槌, 不可解, なんだろう, しまだ, リーマン, 恐ろしい, \n",
      "        topic=59 level=2 (documents=10): 捜査, 至る, 真実, 慎重, 有機物, 警察, 否定, 創薬, 真相, 金田一, \n",
      "        topic=68 level=2 (documents=4): 職業, 多い, 高い, 良識, 多く, びっくり, 見掛ける, 優れる, 社会, 年収, \n",
      "        topic=81 level=2 (documents=6): 冤罪, 自宅, 家庭, 理解, 生きる, 結局, 危険運転, 善意, 起きる, 回る, \n",
      "        topic=102 level=2 (documents=1): 凄い, 黙認, 医薬品, 化学実験, 化学者, 北大, 北斗の拳, 北海道大学, 匙加減, 医師, \n",
      "    topic=7 level=1 (documents=57): 子供, 殺す, 学歴, 容疑者, 退職, やり方, 事実, エタノール, 父親, 人間, \n",
      "        topic=31 level=2 (documents=6): 大手, データ, ママ, 実験, 以前, オボ, しれる, 社則, 大切, 大元, \n",
      "        topic=43 level=2 (documents=7): 取得, 大学院, 犯行, 揉める, 夫婦, 半径, 大学, 修士号, 愚かしい, 他人, \n",
      "        topic=46 level=2 (documents=5): 心配, 自慢, 異常者, 言う, 愛人, 難い, 言える, 若い, 最近, 居る, \n",
      "        topic=54 level=2 (documents=8): 大学院, 京都大学, 薬学部, 凄い, もったいない, 経歴, 3年, 専業主婦, 寿退社, びっくり, \n",
      "        topic=55 level=2 (documents=6): 分野, 検死, 疑問, 同定, 一人息子, 実利, 哀れ, 企む, 振る, 旦那, \n",
      "        topic=56 level=2 (documents=6): 摂取, 自死, 疑問, 無い, 有毒, 違和感, アルコール, 記述, 二つ, 報道, \n",
      "        topic=60 level=2 (documents=5): 飲む, 偽装, 書く, ダメ, 物証, てこ, 可能, 興味, 死因, 調書, \n",
      "        topic=69 level=2 (documents=6): 報道, 身体, 部分, 加害者, 明確, 収入, 内容, ホルムアルデヒド, 環境, 変化, \n",
      "        topic=87 level=2 (documents=8): 混ぜる, 検死, エタノール, 題材, 出る, 難しい, 死刑, 注入, アルコール, した, \n",
      "    topic=9 level=1 (documents=50): 良い, 学歴, 殺人, 旦那, 不倫, 疑う, 別居, 動機, 否定, いう, \n",
      "        topic=50 level=2 (documents=4): 摂取, 放火, 吉宗, 異常者, シロウト, 犯行, できる, 兄さん, 焼死体, 最終的, \n",
      "        topic=57 level=2 (documents=1): 被害者, 暮らす, 両親, 動く, 別れる, 感情, 医薬品, 化学者, 北大, 北斗の拳, \n",
      "        topic=66 level=2 (documents=3): 旧帝大, 氷河期, しょうが, 研究, それぞれ, 送る, 話し合う, 大手, 医者, 化学実験, \n",
      "        topic=70 level=2 (documents=8): 毒物, たくさん, 鎮痛剤, ニュース, 起きる, 混ぜる, 終戦, 流れる, 散髪, 指定, \n",
      "        topic=89 level=2 (documents=7): メーカー, 自殺, 理由, 入る, 他人, 薬物, 飲む, 他殺, バトラコトキシン, 終わる, \n",
      "        topic=94 level=2 (documents=6): 濡れ衣, 許せる, 済まない, 管理, 事実, 増える, 化学, 離婚, 起訴, 厳しい, \n",
      "        topic=96 level=2 (documents=7): うい, 大丈夫, 経緯, 近所, 人生, 立派, 競争, 内密, 理性, 長男, \n",
      "        topic=101 level=2 (documents=3): 思い, 北海道大学, 言える, 馬鹿, 嫁さん, 残す, 悲しい, 素晴らしい, 方法, 環境, \n",
      "        topic=104 level=2 (documents=7): キャリア, ケンカ, 合う, 同士, 社員, 使用, 一番, ひどい, おる, 違和感, \n",
      "        topic=106 level=2 (documents=4): 製薬会社, 守れる, 自白, ありき, 祖父母, 解明, 成人, プロ, 読む, かな, \n",
      ".................................................. 100\n",
      "topic=0 level=0 (documents=212): 思う, メタノール, 殺す, 子供, 逮捕, 考える, 殺害, バレる, できる, わかる, \n",
      "    topic=1 level=1 (documents=91): 奥さん, メタノール, 簡単, 会社, 優秀, 逮捕, 無い, 相手, 良い, 心配, \n",
      "        topic=16 level=2 (documents=12): 戦後, 燃料, 失明, 混ぜる, 続出, 戦中, アルコール, 死ぬ, 小さい, 書く, \n",
      "        topic=86 level=2 (documents=7): 職業, ケンカ, 有名, 入れる, 良識, 学校, 出す, きく, 同士, 弁護士, \n",
      "        topic=107 level=2 (documents=6): 刺す, 勉強, 煽り, 新薬, 肝硬変, 家出, 面白い, 苦心, 犯す, いじる, \n",
      "        topic=115 level=2 (documents=2): 感じる, 其の様, 弱い, 送る, しょうが, つく, 近い, 混ぜる, 勿体無い, 旧帝大, \n",
      "        topic=133 level=2 (documents=8): 不倫, 旦那, 子ども, 鬼畜, 持つ, 学ぶ, 許せる, 与える, 濡れ衣, 第三者, \n",
      "        topic=139 level=2 (documents=5): 薬学, 捜査, 吉宗, 解明, 通常, 不自然, ドラマ, 巧妙, 残る, ニュース, \n",
      "        topic=146 level=2 (documents=7): データ, 天然, 証拠, 論文, 疑う, 残る, ナイト, 致死量, 十字架, 再現性, \n",
      "        topic=165 level=2 (documents=10): 心のケア, 家族旅行, 進学, 学歴, 守れる, 選択肢, 世間, 実利, 出る, 手段, \n",
      "        topic=173 level=2 (documents=2): シロウト, 放火, 名古屋大, 混入事件, 実行, 女子学生, タリウム, 理学部, 2回, 異常者, \n",
      "        topic=175 level=2 (documents=3): 大手, 後悔, した, 死刑, 毒殺, 注入, 治験, 熱心, やばい, 開発, \n",
      "        topic=177 level=2 (documents=2): sexless, 自宅, おもう, 感じ, 仕向ける, 原因, 飲ます, 悲しい, 会社員, 匙加減, \n",
      "        topic=178 level=2 (documents=5): 病院, 感じ取る, ゴミ袋, 受ける, 兆候, 年齢, ドクター, 取得, 難い, 殺せる, \n",
      "        topic=180 level=2 (documents=8): 精神, 他人, 助ける, 付く, 現実, きっかけ, 努力, 企図, 肉親, 判る, \n",
      "        topic=184 level=2 (documents=8): 疑問, 起こす, くらい, 代謝, 意味, いい, 世帯, 杜撰, 大手, 入り込める, \n",
      "        topic=186 level=2 (documents=6): 完全犯罪, 含める, 主婦, 結婚, 働く, 血中濃度, 人生, 亡くなる, メチルアルコール, 関係, \n",
      "    topic=5 level=1 (documents=40): メタノール, 簡単, 理由, 夫婦, 優秀, 奥さん, 会社, 取得, 入手, 普通, \n",
      "        topic=121 level=2 (documents=6): 摂取, ギ酸, ホルムアルデヒド, 変化, 自死, 無理やり, 環境, プロ, 博士号, 問う, \n",
      "        topic=143 level=2 (documents=7): 偽装, 病死, 記事, 対策, 要る, わかる, ろう, 興味, 子供, 承知, \n",
      "        topic=147 level=2 (documents=7): 冤罪, 摂取, 修士号, 記事, 死亡, 大学, 薬剤, 見当たる, アルコール中毒, ばれる, \n",
      "        topic=162 level=2 (documents=8): 捜査, 至る, 問題, 行う, 専門的, 真実, 明らか, 劇物, 無い, 両親, \n",
      "        topic=169 level=2 (documents=7): 依頼, 知り合い, ケース, 早い, 今後, 憎い, 成長, 安全, 子ども, 耐える, \n",
      "        topic=183 level=2 (documents=5): 理解, いくら, 医薬品, 異人, 会社, 頭脳, 日本, 悲劇, 充分, お酒, \n",
      "    topic=7 level=1 (documents=28): 奥さん, 容疑者, 事件, 良い, 痛み, 南都, 容疑, お父さん, 学歴, 寿退社, \n",
      "        topic=54 level=2 (documents=8): 大学院, もったいない, 薬学部, 凄い, 経歴, 3年, 京都大学, 退職, 学歴, 専業主婦, \n",
      "        topic=122 level=2 (documents=4): 間違い, いたたまれない, 徹底的, 冤罪事件, 自分, 危ない, 追及, メディア, 解ける, 氷山の一角, \n",
      "        topic=142 level=2 (documents=2): 分野, 職場, 関心, 苦手, 人間, 当人, 父親, 時間, レベル, 一般常識, \n",
      "        topic=149 level=2 (documents=1): 確定, 実子, アホ, 方向, 被害者, 一般人, 持つ, 千葉大学, 千葉大, 半径, \n",
      "        topic=150 level=2 (documents=7): 小学生, 亡くす, 痛み, やわらげる, 人間, 帰る, 日々, 段階, 来る, 取調べ, \n",
      "        topic=151 level=2 (documents=2): 保留, 可能性, コナン, すごい, 判断, これだけ, 犯人, 大人, 詳しい, 感じ, \n",
      "        topic=174 level=2 (documents=3): 毒物, 劇物, 題材, 描く, 推理小説, 溢れる, 指定, 大変, 小説, やめる, \n",
      "        topic=179 level=2 (documents=1): 報道, 書く, 信じる, 警察, 渡る, 自宅, 半年, 匙加減, 卑怯, 化学実験, \n",
      "    topic=9 level=1 (documents=53): メタノール, 本人, 奥さん, 疑う, 選ぶ, 理由, 簡単, 多い, いく, 結果, \n",
      "        topic=104 level=2 (documents=7): 違う, 死因, 薬物, かかる, 怖い, 年月, 平常心, 精神的, ぶつける, 抜く, \n",
      "        topic=123 level=2 (documents=7): 学歴, 大手, 認める, 出し手, 模試, 読む, 未来, 社則, 祈る, 言える, \n",
      "        topic=140 level=2 (documents=3): 警察, 理由, 記事, それなり, いう, もつ, でる, 公的, 発表, 利益, \n",
      "        topic=152 level=2 (documents=3): 起きる, キャリア, 起す, 埼玉県, 不満, 状態, イケメン, 周り, ビール, 鎮痛剤, \n",
      "        topic=159 level=2 (documents=4): 学歴, 理解不能, 多い, 仲良し, でる, モラハラ, 稚拙, 役立つ, 疑う, 金持ち, \n",
      "        topic=167 level=2 (documents=7): アルコール, 間違える, 事故, 燃料, 不自然, 実験室, 有毒, 起きる, 置く, 無い, \n",
      "        topic=172 level=2 (documents=3): 相当, 興味深い, 済む, 状況証拠, 大勢, 死人, 出る, 定期的, 出回る, 心のケア, \n",
      "        topic=176 level=2 (documents=8): 検死, レベル, 直ぐ, 捕まる, 半径, 奪う, 感じる, 申し分, 本気, 距離, \n",
      "        topic=181 level=2 (documents=6): アメフト部, 揉める, 科学者, 保険金殺人, もめる, 愛人, 単純, うける, 居る, 関学, \n",
      "        topic=185 level=2 (documents=5): 匙加減, 不憫, 間違える, 幸せ, トラブル, 明晰, 映る, 経済的, 一つ, 消去法, \n",
      ".................................................. 150\n",
      "topic=0 level=0 (documents=212): メタノール, 思う, 殺す, 逮捕, 奥さん, バレる, 事件, 薬品, わかる, 考える, \n",
      "    topic=1 level=1 (documents=55): 飲む, 良い, 燃料, できる, 解剖, 方法, 大切, 分かる, エタノール, 開発, \n",
      "        topic=16 level=2 (documents=15): 戦後, メチルアルコール, 混ぜる, 失明, アルコール, 燃料, 戦中, 続出, 事故, 使う, \n",
      "        topic=165 level=2 (documents=5): でる, 入る, 依頼, 知り合い, 吉宗, 身内, 幸い, 薬屋, 実利, 初荷, \n",
      "        topic=177 level=2 (documents=4): 残す, 心配, 一人, 難い, 祖父母, 生活, 開発者, 将来, 不自由, 選択肢, \n",
      "        topic=184 level=2 (documents=5): 旦那, 疑う, ケンカ, 別れる, 勤める, 毎日, ひどい, 濡れ衣, 第三者, 相手, \n",
      "        topic=186 level=2 (documents=6): 血中濃度, 使う, 卑劣, 人生, 間違える, 分解, ことし, 不自然, 割る, 置く, \n",
      "        topic=249 level=2 (documents=7): 死因, 報道, 放火, 思える, 見つかる, 試薬, 松本, 踏み切る, イケメン, 先走る, \n",
      "        topic=254 level=2 (documents=3): 劇物, 話し合う, 支給, 専門知識, いくら, 社員教育, 留学, 愚かしい, 親権, 私生活, \n",
      "        topic=257 level=2 (documents=6): 刺す, 判る, 日本, 人間, 居眠り, 他殺, 治安, 明るみ, バトラコトキシン, おかしい, \n",
      "        topic=263 level=2 (documents=3): 現場, 完全犯罪, 密造, 充分, 入る, 蝕む, 混ぜる, インド, 承知, 利用, \n",
      "        topic=266 level=2 (documents=1): 無念, ドラマ, 黙認, 医薬品, 化学実験, 化学者, 北大, 北斗の拳, 北海道大学, 匙加減, \n",
      "    topic=5 level=1 (documents=70): 子供, 殺害, 人生, 分かる, 記事, 否定, 良い, 偽装, 方法, 盛る, \n",
      "        topic=147 level=2 (documents=5): 大手, 使う, 匙加減, 会社, 開発, 他殺, 毒殺, 良さ, やり方, 究明, \n",
      "        topic=169 level=2 (documents=7): 感じ, そうだ, 目当て, 多い, 冤罪事件, 危ない, 鉄槌, 苦労, ばれる, 普通に, \n",
      "        topic=214 level=2 (documents=7): 検死, 分かる, 直ぐ, バレる, 経緯, 疑う, ひとり, 帳消し, 落ちる, 原因, \n",
      "        topic=226 level=2 (documents=4): 浮かぶ, 精神的, 戻る, 手厚い, 永い, 手段, 身近, 年月, 結婚, モラハラ, \n",
      "        topic=233 level=2 (documents=6): できる, 給食, しかる, 華々しい, 想像, 旧帝大, 異人, 殺意, 都内, 大学院, \n",
      "        topic=237 level=2 (documents=7): 摂取, 容疑者, 同様, 生き方, 悪酔い, アルコール中毒, 本当, 切り出す, ワイドショー, 男性, \n",
      "        topic=251 level=2 (documents=7): 疑問, 分野, 専門, 職場, 意味, 振る, 接する, 守る, いい, 容疑者, \n",
      "        topic=255 level=2 (documents=3): メーカー, 間違い, サスペンスドラマ, 芸能人, 保険金殺人, 先月, 一般, 苦しむ, 生命, 日本, \n",
      "        topic=256 level=2 (documents=8): 理由, 飲む, やめる, すごい, 病死, 積む, 他人, アホ, いたわしい, 秘密の暴露, \n",
      "        topic=258 level=2 (documents=4): 氷山の一角, 過程, ニュース, きっかけ, ドラマ, 解ける, 出身, 病気, 受ける, 賢い, \n",
      "        topic=259 level=2 (documents=5): アメフト部, 保険金殺人, 起きる, 離婚, 崩す, 科学者, 関学, 成り立つ, 出端, 出身, \n",
      "        topic=262 level=2 (documents=3): 小学生, 変わる, 頭脳明晰, 引け目, 現実, 受け入れる, 家庭, 気の毒, 気付く, フォロー, \n",
      "        topic=264 level=2 (documents=1): 学ぶ, 与える, 行動, 影響, 匙加減, 匂う, 化合物, 化学, 化学実験, 化学者, \n",
      "        topic=265 level=2 (documents=3): 身分証明書, 凄い, 幸せ, アマゾン, 混ぜる, 今回, 一月, 薬局, 身だしなみ, 要る, \n",
      "    topic=7 level=1 (documents=68): 人生, 体内, 入る, 可哀想, 経歴, 最近, 夫婦, 犯罪, 考える, 良い, \n",
      "        topic=209 level=2 (documents=6): 捜査, 真実, 慎重, 至る, 警察, 真相, 解明, 自殺, 専門的, 有機物, \n",
      "        topic=215 level=2 (documents=6): 大学院, もったいない, 京都大学, 薬学部, 寿退社, 専業主婦, 3年, びっくり, 凄い, 修士号, \n",
      "        topic=224 level=2 (documents=6): こいつ, 加害者, 実子, 手相, 専門知識, 生きる, 憎む, 苦しむ, 収入, くらい, \n",
      "        topic=230 level=2 (documents=6): 周り, 半径, 揃う, 思い出す, 離れる, 本当, 進学, 経緯, 捕まる, 社内, \n",
      "        topic=236 level=2 (documents=10): 夫婦, 自宅, 助ける, 冤罪, 世間, 家庭, 家庭内, 脅迫, 腹痛, かわいい, \n",
      "        topic=240 level=2 (documents=7): うい, 正直, 多い, 研究者, 続報, 不可解, あらわれる, いい, 入る, 問題, \n",
      "        topic=241 level=2 (documents=8): 有毒, アルコール, 素人, 違和感, 間違える, 失明, プロフェッショナル, 命じる, 他殺, 隣の芝生, \n",
      "        topic=245 level=2 (documents=10): 小学生, 選ぶ, 段階, 確定, 南都, お父さん, 不憫, 報道, 部分, いたむ, \n",
      "        topic=247 level=2 (documents=2): ギ酸, 失明, 変化, 一緒, ホルムアルデヒド, つらい, 和らげる, 頻繁, ロシア, 酸化, \n",
      "        topic=253 level=2 (documents=7): 第一三共, 題材, 100ml, データ, 第一製薬, 組織, 不謹慎, ナイト, オボ, おる, \n",
      "    topic=9 level=1 (documents=19): 良い, お子さん, 凄い, メチルアルコール, かける, 関係, 開始, 記事, 成績, 自己中心性, \n",
      "        topic=104 level=2 (documents=2): 飲ます, 無理やり, 自宅, 悲しい, 会社員, 黙認, 北海道大学, 化合物, 化学, 化学実験, \n",
      "        topic=207 level=2 (documents=4): 職業, 高学歴, 多い, 良識, 学ぶ, 聞く, 一緒, 一般, 好き, 済む, \n",
      "        topic=227 level=2 (documents=10): 奥様, 鬼畜, 極刑, 思考, 問題, 待つ, 粗末, 結婚, 子供のこと, 無念, \n",
      "        topic=234 level=2 (documents=3): 和歌山カレー事件, コナン, 取得, 決め手, 酒臭い, 駐車場, 20年, こいつ, 黙認, 化学実験, \n",
      ".................................................. 200\n",
      "topic=0 level=0 (documents=212): 思う, メタノール, 殺す, 逮捕, 奥さん, 考える, 使う, 子供, お子さん, できる, \n",
      "    topic=1 level=1 (documents=76): 飲む, 離婚, 子供, 人生, バレる, メチルアルコール, 動機, 残す, 殺害, 事件, \n",
      "        topic=16 level=2 (documents=5): 戦後, 失明, アルコール, 続出, 小さい, 戦中, 爆弾, 混ぜる, 密造酒, 散る, \n",
      "        topic=249 level=2 (documents=3): 病院, 殺す, 脅迫, 永い, 毒母, かる, 精神的, 注射, 出産, 仕掛ける, \n",
      "        topic=254 level=2 (documents=2): 題材, 小説, テーブル, 果実, 本人, 不謹慎, ジュース, ひねり, 溢れる, 推理小説, \n",
      "        topic=314 level=2 (documents=6): 偽装, ことし, 丸める, 言える, 人殺し, 自殺, 詳しい, 勿体ない, 年収, 奪う, \n",
      "        topic=330 level=2 (documents=6): やり方, 容易, 自由, 他殺, 異常者, フォロー, 良さ, 関係, 気の毒, 塗装, \n",
      "        topic=332 level=2 (documents=5): 殺人犯, 守れる, 会社員, 取得, 感じ, 感情, 科捜研, 憎む, 成人, よい, \n",
      "        topic=338 level=2 (documents=3): 状況, 誰か, 肝硬変, ワイドショー, 不思議, 家出, 明らか, 大変, 説明, 出せる, \n",
      "        topic=340 level=2 (documents=5): かわいそう, 残念, 職場, 当たり前, 話す, 苦手, 踏み外す, ろう, 親族, しかた, \n",
      "        topic=342 level=2 (documents=9): 心配, 周り, 揃う, 半径, 思える, 表情, もめる, ニュース, 言い張る, 小学生, \n",
      "        topic=343 level=2 (documents=4): 理由, 下衆, 大概, 大切, 病気, 肩書き, 明るい未来, うい, 重い, 情報, \n",
      "        topic=345 level=2 (documents=3): 京都大学大学院, 目的, もつ, やめる, 公的, 試薬, 疑う, 結局, 新た, 発表, \n",
      "        topic=346 level=2 (documents=6): 検死, 専門, 疑問, 分野, 旦那, 一般常識, 関心, 二人, 選択肢, 振る, \n",
      "        topic=348 level=2 (documents=4): 選ぶ, 不可解, すごす, 明確, ばれる, 事件, いく, 報道, きつい, 引っかかる, \n",
      "        topic=352 level=2 (documents=3): そうだ, しまだ, 技術, 大手, 担当, レベル, 今頃, なんだろう, アカン, 身だしなみ, \n",
      "        topic=355 level=2 (documents=4): データ, 覚悟, 企図, 病む, ナイト, 自殺, 不正, 他人, なのか, 基礎研究, \n",
      "        topic=357 level=2 (documents=3): 一流企業, 組織, 面白い, いい, 異人, 積む, イケメン, 映画, 医師, 化学者, \n",
      "        topic=365 level=2 (documents=5): 生い立ち, 相当, 受ける, 賢い, 最終的, 不審死, 積み重ね, 可能, 過程, 健在, \n",
      "    topic=5 level=1 (documents=46): メタノール, 普通, 専門家, 会社, お母さん, 犯罪, 認める, 早い, 良い, 想像, \n",
      "        topic=265 level=2 (documents=4): メーカー, 日本, 勤める, 鑑定留置, わかれる, 化学者, ひどい, 間違い, 代わり, 帝出, \n",
      "        topic=290 level=2 (documents=7): エタノール, 摂取, 入る, お酒, 飲む, トラブル, 遅効, 経歴, 捜査, 笑いもの, \n",
      "        topic=327 level=2 (documents=6): 夫婦, 取得, 大学院, 修士号, 留学, 大学, 推測, 犯罪, 分かり易い, 予想, \n",
      "        topic=351 level=2 (documents=4): 漂白剤, 実行, しかる, 他人事, いくら, 持つ, 殺意, 用いる, アカハラ, プレッシャー, \n",
      "        topic=360 level=2 (documents=5): 異常者, 身内, 言える, 依頼, 放火, 知り合い, シロウト, ひとり, ひと, 見守る, \n",
      "        topic=362 level=2 (documents=8): 簡単, 燃料, 入手, 毒物, 大変, 劇物, 失明, 問題, 今回, 注意, \n",
      "        topic=363 level=2 (documents=4): 報道, こいつ, 別れる, お父さん, 属す, 自慢, 自宅, 先走る, 容器, 消去法, \n",
      "        topic=366 level=2 (documents=5): 留学, 取る, 症状, 上手い, しょうが, 請求, 決める, 自宅, 明るみ, 人生, \n",
      "        topic=367 level=2 (documents=3): 疑問, 有機物, 専門的, 逮捕, 二つ, 情報, 意味, 解明, 科捜研, 毒物, \n",
      "    topic=7 level=1 (documents=52): お母さん, 自殺, 入る, 起きる, 大手, 燃料, メタノール, 残る, 逮捕, 殺す, \n",
      "        topic=240 level=2 (documents=4): 子ども, 職業, 将来, 大事, 多い, 学ぶ, 良識, 相手, 一般, 兆候, \n",
      "        topic=307 level=2 (documents=8): 摂取, ギ酸, 簡単, ホルムアルデヒド, 無理やり, 製薬会社, 自宅, 自死, 一瞬, 責任, \n",
      "        topic=313 level=2 (documents=4): 社員, アメフト部, 科学者, 一番, 違和感, 意味不明, 離婚, 関学, 状況, 犯罪, \n",
      "        topic=321 level=2 (documents=2): 結びつける, 悪意, 勿体無い, 化合物, 化学, 化学実験, 化学者, 北大, 北斗の拳, 北海道大学, \n",
      "        topic=324 level=2 (documents=8): 容疑, 否定, 専門家, 言葉, いたたまれない, 報道, おかしい, お父さん, 決定的, みる, \n",
      "        topic=331 level=2 (documents=5): 家族, ちゃう, 解剖, 社則, アルコール, 爽やか, 常識, 男性, 善意, 市販, \n",
      "        topic=353 level=2 (documents=3): ケンカ, できる, 相次ぐ, 仕事, 呼ぶ, お互い, 不思議, よい, ひどい, 以前, \n",
      "        topic=358 level=2 (documents=4): 無い, 検出, 意識, 有毒, 毒性, 自死, 堅実, 究明, 記述, 間違う, \n",
      "        topic=364 level=2 (documents=9): 無い, 思い出す, 欠片, 被害者, 業務上, 栄誉, 問題, わからん, 国立, 地方, \n",
      "        topic=368 level=2 (documents=1): 苦しい, 続出, 痛み, メチルアルコール, 昭和, 被害者, 千葉大, 十字架, 半径, 化学実験, \n",
      "        topic=369 level=2 (documents=4): 旦那, 第三者, 企む, 濡れ衣, 不倫, 他人, 夫婦間, 旦那さん, 疑う, 自ら, \n",
      "    topic=9 level=1 (documents=38): 理由, 殺害, 自殺, 多い, 疑う, 凄い, 嫁さん, たくさん, 言う, 普通, \n",
      "        topic=273 level=2 (documents=5): 否定, いい, 入り込める, 社会人, ドクター, 年齢的, 長男, 大手, 疑問, 本当, \n",
      "        topic=274 level=2 (documents=6): 至る, 見た目, 証拠, 突出, 事案, 売る, からだ, 密造酒, 立場, 積み上げる, \n",
      "        topic=279 level=2 (documents=9): 痛み, 亡くす, 慎重, やわらげる, なのか, 煽り, 愛人, 解剖, 終戦, 大切, \n",
      "        topic=310 level=2 (documents=7): 大学院, 3年, 京都大学, もったいない, 寿退社, 専業主婦, 薬学部, びっくり, 東大, 凄い, \n",
      "        topic=349 level=2 (documents=2): 匙加減, 映る, 馬鹿, 可哀想, 一つ, 究明, 素晴らしい, 京大, 裕福, 思い, \n",
      "        topic=356 level=2 (documents=3): 刺す, 興味深い, 選ぶ, いく, 感じ, 日本, 経済, 電車, ストレス, 悪化, \n",
      "        topic=361 level=2 (documents=6): 管理, 増える, 厳しい, 特定, 酒臭い, 記事, 入手経路, 現実, 方法, 頼む, \n",
      "...."
     ]
    },
    {
     "ename": "KeyboardInterrupt",
     "evalue": "",
     "output_type": "error",
     "traceback": [
      "\u001b[1;31m---------------------------------------------------------------------------\u001b[0m",
      "\u001b[1;31mKeyboardInterrupt\u001b[0m                         Traceback (most recent call last)",
      "\u001b[1;32m<ipython-input-18-a20af0549602>\u001b[0m in \u001b[0;36m<module>\u001b[1;34m\u001b[0m\n\u001b[0;32m      1\u001b[0m \u001b[0mhlda\u001b[0m \u001b[1;33m=\u001b[0m \u001b[0mHierarchicalLDA\u001b[0m\u001b[1;33m(\u001b[0m\u001b[0mnew_corpus\u001b[0m\u001b[1;33m,\u001b[0m \u001b[0mvoc\u001b[0m\u001b[1;33m,\u001b[0m \u001b[0malpha\u001b[0m\u001b[1;33m=\u001b[0m\u001b[0malpha\u001b[0m\u001b[1;33m,\u001b[0m \u001b[0mgamma\u001b[0m\u001b[1;33m=\u001b[0m\u001b[0mgamma\u001b[0m\u001b[1;33m,\u001b[0m \u001b[0meta\u001b[0m\u001b[1;33m=\u001b[0m\u001b[0meta\u001b[0m\u001b[1;33m,\u001b[0m \u001b[0mnum_levels\u001b[0m\u001b[1;33m=\u001b[0m\u001b[0mnum_levels\u001b[0m\u001b[1;33m)\u001b[0m\u001b[1;33m\u001b[0m\u001b[1;33m\u001b[0m\u001b[0m\n\u001b[1;32m----> 2\u001b[1;33m \u001b[0mhlda\u001b[0m\u001b[1;33m.\u001b[0m\u001b[0mestimate\u001b[0m\u001b[1;33m(\u001b[0m\u001b[0mn_samples\u001b[0m\u001b[1;33m,\u001b[0m \u001b[0mdisplay_topics\u001b[0m\u001b[1;33m=\u001b[0m\u001b[0mdisplay_topics\u001b[0m\u001b[1;33m,\u001b[0m \u001b[0mn_words\u001b[0m\u001b[1;33m=\u001b[0m\u001b[0mn_words\u001b[0m\u001b[1;33m,\u001b[0m \u001b[0mwith_weights\u001b[0m\u001b[1;33m=\u001b[0m\u001b[0mwith_weights\u001b[0m\u001b[1;33m)\u001b[0m\u001b[1;33m\u001b[0m\u001b[1;33m\u001b[0m\u001b[0m\n\u001b[0m",
      "\u001b[1;32mc:\\users\\tatsuki\\appdata\\local\\programs\\python\\python38\\lib\\site-packages\\hlda\\sampler.py\u001b[0m in \u001b[0;36mestimate\u001b[1;34m(self, num_samples, display_topics, n_words, with_weights)\u001b[0m\n\u001b[0;32m    193\u001b[0m \u001b[1;33m\u001b[0m\u001b[0m\n\u001b[0;32m    194\u001b[0m             \u001b[1;32mfor\u001b[0m \u001b[0md\u001b[0m \u001b[1;32min\u001b[0m \u001b[0mrange\u001b[0m\u001b[1;33m(\u001b[0m\u001b[0mlen\u001b[0m\u001b[1;33m(\u001b[0m\u001b[0mself\u001b[0m\u001b[1;33m.\u001b[0m\u001b[0mcorpus\u001b[0m\u001b[1;33m)\u001b[0m\u001b[1;33m)\u001b[0m\u001b[1;33m:\u001b[0m\u001b[1;33m\u001b[0m\u001b[1;33m\u001b[0m\u001b[0m\n\u001b[1;32m--> 195\u001b[1;33m                 \u001b[0mself\u001b[0m\u001b[1;33m.\u001b[0m\u001b[0msample_path\u001b[0m\u001b[1;33m(\u001b[0m\u001b[0md\u001b[0m\u001b[1;33m)\u001b[0m\u001b[1;33m\u001b[0m\u001b[1;33m\u001b[0m\u001b[0m\n\u001b[0m\u001b[0;32m    196\u001b[0m \u001b[1;33m\u001b[0m\u001b[0m\n\u001b[0;32m    197\u001b[0m             \u001b[1;32mfor\u001b[0m \u001b[0md\u001b[0m \u001b[1;32min\u001b[0m \u001b[0mrange\u001b[0m\u001b[1;33m(\u001b[0m\u001b[0mlen\u001b[0m\u001b[1;33m(\u001b[0m\u001b[0mself\u001b[0m\u001b[1;33m.\u001b[0m\u001b[0mcorpus\u001b[0m\u001b[1;33m)\u001b[0m\u001b[1;33m)\u001b[0m\u001b[1;33m:\u001b[0m\u001b[1;33m\u001b[0m\u001b[1;33m\u001b[0m\u001b[0m\n",
      "\u001b[1;32mc:\\users\\tatsuki\\appdata\\local\\programs\\python\\python38\\lib\\site-packages\\hlda\\sampler.py\u001b[0m in \u001b[0;36msample_path\u001b[1;34m(self, d)\u001b[0m\n\u001b[0;32m    261\u001b[0m         \u001b[0mweights\u001b[0m \u001b[1;33m=\u001b[0m \u001b[0mweights\u001b[0m \u001b[1;33m/\u001b[0m \u001b[0mnp\u001b[0m\u001b[1;33m.\u001b[0m\u001b[0msum\u001b[0m\u001b[1;33m(\u001b[0m\u001b[0mweights\u001b[0m\u001b[1;33m)\u001b[0m\u001b[1;33m\u001b[0m\u001b[1;33m\u001b[0m\u001b[0m\n\u001b[0;32m    262\u001b[0m \u001b[1;33m\u001b[0m\u001b[0m\n\u001b[1;32m--> 263\u001b[1;33m         \u001b[0mchoice\u001b[0m \u001b[1;33m=\u001b[0m \u001b[0mself\u001b[0m\u001b[1;33m.\u001b[0m\u001b[0mrandom_state\u001b[0m\u001b[1;33m.\u001b[0m\u001b[0mmultinomial\u001b[0m\u001b[1;33m(\u001b[0m\u001b[1;36m1\u001b[0m\u001b[1;33m,\u001b[0m \u001b[0mweights\u001b[0m\u001b[1;33m)\u001b[0m\u001b[1;33m.\u001b[0m\u001b[0margmax\u001b[0m\u001b[1;33m(\u001b[0m\u001b[1;33m)\u001b[0m\u001b[1;33m\u001b[0m\u001b[1;33m\u001b[0m\u001b[0m\n\u001b[0m\u001b[0;32m    264\u001b[0m         \u001b[0mnode\u001b[0m \u001b[1;33m=\u001b[0m \u001b[0mnodes\u001b[0m\u001b[1;33m[\u001b[0m\u001b[0mchoice\u001b[0m\u001b[1;33m]\u001b[0m\u001b[1;33m\u001b[0m\u001b[1;33m\u001b[0m\u001b[0m\n\u001b[0;32m    265\u001b[0m \u001b[1;33m\u001b[0m\u001b[0m\n",
      "\u001b[1;31mKeyboardInterrupt\u001b[0m: "
     ]
    }
   ],
   "source": [
    "hlda = HierarchicalLDA(new_corpus, voc, alpha=alpha, gamma=gamma, eta=eta, num_levels=num_levels)\n",
    "hlda.estimate(n_samples, display_topics=display_topics, n_words=n_words, with_weights=with_weights)"
   ]
  },
  {
   "cell_type": "code",
   "execution_count": 18,
   "metadata": {},
   "outputs": [],
   "source": [
    "import pickle\n",
    "import gzip\n",
    "\n",
    "def save_zipped_pickle(obj, filename, protocol=-1):\n",
    "    with gzip.open(filename, 'wb') as f:\n",
    "        pickle.dump(obj, f, protocol)\n",
    "        \n",
    "def load_zipped_pickle(filename):\n",
    "    with gzip.open(filename, 'rb') as f:\n",
    "        loaded_object = pickle.load(f)\n",
    "        return loaded_object"
   ]
  },
  {
   "cell_type": "code",
   "execution_count": 604,
   "metadata": {},
   "outputs": [],
   "source": [
    "save_zipped_pickle(hlda, 'model/2022_12_22/yahoo_hlda_202211221_c50_level2.pickle')\n",
    "#save_zipped_pickle(hlda, '2022_11_15/yahoo_hlda_default.pickle')"
   ]
  },
  {
   "cell_type": "code",
   "execution_count": 19,
   "metadata": {},
   "outputs": [],
   "source": [
    "hlda = load_zipped_pickle('model/2022_11_29/yahoo_hlda_202209221_c50.pickle')\n",
    "#hlda = load_zipped_pickle('2022_11_15/yahoo_hlda_default.pickle')"
   ]
  },
  {
   "cell_type": "code",
   "execution_count": 21,
   "metadata": {},
   "outputs": [
    {
     "name": "stdout",
     "output_type": "stream",
     "text": [
      "topic=0 level=0 (documents=212): メタノール, 思う, 逮捕, 殺す, 子供, 奥さん, 考える, 事件, 使う, できる, \n",
      "    topic=1 level=1 (documents=53): 殺人, 薬学, 容疑者, 捜査, 無い, 真相, 死ぬ, 分かる, 身内, 取る, \n",
      "        topic=812 level=2 (documents=4): 題材, 内容, 一月, 小説, 書ける, 報道, リーマン, なんだろう, アカン, 身だしなみ, \n",
      "        topic=828 level=2 (documents=11): お母さん, お父さん, ケア, 亡くす, 優秀, 刑務所, 小学生, 憎い, おる, しれる, \n",
      "        topic=840 level=2 (documents=2): 人間, 100ml, 確率, 一瞬, 判る, ヤドクガエル, 自殺, 河豚, 致死量, 生える, \n",
      "        topic=843 level=2 (documents=3): 報道, 容器, 無責任, 出産, 勿体, 発表, 自供, 新た, 目的, 渡る, \n",
      "        topic=845 level=2 (documents=6): 毒物, 劇物, 専門的, 大変, 薬物, 行う, 有機物, 困難, 甚大, 話す, \n",
      "        topic=848 level=2 (documents=3): 待つ, 精神疾患, 薬殺, 海外留学, 薬剤, 鑑定留置, 博士, した, 司法解剖, 統合失調症, \n",
      "        topic=849 level=2 (documents=4): 経緯, 思い出す, 長男, つかう, ものすごい, やわらげる, 見える, 薬剤師, 苦しむ, 競争, \n",
      "        topic=852 level=2 (documents=7): ギ酸, 痛み, 博士号, ホルムアルデヒド, 感じる, ただ, 症状, 規制, お悔やみ申し上げます, 早い, \n",
      "        topic=857 level=2 (documents=2): 知り合い, 子ども, 成長, 傾向, 兆候, 経つ, 半年, 受け手, 見守る, 壊す, \n",
      "        topic=873 level=2 (documents=4): 異常者, 鬼畜, 凄い, 焼死体, タリウム, できる, 働く, 量る, 関の山, 毒性, \n",
      "        topic=877 level=2 (documents=3): 便利, 側面, 永い, 承知, かかる, 精神的, 危険, 年月, 対策, 本気, \n",
      "        topic=879 level=2 (documents=4): 裁判, 判る, 疲れる, 見物, 無罪, 不自然, 異人, ばれる, ニュース, 隠蔽, \n",
      "    topic=3 level=1 (documents=36): 自死, 無い, いい, 捜査, 容疑者, 世の中, 他殺, 思う, 離婚, 入れる, \n",
      "        topic=678 level=2 (documents=5): 摂取, 起訴, 精通, 帰る, やり方, 全国区, 限る, 理系, 誰か, 十分, \n",
      "        topic=772 level=2 (documents=3): 自宅, 分解, 消毒液, 引っかかる, 農家, 破綻, 死ぬ, サリン事件, 20年, 駐車場, \n",
      "        topic=830 level=2 (documents=5): しれる, 至る, 証拠, 製薬, 慎重, 葬る, ロン, 避ける, 市販, 社則, \n",
      "        topic=851 level=2 (documents=7): 検死, バレる, 直ぐ, エタノール, 漂白剤, 一人息子, 殺す, 捕まる, ネット, 電車, \n",
      "        topic=866 level=2 (documents=4): 創薬, 過程, 二人, 承知, 毒殺, 憎しみ, 積み重ね, 人間なんて, きっかけ, 夫婦間, \n",
      "        topic=869 level=2 (documents=4): 職業, 毎日, 殺す, 高学歴, 良識, 良い, 認める, 自白, 証明, 成績, \n",
      "        topic=881 level=2 (documents=4): 分野, やり方, 振る, 関心, 納得, 科捜研, 踏み外す, ドラマ, 問題, 哀れ, \n",
      "        topic=882 level=2 (documents=4): アルコール, 間違える, 起きる, 有毒, 出端, テーブル, わける, 解剖, 意識, 崩す, \n",
      "    topic=7 level=1 (documents=63): 記事, 普通, 入る, 使用, 離婚, 見る, 報道, 研究員, 密造酒, 結果, \n",
      "        topic=443 level=2 (documents=9): 戦後, 失明, メチルアルコール, 混ぜる, 飲む, 言う, 続出, アルコール, 燃料, 医薬品, \n",
      "        topic=726 level=2 (documents=7): 薬学部, キャリア, 大学院, ケンカ, 京都大学, 3年, 寿退社, 就職, 凄い, 同士, \n",
      "        topic=773 level=2 (documents=3): 嘔吐, 生き方, 腹痛, 起こる, 場合, 分解, 代謝, つける, 陳腐, 吸収, \n",
      "        topic=787 level=2 (documents=5): 入れる, 理性, でっち上げ, 疑う, 先生, ニュース, 違和感, 他人事, しかる, 実験室, \n",
      "        topic=833 level=2 (documents=5): 疑問, たくさん, 医薬品, 杜撰, いそ, 結びつける, 仲良し, 勤務先, 残す, 身近, \n",
      "        topic=855 level=2 (documents=5): データ, 続報, 隠す, オボ, ドラマ, ナイト, 不正, 夫婦生活, いたいけな, 有理, \n",
      "        topic=859 level=2 (documents=5): 取得, 修士号, 大学院, 留学, 状況証拠, 入手ルート, 親権, アメリカ, 感情, 博士号, \n",
      "        topic=861 level=2 (documents=10): これだけ, 詳しい, 完全犯罪, ばれる, 使い, 不可解, 聞き入れる, 混ぜる, 続報, たん, \n",
      "        topic=862 level=2 (documents=10): 理由, 死因, 自殺, 解剖, 明らか, 試薬, 無念, お互い, 変死, 無い, \n",
      "        topic=865 level=2 (documents=4): 調べる, メディア, ニュース, 第三国, 解ける, 出回る, 有難い, はめる, 素人, 命懸け, \n",
      "    topic=63 level=1 (documents=8): 感じ, した, フォロー, なのか, あたり, 愛人, 入る, 原因, 仕向ける, 両親, \n",
      "        topic=850 level=2 (documents=4): コナン, 飲ます, すごい, 家庭, 捜査, 分かる, 旦那, 金田一, ひとり, おもう, \n",
      "        topic=876 level=2 (documents=4): 居る, 死刑, 若い, 治験, やばい, 注入, 主婦, 薬品, 結婚, 結局, \n",
      "    topic=541 level=1 (documents=52): 入る, 殺害, 殺す, 良い, 見る, 不倫, 起きる, 可哀想, 思える, 残す, \n",
      "        topic=712 level=2 (documents=4): 混ぜる, お酒, お子さん, 殺害事件, 起す, 悲しい, 以前, 充分, インド, 素晴らしい, \n",
      "        topic=785 level=2 (documents=9): 仕事, 大手, もったいない, 技術, 大学院, おかしい, 無駄, 厳しい, 用いる, 担当, \n",
      "        topic=788 level=2 (documents=6): 飲める, 確か, メチルアルコール, 入れる, かわいそう, のん, メタノール中毒, 頭脳明晰, 失明, 燃料, \n",
      "        topic=807 level=2 (documents=4): 病院, 様子, 薬剤師, いくら, 入れる, 苦しめる, 卑怯, 卑劣, 内容, 自己中心性, \n",
      "        topic=864 level=2 (documents=7): 子ども, 学ぶ, 教育, 息子, 専業, 祖父母, 本当, 成人, 戛戛, 羨ましい, \n",
      "        topic=870 level=2 (documents=6): かわいそう, 一人, 科学者, アメフト部, 残念, 言い張る, 出端, 非科学, 原因, いく, \n",
      "        topic=874 level=2 (documents=9): 旦那, 第三者, 盛る, 企む, 偽装, 濡れ衣, 致死率, 覚悟, 現場, 無念, \n",
      "        topic=878 level=2 (documents=4): 欠片, 第一三共, 言う, バイオエタノール, 話す, 工面, うい, 究明, ホルムアルデヒド, 管理体制, \n",
      "        topic=880 level=2 (documents=3): メチルアルコール, 携わる, 悪い, 開発, 小学校, 関わる, 人材, 博士号, いたむ, 感じ取る, \n"
     ]
    }
   ],
   "source": [
    "hlda.print_nodes(n_words = 10, with_weights = False)"
   ]
  },
  {
   "cell_type": "code",
   "execution_count": 645,
   "metadata": {},
   "outputs": [
    {
     "name": "stdout",
     "output_type": "stream",
     "text": [
      "[衝撃的な事件だけど、これ、防ぎようがないよな。メタノールなんて市販の燃料用アルコールに含まれてるし、家族に毒を盛られるなんて普通は考えない。危険運転なんかもそうだけど、世の中、善意と信頼と常識でなんとか成り立って回ってるのだけど、それを崩す行為が起きると、対処しきれない。]\n",
      "\n",
      "\n",
      "[アルコールランプの燃料はメタノールですよね。取り扱いは注意が必要ですが、入手は簡単で、毒性も広く知られていて、専門家でないと考えつかない殺害方法でもなく、ミステリーでもあまり犯罪に使われない気がしますが。安価で、燃料アルコールは入手可能だったので、戦中戦後に失明したり、中毒でなくなったりという話は聞いたことがあります。]\n",
      "\n",
      "\n",
      "[メタノール、メチルアルコール…\n",
      "小さいとき、メチルアルコールと言っていたが、\n",
      "今はメタノールが一般的？\n",
      "目散る（メチル）でこっちが危ない…と覚えていたが…\n",
      "戦後生まれだが、戦中にこれを飲んで失明…\n",
      "と言うのを小さいときに耳にした\n",
      "酒の変わりに飲んではいけないと…失明すると\n",
      "ロシアで酒に混ぜて販売して死者も出ていたなぁ\n",
      "知らないで混ぜられたら防ぎようがないから怖い]\n",
      "\n",
      "\n",
      "[メタノールって、いわゆるメチルアルコールでしょ？\n",
      "メチルアルコールの致死量って凄い量じゃないの？\n",
      "警察がよく分からなくてメタノールで調書丸めちゃったとしたら、公判開始してから「死因が違う」ってならんかね？]\n",
      "\n",
      "\n",
      "[すごくシンプルな記事なのですが、病死と偽装したと書いてあり別の記事ではメタノールを飲ませたと書いてあった。物証は出たのだろうか？動機があった？奥さんも高学歴の研究者のようだしそう簡単に飲んだらダメなものを飲ませることが可能なのかな？いろいろと興味がでる事件ですが奥様はおいたわしいですしお子さんが可哀想ですね・・。]\n",
      "\n",
      "\n",
      "[戦後はメチル飲んでたって、大きな間違いです。密造酒とかに安いメチルを混ぜていただけ(バクダンとか言われていた)で、メチルを積極的に飲んでいたわけではないし、人体に非常に有害なので当然法律で禁止でした。燃料用アルコールとか、航空機用燃料とか。失明するだけ?? 冗談ではない、死亡者続出でしたよ。適当なことを書かないでください。\n",
      "ググってみなさい。戦後、メチル、バクダン　密造酒。]\n",
      "\n",
      "\n"
     ]
    }
   ],
   "source": [
    "def get_document_path(hlda, doc_index):\n",
    "    node = hlda.document_leaves[doc_index]\n",
    "    path = []\n",
    "    while node is not None:\n",
    "        path.append(node.node_id)\n",
    "        node = node.parent\n",
    "    path.reverse()\n",
    "    return path\n",
    "\n",
    "def get_document_path_list(hlda, corpus):\n",
    "    document_path_list = []\n",
    "    for i in range(len(corpus)):\n",
    "        path = get_document_path(hlda, i)\n",
    "        document_path_list.append(path)\n",
    "    return document_path_list\n",
    "\n",
    "def print_topic_document(corpus, path_list, topic_id):\n",
    "    document_index_list = []\n",
    "    for i, path in enumerate(path_list):\n",
    "        if topic_id in path:\n",
    "            document_index_list.append(i)\n",
    "    if len(document_index_list) == 0:\n",
    "        print(f\"{topic_id}がみつかりません\")\n",
    "    for i in document_index_list:\n",
    "        print(f\"[{corpus[i]}]\")\n",
    "        print(\"\\n\")\n",
    "\n",
    "path_list = get_document_path_list(hlda, corpus)\n",
    "print_topic_document(row_data, path_list, 134)"
   ]
  },
  {
   "cell_type": "code",
   "execution_count": 566,
   "metadata": {},
   "outputs": [
    {
     "name": "stdout",
     "output_type": "stream",
     "text": [
      "[同業種として化学薬品でこういうことされるとさ、無駄に管理が厳しくなったり余計な仕事が増えたりするから勘弁してもらいたいわ。迷惑千万ですわ。]\n",
      "\n",
      "\n",
      "[この事件はなにかおかしい、他にも書かれているが薬の専門家がメタノールなんてすぐにバレるものを使うとは思えんがな]\n",
      "\n",
      "\n",
      "[研究中の技術を用いて痛みなくサツガイしたんでしょうかね…\n",
      "不倫がこじれたのか、妻からのアカハラみたいなのがあったのか、何かプレッシャーを与えられていたのか…想像しても邪推にしかならない。\n",
      "亡くなられた奥さん成仏のためにも、正直に話した方がいいと思いますよ。]\n",
      "\n",
      "\n",
      "[新薬開発を担当していながらメタノール。以前に高校生が筋弛緩剤を合成した犯罪があったが、大手製薬会社の技術レベルがそれ以下だったとなる。]\n",
      "\n",
      "\n",
      "[奥さんの方が優秀だったんだろうね。\n",
      "同業で結婚して家で仕事の話でいじられる。\n",
      "そんなとこじゃないかな。\n",
      "メタノールか。肝硬変とかかな。時間かけたのかな。]\n",
      "\n",
      "\n",
      "[やっぱり地方の国立薬学部卒程度では、名の知れたメーカーは無理だよな。メーカーに入らないで\n",
      "良かった。しかし、、、もったいない。全て人生終わったようなもん。]\n",
      "\n",
      "\n",
      "[これを機に、金持ちと結婚したいと思わないことだな。\n",
      "モラハラと誰のお金でとか役立たずとか人格否定されるのが鉄板！]\n",
      "\n",
      "\n",
      "[製薬大手「第一三共」研究員が仕事の薬品開発の知識を使って妻を毒殺したことはこういう大手の会社でも起きることが信じられない。]\n",
      "\n",
      "\n",
      "[亡くなった嫁さんは、京都大大学院を修了後～～～１０年に結婚後、退職、って、めっちゃかしこやのに、なんかもったいないな]\n",
      "\n",
      "\n"
     ]
    }
   ],
   "source": [
    "path_list = get_document_path_list(hlda, corpus)\n",
    "print_topic_document(row_data, path_list, 785)"
   ]
  },
  {
   "cell_type": "code",
   "execution_count": null,
   "metadata": {},
   "outputs": [],
   "source": []
  }
 ],
 "metadata": {
  "kernelspec": {
   "display_name": "Python 3",
   "language": "python",
   "name": "python3"
  },
  "language_info": {
   "codemirror_mode": {
    "name": "ipython",
    "version": 3
   },
   "file_extension": ".py",
   "mimetype": "text/x-python",
   "name": "python",
   "nbconvert_exporter": "python",
   "pygments_lexer": "ipython3",
   "version": "3.8.1"
  }
 },
 "nbformat": 4,
 "nbformat_minor": 4
}
