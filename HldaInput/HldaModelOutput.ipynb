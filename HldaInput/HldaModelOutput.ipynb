{
 "cells": [
  {
   "cell_type": "code",
   "execution_count": 1,
   "id": "e17ee732-6a31-4066-a7f9-7306ea272868",
   "metadata": {},
   "outputs": [],
   "source": [
    "import sys\n",
    "sys.path.append('../Data')\n",
    "\n",
    "import pandas as pd\n",
    "import numpy as np\n",
    "import time\n",
    "from CommentDataset import CommentDataset"
   ]
  },
  {
   "cell_type": "code",
   "execution_count": 2,
   "id": "b5dd2339-9c5a-4612-b3df-ef60a86fd825",
   "metadata": {},
   "outputs": [],
   "source": [
    "comment_list_name = \"20230627_mynumbercard_untenmenkyosyou\"\n",
    "comment_list_path = \"2023_06_27/\" + comment_list_name + \".csv\"\n",
    "\n",
    "model_path = \"model/pickle/2023_06_27/20230627_mynumbercard_untenmenkyosyou_default.pickle\""
   ]
  },
  {
   "cell_type": "code",
   "execution_count": 3,
   "id": "5cd6018f-163c-4033-af35-88ba51f09a94",
   "metadata": {},
   "outputs": [],
   "source": [
    "# 指定すべき文字コードはファイルによる\n",
    "df = pd.read_csv(\"../Data/yahoo/\"+comment_list_path, encoding=\"utf-8\", header=None)\n",
    "comment_list = df[0][1:].to_numpy().tolist()\n",
    "comment_dataset = CommentDataset(comment_list)\n",
    "comment_dataset.delete_comment_specified_string(50)\n",
    "comment_dataset.formatted_input_hlda()"
   ]
  },
  {
   "cell_type": "code",
   "execution_count": 4,
   "id": "614b0772-7212-4a03-af72-a7b11036d38d",
   "metadata": {},
   "outputs": [],
   "source": [
    "from model.HldaModel import ExpandHldaModel\n",
    "\n",
    "expandHlda = ExpandHldaModel(pickle_path=model_path)"
   ]
  },
  {
   "cell_type": "code",
   "execution_count": 5,
   "id": "71aedd85-f1b7-43ba-8647-977b3cf4cd61",
   "metadata": {},
   "outputs": [
    {
     "name": "stdout",
     "output_type": "stream",
     "text": [
      "topic=0 level=0 (documents=528): れる, マイナンバーカード, 国民, できる, 思う, 運転免許証, 免許証, カード, 保険証, 政府, \n",
      "    topic=1 level=1 (documents=111): 無くす, できる, トラブル, 役所, リスク, 場合, 増える, 運転免許証, 運転, 中国, \n",
      "        topic=2 level=2 (documents=41): 発行, 紛失, 行く, かかる, 身分証, 病院, 1枚, 手続き, 役所, ヶ月, \n",
      "        topic=24 level=2 (documents=5): 誤る, 河野太郎, 好き, 岸田文雄, 現金, 一族, 一緒に, 引き出す, いとこ, 真似, \n",
      "        topic=61 level=2 (documents=12): 支持率, 岸田, 公的, 総理, 何処, 終わる, 有る, 上がる, 無視, 強引, \n",
      "        topic=290 level=2 (documents=10): どこ, 腐る, 政権, 分り, 見える, 結果, おかしい, 役立つ, 見切り, 火に油を注ぐ, \n",
      "        topic=709 level=2 (documents=10): 実装, 逃れ, 不正, 盗む, 項目, 初期, 破産, 感じる, 早い, システム, \n",
      "        topic=1244 level=2 (documents=3): smartphone, 失敗, まとも, 別人, 集団, 強行, 犯罪者, 権化, 酷い, 支障, \n",
      "        topic=1257 level=2 (documents=4): レベル, リリース, かう, もってのほか, 飛びつく, 絶対, しれる, 小さい, テスト, 譲れる, \n",
      "        topic=1330 level=2 (documents=6): 行政, すべて, 組織, 怒りの声, 遅れ, 閲覧, 私たち, 年金, 背番号, 過去, \n",
      "        topic=1346 level=2 (documents=7): 皆さん, 大臣, デジタル, 入る, ウソ, 怒る, 認識, いいんじゃない, 不手際, かな, \n",
      "        topic=1347 level=2 (documents=4): 内閣, 成立, 割合, 問題, 流石, 負け, 打つ, 負える, 負う, 賠償, \n",
      "        topic=1354 level=2 (documents=5): 合格, バッチ, 試験, スクランブル, オークション, 従う, 自動車, まるい, 医師, 私利私欲, \n",
      "        topic=1355 level=2 (documents=4): 人間, gdgd, きめる, データ管理, 仕業, 結論, 隣国, 目論む, 方向, 覗く, \n",
      "    topic=4 level=1 (documents=55): 税金, 都合, 負う, 考える, 個人, やつ, 健康保険証, 外国人, 指摘, 破綻, \n",
      "        topic=6 level=2 (documents=6): スマホ, 模試, 補完, 速やか, 保持, 自治体, 有益, 流行, 管理, 持ち運び, \n",
      "        topic=1259 level=2 (documents=6): 所持, 病院, 行く, 知れる, 最後, 革命, 利用, モリカケ, 相反, 相当, \n",
      "        topic=1276 level=2 (documents=4): 原案, 複雑, 悪い, ラーメン, ご飯論法, 自信, 壊す, 断罪, ゲキ, 意外, \n",
      "        topic=1302 level=2 (documents=5): 余計, 薄手, ミス, 自由, 想定外, 思える, 泥棒, 見本, 遭う, 増やす, \n",
      "        topic=1335 level=2 (documents=7): 盗む, 監視, 保管, そうだ, 決め手, 部署, 仰ぐ, 職員, 書類, リーダー, \n",
      "        topic=1348 level=2 (documents=4): 使い回し, 危機管理, 無駄, いい, ライン, 至上主義, 十分, 電気, づくり, 黙る, \n",
      "        topic=1351 level=2 (documents=6): 効率化, 行政, 独裁国家, 河野太郎, まずい, 犯罪歴, 状態, 事実, 社会, 業務, \n",
      "        topic=1359 level=2 (documents=6): 申請, 同意, 一部の人, 与える, 恐ろしい, 全て, 当たり前, 企む, 優劣, 避ける, \n",
      "        topic=1362 level=2 (documents=11): おかしい, 身分証, お前, 危ない, おかしな話, 生体認証, 押し付ける, 言葉, 悪用, つける, \n",
      "    topic=7 level=1 (documents=48): 銀行, 任意, 携帯, なのか, 明らか, 可能性, 場合, 過ぎる, オンライン, 外堀, \n",
      "        topic=136 level=2 (documents=16): 銀行口座, 本人確認, 携帯電話, やり方, 計画, 公的個人認証, 書類, 開設, 偽造, 契約, \n",
      "        topic=986 level=2 (documents=8): 必要性, 来る, 使用, 住民票, 仕事, お巡りさん, いま, 止める, 印鑑証明, 身分, \n",
      "        topic=1209 level=2 (documents=5): 連携, 今度, 役人, 権益, 統一, 書く, カードリーダー, 見切り, 組み入れる, 厚労省, \n",
      "        topic=1289 level=2 (documents=5): 役人, 無能, 議員, 悪意, 自覚, 段階的, ダメージ, 嫌う, 払う, ふつー, \n",
      "        topic=1307 level=2 (documents=1): 厳重, 反則, 黙る, 公務員, 公的, 公明党, 公明, 公式ホームページ, 公式, 公平性, \n",
      "        topic=1344 level=2 (documents=8): 無能, 日本政府, 面倒, それ, ライセンス, 保持, 行う, 警察, 見え, 処理, \n",
      "        topic=1350 level=2 (documents=5): 活用, 示す, 向ける, 名寄せ, 導入, 取り込む, 分離, 保管, 利益, ロードマップ, \n",
      "    topic=10 level=1 (documents=48): 勝手, 得る, 無い, 社会, やめる, 取得, 印鑑証明, 自治体, 増税, これ, \n",
      "        topic=1226 level=2 (documents=8): ヒューマンエラー, コード, 基本, 整備, 裁判, 知る, 企業, 間違い, 本気, 社会保障, \n",
      "        topic=1236 level=2 (documents=9): 友達, 利己, トヨタ, 本末転倒, 開始, 支持, 逆転, 身内, サービス, 入社式, \n",
      "        topic=1297 level=2 (documents=3): 取り扱い, 一切, 間違い, 中心, 無駄, 口座, 管轄, 役所, 議論, おける, \n",
      "        topic=1314 level=2 (documents=7): 行く, 怒る, 悪い, 市役所, 確実, 理想, 見切り, 現実, 危険すぎる, 浮かぶ, \n",
      "        topic=1338 level=2 (documents=4): ホリエモン, 言葉遊び, おじさん, 強行, 確実, 社会, 取り締まり, あたり, にも, 内包, \n",
      "        topic=1352 level=2 (documents=6): 公式, 競争, 苦情, 既存, 真剣, ゲーム機, 打ち込む, 並行, 打つ, 説明, \n",
      "        topic=1356 level=2 (documents=6): 恐ろしい, 状態, つる, 想像, 限り, 国々, 体制, 見せる, 自由, 自公, \n",
      "        topic=1364 level=2 (documents=5): 市町村, 撒く, ばら, 不思議, 受け入れる, 都道府県, 大変, 故意, ボロボロ, 特別, \n",
      "    topic=13 level=1 (documents=45): 免許証, 状態, 有効, エラー, 記載, 集約, 身分証明書, 見る, 番号, 事項, \n",
      "        topic=46 level=2 (documents=17): 免許, 確認, 端末, 機器, 身分, 不具合, 運行管理者, 取り締まり, 所持, チェック, \n",
      "        topic=849 level=2 (documents=9): 信用, 個人情報, 横行, バイト, 破綻, 姑息, やり方, 危険, 管轄, 実質的, \n",
      "        topic=1282 level=2 (documents=14): 未来, 強引, 財務省, 現在, 拙速, 違う, 1本, 落とす, それぞれ, 残る, \n",
      "        topic=1308 level=2 (documents=5): 破綻, 振り回す, 思いつき, なな, システム開発, かわり, 急増, メガバンク, 替え, 原因, \n",
      "    topic=17 level=1 (documents=52): 作る, 政治家, 個人, 本人確認, かかる, 政策, 無い, 不便, システム, ミス, \n",
      "        topic=1056 level=2 (documents=10): 犯罪, 監視, 売買, 勤め先, 悪事, クレジットカード, 行く, 戸籍, 書き換え, 最初, \n",
      "        topic=1190 level=2 (documents=6): ソーダ, 発覚, 放題, 刻む, 正視, 利益, 誤認, ゲル, 大元, 拡大, \n",
      "        topic=1211 level=2 (documents=10): 普及, メリット, 禁止, 自然, 抜け道, 本来, 価値, 値する, 邪道, 淘汰, \n",
      "        topic=1218 level=2 (documents=6): リスト, 衝撃, 子ども, 母子手帳, つぎ込む, 判断, 先日, 与党, 慌てる, 下落, \n",
      "        topic=1256 level=2 (documents=2): 議員, 付ける, 貯金, 財産, 仕組み, 課税, 会社員, 搾り取る, 閲覧, 支給, \n",
      "        topic=1326 level=2 (documents=4): 値上がり, たち, 刑務所, 狂気, ガソリン, 給料, 自助努力, 送り, 物価, 守る, \n",
      "        topic=1341 level=2 (documents=5): 埋め込む, 投票, マイクロチップ, 恐ろしい, 低い, 大勢, 任せる, 断言, 歴史, 以来, \n",
      "        topic=1365 level=2 (documents=6): モバイル, ビジネスマン, 強引, 運用, お金, 推し進める, 目処, 一流, スポーツマン, システム, \n",
      "        topic=1368 level=2 (documents=3): 選挙, 個人情報流出, 官僚, 加入, 聞く, あと, ウマ, 下す, 飲酒運転, ども, \n",
      "    topic=25 level=1 (documents=101): 国民, 言う, これ, できる, 日本, デジタル化, 行く, わかる, せる, 起こる, \n",
      "        topic=55 level=2 (documents=26): 更新, 違反, ブルー, 警察官, 運転免許, 免許更新, 場合, 期限, なん, ゴールド, \n",
      "        topic=79 level=2 (documents=33): 自民党, 選挙, 政権, 投票, 皆さん, 公明党, 政治, 与党, 自公, 政党, \n",
      "        topic=567 level=2 (documents=12): 最初, 必須, 対応, 自分, 故障, 日本政府, 進む, 命令, 世界の支配者, 人類, \n",
      "        topic=1153 level=2 (documents=6): 日本人, あげる, 行う, デジタル, 完全, すべて, 目的, 基本的, 日本政府, いくら, \n",
      "        topic=1319 level=2 (documents=3): 思う, 分散, 役割, 表面, 頼る, システム, 確認, 隠す, 公的, 利益, \n",
      "        topic=1332 level=2 (documents=6): 携帯, 整備, 常時, 政策, 働く, 政治家, しな, インフラ, 家庭, なれる, \n",
      "        topic=1363 level=2 (documents=5): 外国, 言える, 軽視, 時点, ついていける, 毎日, 携帯, 自民, 社会実験, 仕組み, \n",
      "        topic=1366 level=2 (documents=4): 運転免許, 肌身, 離す, 出端, リスク, 一個, 纏める, 素人, 組織, 集団, \n",
      "        topic=1371 level=2 (documents=6): どっち, 面倒くさい, こっち, 国家, 陰謀, 嫌がる, 関係, 御国, 税収, 釣る, \n",
      "    topic=28 level=1 (documents=17): 公安, 大臣, 信じる, エネルギー, 中国, 芋づる, ウクライナ, 情報管理, 調査, ぼく, \n",
      "        topic=1149 level=2 (documents=6): 甘い, 順番, 多発, 考慮, しょう, パスポート, 続く, 仕業, 持てる, 精神科, \n",
      "        topic=1267 level=2 (documents=4): まとめる, 不具合, 無責任, 使い物, 願い下げ, 保証, 押す, 不幸, 各々, 狭める, \n",
      "        topic=1271 level=2 (documents=4): 法律, 閲覧, 医療, 資産, 違い, 優位, 利子, もも, 交付, 活動, \n",
      "        topic=1311 level=2 (documents=3): 盗む, なくす, これ, 三年, 釣る, タイ王国, 批判, 全区, 全員, 公的個人認証, \n",
      "    topic=395 level=1 (documents=51): 警察, 本人, 顔写真, 関係, 役所, 検問, 多い, 発行, 政権, 結局, \n",
      "        topic=1026 level=2 (documents=11): 機械, 交通違反, パトカー, 専用, 全体, 表面, 運転免許証, 免許, 入力, 取締り, \n",
      "        topic=1220 level=2 (documents=6): 強い, 無駄使い, つながり, ミス, 何処, たくさん, 割り, つく, 大物, 下がる, \n",
      "        topic=1317 level=2 (documents=5): 推し進める, 考え, 減る, 盗む, 人任せ, 止める, 面倒, 転売ヤー, 次第, 最終的, \n",
      "        topic=1325 level=2 (documents=9): 制度, 身分証, 徹底的, 加える, 使用, 取締, 複数, 次第, 違う, 一緒に, \n",
      "        topic=1336 level=2 (documents=1): みえみえ, 保有, える, 来年, 医者, どなた, 延期, 公安委, 公的, 公明党, \n",
      "        topic=1345 level=2 (documents=6): 日本の運転免許, オランダ, 取り上げる, られる, 外国, 通名記載, 認める, くっつける, 出向く, 政治, \n",
      "        topic=1353 level=2 (documents=10): 病院, 動く, アホ, 運転, めちゃくちゃ, サイド, 仕組み, たくさん, 切れ, 免停, \n",
      "        topic=1360 level=2 (documents=3): 手間隙, お金, 掛ける, 場面, 運転経歴証明書, 手数料, 経つ, 加減, 出頭, 他人, \n"
     ]
    }
   ],
   "source": [
    "expandHlda.print_nodes(words = 10, weights = False)"
   ]
  },
  {
   "cell_type": "code",
   "execution_count": 27,
   "id": "56a70bdd-3dc9-425b-9bb5-162244dcc142",
   "metadata": {},
   "outputs": [
    {
     "name": "stdout",
     "output_type": "stream",
     "text": [
      "[アメリカでは運転免許証が本人確認の良い方法となっている。\n",
      "運転免許証を提示すると拳銃だって購入が可能だ。\n",
      "\n",
      "現在の日本でも本人確認には運転免許証が非常に有効。\n",
      "何故、運転免許証が本人確認に使えなくなるのは何の意味？\n",
      "\n",
      "上手くいっている物を壊して、上手く行かないようにしたいのか？]\n",
      "\n",
      "\n",
      "[これ、もしも他所に出かけた時に無くしてしまったらどうなるんでしょ？\n",
      "再発行はもちろんですが、本当に悪用されないんですかね…\n",
      "最近はSNSの写真から指紋を取って指紋認証ロックを解除出来てしまうとかって言ってるのに、マイナカードなんて落としたらとんでもないことになりそう…]\n",
      "\n",
      "\n",
      "[政治がとても大事だと言うことが皆わかったと思う。\n",
      "これで選挙に行こうと思う人が増えることを望む。\n",
      "自民党、公明党、維新では地獄のまま。]\n",
      "\n",
      "\n",
      "[私は生粋のペーパードライバーだが、身分証明証としての免許にはとても感謝している。なぜ、しなくてもいいことばかりするんだろう。]\n",
      "\n",
      "\n",
      "[免許証の警察利権が折れたか。じゃあパスポート更新するわ。役人がテキトーな顔写真貼るマイナカードが最も胡散臭いから。]\n",
      "\n",
      "\n",
      "[国民の皆さん、全力で自民党を政権与党から引きずり降ろしましょう。\n",
      "でないと、今の中国より恐ろしいことになりますよ。]\n",
      "\n",
      "\n"
     ]
    }
   ],
   "source": [
    "expandHlda.print_topic_document(comment_list=comment_list, corpus=comment_dataset.comment_list, topic_id=7)"
   ]
  },
  {
   "cell_type": "code",
   "execution_count": null,
   "id": "3ba3ae81-5189-462e-a305-bf201ac24262",
   "metadata": {},
   "outputs": [],
   "source": []
  }
 ],
 "metadata": {
  "kernelspec": {
   "display_name": "Python 3 (ipykernel)",
   "language": "python",
   "name": "python3"
  },
  "language_info": {
   "codemirror_mode": {
    "name": "ipython",
    "version": 3
   },
   "file_extension": ".py",
   "mimetype": "text/x-python",
   "name": "python",
   "nbconvert_exporter": "python",
   "pygments_lexer": "ipython3",
   "version": "3.8.10"
  }
 },
 "nbformat": 4,
 "nbformat_minor": 5
}
