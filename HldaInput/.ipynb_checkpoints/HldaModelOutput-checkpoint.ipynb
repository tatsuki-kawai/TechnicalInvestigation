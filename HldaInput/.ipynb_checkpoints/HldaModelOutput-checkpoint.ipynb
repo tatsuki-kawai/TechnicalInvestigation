{
 "cells": [
  {
   "cell_type": "code",
   "execution_count": 1,
   "id": "e17ee732-6a31-4066-a7f9-7306ea272868",
   "metadata": {},
   "outputs": [],
   "source": [
    "import sys\n",
    "sys.path.append('../Data')\n",
    "\n",
    "import pandas as pd\n",
    "import numpy as np\n",
    "import time\n",
    "from CommentDataset import CommentDataset"
   ]
  },
  {
   "cell_type": "code",
   "execution_count": 2,
   "id": "b5dd2339-9c5a-4612-b3df-ef60a86fd825",
   "metadata": {},
   "outputs": [],
   "source": [
    "comment_list_name = \"20230627_mynumbercard_untenmenkyosyou\"\n",
    "comment_list_path = \"2023_06_27/\" + comment_list_name + \".csv\"\n",
    "\n",
    "model_path = \"model/pickle/2023_06_27/20230627_mynumbercard_untenmenkyosyou_default.pickle\""
   ]
  },
  {
   "cell_type": "code",
   "execution_count": null,
   "id": "5cd6018f-163c-4033-af35-88ba51f09a94",
   "metadata": {},
   "outputs": [],
   "source": [
    "# 指定すべき文字コードはファイルによる\n",
    "df = pd.read_csv(\"../Data/yahoo/\"+comment_list_path, encoding=\"utf-8\", header=None)\n",
    "comment_list = df[0][1:].to_numpy().tolist()\n",
    "comment_dataset = CommentDataset(comment_list)\n",
    "comment_dataset.delete_comment_specified_string(50)\n",
    "comment_dataset.formatted_input_hlda()"
   ]
  },
  {
   "cell_type": "code",
   "execution_count": null,
   "id": "614b0772-7212-4a03-af72-a7b11036d38d",
   "metadata": {},
   "outputs": [],
   "source": [
    "from model.HldaModel import ExpandHldaModel\n",
    "\n",
    "expandHlda = ExpandHldaModel(pickle_path=model_path)"
   ]
  },
  {
   "cell_type": "code",
   "execution_count": null,
   "id": "71aedd85-f1b7-43ba-8647-977b3cf4cd61",
   "metadata": {},
   "outputs": [],
   "source": [
    "expandHlda.print_nodes(words = 10, weights = True)"
   ]
  },
  {
   "cell_type": "code",
   "execution_count": null,
   "id": "56a70bdd-3dc9-425b-9bb5-162244dcc142",
   "metadata": {},
   "outputs": [],
   "source": [
    "expandHlda.print_topic_document(comment_list=comment_list, corpus=comment_dataset.comment_list, topic_id=1360)"
   ]
  },
  {
   "cell_type": "code",
   "execution_count": null,
   "id": "3d7f4fc0-a082-4d8a-b074-4f86cefb1a6e",
   "metadata": {},
   "outputs": [],
   "source": [
    "print(expandHlda.get_weighted(topic_id=1360))"
   ]
  },
  {
   "cell_type": "code",
   "execution_count": null,
   "id": "4e878880-3493-4366-9c73-0102746134f8",
   "metadata": {},
   "outputs": [],
   "source": []
  }
 ],
 "metadata": {
  "kernelspec": {
   "display_name": "Python 3 (ipykernel)",
   "language": "python",
   "name": "python3"
  },
  "language_info": {
   "codemirror_mode": {
    "name": "ipython",
    "version": 3
   },
   "file_extension": ".py",
   "mimetype": "text/x-python",
   "name": "python",
   "nbconvert_exporter": "python",
   "pygments_lexer": "ipython3",
   "version": "3.8.10"
  }
 },
 "nbformat": 4,
 "nbformat_minor": 5
}
