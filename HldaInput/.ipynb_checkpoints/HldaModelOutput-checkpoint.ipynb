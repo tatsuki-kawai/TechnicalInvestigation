{
 "cells": [
  {
   "cell_type": "code",
   "execution_count": 28,
   "id": "e17ee732-6a31-4066-a7f9-7306ea272868",
   "metadata": {},
   "outputs": [],
   "source": [
    "import sys\n",
    "sys.path.append('../Data')\n",
    "\n",
    "import pandas as pd\n",
    "import numpy as np\n",
    "import time\n",
    "from CommentDataset import CommentDataset"
   ]
  },
  {
   "cell_type": "code",
   "execution_count": 29,
   "id": "b5dd2339-9c5a-4612-b3df-ef60a86fd825",
   "metadata": {},
   "outputs": [],
   "source": [
    "comment_list_name = \"20230627_mynumbercard_untenmenkyosyou\"\n",
    "comment_list_path = \"2023_06_27/\" + comment_list_name + \".csv\"\n",
    "\n",
    "model_path = \"model/pickle/2023_06_27/20230627_mynumbercard_untenmenkyosyou_default.pickle\""
   ]
  },
  {
   "cell_type": "code",
   "execution_count": 30,
   "id": "5cd6018f-163c-4033-af35-88ba51f09a94",
   "metadata": {},
   "outputs": [],
   "source": [
    "# 指定すべき文字コードはファイルによる\n",
    "df = pd.read_csv(\"../Data/yahoo/\"+comment_list_path, encoding=\"utf-8\", header=None)\n",
    "comment_list = df[0][1:].to_numpy().tolist()\n",
    "comment_dataset = CommentDataset(comment_list)\n",
    "comment_dataset.delete_comment_specified_string(50)\n",
    "comment_dataset.formatted_input_hlda()"
   ]
  },
  {
   "cell_type": "code",
   "execution_count": 25,
   "id": "614b0772-7212-4a03-af72-a7b11036d38d",
   "metadata": {},
   "outputs": [],
   "source": [
    "from model.HldaModel import ExpandHldaModel\n",
    "\n",
    "expandHlda = ExpandHldaModel(pickle_path=model_path)"
   ]
  },
  {
   "cell_type": "code",
   "execution_count": 26,
   "id": "71aedd85-f1b7-43ba-8647-977b3cf4cd61",
   "metadata": {},
   "outputs": [
    {
     "name": "stdout",
     "output_type": "stream",
     "text": [
      "topic=0 level=0 (documents=528): れる, マイナンバーカード, こと, できる, 思う, 運転免許証, 免許証, カード, 保険証, 紛失, \n",
      "    topic=1 level=1 (documents=158): てる, 国民, 言う, 政府, これ, 管理, 責任, 任意, 全て, 岸田, \n",
      "        topic=2 level=2 (documents=16): 発行, 病院, 身分証, 乗れる, 週間, その間, 大変, 実装, 複数, 詐欺, \n",
      "        topic=11 level=2 (documents=9): スマホ, 補完, 速やか, どちら, 保存, 不利益, 検討, 入力, スピード違反, 自己, \n",
      "        topic=13 level=2 (documents=11): 中国, 利権, 自民党, まみれ, 発車, 移住, 引っ張る, すぎ, 一緒に, 見切り, \n",
      "        topic=18 level=2 (documents=14): 免許, 確認, 身分, 機器, 端末, エラー, 記載, チェック, 取り締まり, 所持, \n",
      "        topic=19 level=2 (documents=16): 支持率, 総理, 責任, 取る, なさる, 下がる, これだけ, 証明, 公的, パスワード, \n",
      "        topic=316 level=2 (documents=8): リスク, 始まる, 混乱, 纏める, 危うい, 当日, マイナンバー制度, 磁気記録, 24時間, 発車, \n",
      "        topic=387 level=2 (documents=10): 怖い, 関わる, 1度, ソーダ, 解釈, ただ, 反対, デメリット, 安全, 一体化, \n",
      "        topic=443 level=2 (documents=7): 埋め込む, マイクロチップ, 年配, 顔パス, 行う, 防止, まとめ, 常時, 常識, 皮肉, \n",
      "        topic=450 level=2 (documents=4): 強い, 強権, 改悪, 盗む, 確か, ほける, 欲しい, 回復, いける, 変更, \n",
      "        topic=460 level=2 (documents=4): アメリカ, 免許不携帯, ちゃん, 失敗, 乗りまわす, 費用対効果, 詰め込む, 社会保障, なりすます, 家電製品, \n",
      "        topic=462 level=2 (documents=8): 警察署, お金, もらえる, 賛成, 期間, 市役所, 外国企業, 使用者, 賃金, 逮捕, \n",
      "        topic=467 level=2 (documents=7): ダメ, かける, 想定外, 今後, 一つ, トヨタ, 利己, 友達, 解る, ついてる, \n",
      "        topic=469 level=2 (documents=9): 段階, 感じる, 匂い, 最初, 当たり前, ホリエモン, 免停, 続く, 如何わしい, 付け回す, \n",
      "        topic=477 level=2 (documents=5): 民意, 付き, 吐き気, 紛失, 単体, 粗末, 矛盾, ガン無視, 怒りの声, 参照, \n",
      "        topic=478 level=2 (documents=8): 1枚, 持つ, お前, 監視, 10倍, 早い, 勝手, 押し付ける, 成熟, 複数, \n",
      "        topic=485 level=2 (documents=8): 賛成, システム, つく, こと, 意思表示, 拙速, 借りる, 警察利権, 襲撃, 安定, \n",
      "        topic=496 level=2 (documents=6): 財務省, 保持, 軽い, あげる, 神輿, 運転経歴証明書, 義務, 実行, 志望, 実務, \n",
      "        topic=500 level=2 (documents=3): 責任者, ある時, 検討, 見解, 切れ, 公開, 評価, 3枚, 実用, 法案, \n",
      "        topic=501 level=2 (documents=5): 国家, 担ぐ, 崩壊, 退職, 徹底的, 翻す, 本名, 過労, かざす, ごと, \n",
      "    topic=3 level=1 (documents=147): 国民, てる, 言う, 政府, せる, 日本, 任意, 作る, 強制, これ, \n",
      "        topic=20 level=2 (documents=16): 本人確認, 銀行口座, 開設, 書類, コピー, 携帯電話, 契約, 公的個人認証, 銀行, 使える, \n",
      "        topic=29 level=2 (documents=25): 選挙, 自民党, 投票, 政権, 行く, 自公, 政治, 任せる, 独裁国家, 私たち, \n",
      "        topic=55 level=2 (documents=20): 更新, 違反, 警察官, 暗証番号, ブルー, 機械, 誕生日, ゴールド, 時期, 故障, \n",
      "        topic=428 level=2 (documents=12): 家畜, 様々, 世界の支配者, 模試, 役立つ, 命令, 反発, 日本政府, 制度, 最大限, \n",
      "        topic=441 level=2 (documents=7): 犯罪, クレジットカード, チップ, 亡くなる, 売買, 書き換え, ちゃう, 勤め先, 野郎, 戸籍, \n",
      "        topic=458 level=2 (documents=8): ばら, 市町村, 撒く, 促進, 順番, 支持, 甘い, 所持, しょう, 物事, \n",
      "        topic=461 level=2 (documents=5): バイト, 整備, 運転免許, 地上波, 物理, わからん, 回す, 人質, 検証, 本当, \n",
      "        topic=463 level=2 (documents=5): 後進, 負う, 滅びる, 大丈夫, 証明, 詐欺被害, 無駄, 実害, 分割, 起きる, \n",
      "        topic=466 level=2 (documents=9): 常時, 公式, 悪い, 原案, 携帯, 健保, 苦情, はず, 各種, スポーツマン, \n",
      "        topic=473 level=2 (documents=6): 来年, 遣る, 指示, 時代, 住民票, 許す, 関係, 付く, 酷い, きた, \n",
      "        topic=481 level=2 (documents=9): 議員, 役人, 無能, 試験, バッチ, 分かる, 加減, 合格, スクランブル, 某国, \n",
      "        topic=487 level=2 (documents=5): 犯罪者, 薄手, 一本化, 尽くす, かかわる, 外堀, 専制, 本人認証, づける, 仲間入り, \n",
      "        topic=489 level=2 (documents=9): 下さる, 掛かる, 作成, 癒着, ここ, 分かる, 変わる, 付け, ナンバー, 義務化, \n",
      "        topic=492 level=2 (documents=6): 資産, 閲覧, 財産, 議員, 公安, 年金, 年間, 自民党, これ, 貯金, \n",
      "        topic=498 level=2 (documents=5): 効率化, 徴収, 犯罪歴, 確立, 河野太郎, こうる, 同様, 物凄い, 報告, 躊躇, \n",
      "    topic=5 level=1 (documents=122): 国民, てる, 言う, せる, 政府, 問題, 作る, 管理, これ, よう, \n",
      "        topic=6 level=2 (documents=8): 皆さん, 期限, くれる, お願い, 無理押し, 身動き, 危なっかしい, 倒す, 大臣, 慎重, \n",
      "        topic=7 level=2 (documents=6): 落とす, 始まる, しまう, かって, ぶっちゃけ, 他所, まみれる, がち, 争奪戦, 写真, \n",
      "        topic=17 level=2 (documents=7): 競争, つく, つる, 緊急時, 替え, 拡大, 自動車, 勝てる, ありがたい, 手段, \n",
      "        topic=288 level=2 (documents=9): 与党, 投票, 潰す, 公明党, エネルギー, 首相, 人間, 意外, もっとも, 老人, \n",
      "        topic=378 level=2 (documents=7): 費用, 未来, 想像, 残る, 議員, データ, そのもの, 繋ぐ, 衝撃, 正しい, \n",
      "        topic=386 level=2 (documents=8): 利益, 機関, 役割, 人達, 背景, 違い, 納税, ずば抜ける, 目立つ, 一体化, \n",
      "        topic=415 level=2 (documents=7): 独裁国家, 変わる, 個人情報流出, 突き進む, 庶民, 子供, 現在, 不可欠, サイド, 意味, \n",
      "        topic=420 level=2 (documents=5): 日本の運転免許, オランダ, 割合, 外国, 取り上げる, 起きる, 返却, 不自由, 認証, 特別, \n",
      "        topic=426 level=2 (documents=4): 加える, 専用, 無免許運転, 一緒に, 現実的, 運用, 事業停止, トラブル, 数字, 不信感, \n",
      "        topic=430 level=2 (documents=10): 普及, 強制, 普通, 自然, 値する, 禁止, 同意, 抜け道, 脅す, 引ける, \n",
      "        topic=449 level=2 (documents=5): 日本政府, 行う, 無能, それ, 原因, 日本人, 世界, 委託, 裕福, 聴く, \n",
      "        topic=464 level=2 (documents=9): コード, 基本, 年寄り, 裁判, 誘導, 場所, 洩れる, 一般, 今回, 構築, \n",
      "        topic=468 level=2 (documents=5): 記載, 前提, 指紋, 限る, 一体型, 違い, 情報管理, しな, 個人番号, ただ, \n",
      "        topic=471 level=2 (documents=11): 仕事, 使用, お巡りさん, 成立, 内閣, 一人, 全員, 電子, 当方, 一番, \n",
      "        topic=490 level=2 (documents=7): 証明, 失効, 飛ぶ, 不愉快, 発電所, 反則金, 無謀, イコール, 併用, 区分, \n",
      "        topic=493 level=2 (documents=4): 政治家, 働く, なれる, 陰謀, おかげ, 作れる, 携帯電話, 怒りの声, 議論, 拡散, \n",
      "        topic=494 level=2 (documents=3): 大学生, 幼稚園, 直行, 国家, 違う, レベル, 出来, 一番, 免許更新, 免許不携帯, \n",
      "        topic=497 level=2 (documents=6): やすい, ダメ, 取得, 複雑, 絡む, 中国共産党, 結局, 同義, ドミノ倒し, 手続, \n",
      "        topic=502 level=2 (documents=1): 行なう, いろは, ブルー, ゴールド, 意識, 黙る, 入れる, 入る, 入り, 免許証, \n",
      "    topic=8 level=1 (documents=101): 国民, てる, 政府, 言う, せる, 個人情報, 出来る, これ, 作る, よう, \n",
      "        topic=9 level=2 (documents=11): 解決, 推し進める, 不具合, ツール, まとめる, 目的, それぞれ, 出し手, 振る, これだけ, \n",
      "        topic=67 level=2 (documents=12): スマホ, モバイル, smartphone, 搭載, 不正, 外国人, 原本, 身分証明証, ペーパードライバー, 機能, \n",
      "        topic=275 level=2 (documents=10): マイナンバー, 毎日, 減る, 背番号, 組織, 確率, オレ, 過去, 進む, 人為, \n",
      "        topic=323 level=2 (documents=3): 項目, 鎮圧, きょう, 各紙, 平日, 立場, 各局, コメンテーター, 証明, インフルエンサー, \n",
      "        topic=360 level=2 (documents=5): 基本, 始まる, 知れる, 作り, ライセンス, 改ざん, 故意, 日本政府, 自公政権, 宅内, \n",
      "        topic=380 level=2 (documents=7): デジタル化, 対応, 日本, 言える, 必須, 20年, 自分, 全て, 徹底的, 世界, \n",
      "        topic=405 level=2 (documents=3): インフラ, 掛かる, 義務化, おもう, 引き出す, 整える, 実績, 破綻, 常時, 理解不能, \n",
      "        topic=442 level=2 (documents=6): 交通違反, パトカー, 専用, 申請, そりゃ, 取締り, 全国, 機械, 白バイ, 聞く, \n",
      "        topic=446 level=2 (documents=4): 解消, レベル, リリース, 安全, 想定, 作る, 不安, 皆さん, アホ, 現状, \n",
      "        topic=475 level=2 (documents=9): 受け取れる, 離す, 赤ちゃん, 認める, 肌身, 通名記載, アナログ, 失敗, 押しつけ, なりふり, \n",
      "        topic=483 level=2 (documents=8): 必要性, 来る, 値上がり, いま, 連絡, モノ, 助かる, 補助, 田舎, 郵便, \n",
      "        topic=484 level=2 (documents=13): 信用, 破綻, 与える, 横行, 管轄, 取り扱い, 公安委員会, 国家, 制度, 崩れる, \n",
      "        topic=495 level=2 (documents=10): 誤る, 好き, 岸田文雄, 勝手, 河野太郎, 銀行口座, 最悪, 引き出す, 自分, 現金, \n"
     ]
    }
   ],
   "source": [
    "expandHlda.print_nodes(words = 10, weights = False)"
   ]
  },
  {
   "cell_type": "code",
   "execution_count": 27,
   "id": "56a70bdd-3dc9-425b-9bb5-162244dcc142",
   "metadata": {},
   "outputs": [
    {
     "name": "stdout",
     "output_type": "stream",
     "text": [
      "[アメリカでは運転免許証が本人確認の良い方法となっている。\n",
      "運転免許証を提示すると拳銃だって購入が可能だ。\n",
      "\n",
      "現在の日本でも本人確認には運転免許証が非常に有効。\n",
      "何故、運転免許証が本人確認に使えなくなるのは何の意味？\n",
      "\n",
      "上手くいっている物を壊して、上手く行かないようにしたいのか？]\n",
      "\n",
      "\n",
      "[これ、もしも他所に出かけた時に無くしてしまったらどうなるんでしょ？\n",
      "再発行はもちろんですが、本当に悪用されないんですかね…\n",
      "最近はSNSの写真から指紋を取って指紋認証ロックを解除出来てしまうとかって言ってるのに、マイナカードなんて落としたらとんでもないことになりそう…]\n",
      "\n",
      "\n",
      "[政治がとても大事だと言うことが皆わかったと思う。\n",
      "これで選挙に行こうと思う人が増えることを望む。\n",
      "自民党、公明党、維新では地獄のまま。]\n",
      "\n",
      "\n",
      "[私は生粋のペーパードライバーだが、身分証明証としての免許にはとても感謝している。なぜ、しなくてもいいことばかりするんだろう。]\n",
      "\n",
      "\n",
      "[免許証の警察利権が折れたか。じゃあパスポート更新するわ。役人がテキトーな顔写真貼るマイナカードが最も胡散臭いから。]\n",
      "\n",
      "\n",
      "[国民の皆さん、全力で自民党を政権与党から引きずり降ろしましょう。\n",
      "でないと、今の中国より恐ろしいことになりますよ。]\n",
      "\n",
      "\n"
     ]
    }
   ],
   "source": [
    "expandHlda.print_topic_document(comment_list=comment_list, corpus=comment_dataset.comment_list, topic_id=7)"
   ]
  },
  {
   "cell_type": "code",
   "execution_count": null,
   "id": "3ba3ae81-5189-462e-a305-bf201ac24262",
   "metadata": {},
   "outputs": [],
   "source": []
  }
 ],
 "metadata": {
  "kernelspec": {
   "display_name": "Python 3 (ipykernel)",
   "language": "python",
   "name": "python3"
  },
  "language_info": {
   "codemirror_mode": {
    "name": "ipython",
    "version": 3
   },
   "file_extension": ".py",
   "mimetype": "text/x-python",
   "name": "python",
   "nbconvert_exporter": "python",
   "pygments_lexer": "ipython3",
   "version": "3.8.10"
  }
 },
 "nbformat": 4,
 "nbformat_minor": 5
}
