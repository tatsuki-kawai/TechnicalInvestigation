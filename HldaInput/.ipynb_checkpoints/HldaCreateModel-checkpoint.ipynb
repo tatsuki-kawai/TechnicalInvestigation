{
 "cells": [
  {
   "cell_type": "code",
   "execution_count": 1,
   "id": "295d48f4-3cde-4f34-8172-5f59a5080651",
   "metadata": {},
   "outputs": [],
   "source": [
    "import sys\n",
    "sys.path.append('../Data')\n",
    "\n",
    "import pandas as pd\n",
    "import numpy as np\n",
    "import time\n",
    "from CommentDataset import CommentDataset"
   ]
  },
  {
   "cell_type": "code",
   "execution_count": 2,
   "id": "4f13f1ee-b2f8-4e24-a243-e5f0d06330f8",
   "metadata": {},
   "outputs": [],
   "source": [
    "comment_list_name = \"AIhyouka_sannkou_gyakutaimiokuri\"\n",
    "comment_list_path = \"2023_07_11/\" + comment_list_name + \".csv\""
   ]
  },
  {
   "cell_type": "code",
   "execution_count": null,
   "id": "07060553-61cd-4b6a-b2d8-6e5bd5d18c4c",
   "metadata": {},
   "outputs": [],
   "source": [
    "# 指定すべき文字コードはファイルによる\n",
    "\n",
    "df = pd.read_csv(\"../Data/yahoo/\"+comment_list_path, encoding=\"utf-8\", header=None)\n",
    "# comment_list = df[0][1:].to_numpy().tolist()\n",
    "comment_list = df[0][1:10].to_numpy().tolist()\n",
    "comment_dataset = CommentDataset(comment_list)\n",
    "comment_dataset.delete_comment_specified_string(50)\n",
    "comment_dataset.formatted_input_hlda(appear_tagging_list=[\"名詞\", \"形容詞\", \"動詞\"], stop_tagging_list=[\"助詞\", \"助動詞\", \"非自立\"])"
   ]
  },
  {
   "cell_type": "code",
   "execution_count": null,
   "id": "d9eeca64-0dd6-4701-bf83-edffc8abb386",
   "metadata": {},
   "outputs": [],
   "source": [
    "from hlda.sampler import HierarchicalLDA\n",
    "\n",
    "#default\n",
    "# n_samples = 500       # no of iterations for the sampler\n",
    "n_samples = 50       # no of iterations for the sampler\n",
    "alpha = 10.0          # smoothing over level distributions\n",
    "gamma = 1.0           # CRP smoothing parameter; number of imaginary customers at next, as yet unused table\n",
    "eta = 0.1             # smoothing over topic-word distributions\n",
    "num_levels = 3        # the number of levels in the tree\n",
    "display_topics = 50   # the number of iterations between printing a brief summary of the topics so far\n",
    "n_words = 10           # the number of most probable words to print for each topic after model estimation\n",
    "with_weights = False  # whether to print the words with the weights"
   ]
  },
  {
   "cell_type": "code",
   "execution_count": null,
   "id": "3a83c6d5-2522-48aa-8f2e-d1bf43fb1819",
   "metadata": {
    "scrolled": true
   },
   "outputs": [],
   "source": [
    "hlda = HierarchicalLDA(comment_dataset.comment_list, comment_dataset.voc, alpha=alpha, gamma=gamma, eta=eta, num_levels=num_levels)\n",
    "hlda.estimate(n_samples, display_topics=display_topics, n_words=n_words, with_weights=with_weights)"
   ]
  },
  {
   "cell_type": "code",
   "execution_count": null,
   "id": "565a8c8e-e717-4da8-8ad2-f29966c9a439",
   "metadata": {},
   "outputs": [],
   "source": [
    "from model.HldaModel import ExpandHldaModel\n",
    "import os\n",
    "\n",
    "create_date = \"2023_07_26\"\n",
    "parameter_name = \"default\"\n",
    "model_name = comment_list_name + \"_\" + parameter_name + \".pickle\"\n",
    "model_dir = \"model/pickle/\" + create_date + \"/\" +model_name\n",
    "create_date_path = \"model/pickle/\" + create_date\n",
    "\n",
    "if not os.path.exists(create_date_path):\n",
    "    os.makedirs(create_date_path)\n",
    "\n",
    "expandHlda = ExpandHldaModel(pickle_path=hlda)\n",
    "expandHlda.save_zipped_pickle(filename=model_dir)"
   ]
  },
  {
   "cell_type": "code",
   "execution_count": null,
   "id": "edee7993-db7c-44ec-8d01-9d2e95534fc5",
   "metadata": {},
   "outputs": [],
   "source": [
    "expandHlda.get_topic_multi_document(comment_list=comment_list, corpus=comment_dataset.comment_list)"
   ]
  }
 ],
 "metadata": {
  "kernelspec": {
   "display_name": "Python 3 (ipykernel)",
   "language": "python",
   "name": "python3"
  },
  "language_info": {
   "codemirror_mode": {
    "name": "ipython",
    "version": 3
   },
   "file_extension": ".py",
   "mimetype": "text/x-python",
   "name": "python",
   "nbconvert_exporter": "python",
   "pygments_lexer": "ipython3",
   "version": "3.10.1"
  }
 },
 "nbformat": 4,
 "nbformat_minor": 5
}
