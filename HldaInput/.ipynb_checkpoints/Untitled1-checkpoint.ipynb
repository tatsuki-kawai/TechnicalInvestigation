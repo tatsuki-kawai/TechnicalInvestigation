{
 "cells": [
  {
   "cell_type": "code",
   "execution_count": null,
   "id": "ca6380da-952b-4bc5-9b3c-53f6e033b942",
   "metadata": {},
   "outputs": [],
   "source": [
    "import sys\n",
    "sys.path.append('../Data')\n",
    "\n",
    "import pandas as pd\n",
    "import numpy as np\n",
    "import time\n",
    "from CommentDataset import CommentDataset\n",
    "\n",
    "comment_list_name = \"20230627_mynumbercard_untenmenkyosyou\"\n",
    "comment_list_path = \"2023_06_27/\" + comment_list_name + \".csv\"\n",
    "\n",
    "# 指定すべき文字コードはファイルによる(cp932 or utf-8)\n",
    "df = pd.read_csv(\"../Data/yahoo/\"+comment_list_path, encoding=\"cp932\", header=None)\n",
    "# comment_list = df[0][1:].to_numpy().tolist()\n",
    "comment_list = df[0][1:].to_numpy().tolist()\n",
    "comment_dataset = CommentDataset(comment_list)\n",
    "comment_dataset.delete_comment_specified_string(50)\n",
    "comment_list = comment_dataset.comment_list\n",
    "comment_dataset.formatted_input_hlda(appear_tagging_list=[\"名詞\", \"形容詞\", \"動詞\"], stop_tagging_list=[\"助詞\", \"助動詞\", \"非自立\"])"
   ]
  },
  {
   "cell_type": "code",
   "execution_count": null,
   "id": "ad4910c2-20b4-4aa1-8a1f-e799ae08b4ea",
   "metadata": {},
   "outputs": [],
   "source": [
    "from model.HldaModel import ExpandHldaModel\n",
    "\n",
    "model_path = \"model/pickle/2023_08_01/20230627_mynumbercard_untenmenkyosyou_default.pickle\"\n",
    "expandHlda = ExpandHldaModel(pickle_path=model_path)"
   ]
  },
  {
   "cell_type": "code",
   "execution_count": null,
   "id": "8b91aaa8-c78a-4c84-a428-1a8d93d822d7",
   "metadata": {},
   "outputs": [],
   "source": [
    "expandHlda.print_nodes(n_words = 10, weights = False)"
   ]
  },
  {
   "cell_type": "code",
   "execution_count": null,
   "id": "1684bbae-6367-44c8-83c1-6a1c4a9a8e51",
   "metadata": {},
   "outputs": [],
   "source": [
    "expandHlda.print_phrases(comment_list=comment_list, corpus=comment_dataset.comment_list, n_phrase=3, with_score=True)"
   ]
  },
  {
   "cell_type": "code",
   "execution_count": null,
   "id": "e8c64db9-f4b0-48f3-bd44-1c649cd99282",
   "metadata": {},
   "outputs": [],
   "source": [
    "expandHlda.get_topic_by_sentence(comment_list=comment_list, corpus=comment_dataset.comment_list, n_words=5)"
   ]
  },
  {
   "cell_type": "code",
   "execution_count": null,
   "id": "0086c7fa-9d2b-4e12-ba24-957f44ae5728",
   "metadata": {},
   "outputs": [],
   "source": [
    "expandHlda.get_topic_with_color(comment_list=comment_list, corpus=comment_dataset.comment_list, n_words=10)"
   ]
  },
  {
   "cell_type": "code",
   "execution_count": null,
   "id": "fec1d7fb-d383-4aec-a774-a5be592d125a",
   "metadata": {},
   "outputs": [],
   "source": [
    "expandHlda.get_multi_topic_with_color(comment_list=comment_list, corpus=comment_dataset.comment_list, n_words=10)"
   ]
  }
 ],
 "metadata": {
  "kernelspec": {
   "display_name": "Python 3 (ipykernel)",
   "language": "python",
   "name": "python3"
  },
  "language_info": {
   "codemirror_mode": {
    "name": "ipython",
    "version": 3
   },
   "file_extension": ".py",
   "mimetype": "text/x-python",
   "name": "python",
   "nbconvert_exporter": "python",
   "pygments_lexer": "ipython3",
   "version": "3.10.1"
  }
 },
 "nbformat": 4,
 "nbformat_minor": 5
}
