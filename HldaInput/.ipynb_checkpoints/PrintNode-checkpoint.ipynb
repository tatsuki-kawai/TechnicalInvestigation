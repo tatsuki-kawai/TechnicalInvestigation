{
 "cells": [
  {
   "cell_type": "code",
   "execution_count": 33,
   "metadata": {},
   "outputs": [],
   "source": [
    "import pickle\n",
    "import gzip\n",
    "\n",
    "def save_zipped_pickle(obj, filename, protocol=-1):\n",
    "    with gzip.open(filename, 'wb') as f:\n",
    "        pickle.dump(obj, f, protocol)\n",
    "        \n",
    "def load_zipped_pickle(filename):\n",
    "    with gzip.open(filename, 'rb') as f:\n",
    "        loaded_object = pickle.load(f)\n",
    "        return loaded_object"
   ]
  },
  {
   "cell_type": "code",
   "execution_count": 38,
   "metadata": {},
   "outputs": [],
   "source": [
    "#hlda = load_zipped_pickle('2022_11_15/yahoo_hlda_levels3_sample1000_α10_γ0.5_η1.0.pickle')\n",
    "hlda = load_zipped_pickle('2022_11_15/yahoo_hlda_default.pickle')"
   ]
  },
  {
   "cell_type": "code",
   "execution_count": 39,
   "metadata": {},
   "outputs": [
    {
     "name": "stdout",
     "output_type": "stream",
     "text": [
      "topic=0 level=0 (documents=456): メタノール (97), 思う (90), ない (55), 子供 (50), 殺す (47), \n",
      "    topic=1173 level=1 (documents=49): こいつ (4), 必要 (3), 報道 (3), 死因 (2), エタノール (2), \n",
      "        topic=8435 level=2 (documents=10): 疑問 (6), 分野 (3), 高い (2), 専門 (2), 大手 (2), \n",
      "        topic=8452 level=2 (documents=4): やめる (1), 記事 (1), 人命 (1), 飲める (1), 憶測 (1), \n",
      "        topic=8480 level=2 (documents=2): 笑いもの (1), 大切 (1), つく (1), フォロー (1), 願う (1), \n",
      "        topic=8489 level=2 (documents=3): データ (2), 合併 (1), 20年 (1), タイトル (1), 再現性 (1), \n",
      "        topic=8498 level=2 (documents=3): 社名 (1), ドラマ (1), 煽る (1), 第一三共 (1), 意気 (1), \n",
      "        topic=8536 level=2 (documents=4): 問題 (2), 一部 (1), 女子 (1), 面構え (1), 上司 (1), \n",
      "        topic=8541 level=2 (documents=4): 盗む (1), 3回 (1), 殺せる (1), 和歌山カレー事件 (1), 毒母 (1), \n",
      "        topic=8549 level=2 (documents=5): 関係 (2), 無い (2), 自死 (1), 残る (1), 者共 (1), \n",
      "        topic=8553 level=2 (documents=6): 正直 (3), 邪推 (1), しょうが (1), なのか (1), 慎重 (1), \n",
      "        topic=8618 level=2 (documents=6): 理由 (5), 身だしなみ (1), 分かる (1), アカン (1), 勘繰る (1), \n",
      "        topic=8620 level=2 (documents=2): 黙認 (0), 利益 (0), 刺す (0), 刺激 (0), 前提 (0), \n",
      "    topic=1669 level=1 (documents=12): 傷つく (1), コロナ (1), コース (1), 薬局 (1), 避ける (1), \n",
      "        topic=8528 level=2 (documents=2): 小説現代 (1), 黙認 (0), 助ける (0), 刺す (0), 刺激 (0), \n",
      "        topic=8539 level=2 (documents=2): 引っかかる (1), 出す (1), 分解 (1), バカ (1), 黙認 (0), \n",
      "        topic=8562 level=2 (documents=2): 締め付ける (1), 世間 (1), 素晴らしい (1), 祈る (1), 北海道大学 (1), \n",
      "        topic=8566 level=2 (documents=2): 困る (1), 売る (1), 模倣犯 (1), 黙認 (0), 助ける (0), \n",
      "        topic=8601 level=2 (documents=4): イヤ (1), 子ども (1), 勾留 (1), スーパー (1), ぶち込む (1), \n",
      "    topic=3145 level=1 (documents=29): 小説 (2), 残念 (2), 京大 (2), 息子 (2), 題材 (2), \n",
      "        topic=8429 level=2 (documents=2): 容易 (1), 使用 (1), 男性 (1), 関係 (1), 取り扱い (1), \n",
      "        topic=8507 level=2 (documents=2): 本当 (2), 揃う (1), 内情 (1), 黙認 (0), 助ける (0), \n",
      "        topic=8512 level=2 (documents=3): 世の中 (1), 初荷 (1), 回る (1), 勉強 (1), 対処 (1), \n",
      "        topic=8521 level=2 (documents=5): 待つ (1), 悪用 (1), 気の毒 (1), 起こす (1), 冤罪 (1), \n",
      "        topic=8540 level=2 (documents=4): 半径 (2), 言い張る (1), 世界 (1), 思える (1), 書ける (1), \n",
      "        topic=8560 level=2 (documents=3): 教育 (2), 学部 (1), 推測 (1), まとも (1), 予想 (1), \n",
      "        topic=8605 level=2 (documents=2): 優秀 (2), 内心 (1), 熱心 (1), 問題 (1), 人材 (1), \n",
      "        topic=8616 level=2 (documents=6): 知り合い (2), 身内 (2), 迷惑 (1), 耐える (1), 半年 (1), \n",
      "        topic=8625 level=2 (documents=1): 思える (1), 手口 (1), 助ける (0), 刺す (0), 刺激 (0), \n",
      "        topic=8627 level=2 (documents=1): 王子 (1), 黙認 (0), 助ける (0), 刺す (0), 刺激 (0), \n",
      "    topic=3627 level=1 (documents=26): ない (4), 大切 (2), 薬物 (2), 特定 (2), 病気 (1), \n",
      "        topic=8459 level=2 (documents=4): 思える (1), 自分 (1), 人格者 (1), 比例 (1), 加害者 (0), \n",
      "        topic=8475 level=2 (documents=2): やの (1), 監察医 (1), 突き止める (1), 経歴 (1), 死因 (1), \n",
      "        topic=8556 level=2 (documents=5): 職業 (4), 良い (3), ギ酸 (2), 有名 (2), 決まる (2), \n",
      "        topic=8559 level=2 (documents=5): 違う (2), 劇薬 (2), 管理 (2), タイトル (1), ママ (1), \n",
      "        topic=8570 level=2 (documents=5): 引け目 (1), 小学生 (1), 気付く (1), 別れる (1), 大人 (1), \n",
      "        topic=8582 level=2 (documents=3): 認める (2), 毎日 (2), 勤務 (1), 攻める (1), 自供 (1), \n",
      "        topic=8614 level=2 (documents=2): 試薬 (2), 証拠 (1), 新薬 (1), 第一三共 (1), 天然 (1), \n",
      "    topic=4450 level=1 (documents=13): 残る (2), 大勢 (1), 死人 (1), 男性 (1), 依頼 (1), \n",
      "        topic=8294 level=2 (documents=6): 鬼畜 (3), 言う (3), 自宅 (2), 冤罪 (2), 第三国 (1), \n",
      "        topic=8363 level=2 (documents=2): 出せる (1), いく (1), 確か (1), 素人 (1), 手段 (1), \n",
      "        topic=8493 level=2 (documents=1): 野郎 (1), 痕跡 (1), 合成 (1), 黙認 (0), 加害者 (0), \n",
      "        topic=8595 level=2 (documents=4): こわい (1), キツ (1), 最低 (1), 聞き入れる (1), 黙認 (0), \n",
      "    topic=5110 level=1 (documents=17): 他人 (1), 経済的 (1), 別れる (1), 別居 (1), 毒殺 (1), \n",
      "        topic=8298 level=2 (documents=3): 殺害容疑 (1), お母様 (1), 助ける (0), 刺す (0), 刺激 (0), \n",
      "        topic=8533 level=2 (documents=2): 展開 (1), 衝撃 (1), 大きい (1), 社員 (1), 現役 (1), \n",
      "        topic=8574 level=2 (documents=4): いく (1), 狂わせる (1), 病む (1), 話す (1), 可愛い (1), \n",
      "        topic=8596 level=2 (documents=2): 続報 (1), 勝手 (1), 病気 (1), 加害者 (0), 制度 (0), \n",
      "        topic=8609 level=2 (documents=3): 相手 (1), 培う (1), 余計 (1), 知らせる (1), 新た (1), \n",
      "        topic=8613 level=2 (documents=3): 付ける (1), 以前 (1), 我慢 (1), 思い出す (1), 依存 (1), \n",
      "    topic=5328 level=1 (documents=36): 検死 (3), 留学 (2), 修士号 (2), 限る (2), エタノール (2), \n",
      "        topic=8177 level=2 (documents=4): 高学歴 (2), 奥様 (2), 狙い (1), 勤続年数 (1), 差配 (1), \n",
      "        topic=8527 level=2 (documents=5): 愛人 (1), ガリレオ (1), 確信犯 (1), 確定 (1), 事案 (1), \n",
      "        topic=8538 level=2 (documents=3): 凡人 (1), 黙認 (0), 努力 (0), 刺す (0), 刺激 (0), \n",
      "        topic=8558 level=2 (documents=3): 息子 (2), 殺人犯 (1), そう (1), 救急車 (1), 成人 (1), \n",
      "        topic=8575 level=2 (documents=4): 困る (1), 経済的 (1), 加害者 (0), 制度 (0), 刺す (0), \n",
      "        topic=8577 level=2 (documents=7): ケンカ (3), いう (2), 模試 (2), 同士 (2), 呼ぶ (1), \n",
      "        topic=8581 level=2 (documents=2): 幸福 (1), 黙認 (0), 努力 (0), 刺す (0), 刺激 (0), \n",
      "        topic=8591 level=2 (documents=3): 別枠 (1), 特定 (1), 難易度 (1), 試験 (1), 落ちる (1), \n",
      "        topic=8610 level=2 (documents=3): 取得 (2), 大学 (1), 薬剤 (1), ものすごい (1), 京都大学 (1), \n",
      "        topic=8615 level=2 (documents=2): 直ぐ (1), 検出 (1), 至る (1), 中毒 (1), 死体 (1), \n",
      "    topic=5860 level=1 (documents=30): 前髪 (2), 混入 (2), ケア (2), お母さん (2), した (2), \n",
      "        topic=8477 level=2 (documents=3): やばい (1), 治験 (1), 確定 (1), ワクチン (1), 死刑 (1), \n",
      "        topic=8504 level=2 (documents=6): かな (1), 立派 (1), 長男 (1), 大事 (1), 研究 (1), \n",
      "        topic=8546 level=2 (documents=4): しれる (2), 行く末 (1), 送る (1), 団体 (1), 穏やか (1), \n",
      "        topic=8565 level=2 (documents=4): 取得 (1), 見つかる (1), 葡萄 (1), 専門知識 (1), 頭脳 (1), \n",
      "        topic=8576 level=2 (documents=4): 昇る (1), 物証 (1), 意味 (1), 作る (1), 普通じゃない (1), \n",
      "        topic=8597 level=2 (documents=3): なんや (1), 分かり易い (1), 亡くなる (1), 携帯 (1), 含める (1), \n",
      "        topic=8603 level=2 (documents=5): 起きる (2), 科捜研の女 (1), 模倣 (1), どうしてこうなった (1), 残念 (1), \n",
      "        topic=8604 level=2 (documents=1): ちゃう (1), 世帯 (1), 刑務所 (1), カウンセラー (1), くらい (1), \n",
      "    topic=6621 level=1 (documents=21): 薬品 (2), 強い (1), 教育費 (1), 助ける (1), 自己 (1), \n",
      "        topic=8469 level=2 (documents=4): 失明 (1), 夫婦間 (1), お勤め (1), 辞める (1), コンプレックス (1), \n",
      "        topic=8508 level=2 (documents=3): 考える (3), 奥様 (1), 見つかる (1), 将来 (1), 子供のこと (1), \n",
      "        topic=8557 level=2 (documents=4): 追及 (1), 命懸け (1), 氷山の一角 (1), メディア (1), 露出 (1), \n",
      "        topic=8579 level=2 (documents=4): なのかな (1), 映画 (1), 組織 (1), 作る (1), 犯す (1), \n",
      "        topic=8580 level=2 (documents=2): 偽装 (1), 羨ましい (1), 飲む (1), 黙認 (0), 努力 (0), \n",
      "        topic=8594 level=2 (documents=2): 進める (1), 素晴らしい (1), 事案 (1), 世の中 (1), 積み上げる (1), \n",
      "        topic=8626 level=2 (documents=2): 立場 (1), 悪用 (1), 黙認 (0), 助ける (0), 刺す (0), \n",
      "    topic=6792 level=1 (documents=44): 第一三共 (3), 出身 (3), 保険金殺人 (2), 記事 (2), ばれる (2), \n",
      "        topic=8137 level=2 (documents=8): 毒物 (3), 幸せ (2), 限る (1), 大変 (1), 指定 (1), \n",
      "        topic=8138 level=2 (documents=7): 薬学部 (7), 大学院 (5), 京都大学 (4), もったいない (4), 3年 (3), \n",
      "        topic=8354 level=2 (documents=5): アメフト部 (2), 盛る (1), 過ぎる (1), 一服 (1), 肝硬変 (1), \n",
      "        topic=8448 level=2 (documents=4): タヒチ (1), 困難 (1), 判る (1), 南米 (1), 無い (1), \n",
      "        topic=8456 level=2 (documents=3): 失敗 (1), しょう (1), 治験 (1), もめる (1), 理系 (1), \n",
      "        topic=8532 level=2 (documents=5): 旦那 (5), 不倫 (2), 第三者 (2), 事実 (1), 南都 (1), \n",
      "        topic=8554 level=2 (documents=2): 増える (1), やり口 (1), 研修 (1), 上手い (1), 面倒 (1), \n",
      "        topic=8572 level=2 (documents=3): 操作 (1), 一生懸命 (1), 勿体ない (1), 科捜研 (1), 杜撰 (1), \n",
      "        topic=8598 level=2 (documents=2): 解剖 (1), 変死 (1), 天然 (1), 黙認 (0), 加害者 (0), \n",
      "        topic=8606 level=2 (documents=3): 不倫 (1), 見る (1), 思える (1), 握る (1), 事情 (1), \n",
      "        topic=8617 level=2 (documents=1): 有効 (1), 黙認 (0), 助ける (0), 刺す (0), 刺激 (0), \n",
      "        topic=8624 level=2 (documents=1): 現実 (1), 最近 (1), 映画 (1), おこる (1), 犯罪 (1), \n",
      "    topic=6856 level=1 (documents=33): 病死 (2), 多い (2), 深い (2), 容疑 (1), 苦しい (1), \n",
      "        topic=8301 level=2 (documents=4): 憎む (1), 生きる (1), かかえる (1), 詳しい (1), 別れる (1), \n",
      "        topic=8332 level=2 (documents=5): わからん (2), すごい (2), 実行 (1), 一人 (1), シンプル (1), \n",
      "        topic=8447 level=2 (documents=3): 済む (1), 偽装 (1), 別れる (1), 薬品 (1), 一般 (1), \n",
      "        topic=8523 level=2 (documents=7): 異人 (2), 犯行 (1), 公表 (1), 社名 (1), 勉強 (1), \n",
      "        topic=8531 level=2 (documents=2): 他人事 (1), 黙認 (0), 勉強 (0), 刺激 (0), 前提 (0), \n",
      "        topic=8542 level=2 (documents=3): 利子 (1), 頼む (1), オチ (1), 小学生 (1), 黙認 (0), \n",
      "        topic=8548 level=2 (documents=4): やめる (1), 創薬 (1), 子育て (1), お祈り (1), 主婦 (1), \n",
      "        topic=8563 level=2 (documents=2): ヤフコメ (1), ハイスペック (1), すごい (1), 人達 (1), 黙認 (0), \n",
      "        topic=8608 level=2 (documents=3): 見える (1), 安易 (1), やわらげる (1), 苦しむ (1), 会社員 (1), \n",
      "    topic=7385 level=1 (documents=16): 吉宗 (2), 見る (2), キャリア (2), 放火 (2), 亡くなる (1), \n",
      "        topic=8588 level=2 (documents=5): イケメン (2), 積む (1), 無責任 (1), 子ども (1), 勿体 (1), \n",
      "        topic=8589 level=2 (documents=3): 遂げる (1), 新薬 (1), 薬屋 (1), 最終的 (1), 上司 (1), \n",
      "        topic=8607 level=2 (documents=2): 刺す (2), 電車 (1), 漂白剤 (1), 無念 (1), 経済 (1), \n",
      "        topic=8621 level=2 (documents=4): 異常者 (3), 保険金 (1), 実行 (1), 名古屋大 (1), 髪型 (1), \n",
      "        topic=8622 level=2 (documents=2): 第一三共ヘルスケア (1), 皮肉 (1), 信用 (1), 退職 (1), 助ける (0), \n",
      "    topic=7486 level=1 (documents=19): 痛み (3), 入る (2), 自ら (1), 下す (1), 下衆 (1), \n",
      "        topic=8468 level=2 (documents=6): レベル (2), 狂う (2), 少量 (2), 悪意 (1), 蒼い (1), \n",
      "        topic=8474 level=2 (documents=5): 社員 (1), 新薬 (1), 合成 (1), 職場 (1), 知人 (1), \n",
      "        topic=8529 level=2 (documents=3): 背負う (1), やわらげる (1), ええ (1), 思い出 (1), 大切 (1), \n",
      "        topic=8544 level=2 (documents=3): クスリ (1), 事故死 (1), 餌食 (1), 課金 (1), 蚕棚 (1), \n",
      "        topic=8619 level=2 (documents=2): 黙認 (0), 利益 (0), 刺す (0), 刺激 (0), 前提 (0), \n",
      "    topic=7496 level=1 (documents=74): メチルアルコール (5), メタノール (5), 持つ (4), 無い (4), アルコール (3), \n",
      "        topic=7790 level=2 (documents=9): 戦後 (7), 失明 (5), 燃料 (5), 混ぜる (4), 戦中 (3), \n",
      "        topic=8244 level=2 (documents=7): 子ども (5), 大事 (2), 自分 (2), 学ぶ (2), 非合理 (1), \n",
      "        topic=8323 level=2 (documents=6): 気持ち (2), 精神的 (1), 投げやり (1), 完全犯罪 (1), マッドサイエンティスト (1), \n",
      "        topic=8325 level=2 (documents=3): 確証 (1), 欠如 (1), 凄い (1), 倫理観 (1), 知る (1), \n",
      "        topic=8385 level=2 (documents=5): そこら (2), 解明 (2), 対策 (2), 生かす (1), でっち上げ (1), \n",
      "        topic=8472 level=2 (documents=7): 給与 (1), 立派 (1), 同軸 (1), 学者 (1), 勘弁 (1), \n",
      "        topic=8488 level=2 (documents=9): 取得 (1), 瞬間 (1), すごす (1), 凄い (1), きつい (1), \n",
      "        topic=8573 level=2 (documents=6): ギ酸 (2), 症状 (2), 簡単 (2), 取る (1), 対応 (1), \n",
      "        topic=8578 level=2 (documents=4): インド (1), 感じ取る (1), 小学生 (1), 晩酌 (1), 残念 (1), \n",
      "        topic=8583 level=2 (documents=6): 傷害 (1), 散髪 (1), 将来 (1), いい (1), 難い (1), \n",
      "        topic=8592 level=2 (documents=4): 陳腐 (1), しかた (1), 人殺し (1), 分解 (1), もろもろ (1), \n",
      "        topic=8611 level=2 (documents=7): 関心 (1), 一番 (1), 部分 (1), 決めつける (1), 書き方 (1), \n",
      "        topic=8623 level=2 (documents=1): 科捜研 (1), ドラマ (1), 黙認 (0), 助ける (0), 刺す (0), \n",
      "    topic=8110 level=1 (documents=20): 自死 (3), 無い (3), メーカー (3), 詳しい (2), 違和感 (2), \n",
      "        topic=8163 level=2 (documents=3): 思い出す (1), 大丈夫 (1), 理性 (1), 心臓移植 (1), 一番 (1), \n",
      "        topic=8376 level=2 (documents=5): 精神的 (1), 年月 (1), かかる (1), 永い (1), 完全 (1), \n",
      "        topic=8500 level=2 (documents=6): 間違い (3), 医薬品 (3), 馬鹿 (2), 模試 (1), 化合物 (1), \n",
      "        topic=8550 level=2 (documents=4): 保留 (1), 手段 (1), 模倣犯 (1), 無理やり (1), 飲ます (1), \n",
      "        topic=8593 level=2 (documents=2): 殺意 (1), 抑える (1), 入れる (1), 先生 (1), 勤める (0), \n",
      "    topic=8282 level=1 (documents=17): 専門的 (2), 勤務 (1), 産後 (1), 解明 (1), 化合物 (1), \n",
      "        topic=8510 level=2 (documents=5): 完全犯罪 (2), お母さん (2), 大切 (1), 詳しい (1), 言葉 (1), \n",
      "        topic=8555 level=2 (documents=4): やり方 (1), 親族 (1), 保護 (1), 異常者 (1), 精神 (1), \n",
      "        topic=8584 level=2 (documents=6): 家族 (3), 有機物 (2), 行う (2), 創薬 (1), 最近 (1), \n",
      "        topic=8612 level=2 (documents=2): エタ (1), メタ (1), 蟻酸 (1), ホルムアルデヒド (1), 単純 (1), \n"
     ]
    }
   ],
   "source": [
    "hlda.print_nodes(n_words=5, with_weights=False)"
   ]
  },
  {
   "cell_type": "code",
   "execution_count": null,
   "metadata": {},
   "outputs": [],
   "source": [
    "def get_document_path(hlda, doc_index):\n",
    "    node = hlda.document_leaves[doc_index]\n",
    "    path = []\n",
    "    while node is not None:\n",
    "        path.append(node.node_id)\n",
    "        node = node.parent\n",
    "    path.reverse()\n",
    "    return path\n",
    "\n",
    "def get_document_path_list(hlda, corpus):\n",
    "    document_path_list = []\n",
    "    for i in range(len(corpus)):\n",
    "        path = get_document_path(hlda, i)\n",
    "        document_path_list.append(path)\n",
    "    return document_path_list\n",
    "\n",
    "def print_topic_document(corpus, path_list, topic_id):\n",
    "    document_index_list = []\n",
    "    for i, path in enumerate(path_list):\n",
    "        if topic_id in path:\n",
    "            document_index_list.append(i)\n",
    "    if len(document_index_list) == 0:\n",
    "        print(f\"{topic_id}がみつかりません\")\n",
    "    for i in document_index_list:\n",
    "        print(f\"[{corpus[i]}]\")\n",
    "        print(\"\\n\")\n",
    "\n",
    "path_list = get_document_path_list(hlda, corpus)\n",
    "print_topic_document(row_data, path_list, 15356)"
   ]
  },
  {
   "cell_type": "code",
   "execution_count": 34,
   "metadata": {},
   "outputs": [
    {
     "name": "stdout",
     "output_type": "stream",
     "text": [
      "司法 (1), 犯人 (1), 真相 (1), 不自然 (1), 立証 (1), 望む (1), 解剖 (1), 手段 (1), 研究 (1), 見物 (1), くる (1), 飲める (1), 疑う (1), どれ (1), いう (1), 間違い (1), 現時点 (1), 思う (1), 残る (1), 使用 (0), 代謝 (0), 作れる (0), 佳苗 (0), 代わり (0), 付ける (0), 使い (0), 使う (0), 使える (0), 使命 (0), 付く (0), 余計 (0), 依存 (0), 依頼 (0), 便利 (0), 保留 (0), 他殺 (0), 保護 (0), 他人 (0), 保険 (0), 作る (0), 企図 (0), 企業 (0), 体調 (0), 会社 (0), 企む (0), 伴う (0), 仲良し (0), 低下 (0), 体内 (0), 体制 (0), 仰天 (0), 以前 (0), 何かしら (0), 余程 (0), 何で (0), 何とか (0), 何より (0), 信じる (0), 何れ (0), 何処 (0), 何故 (0), 何者 (0), 余り (0), 余裕 (0), 修士 (0), 信用 (0), 全国 (0), 免許 (0), 児童 (0), 入り (0), 入り込める (0), 入る (0), 入れる (0), 入手 (0), 入社 (0), 全く (0), 全て (0), 全然 (0), 先生 (0), 全部 (0), 公判 (0), 公的 (0), 公表 (0), 共に (0), 共働き (0), 共犯 (0), 兵衛 (0), 具体 (0), 内容 (0), 先走る (0), \n"
     ]
    }
   ],
   "source": [
    "print(hlda.document_leaves[1].get_top_words(90, 1))"
   ]
  },
  {
   "cell_type": "code",
   "execution_count": 27,
   "metadata": {},
   "outputs": [
    {
     "name": "stdout",
     "output_type": "stream",
     "text": [
      "メタノール (106), 思う (85), なる (74), てる (55), 子供 (47), 事件 (44), 研究 (40), 殺す (39), そう (38), 夫婦 (36), 逮捕 (35), 殺害 (34), 会社 (34), 奥さん (32), 考える (28), バレる (28), 飲む (26), 薬品 (25), やる (25), わかる (23), 使う (22), お子さん (22), できる (22), 製薬 (21), 知識 (21), これ (20), 容疑 (19), 言う (19), 離婚 (18), 優秀 (18), 証拠 (17), 簡単 (17), 三共 (16), エリート (16), 分かる (16), 犯罪 (15), 知る (14), どう (14), 犯人 (14), しまう (14), 残す (14), 見る (13), かわいそう (13), 亡くなる (13), 方法 (13), 学歴 (13), ドラマ (12), 専門 (12), 警察 (12), まだ (12), 自分 (12), 自殺 (12), 出る (12), 人生 (12), いう (12), お母さん (11), すぐ (11), アルコール (11), 殺人 (11), よく (10), 本当に (10), 心配 (9), 冤罪 (9), 理由 (9), 母親 (8), さん (8), 普通 (8), 動機 (8), 不憫 (7), 経歴 (7), 高学歴 (7), 可能 (7), 何故 (7), 開発 (7), 関係 (7), 捜査 (7), 勉強 (7), それ (7), 入手 (7), 燃料 (6), 家族 (6), お父さん (6), 実験 (6), 薬学 (6), すぎる (6), 子ども (6), 博士 (6), 結婚 (6), 入る (6), 不倫 (6), \n"
     ]
    }
   ],
   "source": [
    "print(hlda.root_node.get_top_words(90, 1))"
   ]
  },
  {
   "cell_type": "code",
   "execution_count": 32,
   "metadata": {},
   "outputs": [
    {
     "name": "stdout",
     "output_type": "stream",
     "text": [
      "40.0\n"
     ]
    }
   ],
   "source": [
    "print(hlda.root_node.word_counts[1344])"
   ]
  },
  {
   "cell_type": "code",
   "execution_count": 35,
   "metadata": {},
   "outputs": [
    {
     "name": "stdout",
     "output_type": "stream",
     "text": [
      "Node=6890 level=2 customers=3 total_words=12 parent=2678\n"
     ]
    }
   ],
   "source": [
    "print(hlda.document_leaves[0])"
   ]
  },
  {
   "cell_type": "code",
   "execution_count": 36,
   "metadata": {},
   "outputs": [
    {
     "name": "stdout",
     "output_type": "stream",
     "text": [
      "Node=0 level=0 customers=461 total_words=2631 parent=None\n"
     ]
    }
   ],
   "source": [
    "print(hlda.root_node)"
   ]
  },
  {
   "cell_type": "code",
   "execution_count": 37,
   "metadata": {},
   "outputs": [
    {
     "name": "stdout",
     "output_type": "stream",
     "text": [
      "[Node=265 level=1 customers=24 total_words=81 parent=0, Node=429 level=1 customers=24 total_words=73 parent=0, Node=1562 level=1 customers=14 total_words=41 parent=0, Node=2124 level=1 customers=20 total_words=61 parent=0, Node=2143 level=1 customers=18 total_words=44 parent=0, Node=2678 level=1 customers=32 total_words=134 parent=0, Node=3052 level=1 customers=37 total_words=76 parent=0, Node=4193 level=1 customers=3 total_words=7 parent=0, Node=4558 level=1 customers=11 total_words=46 parent=0, Node=4720 level=1 customers=19 total_words=55 parent=0, Node=4806 level=1 customers=20 total_words=46 parent=0, Node=5195 level=1 customers=32 total_words=120 parent=0, Node=5515 level=1 customers=25 total_words=59 parent=0, Node=5825 level=1 customers=19 total_words=97 parent=0, Node=6099 level=1 customers=46 total_words=130 parent=0, Node=6154 level=1 customers=19 total_words=55 parent=0, Node=6415 level=1 customers=33 total_words=89 parent=0, Node=6427 level=1 customers=10 total_words=37 parent=0, Node=6439 level=1 customers=19 total_words=52 parent=0, Node=6451 level=1 customers=28 total_words=50 parent=0, Node=6674 level=1 customers=8 total_words=9 parent=0]\n"
     ]
    }
   ],
   "source": [
    "print(hlda.root_node.children)"
   ]
  },
  {
   "cell_type": "code",
   "execution_count": null,
   "metadata": {},
   "outputs": [],
   "source": []
  }
 ],
 "metadata": {
  "kernelspec": {
   "display_name": "Python 3",
   "language": "python",
   "name": "python3"
  },
  "language_info": {
   "codemirror_mode": {
    "name": "ipython",
    "version": 3
   },
   "file_extension": ".py",
   "mimetype": "text/x-python",
   "name": "python",
   "nbconvert_exporter": "python",
   "pygments_lexer": "ipython3",
   "version": "3.8.1"
  }
 },
 "nbformat": 4,
 "nbformat_minor": 4
}
