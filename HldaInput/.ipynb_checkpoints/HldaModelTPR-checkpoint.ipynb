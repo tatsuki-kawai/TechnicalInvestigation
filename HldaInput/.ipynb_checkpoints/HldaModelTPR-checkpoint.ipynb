{
 "cells": [
  {
   "cell_type": "code",
   "execution_count": 22,
   "id": "29a17c06-3037-4eee-a3ad-828f8a6d4ed2",
   "metadata": {},
   "outputs": [],
   "source": [
    "import sys\n",
    "sys.path.append('../Data')\n",
    "sys.path.append('../GenerateLabel')\n",
    "\n",
    "\n",
    "import pandas as pd\n",
    "import numpy as np\n",
    "import time\n",
    "from CommentDataset import CommentDataset\n",
    "from PageRank import WordGraph, TopicalPageRank"
   ]
  },
  {
   "cell_type": "code",
   "execution_count": 23,
   "id": "231e0a97-1284-4248-b9d9-7767e205cca5",
   "metadata": {},
   "outputs": [],
   "source": [
    "comment_list_name = \"AIhyouka_sannkou_gyakutaimiokuri\"\n",
    "comment_list_path = \"2023_07_11/\" + comment_list_name + \".csv\"\n",
    "\n",
    "model_path = \"model/pickle/2023_07_11/AIhyouka_sannkou_gyakutaimiokuri_default.pickle\""
   ]
  },
  {
   "cell_type": "code",
   "execution_count": 24,
   "id": "5c734986-8a72-4d0f-887e-93689d9049ff",
   "metadata": {},
   "outputs": [
    {
     "ename": "KeyboardInterrupt",
     "evalue": "",
     "output_type": "error",
     "traceback": [
      "\u001b[0;31m---------------------------------------------------------------------------\u001b[0m",
      "\u001b[0;31mKeyboardInterrupt\u001b[0m                         Traceback (most recent call last)",
      "Cell \u001b[0;32mIn[24], line 6\u001b[0m\n\u001b[1;32m      4\u001b[0m comment_dataset \u001b[38;5;241m=\u001b[39m CommentDataset(comment_list)\n\u001b[1;32m      5\u001b[0m comment_dataset\u001b[38;5;241m.\u001b[39mdelete_comment_specified_string(\u001b[38;5;241m50\u001b[39m)\n\u001b[0;32m----> 6\u001b[0m \u001b[43mcomment_dataset\u001b[49m\u001b[38;5;241;43m.\u001b[39;49m\u001b[43mformatted_input_hlda\u001b[49m\u001b[43m(\u001b[49m\u001b[43mappear_tagging_list\u001b[49m\u001b[38;5;241;43m=\u001b[39;49m\u001b[43m[\u001b[49m\u001b[38;5;124;43m\"\u001b[39;49m\u001b[38;5;124;43m名詞\u001b[39;49m\u001b[38;5;124;43m\"\u001b[39;49m\u001b[43m,\u001b[49m\u001b[43m \u001b[49m\u001b[38;5;124;43m\"\u001b[39;49m\u001b[38;5;124;43m形容詞\u001b[39;49m\u001b[38;5;124;43m\"\u001b[39;49m\u001b[43m,\u001b[49m\u001b[43m \u001b[49m\u001b[38;5;124;43m\"\u001b[39;49m\u001b[38;5;124;43m動詞\u001b[39;49m\u001b[38;5;124;43m\"\u001b[39;49m\u001b[43m]\u001b[49m\u001b[43m,\u001b[49m\u001b[43m \u001b[49m\u001b[43mstop_tagging_list\u001b[49m\u001b[38;5;241;43m=\u001b[39;49m\u001b[43m[\u001b[49m\u001b[38;5;124;43m\"\u001b[39;49m\u001b[38;5;124;43m助詞\u001b[39;49m\u001b[38;5;124;43m\"\u001b[39;49m\u001b[43m,\u001b[49m\u001b[43m \u001b[49m\u001b[38;5;124;43m\"\u001b[39;49m\u001b[38;5;124;43m助動詞\u001b[39;49m\u001b[38;5;124;43m\"\u001b[39;49m\u001b[43m,\u001b[49m\u001b[43m \u001b[49m\u001b[38;5;124;43m\"\u001b[39;49m\u001b[38;5;124;43m非自立\u001b[39;49m\u001b[38;5;124;43m\"\u001b[39;49m\u001b[43m]\u001b[49m\u001b[43m)\u001b[49m\n",
      "File \u001b[0;32m~/デスクトップ/プログラム/TechnicalInvestigation/HldaInput/../Data/CommentDataset.py:82\u001b[0m, in \u001b[0;36mCommentDataset.formatted_input_hlda\u001b[0;34m(self, appear_tagging_list, stop_tagging_list)\u001b[0m\n\u001b[1;32m     80\u001b[0m filtered_comment \u001b[38;5;241m=\u001b[39m []\n\u001b[1;32m     81\u001b[0m \u001b[38;5;28;01mfor\u001b[39;00m word \u001b[38;5;129;01min\u001b[39;00m comment:\n\u001b[0;32m---> 82\u001b[0m     \u001b[38;5;28;01mif\u001b[39;00m \u001b[43mword\u001b[49m\u001b[43m \u001b[49m\u001b[38;5;129;43;01min\u001b[39;49;00m\u001b[43m \u001b[49m\u001b[38;5;28;43mself\u001b[39;49m\u001b[38;5;241;43m.\u001b[39;49m\u001b[43mvoc\u001b[49m:\n\u001b[1;32m     83\u001b[0m         filtered_comment\u001b[38;5;241m.\u001b[39mappend(word)\n\u001b[1;32m     84\u001b[0m filtered_corpus\u001b[38;5;241m.\u001b[39mappend(filtered_comment)\n",
      "\u001b[0;31mKeyboardInterrupt\u001b[0m: "
     ]
    }
   ],
   "source": [
    "# 指定すべき文字コードはファイルによる ex.cp932, utf-8\n",
    "df = pd.read_csv(\"../Data/yahoo/\"+comment_list_path, encoding=\"utf-8\", header=None)\n",
    "comment_list = df[0][1:].to_numpy().tolist()\n",
    "comment_dataset = CommentDataset(comment_list)\n",
    "comment_dataset.delete_comment_specified_string(50)\n",
    "comment_dataset.formatted_input_hlda(appear_tagging_list=[\"名詞\", \"形容詞\", \"動詞\"], stop_tagging_list=[\"助詞\", \"助動詞\", \"非自立\"])"
   ]
  },
  {
   "cell_type": "code",
   "execution_count": null,
   "id": "26906a90-0e81-4100-828c-5f8edc30abdb",
   "metadata": {},
   "outputs": [],
   "source": [
    "from model.HldaModel import ExpandHldaModel\n",
    "\n",
    "expandHlda = ExpandHldaModel(pickle_path=model_path)"
   ]
  },
  {
   "cell_type": "code",
   "execution_count": null,
   "id": "fedf78e4-5f2e-4f80-8d2b-28123d0fb2b5",
   "metadata": {},
   "outputs": [],
   "source": [
    "expandHlda.print_nodes(words = 10, weights = True)"
   ]
  },
  {
   "cell_type": "code",
   "execution_count": 21,
   "id": "ec8f0726-8055-4a94-bb2f-f2949d050e3d",
   "metadata": {},
   "outputs": [
    {
     "name": "stdout",
     "output_type": "stream",
     "text": [
      "['容疑', ['容疑'], 0.37104410525984377]\n",
      "['頭をかすめる容疑', ['頭', 'を', 'かすめる', '容疑'], 0.09276102631496094]\n",
      "['必要だった父親', ['必要', 'だ', 'た', '父親'], 0.09195936090155084]\n",
      "['薬剤を処分する必要', ['薬剤', 'を', '処分', 'する', '必要'], 0.07003616264985998]\n",
      "['警察', ['警察'], 0.04484703656364487]\n",
      "['方向', ['方向'], 0.03449772043357297]\n",
      "['我々', ['我々'], 0.02008982909231623]\n",
      "['両親', ['両親'], 0.017525652912377558]\n",
      "['自分', ['自分'], 0.01626717882502813]\n",
      "['幇助', ['幇助'], 0.015425773023733571]\n"
     ]
    }
   ],
   "source": [
    "# 指定しているトピックのキーフレーズ抽出\n",
    "topic_id = 1487\n",
    "topic_document_list = expandHlda.get_topic_document(comment_list=comment_list, corpus=comment_dataset.comment_list, topic_id=topic_id)\n",
    "tpr = TopicalPageRank(collection=topic_document_list, appear_tagging_list=[\"名詞\", \"形容詞\"], w=10)\n",
    "topic_word_weighted = expandHlda.get_weighted(topic_id)\n",
    "phrase_list = tpr.extract_phrase(damping_factor=0.3, word_weighted_list=topic_word_weighted)\n",
    "\n",
    "for phrase in phrase_list[0:10]:\n",
    "    print(phrase)"
   ]
  },
  {
   "cell_type": "code",
   "execution_count": 16,
   "id": "cd67417a-562e-4c01-b3de-afdc1d71de1c",
   "metadata": {},
   "outputs": [
    {
     "name": "stdout",
     "output_type": "stream",
     "text": [
      "['新しく開設する銀行口座', ['新しい', '開設', 'する', '銀行', '口座'], 0.2703191385369026]\n",
      "['大切な物を入れてる金庫を無くした もしくは盗まれた実印 銀行口座', ['大切', 'だ', '物', 'を', '入れる', 'てる', '金庫', 'を', '無くす', 'た', 'もしくは', '盗む', 'れる', 'た', '実印', '銀行', '口座'], 0.22814461556008941]\n",
      "['銀行口座', ['銀行', '口座'], 0.22313567585935928]\n",
      "['口座開設', ['口座', '開設'], 0.14769625132149788]\n",
      "['地元都市銀行', ['地元', '都市', '銀行'], 0.144708197939078]\n",
      "['大手都市銀行４行', ['大手', '都市', '銀行', '４', '行'], 0.1375611622010842]\n",
      "['しないかは銀行次第', ['する', 'ない', 'か', 'は', '銀行', '次第'], 0.13613895435343354]\n",
      "['民間銀行', ['民間', '銀行'], 0.12288526884425242]\n",
      "['どの銀行', ['どの', '銀行'], 0.12061419512524797]\n",
      "['銀行', ['銀行'], 0.12061419512524797]\n"
     ]
    }
   ],
   "source": [
    "topic_id = 24\n",
    "topic_document_list = expandHlda.get_topic_document(comment_list=comment_list, corpus=comment_dataset.comment_list, topic_id=topic_id)\n",
    "tpr = TopicalPageRank(collection=topic_document_list, appear_tagging_list=[\"名詞\", \"形容詞\"], w=10)\n",
    "topic_word_weighted = expandHlda.get_weighted(topic_id)\n",
    "phrase_list = tpr.extract_phrase(damping_factor=0.3, word_weighted_list=topic_word_weighted)\n",
    "\n",
    "for phrase in phrase_list[0:10]:\n",
    "    print(phrase)"
   ]
  },
  {
   "cell_type": "code",
   "execution_count": 17,
   "id": "0d1f3af0-23f2-480c-8a79-628978c182ca",
   "metadata": {},
   "outputs": [
    {
     "name": "stdout",
     "output_type": "stream",
     "text": [
      "['運転免許更新', ['運転', '免許', '更新'], 0.24399515900266552]\n",
      "['免許更新', ['免許', '更新'], 0.2399162336262838]\n",
      "['免許証更新', ['免許', '証', '更新'], 0.2399162336262838]\n",
      "['ゴールドカードを更新してた人たち', ['ゴールド', 'カード', 'を', '更新', 'する', 'てる', 'た', '人', 'たち'], 0.2316251148326113]\n",
      "['最低でも更新期間1.2回', ['最低', 'で', 'も', '更新', '期間', '*', '*', '*', '回'], 0.21831695695101466]\n",
      "['同じような更新手続き', ['同じ', 'よう', 'だ', '更新', '手続き'], 0.20926056299085874]\n",
      "['更新会場', ['更新', '会場'], 0.20389282016063578]\n",
      "['更新手続き', ['更新', '手続き'], 0.2020273133055084]\n",
      "['成人だったら１０年写真を更新しないマイナンバーカード', ['成人', 'だ', 'た', '１', '０', '年', '写真', 'を', '更新', 'する', 'ない', '*'], 0.20056812182993494]\n",
      "['自動更新', ['自動', '更新'], 0.19663299084968508]\n"
     ]
    }
   ],
   "source": [
    "topic_id = 484\n",
    "topic_document_list = expandHlda.get_topic_document(comment_list=comment_list, corpus=comment_dataset.comment_list, topic_id=topic_id)\n",
    "tpr = TopicalPageRank(collection=topic_document_list, appear_tagging_list=[\"名詞\", \"形容詞\"], w=10)\n",
    "topic_word_weighted = expandHlda.get_weighted(topic_id)\n",
    "phrase_list = tpr.extract_phrase(damping_factor=0.3, word_weighted_list=topic_word_weighted)\n",
    "\n",
    "for phrase in phrase_list[0:10]:\n",
    "    print(phrase)"
   ]
  },
  {
   "cell_type": "code",
   "execution_count": 19,
   "id": "249d39d9-58a4-4567-bd7b-ff49fb1e8447",
   "metadata": {},
   "outputs": [
    {
     "name": "stdout",
     "output_type": "stream",
     "text": [
      "['アナログ対応', ['アナログ', '対応'], 0.11862763686892508]\n",
      "['デジタル化', ['デジタル', '化'], 0.1059404006737948]\n",
      "['必ず起こるアナログ人間', ['必ず', '起こる', 'アナログ', '人間'], 0.08490755304765313]\n",
      "['世界', ['世界'], 0.07574917517953622]\n",
      "['アナログ', ['アナログ'], 0.06966498803117288]\n",
      "['人類史', ['人類', '史'], 0.04225719779771875]\n",
      "['日常生活', ['日常', '生活'], 0.03800578068314113]\n",
      "['日本政府', ['日本', '政府'], 0.034019867613059376]\n",
      "['より良きシステム', ['より', '良い', 'システム'], 0.03100091185966953]\n",
      "['困難に直面する事', ['困難', 'に', '直面', 'する', '事'], 0.029114331811358897]\n"
     ]
    }
   ],
   "source": [
    "topic_id = 32\n",
    "topic_document_list = expandHlda.get_topic_document(comment_list=comment_list, corpus=comment_dataset.comment_list, topic_id=topic_id)\n",
    "tpr = TopicalPageRank(collection=topic_document_list, appear_tagging_list=[\"名詞\", \"形容詞\"], w=10)\n",
    "topic_word_weighted = expandHlda.get_weighted(topic_id)\n",
    "phrase_list = tpr.extract_phrase(damping_factor=0.3, word_weighted_list=topic_word_weighted)\n",
    "\n",
    "for phrase in phrase_list[0:10]:\n",
    "    print(phrase)"
   ]
  },
  {
   "cell_type": "code",
   "execution_count": null,
   "id": "e472ff2c-ce84-47fa-9d8d-c92fd8abc932",
   "metadata": {},
   "outputs": [],
   "source": []
  }
 ],
 "metadata": {
  "kernelspec": {
   "display_name": "Python 3 (ipykernel)",
   "language": "python",
   "name": "python3"
  },
  "language_info": {
   "codemirror_mode": {
    "name": "ipython",
    "version": 3
   },
   "file_extension": ".py",
   "mimetype": "text/x-python",
   "name": "python",
   "nbconvert_exporter": "python",
   "pygments_lexer": "ipython3",
   "version": "3.8.10"
  }
 },
 "nbformat": 4,
 "nbformat_minor": 5
}
