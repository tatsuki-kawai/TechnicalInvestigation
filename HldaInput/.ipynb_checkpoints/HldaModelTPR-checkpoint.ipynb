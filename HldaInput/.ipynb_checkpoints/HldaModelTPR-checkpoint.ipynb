{
 "cells": [
  {
   "cell_type": "code",
   "execution_count": 1,
   "id": "29a17c06-3037-4eee-a3ad-828f8a6d4ed2",
   "metadata": {},
   "outputs": [],
   "source": [
    "import sys\n",
    "sys.path.append('../Data')\n",
    "sys.path.append('../GenerateLabel')\n",
    "\n",
    "import pandas as pd\n",
    "import numpy as np\n",
    "import time\n",
    "from CommentDataset import CommentDataset\n",
    "from PageRank import WordGraph, TopicalPageRank"
   ]
  },
  {
   "cell_type": "code",
   "execution_count": 8,
   "id": "231e0a97-1284-4248-b9d9-7767e205cca5",
   "metadata": {},
   "outputs": [],
   "source": [
    "comment_list_name = \"AIhyouka_sannkou_gyakutaimiokuri\"\n",
    "comment_list_path = \"2023_07_11/\" + comment_list_name + \".csv\"\n",
    "\n",
    "model_path = \"model/pickle/2023_07_11/AIhyouka_sannkou_gyakutaimiokuri_default.pickle\""
   ]
  },
  {
   "cell_type": "code",
   "execution_count": 9,
   "id": "5c734986-8a72-4d0f-887e-93689d9049ff",
   "metadata": {},
   "outputs": [],
   "source": [
    "# 指定すべき文字コードはファイルによる ex.cp932, utf-8\n",
    "df = pd.read_csv(\"../Data/yahoo/\"+comment_list_path, encoding=\"utf-8\", header=None)\n",
    "comment_list = df[0][1:].to_numpy().tolist()\n",
    "comment_dataset = CommentDataset(comment_list)\n",
    "comment_dataset.delete_comment_specified_string(50)\n",
    "comment_dataset.formatted_input_hlda(appear_tagging_list=[\"名詞\", \"形容詞\", \"動詞\"], stop_tagging_list=[\"助詞\", \"助動詞\", \"非自立\"])"
   ]
  },
  {
   "cell_type": "code",
   "execution_count": 10,
   "id": "26906a90-0e81-4100-828c-5f8edc30abdb",
   "metadata": {},
   "outputs": [
    {
     "ename": "FileNotFoundError",
     "evalue": "[Errno 2] No such file or directory: 'model/pickle/2023_07_11/20230711_AIhyouka_sannkou_gyakutaimiokuri_default.pickle'",
     "output_type": "error",
     "traceback": [
      "\u001b[1;31m---------------------------------------------------------------------------\u001b[0m",
      "\u001b[1;31mFileNotFoundError\u001b[0m                         Traceback (most recent call last)",
      "\u001b[1;32m~\\AppData\\Local\\Temp\\ipykernel_21720\\1083408023.py\u001b[0m in \u001b[0;36m<module>\u001b[1;34m\u001b[0m\n\u001b[0;32m      1\u001b[0m \u001b[1;32mfrom\u001b[0m \u001b[0mmodel\u001b[0m\u001b[1;33m.\u001b[0m\u001b[0mHldaModel\u001b[0m \u001b[1;32mimport\u001b[0m \u001b[0mExpandHldaModel\u001b[0m\u001b[1;33m\u001b[0m\u001b[1;33m\u001b[0m\u001b[0m\n\u001b[0;32m      2\u001b[0m \u001b[1;33m\u001b[0m\u001b[0m\n\u001b[1;32m----> 3\u001b[1;33m \u001b[0mexpandHlda\u001b[0m \u001b[1;33m=\u001b[0m \u001b[0mExpandHldaModel\u001b[0m\u001b[1;33m(\u001b[0m\u001b[0mpickle_path\u001b[0m\u001b[1;33m=\u001b[0m\u001b[0mmodel_path\u001b[0m\u001b[1;33m)\u001b[0m\u001b[1;33m\u001b[0m\u001b[1;33m\u001b[0m\u001b[0m\n\u001b[0m",
      "\u001b[1;32m~\\OneDrive\\デスクトップ\\program\\TechnicalInvestigation\\HldaInput\\model\\HldaModel.py\u001b[0m in \u001b[0;36m__init__\u001b[1;34m(self, pickle_path)\u001b[0m\n\u001b[0;32m     12\u001b[0m         \u001b[1;31m#　改善の余地あり\u001b[0m\u001b[1;33m\u001b[0m\u001b[1;33m\u001b[0m\u001b[0m\n\u001b[0;32m     13\u001b[0m         \u001b[1;32mif\u001b[0m \u001b[0misinstance\u001b[0m\u001b[1;33m(\u001b[0m\u001b[0mpickle_path\u001b[0m\u001b[1;33m,\u001b[0m \u001b[0mstr\u001b[0m\u001b[1;33m)\u001b[0m\u001b[1;33m:\u001b[0m\u001b[1;33m\u001b[0m\u001b[1;33m\u001b[0m\u001b[0m\n\u001b[1;32m---> 14\u001b[1;33m             \u001b[0mself\u001b[0m\u001b[1;33m.\u001b[0m\u001b[0mhlda\u001b[0m \u001b[1;33m=\u001b[0m \u001b[0mself\u001b[0m\u001b[1;33m.\u001b[0m\u001b[0mload_zipped_pickle\u001b[0m\u001b[1;33m(\u001b[0m\u001b[0mpickle_path\u001b[0m\u001b[1;33m)\u001b[0m\u001b[1;33m\u001b[0m\u001b[1;33m\u001b[0m\u001b[0m\n\u001b[0m\u001b[0;32m     15\u001b[0m         \u001b[1;32melse\u001b[0m\u001b[1;33m:\u001b[0m\u001b[1;33m\u001b[0m\u001b[1;33m\u001b[0m\u001b[0m\n\u001b[0;32m     16\u001b[0m             \u001b[0mself\u001b[0m\u001b[1;33m.\u001b[0m\u001b[0mhlda\u001b[0m \u001b[1;33m=\u001b[0m \u001b[0mpickle_path\u001b[0m\u001b[1;33m\u001b[0m\u001b[1;33m\u001b[0m\u001b[0m\n",
      "\u001b[1;32m~\\OneDrive\\デスクトップ\\program\\TechnicalInvestigation\\HldaInput\\model\\HldaModel.py\u001b[0m in \u001b[0;36mload_zipped_pickle\u001b[1;34m(self, filename)\u001b[0m\n\u001b[0;32m     21\u001b[0m \u001b[1;33m\u001b[0m\u001b[0m\n\u001b[0;32m     22\u001b[0m     \u001b[1;32mdef\u001b[0m \u001b[0mload_zipped_pickle\u001b[0m\u001b[1;33m(\u001b[0m\u001b[0mself\u001b[0m\u001b[1;33m,\u001b[0m \u001b[0mfilename\u001b[0m\u001b[1;33m)\u001b[0m\u001b[1;33m:\u001b[0m\u001b[1;33m\u001b[0m\u001b[1;33m\u001b[0m\u001b[0m\n\u001b[1;32m---> 23\u001b[1;33m         \u001b[1;32mwith\u001b[0m \u001b[0mgzip\u001b[0m\u001b[1;33m.\u001b[0m\u001b[0mopen\u001b[0m\u001b[1;33m(\u001b[0m\u001b[0mfilename\u001b[0m\u001b[1;33m,\u001b[0m \u001b[1;34m'rb'\u001b[0m\u001b[1;33m)\u001b[0m \u001b[1;32mas\u001b[0m \u001b[0mf\u001b[0m\u001b[1;33m:\u001b[0m\u001b[1;33m\u001b[0m\u001b[1;33m\u001b[0m\u001b[0m\n\u001b[0m\u001b[0;32m     24\u001b[0m             \u001b[0mloaded_object\u001b[0m \u001b[1;33m=\u001b[0m \u001b[0mpickle\u001b[0m\u001b[1;33m.\u001b[0m\u001b[0mload\u001b[0m\u001b[1;33m(\u001b[0m\u001b[0mf\u001b[0m\u001b[1;33m)\u001b[0m\u001b[1;33m\u001b[0m\u001b[1;33m\u001b[0m\u001b[0m\n\u001b[0;32m     25\u001b[0m             \u001b[1;32mreturn\u001b[0m \u001b[0mloaded_object\u001b[0m\u001b[1;33m\u001b[0m\u001b[1;33m\u001b[0m\u001b[0m\n",
      "\u001b[1;32m~\\AppData\\Local\\Programs\\Python\\Python310\\lib\\gzip.py\u001b[0m in \u001b[0;36mopen\u001b[1;34m(filename, mode, compresslevel, encoding, errors, newline)\u001b[0m\n\u001b[0;32m     56\u001b[0m     \u001b[0mgz_mode\u001b[0m \u001b[1;33m=\u001b[0m \u001b[0mmode\u001b[0m\u001b[1;33m.\u001b[0m\u001b[0mreplace\u001b[0m\u001b[1;33m(\u001b[0m\u001b[1;34m\"t\"\u001b[0m\u001b[1;33m,\u001b[0m \u001b[1;34m\"\"\u001b[0m\u001b[1;33m)\u001b[0m\u001b[1;33m\u001b[0m\u001b[1;33m\u001b[0m\u001b[0m\n\u001b[0;32m     57\u001b[0m     \u001b[1;32mif\u001b[0m \u001b[0misinstance\u001b[0m\u001b[1;33m(\u001b[0m\u001b[0mfilename\u001b[0m\u001b[1;33m,\u001b[0m \u001b[1;33m(\u001b[0m\u001b[0mstr\u001b[0m\u001b[1;33m,\u001b[0m \u001b[0mbytes\u001b[0m\u001b[1;33m,\u001b[0m \u001b[0mos\u001b[0m\u001b[1;33m.\u001b[0m\u001b[0mPathLike\u001b[0m\u001b[1;33m)\u001b[0m\u001b[1;33m)\u001b[0m\u001b[1;33m:\u001b[0m\u001b[1;33m\u001b[0m\u001b[1;33m\u001b[0m\u001b[0m\n\u001b[1;32m---> 58\u001b[1;33m         \u001b[0mbinary_file\u001b[0m \u001b[1;33m=\u001b[0m \u001b[0mGzipFile\u001b[0m\u001b[1;33m(\u001b[0m\u001b[0mfilename\u001b[0m\u001b[1;33m,\u001b[0m \u001b[0mgz_mode\u001b[0m\u001b[1;33m,\u001b[0m \u001b[0mcompresslevel\u001b[0m\u001b[1;33m)\u001b[0m\u001b[1;33m\u001b[0m\u001b[1;33m\u001b[0m\u001b[0m\n\u001b[0m\u001b[0;32m     59\u001b[0m     \u001b[1;32melif\u001b[0m \u001b[0mhasattr\u001b[0m\u001b[1;33m(\u001b[0m\u001b[0mfilename\u001b[0m\u001b[1;33m,\u001b[0m \u001b[1;34m\"read\"\u001b[0m\u001b[1;33m)\u001b[0m \u001b[1;32mor\u001b[0m \u001b[0mhasattr\u001b[0m\u001b[1;33m(\u001b[0m\u001b[0mfilename\u001b[0m\u001b[1;33m,\u001b[0m \u001b[1;34m\"write\"\u001b[0m\u001b[1;33m)\u001b[0m\u001b[1;33m:\u001b[0m\u001b[1;33m\u001b[0m\u001b[1;33m\u001b[0m\u001b[0m\n\u001b[0;32m     60\u001b[0m         \u001b[0mbinary_file\u001b[0m \u001b[1;33m=\u001b[0m \u001b[0mGzipFile\u001b[0m\u001b[1;33m(\u001b[0m\u001b[1;32mNone\u001b[0m\u001b[1;33m,\u001b[0m \u001b[0mgz_mode\u001b[0m\u001b[1;33m,\u001b[0m \u001b[0mcompresslevel\u001b[0m\u001b[1;33m,\u001b[0m \u001b[0mfilename\u001b[0m\u001b[1;33m)\u001b[0m\u001b[1;33m\u001b[0m\u001b[1;33m\u001b[0m\u001b[0m\n",
      "\u001b[1;32m~\\AppData\\Local\\Programs\\Python\\Python310\\lib\\gzip.py\u001b[0m in \u001b[0;36m__init__\u001b[1;34m(self, filename, mode, compresslevel, fileobj, mtime)\u001b[0m\n\u001b[0;32m    172\u001b[0m             \u001b[0mmode\u001b[0m \u001b[1;33m+=\u001b[0m \u001b[1;34m'b'\u001b[0m\u001b[1;33m\u001b[0m\u001b[1;33m\u001b[0m\u001b[0m\n\u001b[0;32m    173\u001b[0m         \u001b[1;32mif\u001b[0m \u001b[0mfileobj\u001b[0m \u001b[1;32mis\u001b[0m \u001b[1;32mNone\u001b[0m\u001b[1;33m:\u001b[0m\u001b[1;33m\u001b[0m\u001b[1;33m\u001b[0m\u001b[0m\n\u001b[1;32m--> 174\u001b[1;33m             \u001b[0mfileobj\u001b[0m \u001b[1;33m=\u001b[0m \u001b[0mself\u001b[0m\u001b[1;33m.\u001b[0m\u001b[0mmyfileobj\u001b[0m \u001b[1;33m=\u001b[0m \u001b[0mbuiltins\u001b[0m\u001b[1;33m.\u001b[0m\u001b[0mopen\u001b[0m\u001b[1;33m(\u001b[0m\u001b[0mfilename\u001b[0m\u001b[1;33m,\u001b[0m \u001b[0mmode\u001b[0m \u001b[1;32mor\u001b[0m \u001b[1;34m'rb'\u001b[0m\u001b[1;33m)\u001b[0m\u001b[1;33m\u001b[0m\u001b[1;33m\u001b[0m\u001b[0m\n\u001b[0m\u001b[0;32m    175\u001b[0m         \u001b[1;32mif\u001b[0m \u001b[0mfilename\u001b[0m \u001b[1;32mis\u001b[0m \u001b[1;32mNone\u001b[0m\u001b[1;33m:\u001b[0m\u001b[1;33m\u001b[0m\u001b[1;33m\u001b[0m\u001b[0m\n\u001b[0;32m    176\u001b[0m             \u001b[0mfilename\u001b[0m \u001b[1;33m=\u001b[0m \u001b[0mgetattr\u001b[0m\u001b[1;33m(\u001b[0m\u001b[0mfileobj\u001b[0m\u001b[1;33m,\u001b[0m \u001b[1;34m'name'\u001b[0m\u001b[1;33m,\u001b[0m \u001b[1;34m''\u001b[0m\u001b[1;33m)\u001b[0m\u001b[1;33m\u001b[0m\u001b[1;33m\u001b[0m\u001b[0m\n",
      "\u001b[1;31mFileNotFoundError\u001b[0m: [Errno 2] No such file or directory: 'model/pickle/2023_07_11/20230711_AIhyouka_sannkou_gyakutaimiokuri_default.pickle'"
     ]
    }
   ],
   "source": [
    "from model.HldaModel import ExpandHldaModel\n",
    "\n",
    "expandHlda = ExpandHldaModel(pickle_path=model_path)"
   ]
  },
  {
   "cell_type": "code",
   "execution_count": null,
   "id": "fedf78e4-5f2e-4f80-8d2b-28123d0fb2b5",
   "metadata": {},
   "outputs": [],
   "source": [
    "expandHlda.print_nodes(n_words=5, weights=True)"
   ]
  },
  {
   "cell_type": "code",
   "execution_count": 6,
   "id": "ec8f0726-8055-4a94-bb2f-f2949d050e3d",
   "metadata": {},
   "outputs": [
    {
     "name": "stdout",
     "output_type": "stream",
     "text": [
      "['電話', ['電話'], 0.7006697113158903]\n",
      "['こと', ['こと'], 0.033223979571734175]\n",
      "['ゴミ', ['ゴミ'], 0.026944825490236177]\n",
      "['到ること', ['到る', 'こと'], 0.016611989785867087]\n",
      "['ご両親', ['ご', '両親'], 0.01591917470533482]\n",
      "['自殺幇助', ['自殺', '幇助'], 0.014049801862766005]\n",
      "['猿之助さん', ['猿之助', 'さん'], 0.008110710464482094]\n",
      "['証言', ['証言'], 0.006807756824515932]\n",
      "['問題', ['問題'], 0.002670101777155999]\n",
      "['寄り添う気持ち', ['寄り添う', '気持ち'], 0.002121675030076074]\n"
     ]
    }
   ],
   "source": [
    "# 指定しているトピックのキーフレーズ抽出\n",
    "topic_id = 1619\n",
    "topic_document_list = expandHlda.get_topic_document(comment_list=comment_list, corpus=comment_dataset.comment_list, topic_id=topic_id)\n",
    "tpr = TopicalPageRank(collection=topic_document_list, appear_tagging_list=[\"名詞\", \"形容詞\"], w=10)\n",
    "topic_word_weighted = expandHlda.get_weighted(topic_id)\n",
    "phrase_list = tpr.extract_phrase(damping_factor=0.3, word_weighted_list=topic_word_weighted)\n",
    "\n",
    "for phrase in phrase_list[0:10]:\n",
    "    print(phrase)"
   ]
  },
  {
   "cell_type": "code",
   "execution_count": 7,
   "id": "cd67417a-562e-4c01-b3de-afdc1d71de1c",
   "metadata": {},
   "outputs": [
    {
     "name": "stdout",
     "output_type": "stream",
     "text": [
      "['起訴内容', ['起訴', '内容'], nan]\n",
      "['今後', ['今後'], nan]\n",
      "['裁判', ['裁判'], nan]\n",
      "['結果', ['結果'], nan]\n",
      "['焦点', ['焦点'], nan]\n",
      "['ファン', ['ファン'], nan]\n",
      "['タニマチ', ['*'], 0.0]\n",
      "['有力者', ['有力', '者'], nan]\n",
      "['多い点', ['多い', '点'], nan]\n",
      "['歌舞伎', ['歌舞伎'], nan]\n"
     ]
    }
   ],
   "source": [
    "topic_id = 1543\n",
    "topic_document_list = expandHlda.get_topic_document(comment_list=comment_list, corpus=comment_dataset.comment_list, topic_id=topic_id)\n",
    "tpr = TopicalPageRank(collection=topic_document_list, appear_tagging_list=[\"名詞\", \"形容詞\"], w=10)\n",
    "topic_word_weighted = expandHlda.get_weighted(topic_id)\n",
    "phrase_list = tpr.extract_phrase(damping_factor=0.3, word_weighted_list=topic_word_weighted)\n",
    "\n",
    "for phrase in phrase_list[0:10]:\n",
    "    print(phrase)"
   ]
  },
  {
   "cell_type": "code",
   "execution_count": null,
   "id": "0d1f3af0-23f2-480c-8a79-628978c182ca",
   "metadata": {},
   "outputs": [],
   "source": [
    "topic_id = 484\n",
    "topic_document_list = expandHlda.get_topic_document(comment_list=comment_list, corpus=comment_dataset.comment_list, topic_id=topic_id)\n",
    "tpr = TopicalPageRank(collection=topic_document_list, appear_tagging_list=[\"名詞\", \"形容詞\"], w=10)\n",
    "topic_word_weighted = expandHlda.get_weighted(topic_id)\n",
    "phrase_list = tpr.extract_phrase(damping_factor=0.3, word_weighted_list=topic_word_weighted)\n",
    "\n",
    "for phrase in phrase_list[0:10]:\n",
    "    print(phrase)"
   ]
  },
  {
   "cell_type": "code",
   "execution_count": null,
   "id": "249d39d9-58a4-4567-bd7b-ff49fb1e8447",
   "metadata": {},
   "outputs": [],
   "source": [
    "topic_id = 32\n",
    "topic_document_list = expandHlda.get_topic_document(comment_list=comment_list, corpus=comment_dataset.comment_list, topic_id=topic_id)\n",
    "tpr = TopicalPageRank(collection=topic_document_list, appear_tagging_list=[\"名詞\", \"形容詞\"], w=10)\n",
    "topic_word_weighted = expandHlda.get_weighted(topic_id)\n",
    "phrase_list = tpr.extract_phrase(damping_factor=0.3, word_weighted_list=topic_word_weighted)\n",
    "\n",
    "for phrase in phrase_list[0:10]:\n",
    "    print(phrase)"
   ]
  },
  {
   "cell_type": "code",
   "execution_count": null,
   "id": "e472ff2c-ce84-47fa-9d8d-c92fd8abc932",
   "metadata": {},
   "outputs": [],
   "source": [
    "expandHlda.print_phrases(comment_list=comment_list, corpus=comment_dataset.comment_list, n_phrase=3, with_score=True)"
   ]
  },
  {
   "cell_type": "code",
   "execution_count": null,
   "id": "50954127-6ea1-4150-9993-51829f705ad1",
   "metadata": {},
   "outputs": [],
   "source": []
  }
 ],
 "metadata": {
  "kernelspec": {
   "display_name": "Python 3 (ipykernel)",
   "language": "python",
   "name": "python3"
  },
  "language_info": {
   "codemirror_mode": {
    "name": "ipython",
    "version": 3
   },
   "file_extension": ".py",
   "mimetype": "text/x-python",
   "name": "python",
   "nbconvert_exporter": "python",
   "pygments_lexer": "ipython3",
   "version": "3.10.1"
  }
 },
 "nbformat": 4,
 "nbformat_minor": 5
}
