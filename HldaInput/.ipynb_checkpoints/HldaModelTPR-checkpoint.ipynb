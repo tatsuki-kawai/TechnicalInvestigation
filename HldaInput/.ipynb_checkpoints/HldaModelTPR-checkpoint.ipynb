{
 "cells": [
  {
   "cell_type": "code",
   "execution_count": 1,
   "id": "29a17c06-3037-4eee-a3ad-828f8a6d4ed2",
   "metadata": {},
   "outputs": [],
   "source": [
    "import sys\n",
    "sys.path.append('../Data')\n",
    "sys.path.append('../GenerateLabel')\n",
    "\n",
    "import pandas as pd\n",
    "import numpy as np\n",
    "import time\n",
    "from CommentDataset import CommentDataset\n",
    "from PageRank import WordGraph, TopicalPageRank"
   ]
  },
  {
   "cell_type": "code",
   "execution_count": 2,
   "id": "231e0a97-1284-4248-b9d9-7767e205cca5",
   "metadata": {},
   "outputs": [],
   "source": [
    "comment_list_name = \"AIhyouka_sannkou_gyakutaimiokuri\"\n",
    "comment_list_path = \"2023_07_11/\" + comment_list_name + \".csv\"\n",
    "\n",
    "model_path = \"model/pickle/2023_07_11/AIhyouka_sannkou_gyakutaimiokuri_default.pickle\""
   ]
  },
  {
   "cell_type": "code",
   "execution_count": 3,
   "id": "5c734986-8a72-4d0f-887e-93689d9049ff",
   "metadata": {},
   "outputs": [],
   "source": [
    "# 指定すべき文字コードはファイルによる ex.cp932, utf-8\n",
    "df = pd.read_csv(\"../Data/yahoo/\"+comment_list_path, encoding=\"utf-8\", header=None)\n",
    "comment_list = df[0][1:].to_numpy().tolist()\n",
    "comment_dataset = CommentDataset(comment_list)\n",
    "comment_dataset.delete_comment_specified_string(50)\n",
    "comment_dataset.formatted_input_hlda(appear_tagging_list=[\"名詞\", \"形容詞\", \"動詞\"], stop_tagging_list=[\"助詞\", \"助動詞\", \"非自立\"])"
   ]
  },
  {
   "cell_type": "code",
   "execution_count": 4,
   "id": "26906a90-0e81-4100-828c-5f8edc30abdb",
   "metadata": {},
   "outputs": [],
   "source": [
    "from model.HldaModel import ExpandHldaModel\n",
    "\n",
    "expandHlda = ExpandHldaModel(pickle_path=model_path)"
   ]
  },
  {
   "cell_type": "code",
   "execution_count": 5,
   "id": "fedf78e4-5f2e-4f80-8d2b-28123d0fb2b5",
   "metadata": {},
   "outputs": [
    {
     "name": "stdout",
     "output_type": "stream",
     "text": [
      "topic=0 level=0 (documents=1200): 保護 (590), 判断 (584), 思う (560), れる (427), 人間 (358), \n",
      "    topic=1 level=1 (documents=250): 児相 (96), 虐待 (70), 子供 (51), 職員 (46), 対応 (32), \n",
      "        topic=2 level=2 (documents=71): 保育園 (61), 長期 (44), 欠席 (35), 問題 (31), 面会 (30), \n",
      "        topic=3 level=2 (documents=7): 奪う (4), 技術 (3), 機運 (2), 極み (2), 遭難 (2), \n",
      "        topic=13 level=2 (documents=24): やつ (7), 足る (4), 知識 (4), 生活 (4), そもそも (3), \n",
      "        topic=484 level=2 (documents=6): 投資 (4), 技術 (3), 児童福祉司 (2), ご冥福をお祈りします (2), 福祉 (2), \n",
      "        topic=578 level=2 (documents=11): 説明 (4), 怒る (3), 感覚 (2), そうだ (2), 参考 (2), \n",
      "        topic=807 level=2 (documents=5): 処罰 (3), はかる (2), バス (2), 悔いる (2), 狡猾 (2), \n",
      "        topic=867 level=2 (documents=15): 一般 (4), 上司 (4), 専門知識 (3), 表示 (3), 対策 (3), \n",
      "        topic=892 level=2 (documents=3): 強化 (2), 他人事 (2), 周囲 (1), 緩和 (1), 与する (1), \n",
      "        topic=894 level=2 (documents=7): 解釈 (2), 正義感 (1), 確かめる (1), 聞く (1), コンピューター (1), \n",
      "        topic=980 level=2 (documents=4): 実務 (2), 逃れ (2), 構造 (2), 実質 (1), 通報 (1), \n",
      "        topic=1080 level=2 (documents=3): 仕草 (1), 態度 (1), 爆発 (1), 漏らす (1), 前兆 (1), \n",
      "        topic=1090 level=2 (documents=9): 三重県 (4), 呼ぶ (3), 唖然 (3), 困難 (2), ベランダ (1), \n",
      "        topic=1103 level=2 (documents=9): 休む (5), 状態 (3), アザ (2), 進める (2), 増やす (2), \n",
      "        topic=1104 level=2 (documents=16): 時間 (4), そのもの (3), 支配 (3), 即時 (3), 世代 (3), \n",
      "        topic=1149 level=2 (documents=7): パンク (3), ゴミ (2), サンプル (2), 飽和 (2), 減らす (2), \n",
      "        topic=1150 level=2 (documents=8): 負担 (2), 生保 (2), 判例 (2), 現役 (2), 協力 (2), \n",
      "        topic=1154 level=2 (documents=7): 傾向 (2), 育てる (2), 有馬線 (2), 子ども (2), 集まる (2), \n",
      "        topic=1174 level=2 (documents=10): 判る (4), 重要 (2), 進む (2), 愚の骨頂 (2), 記録 (2), \n",
      "        topic=1191 level=2 (documents=10): 役所 (3), 4人 (3), 5人 (3), 10人 (3), モデル (2), \n",
      "        topic=1200 level=2 (documents=1): 担当さん (3), 戻る (2), 託す (1), 物腰 (1), 柔らかい (1), \n",
      "        topic=1215 level=2 (documents=4): 程度 (2), 近づく (2), コスト (2), 資金 (2), 綺麗事 (1), \n",
      "        topic=1217 level=2 (documents=3): 戻る (2), 死亡率 (2), 嫌がる (1), 踏む (1), 解約 (1), \n",
      "        topic=1219 level=2 (documents=2): ロシアンルーレット (1), 実弾 (1), だめ (1), 近い (1), 過保護 (1), \n",
      "        topic=1220 level=2 (documents=8): あなた (4), 認識 (3), 朝日新聞 (3), 中国 (2), 生活保護の不正受給 (2), \n",
      "    topic=4 level=1 (documents=174): 児相 (77), 虐待 (38), 職員 (38), 子供 (37), 対応 (21), \n",
      "        topic=5 level=2 (documents=17): 時間 (4), 児童相談所 (4), アザ (3), 幼稚園 (3), 回る (3), \n",
      "        topic=11 level=2 (documents=12): あざ (8), 支援 (5), 応じる (4), 指導 (4), 断定 (4), \n",
      "        topic=945 level=2 (documents=10): チャット (5), 削減 (4), 管理 (3), 人件費 (3), 完成 (2), \n",
      "        topic=1021 level=2 (documents=7): センセーショナル (1), ほじくる (1), 叫び (1), 疑い (1), 4回 (1), \n",
      "        topic=1039 level=2 (documents=6): 帳簿 (1), 等々 (1), さん (1), 人件費 (1), 改ざん (1), \n",
      "        topic=1058 level=2 (documents=12): 項目 (7), 犯罪 (4), 内容 (4), 非難 (3), 死傷 (3), \n",
      "        topic=1063 level=2 (documents=11): 日本 (13), 感覚 (3), 政府 (3), 以前 (2), 浸透 (2), \n",
      "        topic=1065 level=2 (documents=8): 本質 (3), 盲信 (2), 棋士 (2), 名人 (2), 当時 (1), \n",
      "        topic=1113 level=2 (documents=8): とる (2), 期待 (2), 例外 (2), お役所仕事 (2), 裏切る (1), \n",
      "        topic=1136 level=2 (documents=9): 深刻 (2), 基礎 (2), 感じる (1), 動かす (1), 20年 (1), \n",
      "        topic=1141 level=2 (documents=8): 借りる (2), 叩く (2), 環境 (2), ケースワーカー (2), 抱える (2), \n",
      "        topic=1144 level=2 (documents=8): 認識 (2), 開発 (2), スコア (2), 対人 (2), 立場 (1), \n",
      "        topic=1145 level=2 (documents=8): 部分 (1), 論点 (1), 落ち度 (1), 強制 (1), 神戸市 (1), \n",
      "        topic=1148 level=2 (documents=6): 参照 (2), 人為的ミス (1), 手段 (1), 選ぶ (1), 高位 (1), \n",
      "        topic=1163 level=2 (documents=7): 解釈 (2), 処分 (1), 様子見 (1), デリケート (1), 対人 (1), \n",
      "        topic=1180 level=2 (documents=8): 責任感 (2), 示す (1), 事態 (1), ヒト (1), 相当 (1), \n",
      "        topic=1186 level=2 (documents=9): 無能 (5), 打率 (3), 野球 (3), 3割 (2), 捉える (2), \n",
      "        topic=1188 level=2 (documents=3): 愚か (1), 考え (1), よい (1), 把握 (1), 内容 (1), \n",
      "        topic=1189 level=2 (documents=6): 答え (3), 飲食 (2), 美味しい (1), トラ (1), 値上がり (1), \n",
      "        topic=1204 level=2 (documents=5): セン (4), 降雨 (3), 下部組織 (3), 集団 (2), 降る (2), \n",
      "        topic=1218 level=2 (documents=6): 点数 (1), 試験 (1), 無い (1), 生死 (1), 5人 (1), \n",
      "    topic=7 level=1 (documents=144): 児相 (58), 子供 (50), 虐待 (40), 職員 (39), 自分 (14), \n",
      "        topic=29 level=2 (documents=4): 危険 (2), 立場 (1), 警察官 (1), いく (1), ガン (1), \n",
      "        topic=968 level=2 (documents=13): 自治体 (5), 異動 (3), 減らす (3), 増える (2), 支援 (2), \n",
      "        topic=973 level=2 (documents=7): 表情 (5), つく (4), 大人 (3), 総合 (2), 甘い (2), \n",
      "        topic=986 level=2 (documents=10): 死亡 (5), 経験 (3), 通り (2), 思う (2), 人工知能 (2), \n",
      "        topic=988 level=2 (documents=10): 裁判 (3), 施設 (2), 言葉 (2), 元気 (2), 保育園 (2), \n",
      "        topic=1035 level=2 (documents=4): 排除 (3), 一時 (2), 終わる (2), 救世主 (2), 法律 (2), \n",
      "        topic=1062 level=2 (documents=4): 一律 (2), 少子高齢化 (1), 凄い (1), 司法 (1), 宝くじ (1), \n",
      "        topic=1073 level=2 (documents=2): 制作 (1), 有する (1), 過信 (1), 総合的 (1), 有馬線 (1), \n",
      "        topic=1093 level=2 (documents=16): 少子化対策 (7), 異次元 (5), どれ (4), 幼児 (3), 周り (3), \n",
      "        topic=1115 level=2 (documents=11): アホ (5), 導き出す (4), もと (3), 入力データ (3), 変化 (3), \n",
      "        topic=1120 level=2 (documents=8): 正直 (2), 真面目 (2), 記録 (2), 通じる (1), しかる (1), \n",
      "        topic=1139 level=2 (documents=6): 見殺し (2), 実用 (1), すむ (1), 方法 (1), 早期 (1), \n",
      "        topic=1146 level=2 (documents=12): 終わる (2), 役所 (2), 傷害事件 (1), ほごす (1), 脱炭 (1), \n",
      "        topic=1168 level=2 (documents=9): 4歳 (5), 苦しむ (4), 地獄 (3), 税金 (2), 回避 (2), \n",
      "        topic=1185 level=2 (documents=3): 避難 (1), 経つ (1), 相談員 (1), 対象 (1), 教育委員会 (1), \n",
      "        topic=1192 level=2 (documents=6): 心理学 (1), 謂う (1), しれる (1), 勝てる (1), 始め (1), \n",
      "        topic=1210 level=2 (documents=4): ニッポン (2), われわれ (1), 世界 (1), 有理 (1), 総理大臣 (1), \n",
      "        topic=1216 level=2 (documents=12): 生まれる (3), 赤ちゃん (3), 腹立たしい (2), 出す (2), 覚える (2), \n",
      "        topic=1221 level=2 (documents=3): 神様 (1), ちゃう (1), 想像 (1), 鵜呑み (1), 吟味 (1), \n",
      "    topic=9 level=1 (documents=109): 児相 (45), 子供 (28), 職員 (20), 虐待 (17), 自分 (12), \n",
      "        topic=846 level=2 (documents=2): 傷害致死 (1), 論じる (1), 慢性 (1), 結論 (1), 非情 (1), \n",
      "        topic=853 level=2 (documents=10): 失態 (3), 一部 (2), 人材 (2), 登用 (2), 分野 (2), \n",
      "        topic=1089 level=2 (documents=8): そう (3), 不手際 (2), 精度 (2), 何度 (1), 引っ張る (1), \n",
      "        topic=1094 level=2 (documents=7): 母親 (2), 後手 (2), 従う (1), 緊急 (1), 助ける (1), \n",
      "        topic=1095 level=2 (documents=5): バイアス (2), 使える (2), つなげる (1), 強い (1), 無意味 (1), \n",
      "        topic=1098 level=2 (documents=5): くれる (2), 驚く (1), 責任者 (1), 話し手 (1), 話し合う (1), \n",
      "        topic=1101 level=2 (documents=7): 親権 (3), 決まる (2), 一生 (2), 保身 (2), 下がる (1), \n",
      "        topic=1102 level=2 (documents=3): 普段の生活 (1), 数値 (1), 出来る (1), 内部 (0), 内包 (0), \n",
      "        topic=1127 level=2 (documents=8): 他人事 (2), 都道府県 (2), 話し手 (1), 巡り (1), コントロールされている (1), \n",
      "        topic=1140 level=2 (documents=9): 叩く (4), 感じる (1), 不幸な子供 (1), データ (1), 悪意 (1), \n",
      "        topic=1143 level=2 (documents=4): 39パーセント (1), 確定 (1), 退化 (1), 大人 (1), 関与 (1), \n",
      "        topic=1162 level=2 (documents=8): 早い (2), 分母 (2), 降る (2), 発達 (1), learning (1), \n",
      "        topic=1175 level=2 (documents=4): 詳細 (1), 極まりない (1), 現状 (1), 強制 (1), ナイト (1), \n",
      "        topic=1190 level=2 (documents=6): 配慮 (3), 偏り (2), 倫理 (2), 被害者 (2), バランス (1), \n",
      "        topic=1195 level=2 (documents=6): 鈍る (2), 宗教 (1), 起こる (1), 以前 (1), 過信 (1), \n",
      "        topic=1199 level=2 (documents=4): 黒人 (4), 収入 (2), 実績 (2), 厳しい (1), 生じる (1), \n",
      "        topic=1214 level=2 (documents=12): 思う (2), 建てる (2), 人権 (2), 探す (2), 税金 (2), \n",
      "        topic=1222 level=2 (documents=1): 有限 (1), 一定 (1), しまう (1), 本件 (1), 黙る (0), \n",
      "    topic=15 level=1 (documents=195): 児相 (48), 職員 (47), 責任 (41), 虐待 (41), 仕事 (24), \n",
      "        topic=19 level=2 (documents=8): 偉い (2), 向かい合う (2), 心がまえ (2), 税金 (2), 果たす (2), \n",
      "        topic=77 level=2 (documents=9): 転職 (3), 含める (2), 手抜き (2), 無責任体質 (2), 必要性 (2), \n",
      "        topic=425 level=2 (documents=15): 4割 (17), 保護対象 (6), 近く (5), 黄色 (3), 捕まえる (3), \n",
      "        topic=754 level=2 (documents=6): 人達 (2), 向く (2), 施設 (2), 無理 (1), 取る (1), \n",
      "        topic=922 level=2 (documents=5): 悲しい (3), お子さん (2), 苦しみ (2), 関わる (1), 理由 (1), \n",
      "        topic=957 level=2 (documents=13): いつ (3), 内侍 (2), 出鱈目 (2), 経つ (2), 部署 (2), \n",
      "        topic=992 level=2 (documents=15): 通り (3), 思考停止 (2), 見方 (2), 変化 (2), 悲劇 (2), \n",
      "        topic=1003 level=2 (documents=8): 日本人 (6), 通り (5), 民族 (3), ポイント (2), 重んじる (2), \n",
      "        topic=1016 level=2 (documents=6): 訓練 (2), 不明 (2), 隠れる (1), 加減 (1), 済ます (1), \n",
      "        topic=1038 level=2 (documents=5): 監禁 (1), 世間 (1), 向く (1), 歩き (1), 税金の無駄遣い (1), \n",
      "        topic=1048 level=2 (documents=13): 思考 (9), データベース (4), 根拠 (4), 決定 (3), 従う (3), \n",
      "        topic=1072 level=2 (documents=3): 悪質 (1), 思える (1), 亡くなる (1), 無駄 (1), 何事 (1), \n",
      "        topic=1109 level=2 (documents=11): learning (3), 判断 (2), 自作 (2), なすり付ける (1), 帰宅 (1), \n",
      "        topic=1126 level=2 (documents=9): アメリカ (3), 警察 (3), 子育て (2), 権限 (2), 考慮 (2), \n",
      "        topic=1131 level=2 (documents=12): 公表 (3), 大人 (3), 世間 (2), 近い (2), 理想 (2), \n",
      "        topic=1135 level=2 (documents=6): プロンプト (2), 打ち込む (2), 先生 (2), 書く (2), なり手 (1), \n",
      "        topic=1158 level=2 (documents=12): 極端 (3), 心理 (3), 基準 (2), データベース (2), 複雑 (2), \n",
      "        topic=1165 level=2 (documents=6): 監視 (4), 濡れる (2), ストーカー被害 (2), とこ (1), 見合う (1), \n",
      "        topic=1166 level=2 (documents=5): 引き離す (2), 障がい者 (2), 出来る (1), 鈍る (1), 曖昧 (1), \n",
      "        topic=1167 level=2 (documents=13): 逮捕 (2), だれ (2), 税金 (2), 被害者 (2), 軽犯罪 (2), \n",
      "        topic=1176 level=2 (documents=7): 判決 (2), 整備 (2), 裁判 (2), 最適 (2), 連中 (2), \n",
      "        topic=1208 level=2 (documents=8): 単発 (2), 繰り返し (1), スパロボ (1), 親権 (1), 頼り (1), \n",
      "    topic=31 level=1 (documents=157): 児相 (51), 子供 (38), 職員 (34), 虐待 (26), 自分 (20), \n",
      "        topic=720 level=2 (documents=7): 感じる (3), やる気 (3), 低い (2), 課長 (2), 〇〇 (2), \n",
      "        topic=784 level=2 (documents=4): 幸せ (2), 被害 (2), 通報 (2), 発達 (1), 勘違い (1), \n",
      "        topic=836 level=2 (documents=11): 使いこなせる (3), 回数 (3), バイト (2), よい (2), 視点 (2), \n",
      "        topic=948 level=2 (documents=11): 機能 (2), 向き合う (2), とる (2), 相次ぐ (2), 解釈 (2), \n",
      "        topic=969 level=2 (documents=8): 個々 (3), にも (1), 応用 (1), いい加減 (1), そりゃ (1), \n",
      "        topic=1013 level=2 (documents=9): コンピュータ (2), 通り (2), 助ける (1), 治療法 (1), 暴走 (1), \n",
      "        topic=1018 level=2 (documents=8): 政府 (3), かむ (2), 日本 (1), ポスト (1), おもう (1), \n",
      "        topic=1024 level=2 (documents=9): 39人 (2), 100人 (2), 補償 (2), 存在 (2), 毎日 (2), \n",
      "        topic=1034 level=2 (documents=4): 行う (3), 一次 (2), 効率 (1), 決めつける (1), 日本政府 (1), \n",
      "        topic=1056 level=2 (documents=12): いく (2), 被害 (2), 格好 (2), 幼い (2), そりゃ (2), \n",
      "        topic=1125 level=2 (documents=7): 条件 (3), 使い方 (3), 通報 (3), プライベート (2), 事項 (2), \n",
      "        topic=1129 level=2 (documents=6): 取材 (2), アップ (2), こいつ (1), 言いなり (1), 相当 (1), \n",
      "        topic=1170 level=2 (documents=12): 叩く (4), 不思議 (3), 正解 (3), なす (3), 待遇 (3), \n",
      "        topic=1173 level=2 (documents=3): 見習う (1), 絡む (1), 決定 (1), 働く (1), 見殺し (1), \n",
      "        topic=1178 level=2 (documents=5): トリアージ (1), 引っかかる (1), 定まる (1), 事柄 (1), 要点 (1), \n",
      "        topic=1179 level=2 (documents=3): 守る (1), 預かる (1), 驚く (1), 決まる (1), 起きる (1), \n",
      "        topic=1193 level=2 (documents=8): 代わり (3), 打ち込む (3), 大臣 (2), 離す (2), 日本 (2), \n",
      "        topic=1196 level=2 (documents=3): 1件 (2), 加減 (2), 出来る (1), なんぼ (1), フル (1), \n",
      "        topic=1201 level=2 (documents=11): 所為 (4), 返す (2), 加える (2), 最初 (2), 証明 (2), \n",
      "        topic=1206 level=2 (documents=5): 加減 (3), 助かる (2), アナログ (1), 帰る (1), テクノロジー (1), \n",
      "        topic=1209 level=2 (documents=7): 推進 (2), 優れる (2), 特性 (2), 滑稽 (1), 悲しい (1), \n",
      "        topic=1212 level=2 (documents=4): 収集 (1), 該当 (1), 自動運転 (1), エンディング (1), 鈍る (1), \n",
      "    topic=97 level=1 (documents=171): 児相 (48), 職員 (38), 虐待 (33), 子供 (31), 児童相談所 (30), \n",
      "        topic=557 level=2 (documents=9): 削減 (3), 1番 (2), 廃止 (2), 読者 (2), 児童福祉 (2), \n",
      "        topic=749 level=2 (documents=12): 民間 (6), 赤ちゃんポスト (3), 入れる (3), 犯罪者 (2), 守る (2), \n",
      "        topic=802 level=2 (documents=9): 人類 (3), 成熟 (2), 申し訳ない (2), 滅ぼす (2), 見守る (2), \n",
      "        topic=843 level=2 (documents=4): 三毛猫 (2), バカ (2), 疑い (1), 与える (1), やな (1), \n",
      "        topic=914 level=2 (documents=5): 費用 (2), 自治体 (2), 血税 (2), 簡素 (1), ミス (1), \n",
      "        topic=954 level=2 (documents=5): 39パーセント (2), 非難 (2), なるい (1), 5時 (1), いっか (1), \n",
      "        topic=971 level=2 (documents=13): 作成 (5), 資料 (4), 処理 (4), 例える (3), あいまい (3), \n",
      "        topic=981 level=2 (documents=11): 一言 (2), 奪う (2), なでる (2), 学校 (2), 見当たる (2), \n",
      "        topic=1005 level=2 (documents=6): 死ぬ (3), 真剣 (2), 謝罪 (2), 衰退 (2), 続く (2), \n",
      "        topic=1010 level=2 (documents=8): とれる (2), 戻す (2), 遅い (2), 怪しい (2), プログラム (1), \n",
      "        topic=1017 level=2 (documents=6): 成る (2), くる (1), まやかし (1), 受け取る (1), 追いやる (1), \n",
      "        topic=1033 level=2 (documents=2): 児童 (1), 予見 (1), 見殺し (1), 産まれる (1), 男女 (1), \n",
      "        topic=1037 level=2 (documents=7): 夜中 (2), 突撃 (2), 来る (2), ちゃん (2), 警察官 (2), \n",
      "        topic=1043 level=2 (documents=5): 段階 (1), 粗末 (1), パーセンテージ (1), 望む (1), 悪いこと (1), \n",
      "        topic=1074 level=2 (documents=9): 途上 (2), 逃れる (2), 効率化 (2), 風通し (1), 教科書 (1), \n",
      "        topic=1079 level=2 (documents=5): 労働基準監督官 (1), 恐ろしい (1), 信用 (1), 知る (1), 個々 (1), \n",
      "        topic=1084 level=2 (documents=4): 完璧 (4), 根本 (1), 悲惨 (1), ゲーム (1), 全区 (1), \n",
      "        topic=1107 level=2 (documents=4): 一時的 (1), 強調 (1), 致死率 (1), 訓練 (1), 病気 (1), \n",
      "        topic=1119 level=2 (documents=7): 殺し (3), 人生 (1), その間 (1), 専門 (1), 本筋 (1), \n",
      "        topic=1197 level=2 (documents=9): アナログ (4), デジタル (4), エラー (3), 効率的 (2), 良さ (2), \n",
      "        topic=1202 level=2 (documents=4): 見極める (2), 帰す (2), 維持 (2), 起きる (2), 一流 (1), \n",
      "        topic=1207 level=2 (documents=8): ソフトウェア (3), とんでも (2), 予測 (2), 完璧 (2), 下がる (1), \n",
      "        topic=1211 level=2 (documents=13): 不備 (3), なん (2), バカ (2), 過去データ (2), かむ (2), \n",
      "        topic=1213 level=2 (documents=6): 見殺し (1), 使いこなせる (1), 二つ (1), 成果 (1), テクノロジー (1), \n"
     ]
    }
   ],
   "source": [
    "expandHlda.print_nodes(n_words=5, weights=True)"
   ]
  },
  {
   "cell_type": "code",
   "execution_count": 11,
   "id": "ec8f0726-8055-4a94-bb2f-f2949d050e3d",
   "metadata": {},
   "outputs": [
    {
     "name": "stdout",
     "output_type": "stream",
     "text": [
      "1619がみつかりません\n"
     ]
    }
   ],
   "source": [
    "# 指定しているトピックのキーフレーズ抽出\n",
    "topic_id = 1619\n",
    "topic_document_list = expandHlda.get_topic_document(comment_list=comment_list, corpus=comment_dataset.comment_list, topic_id=topic_id)\n",
    "\n",
    "if topic_document_list:\n",
    "    tpr = TopicalPageRank(collection=topic_document_list, appear_tagging_list=[\"名詞\", \"形容詞\"], w=10)\n",
    "    topic_word_weighted = expandHlda.get_weighted(topic_id)\n",
    "    phrase_list = tpr.extract_phrase(damping_factor=0.3, word_weighted_list=topic_word_weighted)\n",
    "    \n",
    "    for phrase in phrase_list[0:10]:\n",
    "        print(phrase)"
   ]
  },
  {
   "cell_type": "code",
   "execution_count": 12,
   "id": "cd67417a-562e-4c01-b3de-afdc1d71de1c",
   "metadata": {},
   "outputs": [
    {
     "name": "stdout",
     "output_type": "stream",
     "text": [
      "1543がみつかりません\n"
     ]
    }
   ],
   "source": [
    "topic_id = 1543\n",
    "topic_document_list = expandHlda.get_topic_document(comment_list=comment_list, corpus=comment_dataset.comment_list, topic_id=topic_id)\n",
    "if topic_document_list:\n",
    "    tpr = TopicalPageRank(collection=topic_document_list, appear_tagging_list=[\"名詞\", \"形容詞\"], w=10)\n",
    "    topic_word_weighted = expandHlda.get_weighted(topic_id)\n",
    "    phrase_list = tpr.extract_phrase(damping_factor=0.3, word_weighted_list=topic_word_weighted)\n",
    "    \n",
    "    for phrase in phrase_list[0:10]:\n",
    "        print(phrase)"
   ]
  },
  {
   "cell_type": "code",
   "execution_count": 8,
   "id": "0d1f3af0-23f2-480c-8a79-628978c182ca",
   "metadata": {},
   "outputs": [
    {
     "name": "stdout",
     "output_type": "stream",
     "text": [
      "['投資', ['投資'], 0.08366940459539748]\n",
      "['利益', ['利益'], 0.04199937230397022]\n",
      "['教育福祉行政', ['教育', '福祉', '行政'], 0.04164606594544865]\n",
      "['教育', ['教育'], 0.03986016767632163]\n",
      "['支援', ['支援'], 0.039446626859411256]\n",
      "['カネ', ['カネ'], 0.03775420474756439]\n",
      "['高い技術', ['高い', '技術'], 0.03536991475002037]\n",
      "['社会福祉援助技術', ['社会', '福祉', '援助', '技術'], 0.033430338060149625]\n",
      "['保護児童', ['保護', '児童'], 0.028304715458867345]\n",
      "['児童福祉司', ['児童', '福祉', '司'], 0.027946787712978233]\n"
     ]
    }
   ],
   "source": [
    "topic_id = 484\n",
    "topic_document_list = expandHlda.get_topic_document(comment_list=comment_list, corpus=comment_dataset.comment_list, topic_id=topic_id)\n",
    "if topic_document_list:\n",
    "    tpr = TopicalPageRank(collection=topic_document_list, appear_tagging_list=[\"名詞\", \"形容詞\"], w=10)\n",
    "    topic_word_weighted = expandHlda.get_weighted(topic_id)\n",
    "    phrase_list = tpr.extract_phrase(damping_factor=0.3, word_weighted_list=topic_word_weighted)\n",
    "    \n",
    "    for phrase in phrase_list[0:10]:\n",
    "        print(phrase)"
   ]
  },
  {
   "cell_type": "code",
   "execution_count": null,
   "id": "249d39d9-58a4-4567-bd7b-ff49fb1e8447",
   "metadata": {},
   "outputs": [],
   "source": [
    "topic_id = 32\n",
    "topic_document_list = expandHlda.get_topic_document(comment_list=comment_list, corpus=comment_dataset.comment_list, topic_id=topic_id)\n",
    "tpr = TopicalPageRank(collection=topic_document_list, appear_tagging_list=[\"名詞\", \"形容詞\"], w=10)\n",
    "topic_word_weighted = expandHlda.get_weighted(topic_id)\n",
    "phrase_list = tpr.extract_phrase(damping_factor=0.3, word_weighted_list=topic_word_weighted)\n",
    "\n",
    "for phrase in phrase_list[0:10]:\n",
    "    print(phrase)"
   ]
  },
  {
   "cell_type": "code",
   "execution_count": null,
   "id": "e472ff2c-ce84-47fa-9d8d-c92fd8abc932",
   "metadata": {},
   "outputs": [],
   "source": [
    "expandHlda.print_phrases(comment_list=comment_list, corpus=comment_dataset.comment_list, n_phrase=3, with_score=True)"
   ]
  },
  {
   "cell_type": "code",
   "execution_count": null,
   "id": "50954127-6ea1-4150-9993-51829f705ad1",
   "metadata": {},
   "outputs": [],
   "source": []
  }
 ],
 "metadata": {
  "kernelspec": {
   "display_name": "Python 3 (ipykernel)",
   "language": "python",
   "name": "python3"
  },
  "language_info": {
   "codemirror_mode": {
    "name": "ipython",
    "version": 3
   },
   "file_extension": ".py",
   "mimetype": "text/x-python",
   "name": "python",
   "nbconvert_exporter": "python",
   "pygments_lexer": "ipython3",
   "version": "3.10.1"
  }
 },
 "nbformat": 4,
 "nbformat_minor": 5
}
