{
 "cells": [
  {
   "cell_type": "code",
   "execution_count": 10,
   "metadata": {},
   "outputs": [],
   "source": [
    "import sys\n",
    "sys.path.append('../Data')\n",
    "\n",
    "import pandas as pd\n",
    "import numpy as np\n",
    "import time\n",
    "from CommentDataset import CommentDataset"
   ]
  },
  {
   "cell_type": "code",
   "execution_count": 11,
   "metadata": {},
   "outputs": [],
   "source": [
    "df = pd.read_csv(\"../Data/yahoo/2022_09_22/comment_2022_09_22.csv\", encoding=\"cp932\", header=None)\n",
    "comment_list = df[0][1:].to_numpy().tolist()\n",
    "comment_dataset = CommentDataset(comment_list)\n",
    "comment_dataset.delete_comment_specified_string(50)\n",
    "comment_dataset.formatted_input_hlda()"
   ]
  },
  {
   "cell_type": "code",
   "execution_count": 12,
   "metadata": {},
   "outputs": [],
   "source": [
    "input_comment_list = comment_dataset.comment_list\n",
    "input_voc = comment_dataset.voc\n",
    "corpus = comment_dataset.corpus"
   ]
  },
  {
   "cell_type": "code",
   "execution_count": 13,
   "metadata": {},
   "outputs": [
    {
     "data": {
      "text/plain": [
       "210"
      ]
     },
     "execution_count": 13,
     "metadata": {},
     "output_type": "execute_result"
    }
   ],
   "source": [
    "len(input_comment_list)"
   ]
  },
  {
   "cell_type": "code",
   "execution_count": 14,
   "metadata": {},
   "outputs": [],
   "source": [
    "from hlda.sampler import HierarchicalLDA\n",
    "\n",
    "n_samples = 50       # サンプラーの反復回数\n",
    "alpha = 10.0          # smoothing over level distributions\n",
    "gamma = 1.0          # CRP smoothing parameter; number of imaginary customers at next, as yet unused table\n",
    "eta = 0.1             # smoothing over topic-word distributions\n",
    "num_levels = 2      # the number of levels in the tree\n",
    "display_topics = 50  # the number of iterations between printing a brief summary of the topics so far\n",
    "n_words = 7          # the number of most probable words to print for each topic after model estimation\n",
    "with_weights = False  # whether to print the words with the weights"
   ]
  },
  {
   "cell_type": "code",
   "execution_count": 15,
   "metadata": {},
   "outputs": [
    {
     "name": "stdout",
     "output_type": "stream",
     "text": [
      "HierarchicalLDA sampling\n",
      "\n",
      ".................................................. 50\n",
      "topic=0 level=0 (documents=210): メタノール, こと, よう, 逮捕, 子供, 殺害, 事件, \n",
      "    topic=1 level=1 (documents=17): 戦後, メチルアルコール, 失明, 密造酒, アルコール, 戦中, 続出, \n",
      "    topic=2 level=1 (documents=17): お子さん, お母さん, お父さん, 心配, 小学生, 不憫, 気の毒, \n",
      "    topic=3 level=1 (documents=3): 劇物, 毒物, 大変, 上司, 問題, 社員教育, 深刻, \n",
      "    topic=4 level=1 (documents=6): 大学院, 京都大学, エリート, 薬学部, 取得, 普通に, びっくり, \n",
      "    topic=5 level=1 (documents=10): 使用, 不自然, 大手, 対策, 本人, 今回, 承知, \n",
      "    topic=6 level=1 (documents=12): 子ども, 不倫, 旦那, ため, 捜査, 相手, 大事, \n",
      "    topic=7 level=1 (documents=6): ケンカ, 題材, 別居, 不思議, 同士, 痛み, お互い, \n",
      "    topic=8 level=1 (documents=6): 吉宗, そうだ, 幸せ, 冤罪事件, 世間, 幼稚, 取り柄, \n",
      "    topic=9 level=1 (documents=2): 分野, 専門, 疑問, 無理, 奥さん, 当人, 検死, \n",
      "    topic=10 level=1 (documents=8): 捜査, 慎重, 薬品, 自殺, 余計, なのか, 市販, \n",
      "    topic=11 level=1 (documents=3): 鬼畜, トラブル, 操作, 真相, kore, 晩酌, 充分, \n",
      "    topic=12 level=1 (documents=7): 20年, データ, 追試, 論文, ワクチン, 感情, 起訴, \n",
      "    topic=13 level=1 (documents=9): 自宅, 症状, 感じ, 様子, 会社員, 冤罪, 当たり前, \n",
      "    topic=15 level=1 (documents=5): 死因, 研究員, 自由, 環境, 不審死, 以外, 追究, \n",
      "    topic=16 level=1 (documents=8): 偽装, 病死, ドラマ, 容疑者, こと, 派手, 見た目, \n",
      "    topic=17 level=1 (documents=1): アメフト部, 科学者, 三共, 社員, 非科学, 時代, 脳内出血, \n",
      "    topic=18 level=1 (documents=6): 解明, 捜査, 薬学, 有機物, 専門的, 司法解剖, 多様, \n",
      "    topic=19 level=1 (documents=7): 両親, 本当, 息子, キャリア, 熱心, すぎ, 私生活, \n",
      "    topic=20 level=1 (documents=6): 試薬, 出し手, 新薬, 事情, 旧帝大, 表現, 大手, \n",
      "    topic=21 level=1 (documents=6): 結婚, メートル, 仕事, 大学院, 半径, 絶対, 肝硬変, \n",
      "    topic=22 level=1 (documents=5): 否認, 不可解, 確定, ギ酸, 体内, ホルムアルデヒド, 指摘, \n",
      "    topic=23 level=1 (documents=6): ニュース, 理性, 給食, 漂白剤, 大丈夫, 研究員, 模試, \n",
      "    topic=24 level=1 (documents=6): 職業, 正直, 学歴, 良識, 判断, ギ酸, 商社, \n",
      "    topic=25 level=1 (documents=7): 自死, 容疑者, 疑問, 模試, 医薬品, 誰か, エタノール, \n",
      "    topic=26 level=1 (documents=12): 理由, 自殺, さん, 検死, 匙加減, 直ぐ, 勉強, \n",
      "    topic=27 level=1 (documents=4): こと, 病院, 管理, 薬物, 隣の芝生, 薬剤師, 脅迫, \n",
      "    topic=28 level=1 (documents=6): メーカー, 日本, 医薬品, せい, ニュース, 研究室, からだ, \n",
      "    topic=31 level=1 (documents=6): 異常者, 結婚, シロウト, 今回, エタノール, 放火, 人格, \n",
      "    topic=32 level=1 (documents=5): 人間, 京大, 製薬会社, 生い立ち, 奥さま, 学部, タヒチ, \n",
      "    topic=33 level=1 (documents=5): 気持ち, わからん, 体内, まし, 場合, 死亡, 吸収, \n",
      "    topic=34 level=1 (documents=3): 新た, 積み重ね, 利益, 分解, 勉強, もろもろ, きっかけ, \n"
     ]
    }
   ],
   "source": [
    "hlda = HierarchicalLDA(input_comment_list, input_voc, alpha=alpha, gamma=gamma, eta=eta, num_levels=num_levels)\n",
    "hlda.estimate(n_samples, display_topics=display_topics, n_words=n_words, with_weights=with_weights)"
   ]
  },
  {
   "cell_type": "code",
   "execution_count": 17,
   "metadata": {},
   "outputs": [
    {
     "name": "stdout",
     "output_type": "stream",
     "text": [
      "[警察は証拠を積み上げ、逮捕に至る\n",
      "自殺か事件かわからない時は余計に慎重になるだろう\n",
      "むしろ事件性なしと葬られた事案のほうが世の中には多いかもしれない\n",
      "\n",
      "しかしながら、近代警察の捜査能力は科学捜査分野では突出している\n",
      "素人が薬品の扱いについてどうこう述べるのは避けたほうがよいだろう\n",
      "逮捕に至っているという事実が、殺害に使われた薬品、また容疑者がその薬品を扱える立場にいたか、など緻密な裏付けによって進められているからだ\n",
      "当然、市販されているものか研究用のものかも捜査されているはずだ\n",
      "\n",
      "取り調べで真実が明らかにされる事を願う]\n",
      "\n",
      "\n",
      "[衝撃的な事件だけど、これ、防ぎようがないよな。メタノールなんて市販の燃料用アルコールに含まれてるし、家族に毒を盛られるなんて普通は考えない。危険運転なんかもそうだけど、世の中、善意と信頼と常識でなんとか成り立って回ってるのだけど、それを崩す行為が起きると、対処しきれない。]\n",
      "\n",
      "\n",
      "[何で薬品に詳しい人がメタノールなんて使ったんだろう。。。\n",
      "使いにくいしニオイもするしバレやすいし苦しむのもわかる。。。\n",
      "完全犯罪にする気はなかったんだろうとは思う。]\n",
      "\n",
      "\n",
      "[旧帝大出て博士号も取って、留学までして、ここまで優秀で華々しい人生を送ってたのになんか勿体無いなと感じる。それぞれ事情はあるんでしょうが。]\n",
      "\n",
      "\n",
      "[同業種として化学薬品でこういうことされるとさ、無駄に管理が厳しくなったり余計な仕事が増えたりするから勘弁してもらいたいわ。迷惑千万ですわ。]\n",
      "\n",
      "\n",
      "[以前テレビでアルコール依存性の方が我慢出来ずにこれに手を付けている姿を思い出した。]\n",
      "\n",
      "\n",
      "[彼が犯人としたら、メタノールは劇物ですので、簡単には入手は困難です。であれば劇物を簡単に外部に持ち出せる問題な会社です。また、人体実験を行ったとしたら、彼はもちろんだが、会社の採用、社員教育、上司のマネージメントなど考えるべき点が多くあります。殺人以外にも企業として大変深刻、甚大な問題になります。]\n",
      "\n",
      "\n",
      "[亡くなられた奥さんも薬品には精通しているので、そう簡単には摂取しないだろうと思う。無理やり摂取させれば外傷などが残るだろうから、他殺か自死は判別は簡単ではないのかも。容疑者、被害者共に薬のプロだし、容疑者の自白が無いと起訴は難しい様に思います。\n",
      "容疑者が摂取させた事を立証するのは簡単ではさそう。]\n",
      "\n",
      "\n"
     ]
    }
   ],
   "source": [
    "from model.HldaModel import ExpandHldaModel\n",
    "\n",
    "expand_hlda = ExpandHldaModel(hlda)\n",
    "expand_hlda.save_zipped_pickle('pickle/2023_3_26/test.pickle')\n",
    "expand_hlda.print_topic_document(comment_list, corpus, 10)"
   ]
  },
  {
   "cell_type": "code",
   "execution_count": null,
   "metadata": {},
   "outputs": [],
   "source": []
  }
 ],
 "metadata": {
  "kernelspec": {
   "display_name": "Python 3",
   "language": "python",
   "name": "python3"
  },
  "language_info": {
   "codemirror_mode": {
    "name": "ipython",
    "version": 3
   },
   "file_extension": ".py",
   "mimetype": "text/x-python",
   "name": "python",
   "nbconvert_exporter": "python",
   "pygments_lexer": "ipython3",
   "version": "3.8.1"
  }
 },
 "nbformat": 4,
 "nbformat_minor": 4
}
