{
 "cells": [
  {
   "cell_type": "code",
   "execution_count": 8,
   "id": "4bc8147e-ae9c-4d69-a3cf-9e3a2e1be0c3",
   "metadata": {},
   "outputs": [],
   "source": [
    "import sys\n",
    "sys.path.append('../Data')\n",
    "\n",
    "import pandas as pd\n",
    "import numpy as np\n",
    "import time\n",
    "from CommentDataset import CommentDataset\n",
    "\n",
    "comment_list_name = \"20230627_mynumbercard_untenmenkyosyou\"\n",
    "comment_list_path = \"2023_06_27/\" + comment_list_name + \".csv\"\n",
    "\n",
    "model_path = \"model/pickle/2023_06_27/20230627_mynumbercard_untenmenkyosyou_default.pickle\"\n",
    "\n",
    "# # 指定すべき文字コードはファイルによる(cp932 or utf-8)\n",
    "df = pd.read_csv(\"../Data/yahoo/\"+comment_list_path, encoding=\"cp932\", header=None)\n",
    "comment_list = df[0][1:50].to_numpy().tolist()\n",
    "comment_dataset = CommentDataset(comment_list)\n",
    "comment_dataset.delete_comment_specified_string(50)\n",
    "comment_dataset.formatted_input_hlda(appear_tagging_list=[\"名詞\", \"形容詞\", \"動詞\"], stop_tagging_list=[\"助詞\", \"助動詞\", \"非自立\"])"
   ]
  },
  {
   "cell_type": "code",
   "execution_count": 9,
   "id": "3a7ae6cc-ba2f-49e9-b3bb-ac3fc768575c",
   "metadata": {},
   "outputs": [],
   "source": [
    "from model.HldaModel import ExpandHldaModel\n",
    "\n",
    "expandHlda = ExpandHldaModel(pickle_path=model_path)"
   ]
  },
  {
   "cell_type": "code",
   "execution_count": 10,
   "id": "2379b669-943e-4cfb-b0ff-2789ec02687d",
   "metadata": {},
   "outputs": [
    {
     "name": "stdout",
     "output_type": "stream",
     "text": [
      "topic=0 level=0 (documents=528): 免許, れる, 運転, できる, 保険, 確認, 思う, カード, 本人, 情報, \n",
      "    topic=1 level=1 (documents=152): 国民, 言う, 政府, これ, 日本, 岸田, 政治, 自民党, 信用, 支持, \n",
      "        topic=2 level=2 (documents=18): 暗証, 番号, 補完, 間違える, 違反, 警察官, 読み取り, 設定, 大変, 認証, \n",
      "        topic=6 level=2 (documents=21): 任意, 信用, 義務, 公安, 実質, 一切, 与える, 委員, 姑息, 管轄, \n",
      "        topic=10 level=2 (documents=8): 有る, 普及, 何処, ゼロ, 上がる, ども, 確約, 無視, 常識, 時期, \n",
      "        topic=12 level=2 (documents=11): フォン, スマート, モバイル, 所持, 人間, 悪い, 不正, 覗く, 壊れる, 近く, \n",
      "        topic=15 level=2 (documents=12): 与党, 潰す, 政権, 公明党, 内閣, 存在, 正しい, 皆さん, 下落, 老人, \n",
      "        topic=32 level=2 (documents=7): デジタル, 世界, アナログ, 人類, 対応, 時点, 進行, 遅れる, 破綻, 仕組み, \n",
      "        topic=33 level=2 (documents=9): 実装, でる, 逃れ, マトモ, 作れる, 破産, 初期, だらけ, 次期, 一片, \n",
      "        topic=47 level=2 (documents=12): 不具合, それぞれ, 非常, 全て, 推し進める, 分ける, 目的, 脆弱, かむ, 乗る, \n",
      "        topic=444 level=2 (documents=11): 競争, 仕方, 申請, 不正, やつ, まわす, 原本, 整備, 奪う, 変更, \n",
      "        topic=463 level=2 (documents=6): 纏める, 取得, 権益, 解消, セキュリティ, 始め, 法案, 人達, 反対, 来る, \n",
      "        topic=517 level=2 (documents=11): 登録, 誤る, 議員, 河野, 銀行, 文雄, られる, 国会, 歓迎, 口座, \n",
      "        topic=566 level=2 (documents=8): 対策, ただ, 関わる, ばら, 撒く, 完全, 整える, 保証, 居る, しな, \n",
      "        topic=609 level=2 (documents=4): 本来, 磁気, 年寄り, 余す, なに, リスク, 刑務所, 徴兵, 徴収, 曝す, \n",
      "        topic=611 level=2 (documents=6): 未来, 若者, 繋ぐ, 考える, 思い, 全て, 方式, 国税局, 感じ, 貰う, \n",
      "        topic=621 level=2 (documents=5): リスク, 分散, 書き換え, 犯罪, 出来る, 売買, 功績, クレジットカード, 預け, 乗せる, \n",
      "        topic=626 level=2 (documents=3): 期限, 貴方, 取れる, 沈没, 保健所, 身動き, ふざける, 今回, 酷い, ミス, \n",
      "    topic=3 level=1 (documents=72): 国民, 政府, 日本, 言う, 自民党, 作る, これ, 政治, 責任, せる, \n",
      "        topic=24 level=2 (documents=18): 銀行, 口座, 開設, 電話, 携帯, 契約, これ, 任意, 過ぎる, ライセンス, \n",
      "        topic=382 level=2 (documents=7): 中国, 好き, 岸田, 背番号, すぎ, 落とす, 真似, 一族, いとこ, 移住, \n",
      "        topic=384 level=2 (documents=3): 携帯, 常時, 罰則, 報道, 見過ごす, 印象, 売り飛ばす, 利便, メディア, 日常, \n",
      "        topic=523 level=2 (documents=2): 読み込める, 逮捕, 厳重, そう, 反則, 渡す, 基本, 起こる, 出す, 削減, \n",
      "        topic=526 level=2 (documents=4): 二流, スポーツマン, 三流, 使い, 統一, ビジネスマン, 一流, 何処, 無能, 癒着, \n",
      "        topic=591 level=2 (documents=6): チップ, 今後, 結果, 掛かる, 立ち止まる, ヶ月, 中身, 向う, 反応, 安物, \n",
      "        topic=596 level=2 (documents=9): エラー, たらい, 警官, 回し, 勝手, ヒューマン, 確実, 一つ, 電話, 公明党, \n",
      "        topic=600 level=2 (documents=1): 項目, 祈る, みる, テレビ局, テレビ, いま, 立つ, 立場, コメンテーター, 切る, \n",
      "        topic=601 level=2 (documents=6): 保険, 中身, 太郎, 助かる, 経つ, 同様, 選択肢, 友人, 財布, 知人, \n",
      "        topic=614 level=2 (documents=3): 費用, 記者, いじめ, 削減, キー, おまけ, いれる, 取れる, 等々, 同等, \n",
      "        topic=624 level=2 (documents=3): 振り回す, 一つ, 合併, 検問, メガ, 参照, 追加, ユーザー, たくさん, 似る, \n",
      "        topic=627 level=2 (documents=3): さん, 大学生, 横暴, 名寄せ, ホント, 幼稚園, 異常, 根幹, 税金, 火種, \n",
      "        topic=632 level=2 (documents=7): マイ, 試験, 判断, オレ, 合体, 合格, バッチ, 好き, 紛失, 保証, \n",
      "    topic=8 level=1 (documents=144): 国民, 言う, これ, 政府, 自民党, せる, 日本, 岸田, 国家, 政治, \n",
      "        topic=9 level=2 (documents=13): そう, どこ, 政権, 腐る, 週間, いく, まみれ, 利権, 大変, 一体, \n",
      "        topic=45 level=2 (documents=10): コピー, 公的, 計画, 認証, 対面, やり方, 現状, 割合, 向ける, 書く, \n",
      "        topic=175 level=2 (documents=16): チップ, 記載, 住所, 交通, 番号, 名前, 専用, 機器, 端末, 有効, \n",
      "        topic=477 level=2 (documents=9): 普及, メリット, 庶民, ポイント, 抜け道, 選ぶ, 増やす, 自然, 知る, 普通, \n",
      "        topic=498 level=2 (documents=5): 働く, 持たす, 理解, 事実, 適当, 結果, 論理, 請け負う, 民主, 怒り, \n",
      "        topic=510 level=2 (documents=11): 議員, 国会, 資産, 日本人, 閲覧, 削減, 公安, 銀行, 介護, 仕組み, \n",
      "        topic=541 level=2 (documents=8): 値上がり, パスワード, 終わる, づける, 起こす, 強引, 給料, 示す, そりゃ, 静脈, \n",
      "        topic=548 level=2 (documents=6): 無くす, 原案, ラーメン, 吠える, ご飯, 王国, 前提, 曰く, 確率, まえる, \n",
      "        topic=550 level=2 (documents=7): 怖い, 利己, 友達, トヨタ, 民主, 制度, 財産, 見つかる, 提供, 利便, \n",
      "        topic=559 level=2 (documents=4): 船舶, 恐ろしい, 目先, 若手, 反旗, 退職, 過労, 後始末, 崩壊, 推進, \n",
      "        topic=575 level=2 (documents=3): 使用, 従業, 仕事, 当方, 電子, 場面, 印鑑, 読む, 返す, 貰う, \n",
      "        topic=578 level=2 (documents=5): 保持, 企業, つける, 実務, 協会, 現場, 居座る, バカ, 限定, 勧める, \n",
      "        topic=587 level=2 (documents=5): 軽視, 利便, 母子, 子ども, 手帳, リスト, 喧伝, 渡す, 素晴らしい, 合理, \n",
      "        topic=590 level=2 (documents=11): ダメ, くっつける, 待つ, ついてる, 検討, 担当, 中国共産党, 野党, 絞る, 絡む, \n",
      "        topic=599 level=2 (documents=9): お金, 見える, 日本人, 興味, 行う, 副作用, 長い, 監視, デジタル, 勤め先, \n",
      "        topic=625 level=2 (documents=5): 指紋, 写真, 防止, 廃止, 導入, 解除, 収益, 疲れる, ダブル, 手数料, \n",
      "        topic=628 level=2 (documents=5): 運行, 移行, 運送, 点呼, 安易, これら, 失効, 車種, 種類, 裏書, \n",
      "        topic=629 level=2 (documents=5): 若者, 拍車, 思える, 疑問, いろいろ, 続出, 変わる, 民主, インフラ, 不可欠, \n",
      "        topic=635 level=2 (documents=7): ふざける, 同意, 買い替える, 生じる, 申請, 後進, コスト, 該当, か月, 空白, \n",
      "    topic=79 level=1 (documents=76): 国民, 日本, 政府, 言う, 政権, せる, 選挙, 進める, これ, 利権, \n",
      "        topic=542 level=2 (documents=12): 役人, 無能, ダメ, 設計, 制度, 現場, 天下り, めちゃくちゃ, 段階, マイナー, \n",
      "        topic=555 level=2 (documents=7): みる, 対策, 怒り, 被害, 入力, 不十分, ダメ, 矛盾, 沸き上がる, 研究, \n",
      "        topic=558 level=2 (documents=14): 減る, 記載, オランダ, 海外, 外国, られる, 進む, 予算, 事項, よい, \n",
      "        topic=571 level=2 (documents=10): 投票, 皆さん, 彼ら, 非常, 一部, 交代, 自公, 結果, お願い, 日本人, \n",
      "        topic=581 level=2 (documents=9): 効率, コード, 基本, 整備, づける, 悪い, なに, ヒューマン, わける, 徴収, \n",
      "        topic=583 level=2 (documents=5): 失敗, 普通, 不自由, 地上波, 愚行, 惚ける, 裁判, られる, 化す, 権化, \n",
      "        topic=594 level=2 (documents=4): 公式, 苦情, 総理, チェック, 受付, 厚生, 警察庁, 移す, 裏面, 勝手, \n",
      "        topic=618 level=2 (documents=8): 見せる, 見える, お巡りさん, あげる, 隠す, 現場, 基地, 始まる, 始める, 杜撰, \n",
      "        topic=634 level=2 (documents=7): 財務省, 軽い, そこ, 強引, かさ, 注視, 成り下がる, マスコミ, 実行, 預金, \n",
      "    topic=328 level=1 (documents=84): 国民, 言う, 政府, 選挙, 日本, 強制, これ, 任意, そう, 作る, \n",
      "        topic=468 level=2 (documents=3): 来る, 田舎, 止める, 郵便, 代金, 一つ, 用意, 必要, 事柄, 答える, \n",
      "        topic=484 level=2 (documents=19): 更新, 免許, ゴールド, 違反, 期間, 即日, ブルー, かかる, 視力, 赤ちゃん, \n",
      "        topic=536 level=2 (documents=10): チップ, 埋め込む, マイクロ, ここ, 人体, 離す, 特定, 離脱, ネック, 吸い上げる, \n",
      "        topic=543 level=2 (documents=3): 公明党, 望む, 地獄, 維新, ボロボロ, 区分, 社会, 会社, 発電, 最後, \n",
      "        topic=592 level=2 (documents=8): 世の中, レベル, 続出, 解散, 当たり前, リリース, その後, 問う, 思える, 比較, \n",
      "        topic=597 level=2 (documents=7): 向かう, 目指す, 高齢, 危機, 市民, 見える, 進む, 異常, 奴隷, おける, \n",
      "        topic=604 level=2 (documents=2): 漏洩, 使える, 故意, 複雑, 作成, 始まる, 改ざん, 知らせる, 矛盾, 届出, \n",
      "        topic=607 level=2 (documents=3): 徹底的, 見直す, 批判, 立つ, 恥ずかしい, まみれる, 戸籍, 推し進める, 山積, 目処, \n",
      "        topic=608 level=2 (documents=8): 天下り, せる, 権力, 中身, 都合, 併用, 王様, 身元, 事態, ドラマ, \n",
      "        topic=616 level=2 (documents=5): 最初, 監視, 特殊, 方針, 断る, 大型, 中型, 券面, 根源, 忘れる, \n",
      "        topic=622 level=2 (documents=5): 医者, 言葉, ダメ, 向ける, 住民, 住所, 差し出す, 延期, 韓国, 保有, \n",
      "        topic=631 level=2 (documents=5): 無能, 操作, 行為, 技術, インストール, 原因, 行う, 入力, 多い, 売国奴, \n",
      "        topic=636 level=2 (documents=6): いい, 限り, 民主党, 生体, 下野, 呼ぶ, 諮問, 安倍, その後, 手っ取り早い, \n"
     ]
    }
   ],
   "source": [
    "expandHlda.print_nodes(n_words = 10, weights = False)"
   ]
  },
  {
   "cell_type": "code",
   "execution_count": 11,
   "id": "acb33ce1-a596-44bb-b5e5-a4b5ca0f4dd7",
   "metadata": {},
   "outputs": [],
   "source": [
    "# print(expandHlda.get_weighted(topic_id=632))"
   ]
  },
  {
   "cell_type": "code",
   "execution_count": 12,
   "id": "57a3feaa-62bf-45be-b714-18d59a82a035",
   "metadata": {},
   "outputs": [],
   "source": [
    "# print(comment_dataset.comment_list)\n",
    "# print(comment_list)"
   ]
  },
  {
   "cell_type": "code",
   "execution_count": 16,
   "id": "d0ca49d1-94d0-4387-83be-ba772bbb983d",
   "metadata": {},
   "outputs": [],
   "source": [
    "# expandHlda.get_topic_multi_document(comment_list=comment_list, corpus=comment_dataset.comment_list)"
   ]
  },
  {
   "cell_type": "code",
   "execution_count": 17,
   "id": "41d121c2-de7b-443e-abb8-34d2f45befec",
   "metadata": {},
   "outputs": [
    {
     "name": "stdout",
     "output_type": "stream",
     "text": [
      "No.1\n",
      "「運行管理者の補助者として、点呼と運転免許証の確認をしており、券面の有効期限や免許されている車種、また裏書で免許停止になっていないかの確認を行い、免許失効や無免許運転や資格外運転の防止を行なっているが、運転免許証がマイナンバーカードに移行してしまうと、これらの確認ができないため、しっこした免許や所有する免許の条件等種類の確認が出来なくなり、無資格運転等の問題が起きる危険性がある。貨物自動車運送事業法で運行管理者の方が点呼の責任を取るために、万が一警察の取り締まりや事故等で発覚した場合には、運送会社と運行管理者はかなりの責任を取らされる事になる。制服は安易にマイナンバー制度化でマイナンバーカードにまとめようとしているが、運転免許証の廃止は運行管理上の問題もあり安易に廃止してまとめてしまうのは問題だと思う。」\n",
      "1.0\n",
      "No.2\n",
      "「問題が多発しているのに、ここまで強引に拙速にカードに集約したいのは国民の為と言うより、カード関連業者との癒着そして国の管理強化の為と言わざるを得ない。もし違うと言うなら法的には任意のカードを姑息な手段で実質義務化にしないで、正面から国民に理由を丁寧に説明し法律的に義務化して下さい。」\n",
      "0.532\n"
     ]
    }
   ],
   "source": [
    "expandHlda.print_topic_multi_document(comment_list=comment_list, corpus=comment_dataset.comment_list, topic_id=628)"
   ]
  },
  {
   "cell_type": "code",
   "execution_count": 15,
   "id": "5262eaae-9ef7-4b39-949a-544c12e83c02",
   "metadata": {},
   "outputs": [
    {
     "ename": "AttributeError",
     "evalue": "'ExpandHldaModel' object has no attribute 'print_multi_node'",
     "output_type": "error",
     "traceback": [
      "\u001b[1;31m---------------------------------------------------------------------------\u001b[0m",
      "\u001b[1;31mAttributeError\u001b[0m                            Traceback (most recent call last)",
      "\u001b[1;32m~\\AppData\\Local\\Temp\\ipykernel_1892\\2210238139.py\u001b[0m in \u001b[0;36m<module>\u001b[1;34m\u001b[0m\n\u001b[1;32m----> 1\u001b[1;33m \u001b[0mexpandHlda\u001b[0m\u001b[1;33m.\u001b[0m\u001b[0mprint_multi_node\u001b[0m\u001b[1;33m(\u001b[0m\u001b[0mcomment_list\u001b[0m\u001b[1;33m=\u001b[0m\u001b[0mcomment_list\u001b[0m\u001b[1;33m,\u001b[0m \u001b[0mcorpus\u001b[0m\u001b[1;33m=\u001b[0m\u001b[0mcomment_dataset\u001b[0m\u001b[1;33m.\u001b[0m\u001b[0mcomment_list\u001b[0m\u001b[1;33m,\u001b[0m \u001b[0mn_phrase\u001b[0m\u001b[1;33m=\u001b[0m\u001b[1;36m3\u001b[0m\u001b[1;33m,\u001b[0m \u001b[0mwith_score\u001b[0m\u001b[1;33m=\u001b[0m\u001b[1;32mTrue\u001b[0m\u001b[1;33m)\u001b[0m\u001b[1;33m\u001b[0m\u001b[1;33m\u001b[0m\u001b[0m\n\u001b[0m",
      "\u001b[1;31mAttributeError\u001b[0m: 'ExpandHldaModel' object has no attribute 'print_multi_node'"
     ]
    }
   ],
   "source": [
    "expandHlda.print_multi_node(comment_list=comment_list, corpus=comment_dataset.comment_list, n_phrase=3, with_score=True)"
   ]
  },
  {
   "cell_type": "code",
   "execution_count": 8,
   "id": "e386b4b4-ce02-4bcf-91ab-2f3975380538",
   "metadata": {},
   "outputs": [
    {
     "name": "stdout",
     "output_type": "stream",
     "text": [
      "長年の老老介護状態の疲労に加えて、猿之助のパワハラ、セクハラ報道の親のストレスがあったと想像すると、もう絶望するほど疲れていたのではないかと推測できる\n",
      "法的には事件ではあるが、今回にいたった心の深淵を公表してほしい\n",
      "歌舞伎役者というだけで何か特別な存在だとでも思っているのだろうか\n",
      "\n",
      "それが、同じような環境の人々をどうしたら救えるのかの議論に発展し、より良いサポートができるシステムになることと望んでいる\n",
      "\n"
     ]
    }
   ],
   "source": [
    "import re\n",
    "\n",
    "comment = \"長年の老老介護状態の疲労に加えて、猿之助のパワハラ、セクハラ報道の親のストレスがあったと想像すると、もう絶望するほど疲れていたのではないかと推測できる。法的には事件ではあるが、今回にいたった心の深淵を公表してほしい。歌舞伎役者というだけで何か特別な存在だとでも思っているのだろうか？？それが、同じような環境の人々をどうしたら救えるのかの議論に発展し、より良いサポートができるシステムになることと望んでいる。\"\n",
    "separators = \"。.? \"  # 改行文字を区切り文字として指定\n",
    "s = \",\"\n",
    "comment = comment.replace(\"？\", \"。\")\n",
    "comment = comment.replace(\"。\", \"\\n\")\n",
    "# comment = re.sub(\"。*\", \"\\n\", comment)\n",
    "\n",
    "print(comment)  # ['apple', 'orange', 'banana grape']"
   ]
  },
  {
   "cell_type": "code",
   "execution_count": null,
   "id": "cd11ba5e-bdb4-4adf-8f01-f649f1cf24df",
   "metadata": {},
   "outputs": [],
   "source": []
  },
  {
   "cell_type": "code",
   "execution_count": null,
   "id": "9ff30653-afa5-47ec-b25e-563b812f06b1",
   "metadata": {},
   "outputs": [],
   "source": []
  }
 ],
 "metadata": {
  "kernelspec": {
   "display_name": "Python 3 (ipykernel)",
   "language": "python",
   "name": "python3"
  },
  "language_info": {
   "codemirror_mode": {
    "name": "ipython",
    "version": 3
   },
   "file_extension": ".py",
   "mimetype": "text/x-python",
   "name": "python",
   "nbconvert_exporter": "python",
   "pygments_lexer": "ipython3",
   "version": "3.10.1"
  }
 },
 "nbformat": 4,
 "nbformat_minor": 5
}
