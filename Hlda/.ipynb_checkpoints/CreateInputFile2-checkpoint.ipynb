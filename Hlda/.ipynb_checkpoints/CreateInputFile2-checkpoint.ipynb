{
 "cells": [
  {
   "cell_type": "code",
   "execution_count": 141,
   "metadata": {},
   "outputs": [],
   "source": [
    "import pandas as pd\n",
    "import numpy as np\n",
    "import time\n",
    "from MyNLP import Divider"
   ]
  },
  {
   "cell_type": "code",
   "execution_count": 142,
   "metadata": {},
   "outputs": [],
   "source": [
    "# データの読みこみ\n",
    "comment_list = []\n",
    "comment_sentence_list = []\n",
    "df1 = pd.read_csv(\"comment_keitaiso_0~99_2022_09_22.csv\", encoding=\"Shift-jis\")\n",
    "# df2 = pd.read_csv(\"comment_keitaiso_100~199_2022_09_22.csv\", encoding=\"Shift-jis\")\n",
    "# df3 = pd.read_csv(\"comment_keitaiso_200~299_2022_09_22.csv\", encoding=\"Shift-jis\")\n",
    "# df4 = pd.read_csv(\"comment_keitaiso_300~397_2022_09_22.csv\", encoding=\"Shift-jis\")\n",
    "# df5 = pd.read_csv(\"comment_keitaiso_398~459_2022_09_22.csv\", encoding=\"Shift-jis\")\n",
    "\n",
    "comment_sentence_list.extend(df1.to_numpy().tolist())\n",
    "# comment_sentence_list.extend(df2.to_numpy().tolist())\n",
    "# comment_sentence_list.extend(df3.to_numpy().tolist())\n",
    "# comment_sentence_list.extend(df4.to_numpy().tolist())\n",
    "# comment_sentence_list.extend(df5.to_numpy().tolist())\n",
    "comment_sentence_list = pd.DataFrame(comment_sentence_list)\n",
    "\n",
    "# コメントの列だけを抽出\n",
    "comment_sentence_list = comment_sentence_list.iloc[:, 1]\n",
    "\n",
    "# 欠損値のデータを削除\n",
    "comment_sentence_list = comment_sentence_list.dropna()\n",
    "# dfをリストに変換\n",
    "comment_sentence_list = comment_sentence_list.tolist()"
   ]
  },
  {
   "cell_type": "code",
   "execution_count": 143,
   "metadata": {},
   "outputs": [],
   "source": [
    "from sklearn.feature_extraction.text import TfidfVectorizer\n",
    "\n",
    "vectorizer = TfidfVectorizer()\n",
    "tfidf = vectorizer.fit_transform(comment_sentence_list)\n",
    "voc = vectorizer.vocabulary_\n",
    "# print(voc)"
   ]
  },
  {
   "cell_type": "code",
   "execution_count": 151,
   "metadata": {},
   "outputs": [],
   "source": [
    "file = \"input.txt\"\n",
    "fileobj = open(file, 'w', encoding = \"utf_8\")\n",
    "for i in comment_sentence_list:\n",
    "    word_list = i.split()\n",
    "    m = 0                                       #文書毎の一意な単語の数\n",
    "    list = [0] * len(voc)                       #各単語(インデックス)ごとの出現回数\n",
    "    output = \"\"                                 #出力用の変数\n",
    "    for j in word_list:\n",
    "        try:\n",
    "            number = voc[j]\n",
    "            list[number] = list[number] + 1\n",
    "        except KeyError:\n",
    "            continue\n",
    "    for index, k in enumerate(list):\n",
    "        if k != 0:\n",
    "            m = m + 1\n",
    "        output = output + f\"{index}:{k} \"\n",
    "    output = f\"{m} \" + output\n",
    "    fileobj.write(output + \"\\n\")\n",
    "fileobj.close()"
   ]
  },
  {
   "cell_type": "code",
   "execution_count": 147,
   "metadata": {},
   "outputs": [],
   "source": [
    "file = \"hello.txt\"\n",
    "fileobj = open(file, \"w\", encoding = \"utf_8\")\n",
    "fileobj.write(\"こんにちはn\")\n",
    "fileobj.write(\"Hellon\")\n",
    "fileobj.write(\"你好n\")\n",
    "fileobj.close()"
   ]
  },
  {
   "cell_type": "code",
   "execution_count": null,
   "metadata": {},
   "outputs": [],
   "source": []
  }
 ],
 "metadata": {
  "kernelspec": {
   "display_name": "Python 3",
   "language": "python",
   "name": "python3"
  },
  "language_info": {
   "codemirror_mode": {
    "name": "ipython",
    "version": 3
   },
   "file_extension": ".py",
   "mimetype": "text/x-python",
   "name": "python",
   "nbconvert_exporter": "python",
   "pygments_lexer": "ipython3",
   "version": "3.8.1"
  }
 },
 "nbformat": 4,
 "nbformat_minor": 4
}
