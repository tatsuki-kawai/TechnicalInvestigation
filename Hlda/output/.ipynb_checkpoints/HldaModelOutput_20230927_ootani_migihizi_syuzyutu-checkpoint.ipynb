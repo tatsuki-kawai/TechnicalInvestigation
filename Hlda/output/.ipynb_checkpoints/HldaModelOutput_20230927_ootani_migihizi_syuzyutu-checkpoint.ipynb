{
 "cells": [
  {
   "cell_type": "code",
   "execution_count": 1,
   "id": "7995cb4a-dc33-41c3-ba5d-ecf72afa83a6",
   "metadata": {},
   "outputs": [],
   "source": [
    "import sys\n",
    "sys.path.append('../model')\n",
    "sys.path.append('../../Data')\n",
    "sys.path.append('../../NLP')\n",
    "sys.path.append('../../GenerateLabel')\n",
    "\n",
    "import pandas as pd\n",
    "import numpy as np\n",
    "import time\n",
    "from CommentDataset import CommentDataset\n",
    "\n",
    "comment_list_name = \"20230927_ootani_migihizi_syuzyutu\"\n",
    "comment_list_path = \"2023_09_27/\" + comment_list_name + \".csv\"\n",
    "\n",
    "# # 指定すべき文字コードはファイルによる(cp932 or utf-8)\n",
    "df = pd.read_csv(\"../../Data/yahoo/\"+comment_list_path, encoding=\"cp932\", header=None)\n",
    "comment_list = df[0][1:].to_numpy().tolist()\n",
    "comment_dataset = CommentDataset(comment_list)\n",
    "comment_dataset.delete_comment_specified_string(50)\n",
    "comment_list = comment_dataset.comment_list\n",
    "comment_dataset.formatted_input_hlda(appear_tagging_list=[\"名詞\", \"形容詞\", \"動詞\"], stop_tagging_list=[\"助詞\", \"助動詞\", \"非自立\"])"
   ]
  },
  {
   "cell_type": "code",
   "execution_count": 2,
   "id": "af116522-6eda-4137-ac02-7299bd5e0c35",
   "metadata": {},
   "outputs": [
    {
     "name": "stdout",
     "output_type": "stream",
     "text": [
      "412\n"
     ]
    }
   ],
   "source": [
    "print(len(comment_list))"
   ]
  },
  {
   "cell_type": "code",
   "execution_count": 3,
   "id": "ef1f2780-973b-45ab-8f9b-e3f527db0b88",
   "metadata": {},
   "outputs": [],
   "source": [
    "from HldaModel import ExpandHldaModel\n",
    "\n",
    "model_path = \"../model/pickle/2023_09_27/20230927_ootani_migihizi_syuzyutu_default.pickle\"\n",
    "expandHlda = ExpandHldaModel(pickle_path=model_path)"
   ]
  },
  {
   "cell_type": "code",
   "execution_count": 4,
   "id": "6b61f5ed-899a-47a8-8327-bca51d6927be",
   "metadata": {},
   "outputs": [
    {
     "name": "stdout",
     "output_type": "stream",
     "text": [
      "topic=0 level=0 (documents=412): 手術 (263), 大谷 (246), 選手 (183), 成功 (159), 思う (158), \n",
      "    topic=1 level=1 (documents=91): 二刀流 (29), 打者 (20), 投手 (16), 負担 (10), できる (10), \n",
      "        topic=310 level=2 (documents=11): 上げる (5), 酷使 (4), 悲鳴 (4), おかしい (2), 自身 (2), \n",
      "        topic=318 level=2 (documents=9): バッターボックス (3), 勝てる (2), プレー (2), 届ける (2), 勇気 (2), \n",
      "        topic=320 level=2 (documents=8): 2025年 (2), 記録 (2), 前回 (1), 走る (1), 貢献 (1), \n",
      "        topic=342 level=2 (documents=7): スタート (3), 塁打 (2), 投打 (2), 渡る (2), 球場 (2), \n",
      "        topic=369 level=2 (documents=4): マメ (3), 明らか (2), 指先 (2), 充分 (2), 頼る (2), \n",
      "        topic=370 level=2 (documents=5): 感心 (2), ブランク (2), 進む (1), 練習 (1), こっち (1), \n",
      "        topic=371 level=2 (documents=9): 早期 (2), 盗塁 (2), チーム (1), プラス (1), 快復 (1), \n",
      "        topic=377 level=2 (documents=16): 観る (6), 仕事 (5), 希望 (5), 寂しい (4), お金 (3), \n",
      "        topic=386 level=2 (documents=5): 遅れる (2), 入れる (2), 存在 (2), メス (2), 満身創痍 (1), \n",
      "        topic=396 level=2 (documents=9): 経験 (4), 進化 (3), 勇気 (3), 復帰 (2), 違う (2), \n",
      "        topic=398 level=2 (documents=8): 故障 (3), ベンチ (2), 左投手 (2), 困難 (2), 箇所 (2), \n",
      "    topic=3 level=1 (documents=79): 打者 (36), 二刀流 (32), 投手 (18), 言う (15), 専念 (14), \n",
      "        topic=121 level=2 (documents=4): 最高 (2), 現実 (1), 似合う (1), ペース (1), 出場 (1), \n",
      "        topic=323 level=2 (documents=8): 凄い (3), 来年度 (3), 高額 (2), 神様 (2), 年俸 (2), \n",
      "        topic=354 level=2 (documents=4): そりゃ (2), 小生 (2), 体調 (2), 在る (2), 五十路 (1), \n",
      "        topic=355 level=2 (documents=6): 話題 (2), 接触 (1), デカ (1), 本当 (1), 穏やか (1), \n",
      "        topic=357 level=2 (documents=9): 強化 (2), かかる (2), 存在 (2), 子供 (2), 肉体 (1), \n",
      "        topic=358 level=2 (documents=6): 戻れる (3), 離れる (3), グラウンド (2), 環境 (2), ぬるま湯 (1), \n",
      "        topic=375 level=2 (documents=10): 継続 (5), 球団 (4), 強化 (4), 今後 (4), できる (3), \n",
      "        topic=376 level=2 (documents=11): 期間 (4), 負担 (4), 球種 (4), 減らす (3), 変化球 (3), \n",
      "        topic=380 level=2 (documents=4): マスコミ (4), メディア (4), 情報 (3), 意図 (1), スタッフ (1), \n",
      "        topic=393 level=2 (documents=13): 本塁打 (2), 130打点 (2), 60本 (2), 3冠王 (2), 抜本的 (1), \n",
      "        topic=397 level=2 (documents=4): いい (2), 2年後 (2), はやる (1), 聞く (1), だし (1), \n",
      "    topic=12 level=1 (documents=96): 二刀流 (33), 打者 (29), 投手 (26), できる (22), 負担 (14), \n",
      "        topic=346 level=2 (documents=10): 故障 (3), 選手生命 (3), 絞る (2), 認識 (2), すごい (2), \n",
      "        topic=347 level=2 (documents=5): イチロー (3), 聞く (3), 確実 (2), 間に合う (2), こちら (2), \n",
      "        topic=364 level=2 (documents=9): 以前 (3), 最近 (3), 辛い (2), 最善 (2), 球速 (2), \n",
      "        topic=367 level=2 (documents=8): 筋肉 (6), 作用 (2), 日々 (2), しなやか (2), 体調管理 (2), \n",
      "        topic=372 level=2 (documents=3): 9割 (3), 160キロ (2), 山本昌 (2), すい (1), いける (1), \n",
      "        topic=378 level=2 (documents=7): 成績 (2), 結果 (2), 2025年 (2), 実績 (1), 楽しみ (1), \n",
      "        topic=381 level=2 (documents=2): 世界 (2), スーパースター (2), 熱意 (2), オーバーワーク (2), 切り替える (1), \n",
      "        topic=383 level=2 (documents=12): 意味 (3), 変化球 (3), 必要 (3), 多投 (2), あれだけ (2), \n",
      "        topic=395 level=2 (documents=2): どちら (2), 戦力 (2), 書く (1), 焦点 (1), 支援 (1), \n",
      "        topic=399 level=2 (documents=12): 着る (4), ユニフォーム (4), 状態 (2), 今季 (2), 打点 (2), \n",
      "        topic=400 level=2 (documents=11): 判断 (4), 長い (3), 安心 (2), 至る (2), 静養 (2), \n",
      "        topic=401 level=2 (documents=10): そうだ (2), 早い (2), 決まる (2), 痛い (2), あちこち (2), \n",
      "        topic=402 level=2 (documents=5): 投打 (3), タイミング (2), 本当 (2), 鼓舞 (1), 回避 (1), \n",
      "    topic=14 level=1 (documents=146): 二刀流 (48), 打者 (33), 投手 (26), できる (23), 言う (19), \n",
      "        topic=15 level=2 (documents=8): ホームラン王 (4), 今期 (4), 間違い (3), 休める (3), 変わる (3), \n",
      "        topic=217 level=2 (documents=3): ケガ (3), ヵ月 (2), 諦める (1), 冷静 (1), 集まる (1), \n",
      "        topic=246 level=2 (documents=7): 専念 (2), 不幸 (2), オペ (2), グランド (2), 楽しみ (2), \n",
      "        topic=260 level=2 (documents=5): 多い (3), 滑る (2), 怪我人 (2), 検査 (2), ボール (2), \n",
      "        topic=276 level=2 (documents=5): 程度 (4), ムリ (3), 治癒 (1), 火傷 (1), 無念 (1), \n",
      "        topic=322 level=2 (documents=4): 出し手 (2), 痛める (2), 悪化 (2), 6人 (1), 吉報 (1), \n",
      "        topic=328 level=2 (documents=7): ピッチャー (3), 筋肉 (3), 記事 (2), イチロー (2), 耐える (2), \n",
      "        topic=329 level=2 (documents=9): 失敗 (3), 勝負 (2), 絶対 (2), プレースタイル (2), 受ける (2), \n",
      "        topic=336 level=2 (documents=9): 状態 (2), かける (2), 意思 (2), 執刀 (2), 励ます (1), \n",
      "        topic=345 level=2 (documents=9): 速い (5), 行動 (4), 決断 (4), 原因 (3), 振る (2), \n",
      "        topic=348 level=2 (documents=6): 有る (3), 貰う (3), 出す (2), 目指す (2), グランド (2), \n",
      "        topic=352 level=2 (documents=10): ボール (9), 滑る (4), 日本 (3), 真剣 (2), 供給 (2), \n",
      "        topic=356 level=2 (documents=9): 保存 (2), 療法 (2), 余裕 (1), 2年 (1), スタート (1), \n",
      "        topic=359 level=2 (documents=4): 好き (2), 描く (1), 舞台 (1), ポストシーズン (1), 伝わる (1), \n",
      "        topic=374 level=2 (documents=12): クリニック (3), 打席 (3), 何事 (2), 試練 (2), 終える (2), \n",
      "        topic=379 level=2 (documents=5): ユニホーム (2), 右肘 (2), 今シーズン (2), 含める (2), 裏切る (1), \n",
      "        topic=387 level=2 (documents=7): 療法 (2), ダブルヘッダー (2), 2試合 (2), バッティング (2), 保存 (2), \n",
      "        topic=388 level=2 (documents=6): 時間 (3), シーズン終了 (2), 比べる (2), 優秀 (2), ダル (1), \n",
      "        topic=389 level=2 (documents=11): 現役 (3), こだわる (2), ブランク (2), 感覚 (2), 始まる (2), \n",
      "        topic=394 level=2 (documents=10): 早期 (5), 間に合う (4), 笑顔 (3), 感じる (3), 含める (3), \n"
     ]
    }
   ],
   "source": [
    "expandHlda.print_nodes(n_words = 5, weights = True)"
   ]
  },
  {
   "cell_type": "code",
   "execution_count": 5,
   "id": "625b5768-53fc-433a-b59e-367028d44657",
   "metadata": {},
   "outputs": [
    {
     "name": "stdout",
     "output_type": "stream",
     "text": [
      "topic=402 (documents=3) 投打とも, このタイミング, フル回転, \n",
      "topic=395 (documents=12) タイトル獲得, 目標シート, 登板前後, \n",
      "topic=246 (documents=11) 楽しみ本人, とても楽しみ, 不幸中, \n",
      "topic=375 (documents=10) 二刀流継続, 球団側, 選手個々, \n",
      "topic=398 (documents=9) たくさん語らい太陽, 負担箇所, 二日間ベンチ, \n",
      "topic=15 (documents=13) 今期終了, 投手復活, ホームラン王, \n",
      "topic=379 (documents=5) 活躍シーン, どのようなユニホーム, 様々な豪華かつ走攻守, \n",
      "topic=399 (documents=4) 負荷を測る装具, ことなので今季を上回るホームラン, 打者専念, \n",
      "topic=310 (documents=10) 悲鳴を上げる大谷翔平, 複雑なところ, 過大な負担, \n",
      "topic=364 (documents=7) 去年一年間, 驚異的な活躍, ミゲル・カブレラ本人, \n",
      "topic=348 (documents=3) 再来年度, コメント通り, 二刀流を目指すと宣言できた事, \n",
      "topic=323 (documents=7) 高額年俸, とんでもない高額年俸, 頼もしいと思う反面, \n",
      "topic=400 (documents=8) シーズン途中, 非常にスピーディーな判断, レギュラーシーズン, \n",
      "topic=396 (documents=8) 経験者, 一人経験者, 進化した大谷選手, \n",
      "topic=336 (documents=7) 執刀医, 完璧な二刀流, 手術後, \n",
      "topic=121 (documents=11) 最高の舞台, 最高のニュース, 最高のピーク, \n",
      "topic=377 (documents=2) ゆっくりテレビ観戦したら、どかーんとでっかいホームラン, 何度, \n",
      "topic=367 (documents=7) 打撃筋肉, 筋肉維持, しなやかに投げる筋肉, \n",
      "topic=378 (documents=6) どういう結果, 成績を残す選手, 打者専門大谷, \n",
      "topic=389 (documents=4) あの壮絶なリハビリ, 長く現役続けること, 大きいな怪我, \n",
      "topic=386 (documents=7) 比類ない存在, そして努力, メスを入れるということ, \n",
      "topic=322 (documents=5) 右ひじ, 無理をしてけがを悪化させること, シーズン途中離脱し手術を受けたこと, \n",
      "topic=345 (documents=7) 行動力, 決断力, この決断, \n",
      "topic=374 (documents=3) ロサンゼルス市内, ジョーブ博士, いう報道, \n",
      "topic=369 (documents=6) マメのトラブル, ネビン監督, 翔平, \n",
      "topic=376 (documents=6) 大きな負担, 速球主体, 登板回数, \n",
      "topic=329 (documents=5) ような気, ではないかという懸念を拭うこと, 回復具合, \n",
      "topic=355 (documents=4) 結構本当, 怪しいって動画, なっても　争奪戦必至, \n",
      "topic=388 (documents=3) 不安要素を払拭すること, マイルストーンを示すこと, いうことをよくわかってる人, \n",
      "topic=381 (documents=7) 世界的, 最年少MVP, もう出てこないと思わせる世界, \n",
      "topic=342 (documents=4) 昨日ダックアウト, そして生活, 大谷選手, \n",
      "topic=397 (documents=37) いい状態, いいチーム, いい休日, \n",
      "topic=393 (documents=4) 育成世代, 野球人生, MLBナンバーワン打者, \n",
      "topic=318 (documents=5) 来年も素晴らしいプレー, 来年早い段階, 偉大な侍, \n",
      "topic=356 (documents=4) 保存療法, 超人的な力, \n",
      "topic=394 (documents=10) 早期手術, 素敵な笑顔, 大谷くん, \n",
      "topic=354 (documents=7) 小生自身, 体調見通し等々知る術, 「本人, \n",
      "topic=347 (documents=4) 黄色信号, 打者メイン, もう野手, \n",
      "topic=328 (documents=9) ピッチャー復帰, 「ピッチャー, いる記事, \n",
      "topic=359 (documents=24) チーム環境, 好きな選手, 好きで好きでたまらない、とプレーをしている姿, \n",
      "topic=346 (documents=4) 故障頻度, 大変な事態, 故障をしてしまう事, \n",
      "topic=217 (documents=14) 一ヵ月, ご本人, 説き伏せられる人物, \n",
      "topic=358 (documents=11) 「グラウンド, 最適な環境, どのチーム, \n",
      "topic=371 (documents=3) 30盗塁, 100打点, ポストシーズン進出, \n",
      "topic=372 (documents=12) 145キロ付近, 160キロ, 大谷選手, \n",
      "topic=260 (documents=5) 無い過密スケジュール, 様々な要因, 試合数, \n",
      "topic=320 (documents=7) ホームラン速報, そのとおり, 解説者, \n",
      "topic=357 (documents=6) 希望を与えられる存在, 素晴らしい選手, 実行力, \n",
      "topic=401 (documents=5) 早い復帰, 脇腹周辺, 良い戯言, \n",
      "topic=387 (documents=8) ショートシーズン, 田中投手, 2試合数イニング, \n",
      "topic=370 (documents=10) 1年間ブランク, 経験者, ゆっくりでもブランクを埋められるような練習, \n",
      "topic=352 (documents=17) 大リーグボール, 滑りやすいボール, 別のボール, \n",
      "topic=276 (documents=9) タイミング程度, 高速シンカー, 自然治癒, \n",
      "topic=380 (documents=11) 情報空間, 報じるマスコミ, メディア越し, \n"
     ]
    }
   ],
   "source": [
    "expandHlda.print_phrases_by_sentence(comment_list=comment_list, corpus=comment_dataset.comment_list, n_phrase=3, with_score=False)"
   ]
  },
  {
   "cell_type": "code",
   "execution_count": 6,
   "id": "2f07b120-49a0-4dbd-9646-7d6ed58e2838",
   "metadata": {},
   "outputs": [
    {
     "name": "stdout",
     "output_type": "stream",
     "text": [
      "No.1\n",
      "「大谷選手が試合に出られなくなり心にポッカリ穴が空き、塞ぎようがありません。存在の大きさを改めて思い知らされた気分です。殺伐とした世の中に舞い降りた天使だと思っています。今はしっかり療養され、また元気な姿をみせてください。ご回復を心から祈ります。あとは神様、どうか大谷選手を怪我、病気からお守りください。お願いします。」\n",
      "\n",
      "No.2\n",
      "「もう手術が無事に成功して何も言う事はありません。幾らスーパーマンでもおいそれと回復はしません。大谷さんの事だから何の心配もしていませんが時こそ薬。２５年二刀流を目指して治療に、リハビリに専念して欲しいと思います。来年度は打者だけでの出場との発表でした。元気な姿が見られるだけで癒されます。一日も早い回復をお祈りしています。」\n",
      "\n",
      "No.3\n",
      "「何年も二刀流として、ですか\n",
      "頼もしいと思う反面、心配でもありますね\n",
      "来年度は打者オンリーで、再来年から二刀流復帰という計画とあります\n",
      "大谷が試合に出ていないと寂しく思ってしまうようになりました\n",
      "まずは来年度、打者として試合に出る大谷を応援したいと思います」\n",
      "\n",
      "No.4\n",
      "「これだけの活躍をして、身体にメスを入れてもなお、自分が離脱したことを、「不本意ながら」と言える大谷さん。\n",
      "なかなか言えないですよ。本当に凄い方だと思います。\n",
      "野球の神様は、貴方の功徳を必ず見ています。\n",
      "ファンとしては、回復を最優先にして、無理せずに長く活躍してほしいと願うばかりです。」\n",
      "\n",
      "No.5\n",
      "「手術成功、良かったね。来季は開幕から打者として、そして再来期は二刀流として出来ると執刀医が言っていたとか。リハビリがまたまた大変でしょうが、兎に角良かった。」\n",
      "\n",
      "No.6\n",
      "「複数回手術することは相当な負担がかかっているのだろう。もう手術はできないだろう。いくら凄い体力があっても使いすぎれば故障がでてくるしこれから今の様に投手を続ければまた故障するだろう。」\n",
      "\n",
      "No.7\n",
      "「25年に元気な姿でマウンドに戻ってきてくれることを切に願います。まずは手術の成功に安堵いたしました。ゆっくりと身体をおやすめになってください。」\n",
      "\n",
      "No.8\n",
      "「来年は試練のシーズンになるかもね。\n",
      "これまでは二刀流だから打てないときも批判の声はほとんどなかった。\n",
      "前回のトミージョン手術の際にも打者に専念したけど、高額年俸ではなかった。\n",
      "来シーズンが今までと違うことは〝とんでもない高額年俸〟で〝打者に専念〟するということ。\n",
      "米国のメディアは手のひら返しするからその点が心配。\n",
      "特にFAで東海岸の球団に移籍しようものなら打てないとバッシングを受ける可能性もある。\n",
      "とはいえ、大谷なら「打者に専念したらもっと凄かった」って姿を見せてくれる期待もあるけどね。\n",
      "ともかく手術がうまくいってよかった。」\n",
      "\n"
     ]
    }
   ],
   "source": [
    "expandHlda.print_topic_document(comment_list=comment_list, corpus=comment_dataset.comment_list, topic_id=323)"
   ]
  },
  {
   "cell_type": "code",
   "execution_count": 7,
   "id": "2af175fe-1004-4198-8788-9139a8f5fade",
   "metadata": {},
   "outputs": [
    {
     "name": "stdout",
     "output_type": "stream",
     "text": [
      "No.1\n",
      "「大谷選手が試合に出られなくなり心にポッカリ穴が空き、塞ぎようがありません。存在の大きさを改めて思い知らされた気分です。殺伐とした世の中に舞い降りた天使だと思っています。今はしっかり療養され、また元気な姿をみせてください。ご回復を心から祈ります。\u001b[31mあとは神様、どうか大谷選手を怪我、病気からお守りください。\u001b[0mお願いします。」\n",
      "No.2\n",
      "「もう手術が無事に成功して何も言う事はありません。幾らスーパーマンでもおいそれと回復はしません。大谷さんの事だから何の心配もしていませんが時こそ薬。２５年二刀流を目指して治療に、リハビリに専念して欲しいと思います。\u001b[31m来年度は打者だけでの出場との発表でした。\u001b[0m元気な姿が見られるだけで癒されます。一日も早い回復をお祈りしています。」\n",
      "No.3\n",
      "「\u001b[31m何年も二刀流として、ですか\n",
      "頼もしいと思う反面、心配でもありますね\n",
      "来年度は打者オンリーで、再来年から二刀流復帰という計画とあります\u001b[0m\n",
      "大谷が試合に出ていないと寂しく思ってしまうようになりました\n",
      "\u001b[31mまずは来年度、打者として試合に出る大谷を応援したいと思います\u001b[0m」\n",
      "No.4\n",
      "「これだけの活躍をして、身体にメスを入れてもなお、自分が離脱したことを、「不本意ながら」と言える大谷さん。\n",
      "なかなか言えないですよ。本当に凄い方だと思います。\u001b[31m\n",
      "野球の神様は、貴方の功徳を必ず見ています。\u001b[0m\n",
      "ファンとしては、回復を最優先にして、無理せずに長く活躍してほしいと願うばかりです。」\n",
      "No.5\n",
      "「来年は試練のシーズンになるかもね。\n",
      "これまでは二刀流だから打てないときも批判の声はほとんどなかった。\u001b[31m\n",
      "前回のトミージョン手術の際にも打者に専念したけど、高額年俸ではなかった。\u001b[0m\u001b[31m\n",
      "来シーズンが今までと違うことは〝とんでもない高額年俸〟で〝打者に専念〟するということ。\u001b[0m\n",
      "米国のメディアは手のひら返しするからその点が心配。\n",
      "特にFAで東海岸の球団に移籍しようものなら打てないとバッシングを受ける可能性もある。\n",
      "とはいえ、大谷なら「打者に専念したらもっと凄かった」って姿を見せてくれる期待もあるけどね。\n",
      "ともかく手術がうまくいってよかった。」\n"
     ]
    }
   ],
   "source": [
    "expandHlda.print_topic_multi_document_by_sentence(comment_list=comment_list, corpus=comment_dataset.comment_list, topic_id=323)"
   ]
  },
  {
   "cell_type": "code",
   "execution_count": 8,
   "id": "1dff8730-5448-4e04-b5d8-1b68626f99b3",
   "metadata": {},
   "outputs": [
    {
     "name": "stdout",
     "output_type": "stream",
     "text": [
      "sentence:これまでの\u001b[31m自身\u001b[0mの\u001b[31m歩み\u001b[0mでの\u001b[31m決断\u001b[0mと\u001b[31m挑戦\u001b[0mに\u001b[31m感服\u001b[0mするます\n",
      "node_id:310, node_words:上げる(5.0),酷使(4.0),悲鳴(4.0),おかしい(2.0),自身(2.0),アスリート(2.0),期待(2.0),言葉(2.0),本来(2.0),連日(2.0),気持ち(2.0),待ち望む(1.0),部分(1.0),選手生活(1.0),気づく(1.0),永い(1.0),決断(1.0),リセット(1.0),フル(1.0),場所(1.0),出発(1.0),鍛える(1.0),だし(1.0),プロ(1.0),エール(1.0),指し手(1.0),年齢(1.0),じん帯(1.0),伸びる(1.0),しれる(1.0), probability:0.062\n",
      "各単語の出現回数:上げる (word_weight:5.0) (word_appear_count0), 酷使 (word_weight:4.0) (word_appear_count0), 悲鳴 (word_weight:4.0) (word_appear_count0), おかしい (word_weight:2.0) (word_appear_count0), 自身 (word_weight:2.0) (word_appear_count1), アスリート (word_weight:2.0) (word_appear_count0), 期待 (word_weight:2.0) (word_appear_count0), 言葉 (word_weight:2.0) (word_appear_count0), 本来 (word_weight:2.0) (word_appear_count0), 連日 (word_weight:2.0) (word_appear_count0), 気持ち (word_weight:2.0) (word_appear_count0), 待ち望む (word_weight:1.0) (word_appear_count0), 部分 (word_weight:1.0) (word_appear_count0), 選手生活 (word_weight:1.0) (word_appear_count0), 気づく (word_weight:1.0) (word_appear_count0), 永い (word_weight:1.0) (word_appear_count0), 決断 (word_weight:1.0) (word_appear_count1), リセット (word_weight:1.0) (word_appear_count0), フル (word_weight:1.0) (word_appear_count0), 場所 (word_weight:1.0) (word_appear_count0), 出発 (word_weight:1.0) (word_appear_count0), 鍛える (word_weight:1.0) (word_appear_count0), だし (word_weight:1.0) (word_appear_count0), プロ (word_weight:1.0) (word_appear_count0), エール (word_weight:1.0) (word_appear_count0), 指し手 (word_weight:1.0) (word_appear_count0), 年齢 (word_weight:1.0) (word_appear_count0), じん帯 (word_weight:1.0) (word_appear_count0), 伸びる (word_weight:1.0) (word_appear_count0), しれる (word_weight:1.0) (word_appear_count0), \n",
      "------------------------------------------------------------------\n"
     ]
    }
   ],
   "source": [
    "sentence = \"これまでの自身の歩みでの決断と挑戦に感服します\"\n",
    "\n",
    "expandHlda.get_topic_one_sentence_with_color(sentence=sentence, corpus=comment_dataset.comment_list, n_words=30, node_id=310)"
   ]
  },
  {
   "cell_type": "code",
   "execution_count": null,
   "id": "c9f200df-04a0-4cb8-b1be-f3db994b643d",
   "metadata": {},
   "outputs": [],
   "source": [
    "expandHlda.print_topic_phrase_by_sentence(sentence=sentence, corpus=comment_dataset.comment_list, topic_id=323)"
   ]
  },
  {
   "cell_type": "code",
   "execution_count": null,
   "id": "9c4b76e8-1acf-4131-b8f0-53538942ff51",
   "metadata": {},
   "outputs": [],
   "source": [
    "expandHlda.get_topic_multi_document(comment_list=comment_list, corpus=comment_dataset.comment_list)"
   ]
  }
 ],
 "metadata": {
  "kernelspec": {
   "display_name": "Python 3 (ipykernel)",
   "language": "python",
   "name": "python3"
  },
  "language_info": {
   "codemirror_mode": {
    "name": "ipython",
    "version": 3
   },
   "file_extension": ".py",
   "mimetype": "text/x-python",
   "name": "python",
   "nbconvert_exporter": "python",
   "pygments_lexer": "ipython3",
   "version": "3.10.1"
  }
 },
 "nbformat": 4,
 "nbformat_minor": 5
}
