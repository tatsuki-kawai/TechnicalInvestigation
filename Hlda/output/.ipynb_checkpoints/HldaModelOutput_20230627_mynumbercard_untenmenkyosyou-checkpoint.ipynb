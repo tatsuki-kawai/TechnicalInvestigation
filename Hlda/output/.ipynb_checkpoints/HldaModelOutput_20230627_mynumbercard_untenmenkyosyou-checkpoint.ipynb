{
 "cells": [
  {
   "cell_type": "code",
   "execution_count": 2,
   "id": "2f6f957a-b89f-4e19-a7b6-3d4f086b3b84",
   "metadata": {},
   "outputs": [],
   "source": [
    "import sys\n",
    "sys.path.append('../model')\n",
    "sys.path.append('../../Data')\n",
    "sys.path.append('../../NLP')\n",
    "sys.path.append('../../GenerateLabel')\n",
    "\n",
    "import pandas as pd\n",
    "import numpy as np\n",
    "import time\n",
    "from CommentDataset import CommentDataset\n",
    "\n",
    "comment_list_name = \"20230627_mynumbercard_untenmenkyosyou\"\n",
    "comment_list_path = \"2023_06_27/\" + comment_list_name + \".csv\"\n",
    "\n",
    "# # 指定すべき文字コードはファイルによる(cp932 or utf-8)\n",
    "df = pd.read_csv(\"../../Data/yahoo/\"+comment_list_path, encoding=\"cp932\", header=None)\n",
    "comment_list = df[0][1:].to_numpy().tolist()\n",
    "comment_dataset = CommentDataset(comment_list)\n",
    "comment_dataset.delete_comment_specified_string(50)\n",
    "comment_list = comment_dataset.comment_list\n",
    "comment_dataset.formatted_input_hlda(appear_tagging_list=[\"名詞\", \"形容詞\", \"動詞\"], stop_tagging_list=[\"助詞\", \"助動詞\", \"非自立\"])"
   ]
  },
  {
   "cell_type": "code",
   "execution_count": 3,
   "id": "4848f743-b63e-45b3-bafa-7eada38b10f3",
   "metadata": {},
   "outputs": [
    {
     "name": "stdout",
     "output_type": "stream",
     "text": [
      "530\n"
     ]
    }
   ],
   "source": [
    "print(len(comment_list))"
   ]
  },
  {
   "cell_type": "code",
   "execution_count": 4,
   "id": "614b0772-7212-4a03-af72-a7b11036d38d",
   "metadata": {},
   "outputs": [],
   "source": [
    "from HldaModel import ExpandHldaModel\n",
    "\n",
    "model_path = \"../model/pickle/2023_08_01/20230627_mynumbercard_untenmenkyosyou_default.pickle\"\n",
    "expandHlda = ExpandHldaModel(pickle_path=model_path)"
   ]
  },
  {
   "cell_type": "code",
   "execution_count": 5,
   "id": "71aedd85-f1b7-43ba-8647-977b3cf4cd61",
   "metadata": {},
   "outputs": [
    {
     "name": "stdout",
     "output_type": "stream",
     "text": [
      "topic=0 level=0 (documents=530): 免許 (407), れる (237), 運転 (222), できる (156), 保険 (141), \n",
      "    topic=1 level=1 (documents=90): 国民 (26), 政府 (25), 言う (19), 日本 (16), これ (13), \n",
      "        topic=58 level=2 (documents=13): 認証 (9), コピー (7), 指紋 (5), 書類 (4), 計画 (4), \n",
      "        topic=145 level=2 (documents=7): 中国 (4), 老害 (2), 一族 (2), 好き (2), 移住 (2), \n",
      "        topic=157 level=2 (documents=11): スマート (6), フォン (6), モバイル (5), 搭載 (4), 変える (3), \n",
      "        topic=628 level=2 (documents=10): エラー (4), それぞれ (4), 推し進める (3), 出る (3), 脆弱 (3), \n",
      "        topic=678 level=2 (documents=2): 余計 (1), でる (1), 勘弁 (1), かける (1), 結果 (1), \n",
      "        topic=693 level=2 (documents=3): 想像 (2), 流出 (2), 利用 (1), 危機 (1), 無い (1), \n",
      "        topic=729 level=2 (documents=6): 無能 (4), ヒューマン (2), 行為 (2), 危険 (2), 行う (2), \n",
      "        topic=760 level=2 (documents=4): オランダ (4), 任意 (3), 強引 (2), 外国 (2), 取り上げる (2), \n",
      "        topic=776 level=2 (documents=9): ダメ (6), くっつける (2), 警察官 (2), 絡む (2), 一つ (2), \n",
      "        topic=781 level=2 (documents=5): 認める (3), 整備 (2), インフラ (2), 対策 (1), 心情 (1), \n",
      "        topic=783 level=2 (documents=7): 口座 (4), 未来 (3), 権力 (2), 残る (2), 岸田 (2), \n",
      "        topic=791 level=2 (documents=1): 普及 (7), 値する (2), 普通 (2), 身元 (1), 今更 (1), \n",
      "        topic=798 level=2 (documents=7): 項目 (2), 基本 (1), 祈る (1), 多く (1), パイプ (1), \n",
      "        topic=799 level=2 (documents=5): 軽視 (2), 疑心暗鬼 (1), 住民 (1), 得体 (1), 知れる (1), \n",
      "    topic=3 level=1 (documents=105): 国民 (35), 言う (30), これ (24), 政府 (15), 作る (14), \n",
      "        topic=17 level=2 (documents=9): 支持 (6), 有る (5), 勝手 (5), 総理 (5), 公的 (4), \n",
      "        topic=19 level=2 (documents=6): 関わる (5), 諮問 (1), 仕向ける (1), 重ねる (1), なりふり (1), \n",
      "        topic=36 level=2 (documents=6): チップ (7), 交通 (4), 住所 (3), 専用 (3), 表面 (3), \n",
      "        topic=51 level=2 (documents=6): 公安 (4), 与える (3), 横行 (3), 委員 (3), 偽札 (2), \n",
      "        topic=379 level=2 (documents=16): 議員 (16), 国会 (11), さん (7), 役人 (5), 河野 (4), \n",
      "        topic=451 level=2 (documents=15): 任意 (12), 義務 (6), 実質 (5), やり方 (4), ふざける (3), \n",
      "        topic=673 level=2 (documents=6): 値上がり (3), 給料 (2), なれる (1), 近づく (1), あんた (1), \n",
      "        topic=751 level=2 (documents=5): 端末 (4), 見せる (2), 加える (2), 電子 (2), 住所 (2), \n",
      "        topic=780 level=2 (documents=6): 携帯 (1), 各所 (1), 場所 (1), 負け (1), 支給 (1), \n",
      "        topic=786 level=2 (documents=4): ごまかし (1), 流れ (1), 誤謬 (1), 譲る (1), かざす (1), \n",
      "        topic=788 level=2 (documents=5): 環境 (2), セキュリティ (2), 理解 (2), 通信 (2), 優良 (1), \n",
      "        topic=790 level=2 (documents=7): 対策 (4), 整備 (3), 示す (3), 整える (2), 居る (2), \n",
      "        topic=797 level=2 (documents=4): 操作 (2), 電子 (2), 自治体 (2), 従業 (2), インストール (2), \n",
      "        topic=801 level=2 (documents=5): 財務省 (3), 原案 (3), 軽い (2), 利益 (1), 達す (1), \n",
      "        topic=802 level=2 (documents=5): 普段 (2), 写し (2), 抜け道 (2), 保管 (1), 無駄 (1), \n",
      "    topic=6 level=1 (documents=88): 国民 (40), 日本 (20), 言う (19), 選挙 (14), 自民党 (13), \n",
      "        topic=7 level=2 (documents=9): 保持 (5), 補完 (4), 統一 (3), 賛成 (3), 検討 (3), \n",
      "        topic=116 level=2 (documents=19): 更新 (27), ゴールド (6), ブルー (4), 即日 (3), 会場 (2), \n",
      "        topic=447 level=2 (documents=12): 投票 (6), 選挙 (5), 政党 (4), 彼ら (3), 時代 (2), \n",
      "        topic=599 level=2 (documents=6): コメント (3), レベル (3), 大変 (2), つまり (1), 比較 (1), \n",
      "        topic=682 level=2 (documents=7): 起きる (3), 矛盾 (2), 公平 (2), 影響 (2), 隠す (2), \n",
      "        topic=744 level=2 (documents=5): 犯罪 (3), 履歴 (2), クレジットカード (2), 売買 (2), 体制 (2), \n",
      "        topic=777 level=2 (documents=10): アメリカ (6), 独裁 (3), 優先 (2), 奴隷 (2), 民族 (2), \n",
      "        topic=779 level=2 (documents=3): 狙い (1), 特定 (1), スムーズ (1), 吸い上げる (1), 源泉 (1), \n",
      "        topic=784 level=2 (documents=4): 民主 (4), 決定 (2), 閣議 (2), 主義 (2), 道路 (1), \n",
      "        topic=787 level=2 (documents=4): 来る (3), 田舎 (2), 無い (2), いま (2), 説明 (2), \n",
      "        topic=793 level=2 (documents=2): 見る (2), 私利 (1), ゴリ押し (1), 今度 (1), よる (1), \n",
      "        topic=794 level=2 (documents=7): まとめる (4), 運行 (4), 大型 (3), 点呼 (2), 断る (2), \n",
      "    topic=8 level=1 (documents=126): 国民 (41), 携帯 (25), 言う (21), これ (19), 政府 (18), \n",
      "        topic=9 level=2 (documents=32): 紛失 (31), 発行 (30), リスク (14), 無くす (14), 病院 (13), \n",
      "        topic=26 level=2 (documents=16): 銀行 (22), 口座 (16), 作る (11), 開設 (8), 電話 (6), \n",
      "        topic=161 level=2 (documents=7): アナログ (5), 増やす (3), 言える (3), 世界 (2), デジタル (2), \n",
      "        topic=193 level=2 (documents=4): 禁止 (3), 本来 (2), 許可 (1), 大差 (1), メリット (1), \n",
      "        topic=696 level=2 (documents=11): チップ (5), 埋め込む (5), マイクロ (4), ここ (2), バカ (2), \n",
      "        topic=698 level=2 (documents=6): 与党 (9), 潰す (4), 存在 (3), 正しい (3), 内閣 (3), \n",
      "        topic=704 level=2 (documents=12): 基本 (6), コード (5), なに (3), 年寄り (3), 取り扱い (3), \n",
      "        topic=731 level=2 (documents=4): 割合 (2), 天下り (2), トラブル (2), 推奨 (2), 在席 (1), \n",
      "        topic=732 level=2 (documents=4): 効率 (7), 行政 (3), スピード (2), 太郎 (2), 徴収 (2), \n",
      "        topic=735 level=2 (documents=5): 増やす (2), 友達 (2), 大勢 (1), 共産党 (1), 繰り返す (1), \n",
      "        topic=739 level=2 (documents=5): 船舶 (2), 順番 (2), 続く (1), 物事 (1), 理想 (1), \n",
      "        topic=755 level=2 (documents=3): 芋づる (2), 登録 (2), 期限 (2), 悪い (1), みな (1), \n",
      "        topic=762 level=2 (documents=4): 対策 (2), 盗難 (1), 嫌がる (1), 言いきる (1), 痛い (1), \n",
      "        topic=767 level=2 (documents=6): 撒く (3), 市町村 (3), どん (3), ばら (3), 都道府県 (2), \n",
      "        topic=782 level=2 (documents=3): 機器 (4), 配備 (2), 作業 (2), 得る (2), 於く (2), \n",
      "        topic=800 level=2 (documents=4): 統合 (2), リリース (2), 民間 (1), 自国 (1), 販売 (1), \n",
      "    topic=11 level=1 (documents=121): 国民 (49), 政府 (35), 言う (26), せる (25), 自民党 (23), \n",
      "        topic=14 level=2 (documents=15): 番号 (13), 暗証 (12), 記載 (5), 役所 (4), 高齢 (4), \n",
      "        topic=16 level=2 (documents=9): 若者 (3), 費用 (3), 腐る (2), 滅茶苦茶 (2), 見切り (2), \n",
      "        topic=35 level=2 (documents=7): あげる (3), 作れる (2), 逃れ (2), マトモ (2), 破産 (2), \n",
      "        topic=310 level=2 (documents=7): 指摘 (2), ケース (2), それら (2), まわす (2), やつ (2), \n",
      "        topic=632 level=2 (documents=6): いく (3), 連携 (2), 注ぐ (2), 集約 (2), 説明 (2), \n",
      "        topic=681 level=2 (documents=5): 成立 (2), 内閣 (2), 上手い (2), 文句 (2), 知る (1), \n",
      "        topic=720 level=2 (documents=10): 説明 (4), 不足 (4), 競争 (3), 続出 (2), 有る (2), \n",
      "        topic=745 level=2 (documents=9): お巡りさん (3), だらけ (2), 連絡 (2), 助かる (2), 電子 (1), \n",
      "        topic=759 level=2 (documents=10): 手帳 (5), 資産 (4), 個人 (4), 公安 (3), 銀行 (3), \n",
      "        topic=766 level=2 (documents=11): 役場 (2), 公的 (2), 設置 (1), 近い (1), 普及 (1), \n",
      "        topic=768 level=2 (documents=7): かける (2), お前 (2), 役人 (2), 照会 (2), 引きずる (2), \n",
      "        topic=785 level=2 (documents=9): たち (7), かも (3), スポーツマン (2), 三流 (2), 一流 (2), \n",
      "        topic=789 level=2 (documents=8): 公式 (2), 犯罪 (2), 苦情 (2), 反対 (2), そう (1), \n",
      "        topic=795 level=2 (documents=8): 破綻 (5), 違い (4), 振り回す (2), 沙汰 (2), 狂気 (2), \n"
     ]
    }
   ],
   "source": [
    "expandHlda.print_nodes(n_words = 5, weights = True)"
   ]
  },
  {
   "cell_type": "code",
   "execution_count": 6,
   "id": "6ec04d95-486c-4807-bba3-25d99eb903fa",
   "metadata": {},
   "outputs": [
    {
     "name": "stdout",
     "output_type": "stream",
     "text": [
      "topic=776 (documents=14) 奴隷社会を待っているだけではダメ, ダメになった時, 交通警ら, \n",
      "topic=9 (documents=105) 紛失して再発行する時, 紛失リスク, その一本化したカードを紛失した場合, \n",
      "topic=794 (documents=4) そして大型特殊二種, 小型特殊免許, 大型免許, \n",
      "topic=696 (documents=14) チップを埋設する方式, いるようなチップ, チップ, \n",
      "topic=698 (documents=12) 絶対自民党公明党与党をぶっ潰すこと, 与党崩壊, 現与党, \n",
      "topic=58 (documents=24) コピーを取るやり方, コピー・不正し放題, 認証機能, \n",
      "topic=26 (documents=36) 口座開設, 民間銀行, しないかは銀行次第, \n",
      "topic=759 (documents=3) 貯金を強制的に拠出させる仕組み, 介護手帳, 個人, \n",
      "topic=798 (documents=4) あと有力なコメンテーター, 項目, 保険証維持, \n",
      "topic=744 (documents=6) 戸籍売買, 犯罪, 闇犯罪, \n",
      "topic=14 (documents=18) 暗所番号入力しないと見れないわけ, 番号, 記載, \n",
      "topic=780 (documents=6) 日本人, 場所, 安賃金, \n",
      "topic=379 (documents=26) 議員さん, 政府自民議員, 議員だけを対象, \n",
      "topic=789 (documents=5) はずコピペでないまじめな苦情を寄せてあげれば苦情数を発表せざるを得なくなるはず, カード岸田くん　意地を張って引っ込みつかなくなってるしキャパ限界, 総理公式, \n",
      "topic=36 (documents=9) 専用, その専用, 住所, \n",
      "topic=766 (documents=1) 葬儀, 都合, 始め, \n",
      "topic=447 (documents=14) 選挙, 政党, もはや通用しない時代, \n",
      "topic=799 (documents=4) かなりの高率, 嫌な予感, 現住所を変えてる人, \n",
      "topic=767 (documents=4) 市町村, 家族親戚, 都道府県, \n",
      "topic=751 (documents=2) 端末, 端末機, 専用サイト, \n",
      "topic=161 (documents=7) アナログ対応, アナログ大国日本, アナログ, \n",
      "topic=762 (documents=3) 対策, 不十分になっていること, 確実カード, \n",
      "topic=682 (documents=5) 権利を享受できないもの, 武器供与, 矛盾, \n",
      "topic=760 (documents=8) オランダ, オランダ日本大使館, 日本を差し出す準備してるんでしょうね、岸田さん, \n",
      "topic=17 (documents=15) 総理就任時, 公的な証明, 声を聞く総理, \n",
      "topic=800 (documents=4) 判断で譲れないを解決し不安を解消しない限り, リリース, 統合されたマイナカード, \n",
      "topic=7 (documents=8) 保存補完・どちら, ３枚保持, 持参をすればより持ち運び, \n",
      "topic=802 (documents=3) 写しを作る際にマイナカードを経由する必要, 抜け道, 原本を廃止してもらう必要, \n",
      "topic=451 (documents=48) 任意だから選んだ国民, 任意のはず, 任意だったはず, \n",
      "topic=732 (documents=11) 効率, 行政申請手続き, 行政, \n",
      "topic=599 (documents=6) 大学生レベル, サービスレベル, いないコメント, \n",
      "topic=797 (documents=7) 支援ブース常設, 操作, 電子認証, \n",
      "topic=16 (documents=4) 見切り発車, 若者を中心, ステータス・シンボル, \n",
      "topic=786 (documents=4) 徹底的な対策, 利用価値, 一本化するのは当然の流れ, \n",
      "topic=628 (documents=7) それぞれ分けたほう, それぞれ, エラー, \n",
      "topic=788 (documents=7) 仕組みを理解しないで運用しようとしているところ, セキュリティ効果, セキュリティを上げる事, \n",
      "topic=704 (documents=3) 基本コード一本化, 暗号化したコード, 基本, \n",
      "topic=782 (documents=6) 認証機器, 機器, 既にICチップを読み込む機器, \n",
      "topic=116 (documents=51) 更新を向え更新後, 最低でも更新期間1.2回, 更新期間, \n",
      "topic=693 (documents=7) 年貢を納める奴隷, 流出, 無いまま, \n",
      "topic=777 (documents=5) アメリカ領域, アメリカ, 最優先で行うべきはデジタル化ではなく貧困化している日本人労働者をいかにして裕福にするかが優先課題, \n",
      "topic=310 (documents=5) 考えられるケース, 大改悪, 根底, \n",
      "topic=755 (documents=8) みな同じで統一してみたいなイメージ, 利用期限, 登録ミス, \n",
      "topic=735 (documents=12) 自由民主党じゃなく、不自由非民主党, 必須の流れ, お友達, \n",
      "topic=720 (documents=7) 説明不足, 全て検討不足準備不足, 切り込み不足, \n",
      "topic=787 (documents=9) よけいなモノ, この様な、田舎, 半軸自足的生活している者, \n",
      "topic=19 (documents=1) 現免許証, 仕事をしている方, 免許証取得者, \n",
      "topic=768 (documents=4) 役人, お前, 都合, \n",
      "topic=784 (documents=14) 国民民主, 少しでも早い時期, 写真偽造免許, \n",
      "topic=783 (documents=5) 生命を懸けて繋いでくれた平和を約束された世代, 口座, 未来, \n",
      "topic=781 (documents=3) インフラ整備, 色々な可能性を引き出すのがスジ, 充分な環境を整えた後, \n",
      "topic=745 (documents=9) お巡りさん, そのお巡りさん, 電子端末, \n",
      "topic=681 (documents=1) 現内閣, 内閣, 降りかかるリスク, \n",
      "topic=739 (documents=5) 順番, 船舶免許, 物事, \n",
      "topic=51 (documents=10) 一切触れず、やみくもにマイナンバーカードを攻撃しネガティブな印象を与え続ける声, 公安員会, 公安, \n",
      "topic=790 (documents=5) 対策, 選択肢, 保証, \n",
      "topic=673 (documents=5) 値上がり物価, 給料, お給料, \n",
      "topic=157 (documents=12) 運転免許証を搭載する「モバイル運転免許証」モバイルマイナンバーカード, 運転免許証を搭載する「モバイル運転免許証, モバイル運転免許証, \n",
      "topic=35 (documents=2) 詐欺, 徴収, その他, \n",
      "topic=785 (documents=20) 官僚たち, いる輩たち, 無能な政治家, \n",
      "topic=801 (documents=8) 軽い軽い神輿, 河野曰く、原案を作った民主党, 原案／時代, \n",
      "topic=678 (documents=19) 余計な税金, 余計なトラブル, 余計な事, \n",
      "topic=729 (documents=6) 無能日本政府, 無能大臣, 無能政府, \n",
      "topic=731 (documents=7) トラブル対処, マイナンバーカードを推奨したい国民, マイナンバーを推奨すること, \n",
      "topic=193 (documents=9) 本来禁止されている車, 「禁止, 本来, \n",
      "topic=791 (documents=25) いくら普及しないものを無理やり普及させるため, 顔認証付きカードリーダーを普及するのも苦労しているのにさらに規模を拡大して普及できるもの, それを無理やり普及させるために改悪するのはクソ, \n",
      "topic=632 (documents=29) リスク以上, 集約したくない人, リスク, \n",
      "topic=793 (documents=98) 大切に保管して、、のはず, 多いままなら廃止, 今度, \n",
      "topic=145 (documents=18) まるで中国並み, 中国, 老害二階, \n",
      "topic=779 (documents=6) 分離源泉納税, 特定ニーサ口座, 楽楽タワマン暮らし, \n",
      "topic=795 (documents=15) 破綻しつつあるマイナンバーカード構想, システム開発破綻, 論理破綻, \n"
     ]
    }
   ],
   "source": [
    "expandHlda.print_phrases_by_sentence(comment_list=comment_list, corpus=comment_dataset.comment_list, n_phrase=3, with_score=False)"
   ]
  },
  {
   "cell_type": "code",
   "execution_count": null,
   "id": "cc0f4cd3-5af4-421c-b1df-f7d5c1433020",
   "metadata": {},
   "outputs": [],
   "source": [
    "# expandHlda.get_topic_by_sentence(comment_list=comment_list, corpus=comment_dataset.comment_list, n_words=5)"
   ]
  },
  {
   "cell_type": "code",
   "execution_count": 7,
   "id": "4bfd1550-cbf9-4e10-8b30-7db50d14b6bf",
   "metadata": {},
   "outputs": [
    {
     "name": "stdout",
     "output_type": "stream",
     "text": [
      "No.1\n",
      "「健康保険証との一体化すらあり得ないのに運転免許証も一体化するなど言語道断だ。メリット、デメリットの問題じゃない。そもそもマイナンバーカードは任意であるにも関わらず、事実上強制するように仕向けるのは卑劣極まりない。ただでさえ個人情報は駄々漏れ。\u001b[31m他人の情報を紐付けたり、資格があるにも関わらず窓口で10割負担を強いられたりと政府が掲げていた安心と安全は完全に破綻しているにも関わらず、更に運転免許証も統合しようとするとは無神経も甚だしい。\u001b[0m」\n",
      "No.2\n",
      "「運転免許証は公的な証明だろ。マイナナンバーカードの普及に何故政府が勝手にマイナナンバーカードだけが公的な証明と決めるの？\u001b[31mこれだけ間違いが多発してるだろ。\u001b[0mこのカードで起こる事件、事故の責任を政府が全て取る確約をしなさい。国民の７割が不安を持ってるカードだよ。岸田は本当に国民を無視する総理なんだね。聞く耳が何処に有るの？総理就任時に言ってたよね。これだけ信用出来ない岸田だから支持率なんて有る訳無い。支持率が上がるとか下がるとかの問題じゃなく支持率はゼロと思います。」\n",
      "No.3\n",
      "「運転免許証は公的な証明だろ。マイナナンバーカードの普及に何故政府が勝手にマイナナンバーカードだけが公的な証明と決めるの？\u001b[31mこれだけ間違いが多発してるだろ。\u001b[0mこのカードで起こる事件、事故の責任を政府が全て取る確約をしなさい。国民の７割が不安を持ってるカードだよ。岸田は本当に国民を無視する総理なんだね。聞く耳が何処に有るの？総理就任時に言ってたよね。これだけ信用出来ない岸田だから支持率なんて有る訳無い。支持率が上がるとか下がるとかの問題じゃなく支持率はゼロと思います。」\n",
      "No.4\n",
      "「他人の違反を押し付けられるとか絶対でてくるやろ。\u001b[31mんで、間違いとわかって修正してもらうには時間と手間がかかるわけで、そういうときに限って講習や仕事とかぶって面倒なことになりよるねん。\u001b[0mペーパードライバーにスピード違反結びつけたとかいうニュース出てくると予想。」\n",
      "No.5\n",
      "「\u001b[31m某メガバンクのシステム開発破綻の原因の一つとして合併前の手順や文化の違いに振り回されたことがあるように、ユーザー（政治家）の思いつきに振り回されて後付の機能を追加していくと確実にマイナカードシステムは破綻します。\u001b[0m\u001b[31mいやもう破綻してるか\u001b[0m」\n",
      "No.6\n",
      "「システムがある程度完全になってから議論する事ではないでしょうか？\u001b[31m口座の紐付け違いや、顔写真の登録間違いが起きている状況で決める事ではない。\u001b[0m」\n",
      "No.7\n",
      "「\u001b[31m世界でも破綻し、破綻しつつあるマイナンバーカード構想。\u001b[0mこうなれば、国民ははっきりいうべき。NO マイナンバーカード！NO自民党！NO 河野！こいつ混乱の責任とってないね。無責任なやつ。」\n",
      "No.8\n",
      "「\u001b[31mマイナンバーカードを、返却行動すればいい破綻させよう。\u001b[0m国民の取ってメリットは少なく、議員らのメリットだけのもの。」\n",
      "No.9\n",
      "「この政権は、どこまで狂っているのか。\u001b[31m完全に論理破綻の政策を堂々と進めている。\u001b[0m国民には、理解不能。国民の怒りは頂点に。」\n",
      "No.10\n",
      "「\u001b[31mマイナンバーカードを悪ととらえている国民が多いがそれは間違いである！\u001b[0m問題の本質は、無能政府に無能大臣と委託先技術レベルの低さが原因であり、それが原因である！それを無能の分際の日本政府が強行することにある。これはまさにウクライナ侵攻を行ったプーチン、言い換えれば無能日本政府と言うことだ！！メンツばかりで暴徒化し周りの言うことを聴かない。まさに今の日本政府が行っていることは戦犯と一緒だ！当然それには危険が付き物であり、ロシアであればクーデターや暗殺の危険性を高めている行為である。いい例が安部や岸田へのテロ行為も似たようなものだ。ようこそ岸田が提唱する新民主主義の世界へ。」\n",
      "No.11\n",
      "「※ デジタル顔写真の方が、別人の顔に挿げ替え易いのは言うまでもない。\u001b[31m　デジタル得意の犯罪者達は、手ぐすね引いて待っているに違いない。\u001b[0m※・いつからこの国には、「時にはしっかり立ち止まってでも、物事を冷静に多方面から検討し、英断できる。」そんな、まともな政治家はいなくなったのだろうか。」\n",
      "No.12\n",
      "「\u001b[31m記憶力は、ずば抜けて優秀でＩＱの高い人たちが、現場の苦労の経験のないド素人集団が制度を机上論だけで設計することが間違いの根源です。\u001b[0m\u001b[31m創造力と責任感の欠落している人達が、このような様々な機関、組織、制度の違いを一つにまとめることはできません。\u001b[0mデナオシナサイ。」\n",
      "No.13\n",
      "「日本が中国化しとる…まさか、憲法より上にアホ自民を位置付けたりせんやろな？\u001b[31mあゝ、恐ロシア…まさに、狂気の沙汰や。\u001b[0m」\n"
     ]
    }
   ],
   "source": [
    "expandHlda.print_topic_multi_document_by_sentence(comment_list=comment_list, corpus=comment_dataset.comment_list, topic_id=795)"
   ]
  },
  {
   "cell_type": "code",
   "execution_count": null,
   "id": "a5481293-ceb2-49d5-a4d0-7fe487f5d760",
   "metadata": {},
   "outputs": [],
   "source": [
    "sentence = \"\"\n",
    "\n",
    "expandHlda.get_topic_one_sentence_with_color(sentence=\"\", corpus=comment_dataset.comment_list, n_words=3, node_id=795)"
   ]
  }
 ],
 "metadata": {
  "kernelspec": {
   "display_name": "Python 3 (ipykernel)",
   "language": "python",
   "name": "python3"
  },
  "language_info": {
   "codemirror_mode": {
    "name": "ipython",
    "version": 3
   },
   "file_extension": ".py",
   "mimetype": "text/x-python",
   "name": "python",
   "nbconvert_exporter": "python",
   "pygments_lexer": "ipython3",
   "version": "3.8.10"
  }
 },
 "nbformat": 4,
 "nbformat_minor": 5
}
