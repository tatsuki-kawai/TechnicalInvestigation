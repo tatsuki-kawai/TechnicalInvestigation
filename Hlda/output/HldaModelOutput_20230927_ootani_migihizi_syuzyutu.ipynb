{
 "cells": [
  {
   "cell_type": "code",
   "execution_count": 1,
   "id": "7995cb4a-dc33-41c3-ba5d-ecf72afa83a6",
   "metadata": {},
   "outputs": [],
   "source": [
    "import sys\n",
    "sys.path.append('../model')\n",
    "sys.path.append('../../Data')\n",
    "sys.path.append('../../NLP')\n",
    "sys.path.append('../../GenerateLabel')\n",
    "\n",
    "import pandas as pd\n",
    "import numpy as np\n",
    "import time\n",
    "from CommentDataset import CommentDataset\n",
    "\n",
    "comment_list_name = \"20230927_ootani_migihizi_syuzyutu\"\n",
    "comment_list_path = \"2023_09_27/\" + comment_list_name + \".csv\"\n",
    "\n",
    "# # 指定すべき文字コードはファイルによる(cp932 or utf-8)\n",
    "df = pd.read_csv(\"../../Data/yahoo/\"+comment_list_path, encoding=\"cp932\", header=None)\n",
    "comment_list = df[0][1:].to_numpy().tolist()\n",
    "comment_dataset = CommentDataset(comment_list)\n",
    "comment_dataset.delete_comment_specified_string(50)\n",
    "comment_list = comment_dataset.comment_list\n",
    "comment_dataset.formatted_input_hlda(appear_tagging_list=[\"名詞\", \"形容詞\", \"動詞\"], stop_tagging_list=[\"助詞\", \"助動詞\", \"非自立\"])"
   ]
  },
  {
   "cell_type": "code",
   "execution_count": 2,
   "id": "af116522-6eda-4137-ac02-7299bd5e0c35",
   "metadata": {},
   "outputs": [
    {
     "name": "stdout",
     "output_type": "stream",
     "text": [
      "412\n"
     ]
    }
   ],
   "source": [
    "print(len(comment_list))"
   ]
  },
  {
   "cell_type": "code",
   "execution_count": 3,
   "id": "ef1f2780-973b-45ab-8f9b-e3f527db0b88",
   "metadata": {},
   "outputs": [],
   "source": [
    "from HldaModel import ExpandHldaModel\n",
    "\n",
    "model_path = \"../model/pickle/2023_09_27/20230927_ootani_migihizi_syuzyutu_default.pickle\"\n",
    "expandHlda = ExpandHldaModel(pickle_path=model_path)"
   ]
  },
  {
   "cell_type": "code",
   "execution_count": 4,
   "id": "6b61f5ed-899a-47a8-8327-bca51d6927be",
   "metadata": {},
   "outputs": [
    {
     "name": "stdout",
     "output_type": "stream",
     "text": [
      "topic=0 level=0 (documents=412): 手術 (263), 大谷 (246), 選手 (183), 成功 (159), 思う (158), \n",
      "    topic=1 level=1 (documents=91): 二刀流 (29), 打者 (20), 投手 (16), 負担 (10), できる (10), \n",
      "        topic=310 level=2 (documents=11): 上げる (5), 酷使 (4), 悲鳴 (4), おかしい (2), 自身 (2), \n",
      "        topic=318 level=2 (documents=9): バッターボックス (3), 勝てる (2), プレー (2), 届ける (2), 勇気 (2), \n",
      "        topic=320 level=2 (documents=8): 2025年 (2), 記録 (2), 前回 (1), 走る (1), 貢献 (1), \n",
      "        topic=342 level=2 (documents=7): スタート (3), 塁打 (2), 投打 (2), 渡る (2), 球場 (2), \n",
      "        topic=369 level=2 (documents=4): マメ (3), 明らか (2), 指先 (2), 充分 (2), 頼る (2), \n",
      "        topic=370 level=2 (documents=5): 感心 (2), ブランク (2), 進む (1), 練習 (1), こっち (1), \n",
      "        topic=371 level=2 (documents=9): 早期 (2), 盗塁 (2), チーム (1), プラス (1), 快復 (1), \n",
      "        topic=377 level=2 (documents=16): 観る (6), 仕事 (5), 希望 (5), 寂しい (4), お金 (3), \n",
      "        topic=386 level=2 (documents=5): 遅れる (2), 入れる (2), 存在 (2), メス (2), 満身創痍 (1), \n",
      "        topic=396 level=2 (documents=9): 経験 (4), 進化 (3), 勇気 (3), 復帰 (2), 違う (2), \n",
      "        topic=398 level=2 (documents=8): 故障 (3), ベンチ (2), 左投手 (2), 困難 (2), 箇所 (2), \n",
      "    topic=3 level=1 (documents=79): 打者 (36), 二刀流 (32), 投手 (18), 言う (15), 専念 (14), \n",
      "        topic=121 level=2 (documents=4): 最高 (2), 現実 (1), 似合う (1), ペース (1), 出場 (1), \n",
      "        topic=323 level=2 (documents=8): 凄い (3), 来年度 (3), 高額 (2), 神様 (2), 年俸 (2), \n",
      "        topic=354 level=2 (documents=4): そりゃ (2), 小生 (2), 体調 (2), 在る (2), 五十路 (1), \n",
      "        topic=355 level=2 (documents=6): 話題 (2), 接触 (1), デカ (1), 本当 (1), 穏やか (1), \n",
      "        topic=357 level=2 (documents=9): 強化 (2), かかる (2), 存在 (2), 子供 (2), 肉体 (1), \n",
      "        topic=358 level=2 (documents=6): 戻れる (3), 離れる (3), グラウンド (2), 環境 (2), ぬるま湯 (1), \n",
      "        topic=375 level=2 (documents=10): 継続 (5), 球団 (4), 強化 (4), 今後 (4), できる (3), \n",
      "        topic=376 level=2 (documents=11): 期間 (4), 負担 (4), 球種 (4), 減らす (3), 変化球 (3), \n",
      "        topic=380 level=2 (documents=4): マスコミ (4), メディア (4), 情報 (3), 意図 (1), スタッフ (1), \n",
      "        topic=393 level=2 (documents=13): 本塁打 (2), 130打点 (2), 60本 (2), 3冠王 (2), 抜本的 (1), \n",
      "        topic=397 level=2 (documents=4): いい (2), 2年後 (2), はやる (1), 聞く (1), だし (1), \n",
      "    topic=12 level=1 (documents=96): 二刀流 (33), 打者 (29), 投手 (26), できる (22), 負担 (14), \n",
      "        topic=346 level=2 (documents=10): 故障 (3), 選手生命 (3), 絞る (2), 認識 (2), すごい (2), \n",
      "        topic=347 level=2 (documents=5): イチロー (3), 聞く (3), 確実 (2), 間に合う (2), こちら (2), \n",
      "        topic=364 level=2 (documents=9): 以前 (3), 最近 (3), 辛い (2), 最善 (2), 球速 (2), \n",
      "        topic=367 level=2 (documents=8): 筋肉 (6), 作用 (2), 日々 (2), しなやか (2), 体調管理 (2), \n",
      "        topic=372 level=2 (documents=3): 9割 (3), 160キロ (2), 山本昌 (2), すい (1), いける (1), \n",
      "        topic=378 level=2 (documents=7): 成績 (2), 結果 (2), 2025年 (2), 実績 (1), 楽しみ (1), \n",
      "        topic=381 level=2 (documents=2): 世界 (2), スーパースター (2), 熱意 (2), オーバーワーク (2), 切り替える (1), \n",
      "        topic=383 level=2 (documents=12): 意味 (3), 変化球 (3), 必要 (3), 多投 (2), あれだけ (2), \n",
      "        topic=395 level=2 (documents=2): どちら (2), 戦力 (2), 書く (1), 焦点 (1), 支援 (1), \n",
      "        topic=399 level=2 (documents=12): 着る (4), ユニフォーム (4), 状態 (2), 今季 (2), 打点 (2), \n",
      "        topic=400 level=2 (documents=11): 判断 (4), 長い (3), 安心 (2), 至る (2), 静養 (2), \n",
      "        topic=401 level=2 (documents=10): そうだ (2), 早い (2), 決まる (2), 痛い (2), あちこち (2), \n",
      "        topic=402 level=2 (documents=5): 投打 (3), タイミング (2), 本当 (2), 鼓舞 (1), 回避 (1), \n",
      "    topic=14 level=1 (documents=146): 二刀流 (48), 打者 (33), 投手 (26), できる (23), 言う (19), \n",
      "        topic=15 level=2 (documents=8): ホームラン王 (4), 今期 (4), 間違い (3), 休める (3), 変わる (3), \n",
      "        topic=217 level=2 (documents=3): ケガ (3), ヵ月 (2), 諦める (1), 冷静 (1), 集まる (1), \n",
      "        topic=246 level=2 (documents=7): 専念 (2), 不幸 (2), オペ (2), グランド (2), 楽しみ (2), \n",
      "        topic=260 level=2 (documents=5): 多い (3), 滑る (2), 怪我人 (2), 検査 (2), ボール (2), \n",
      "        topic=276 level=2 (documents=5): 程度 (4), ムリ (3), 治癒 (1), 火傷 (1), 無念 (1), \n",
      "        topic=322 level=2 (documents=4): 出し手 (2), 痛める (2), 悪化 (2), 6人 (1), 吉報 (1), \n",
      "        topic=328 level=2 (documents=7): ピッチャー (3), 筋肉 (3), 記事 (2), イチロー (2), 耐える (2), \n",
      "        topic=329 level=2 (documents=9): 失敗 (3), 勝負 (2), 絶対 (2), プレースタイル (2), 受ける (2), \n",
      "        topic=336 level=2 (documents=9): 状態 (2), かける (2), 意思 (2), 執刀 (2), 励ます (1), \n",
      "        topic=345 level=2 (documents=9): 速い (5), 行動 (4), 決断 (4), 原因 (3), 振る (2), \n",
      "        topic=348 level=2 (documents=6): 有る (3), 貰う (3), 出す (2), 目指す (2), グランド (2), \n",
      "        topic=352 level=2 (documents=10): ボール (9), 滑る (4), 日本 (3), 真剣 (2), 供給 (2), \n",
      "        topic=356 level=2 (documents=9): 保存 (2), 療法 (2), 余裕 (1), 2年 (1), スタート (1), \n",
      "        topic=359 level=2 (documents=4): 好き (2), 描く (1), 舞台 (1), ポストシーズン (1), 伝わる (1), \n",
      "        topic=374 level=2 (documents=12): クリニック (3), 打席 (3), 何事 (2), 試練 (2), 終える (2), \n",
      "        topic=379 level=2 (documents=5): ユニホーム (2), 右肘 (2), 今シーズン (2), 含める (2), 裏切る (1), \n",
      "        topic=387 level=2 (documents=7): 療法 (2), ダブルヘッダー (2), 2試合 (2), バッティング (2), 保存 (2), \n",
      "        topic=388 level=2 (documents=6): 時間 (3), シーズン終了 (2), 比べる (2), 優秀 (2), ダル (1), \n",
      "        topic=389 level=2 (documents=11): 現役 (3), こだわる (2), ブランク (2), 感覚 (2), 始まる (2), \n",
      "        topic=394 level=2 (documents=10): 早期 (5), 間に合う (4), 笑顔 (3), 感じる (3), 含める (3), \n"
     ]
    }
   ],
   "source": [
    "expandHlda.print_nodes(n_words = 5, weights = True)"
   ]
  },
  {
   "cell_type": "code",
   "execution_count": 29,
   "id": "625b5768-53fc-433a-b59e-367028d44657",
   "metadata": {},
   "outputs": [
    {
     "name": "stdout",
     "output_type": "stream",
     "text": [
      "topic=402 (documents=3) 投打とも, 覚悟, 全休, このタイミング, フル回転, \n",
      "topic=395 (documents=12) 戦力, どちら, ピッチャー, 理想, 余裕, \n",
      "topic=246 (documents=11) 幸い, 楽しみ, グランド, 楽しみ本人, とても楽しみ, \n",
      "topic=375 (documents=10) 強化, 球団, 今後, 二刀流継続, 出力, \n",
      "topic=398 (documents=9) あなた, 困難, 短命, 思い, たくさん語らい太陽, \n",
      "topic=15 (documents=13) 今期, 今期終了, 復活, その間, 来期, \n",
      "topic=379 (documents=5) ユニホーム, 相性, 活躍シーン, どのようなユニホーム, 様々な豪華かつ走攻守, \n",
      "topic=399 (documents=4) じん帯, 細心, ひじ, 負荷を測る装具, ことなので今季を上回るホームラン, \n",
      "topic=310 (documents=10) 酷使, 本来, 連日, 自身, 負担, \n",
      "topic=364 (documents=7) 以前, 最近, 球速, 最善, 久々, \n",
      "topic=348 (documents=3) 事実, 再来年度, 絶好調, コメント通り, 前回, \n",
      "topic=323 (documents=7) 来年度, 高額年俸, 神様, とんでもない高額年俸, 病気, \n",
      "topic=400 (documents=8) シーズン途中, 非常にスピーディーな判断, 世界, レギュラーシーズン, 25シーズン, \n",
      "topic=396 (documents=8) 勇気, 経験者, 遠く, 快方, 一人経験者, \n",
      "topic=336 (documents=7) 意思, 二刀流, 信頼, 魅力, 前回, \n",
      "topic=121 (documents=11) 最高, キング, 最高の舞台, 最高のニュース, 最高のピーク, \n",
      "topic=377 (documents=2) 仕事, 休日, 普段, 普通, ゆっくりテレビ観戦したら、どかーんとでっかいホームラン, \n",
      "topic=367 (documents=7) 筋肉, 打撃筋肉, 筋肉維持, しなやかに投げる筋肉, パワー, \n",
      "topic=378 (documents=6) 成績, 結果, 番組, ドキュメント, 位置, \n",
      "topic=389 (documents=4) ドキュメント, あの壮絶なリハビリ, 長く現役続けること, 大きいな怪我, 二刀流, \n",
      "topic=386 (documents=7) 比類ない存在, 想像, タイミング, リスク, 要素, \n",
      "topic=322 (documents=5) 筋肉, 影響, 損傷, 右ひじ, 無理をしてけがを悪化させること, \n",
      "topic=383 (documents=2) 必要, 休養, 楽しみ, 来年, 負担, \n",
      "topic=345 (documents=7) 行動, 決断, 行動力, 決断力, この決断, \n",
      "topic=374 (documents=3) クリニック, 名前, ロサンゼルス市内, ジョーブ博士, いう報道, \n",
      "topic=369 (documents=6) 指先, マメのトラブル, トラブル, 花巻, 一瞬, \n",
      "topic=376 (documents=6) 負担, 変化球, 大きな負担, 速球主体, 登板回数, \n",
      "topic=329 (documents=5) 絶対, 勝負, 成否, そのもの, 直後, \n",
      "topic=355 (documents=4) 話題, 場合, タイミング, 才能, これ, \n",
      "topic=388 (documents=3) 時間, フリーエージェント, 不安要素を払拭すること, マイルストーンを示すこと, いうことをよくわかってる人, \n",
      "topic=381 (documents=7) スーパースター, オーバーワーク, 世界, キャリア, ゴミ, \n",
      "topic=342 (documents=4) スタート, 投打, 三振, 名前, 一部, \n",
      "topic=397 (documents=37) いい状態, いいチーム, 一緒, いい休日, 状態, \n",
      "topic=393 (documents=4) 育成世代, 野球人生, 野球, 自費, 高校生, \n",
      "topic=318 (documents=5) バッターボックス, 来年, 来年も素晴らしいプレー, 来年早い段階, 偉大な侍, \n",
      "topic=356 (documents=4) 保存療法, カーブ, 方法, 情報, 患部, \n",
      "topic=394 (documents=10) 早期, 早期手術, 素敵な笑顔, エンゼルス, 大谷くん, \n",
      "topic=354 (documents=7) 小生, 後半, 本人, 心境, 小生自身, \n",
      "topic=347 (documents=4) こちら, 黄色信号, 記録, 打者メイン, 打者, \n",
      "topic=328 (documents=9) 筋肉, ピッチャー, イチロー, ピッチャー復帰, 「ピッチャー, \n",
      "topic=359 (documents=24) 残留, お手本, 環境, どこ, 後輩, \n",
      "topic=346 (documents=4) 故障, 故障頻度, 大変な事態, 今度, 他人, \n",
      "topic=217 (documents=14) ケガ, 周り, 本人, 翌日, 一ヵ月, \n",
      "topic=358 (documents=11) 環境, グラウンド, チーム, オーナー, 「グラウンド, \n",
      "topic=371 (documents=3) 場合, 30盗塁, 支障, 普通, 投手, \n",
      "topic=372 (documents=12) 悔い, 選手, 意見, 145キロ付近, 160キロ, \n",
      "topic=260 (documents=5) 試合, 基準, 何方, 球団, 結果, \n",
      "topic=320 (documents=7) 記録, ハード, オーバーハンド, ホームラン速報, 本人, \n",
      "topic=357 (documents=6) 強化, 子供, 肉体, 本来, 大人, \n",
      "topic=401 (documents=5) あちこち, 早い復帰, 耳障り, 自ら, アベレージ, \n",
      "topic=387 (documents=8) バッティング, ダブルヘッダー, 本人, 飛躍, 第一線, \n",
      "topic=370 (documents=10) 感心, ブランク, 立場, 球場, 1年間ブランク, \n",
      "topic=352 (documents=17) ボール, 大リーグボール, 日本, 滑りやすいボール, 別のボール, \n",
      "topic=276 (documents=9) 程度, タイミング程度, 火傷, 高速シンカー, 自然治癒, \n",
      "topic=380 (documents=11) マスコミ, メディア, 情報, 情報空間, 報じるマスコミ, \n"
     ]
    }
   ],
   "source": [
    "expandHlda.print_phrases_by_sentence(comment_list=comment_list, corpus=comment_dataset.comment_list, n_phrase=5, with_score=False)"
   ]
  },
  {
   "cell_type": "code",
   "execution_count": 43,
   "id": "2f07b120-49a0-4dbd-9646-7d6ed58e2838",
   "metadata": {},
   "outputs": [
    {
     "name": "stdout",
     "output_type": "stream",
     "text": [
      "No.1\n",
      "「ひじにかかる負荷を測る装具着けたり、細心の注意を払っててもじん帯は損傷する。次に同じ状況になったら、もう二刀流は断念せざるを得ないか。我々はまだまだ彼の前人未到の頂に挑む挑戦が見たい。それも本人の健康な状態あってこそ。しっかりリハビリをして回復したらまたグラウンドで暴れまわる姿を見せて下さい。ただどんなユニフォーム着てるんだろう、その時。」\n",
      "\n",
      "No.2\n",
      "「1年間のリハビリという事は、もしかしてトミージョン手術だったのかな？\n",
      "\n",
      "2度めの手術をしたので、再来年投手として復活する時も、あまり肘に負担がかからないように投球も選択しながら投げてほしいです。」\n",
      "\n",
      "No.3\n",
      "「野球小僧のことだ。きっと25年からは再び二刀流で元気な姿で活躍してくれると思います。来季はどのユニフォームを着てるかわからないけど、打者専念とのことなので今季を上回るホームラン、打点を期待しているよ。」\n",
      "\n",
      "No.4\n",
      "「もはや大谷選手の素質と能力に身体の方がついて行けなくなってきているのかもしれない。大谷選手の力が人間の構造を凌駕しているとも言えますね。\n",
      "無事復活してまた夢を与えてくれることを期待しています。\n",
      "その時は違うユニフォームを着ているのかな？」\n",
      "\n",
      "No.5\n",
      "「成功したことに安堵した。\n",
      "具体的な術式が明らかになっていない以上、復帰にどれだけの時間がかかるかわからない。\n",
      "わからないので知りたいと思う向きがあるだろうが憶測も絡んでしまう状況だから、今は静観することが正しいと思う…いずれ正確な情報が発表されるだろうから。」\n",
      "\n",
      "No.6\n",
      "「打者だけなら、来季は本塁打量産して欲しい。\n",
      "後ろを打つ打者が強打者なら可能性はある。\n",
      "前を打つ打者が出塁率高ければ打点も稼げる。\n",
      "エンゼルスで今季の成績なら競合チームならもっと良い成績を\n",
      "残せる」\n",
      "\n",
      "No.7\n",
      "「そうなると今度は「来季はどこのユニフォームを着るのか」だな。正直エンゼルスに残る可能性は低いと思う。優勝争いすらできないチームに居続けたいとは思わないだろう。いくら大谷が頑張っても、周りが大谷におんぶにだっこの状態だし。井口や松井秀喜みたいに、ワールドシリーズ優勝を経験したいはず。」\n",
      "\n",
      "No.8\n",
      "「突然の手術のニュースに驚きましたが、無事に成功して良かった。\n",
      "また、元気にプレーする姿を見せてくれることを楽しみに、そして心待ちにしています。」\n",
      "\n",
      "No.9\n",
      "「全開すると良いね。今回手術は腱の入れ替えでは無く補強なのね。難しくて良く分からないが日本のTJ権威の人たちの言っていた内容とは違う種類の術だね。」\n",
      "\n",
      "No.10\n",
      "「星飛雄馬は、大リーグボール3号で左腕の筋が切れたとき、右腕投手で復活した。\n",
      "大谷くんも、左腕投手になったらいいと思う。\n",
      "星飛雄馬にできて、大谷くんにできないはずがない。」\n",
      "\n",
      "No.11\n",
      "「手術成功して良かったです。おめでとう～。\n",
      "今季は仕方ないとしても来季がある。今は無理をせずに体を休めてまたグラウンドに立って下さい。その姿を楽しみにしています。」\n",
      "\n",
      "No.12\n",
      "「朝のニュースで大谷さんの活躍を見るのが毎日の元気のもとでした。\n",
      "またそれを見ることができるのがうれしいです復帰を楽しみにしています」\n",
      "\n"
     ]
    }
   ],
   "source": [
    "expandHlda.print_topic_document(comment_list=comment_list, corpus=comment_dataset.comment_list, topic_id=399)"
   ]
  },
  {
   "cell_type": "code",
   "execution_count": 39,
   "id": "2af175fe-1004-4198-8788-9139a8f5fade",
   "metadata": {},
   "outputs": [
    {
     "name": "stdout",
     "output_type": "stream",
     "text": [
      "No.1\n",
      "「シーズンが終わっていないのに手術をしたということは、大谷選手の視点はもう来シーズンにあるということ。\u001b[31m逆に言うならワイルドカードへの望みを絶たれるまで出場しようとしていたということ。\u001b[0m\n",
      "こういうところが大谷選手が好かれる理由なんだと思います。\u001b[31m\n",
      "大谷選手が力対力、チーム対チームの最高の舞台でプレーしたがっているのはWBCを見ててもよくわかりました。\u001b[0mまたそういう舞台が似合う選手。大谷選手を見ていると野球って本当に面白いな、と思います。」\n",
      "No.2\n",
      "「\u001b[31m現実問題として二刀流は３０代前半までだろうと思う。\u001b[0m\n",
      "そうなると二刀流はあと３～４シーズンしかない。\u001b[31m\n",
      "１度で良いから、最多勝利と最優秀防御率を取って欲しい。\u001b[0m\u001b[31m\n",
      "同時にキングも取れたら最高。\u001b[0m\n",
      "二刀流を止めた後の目標は716本。\n",
      "ベーブ・ルースを完璧に超えて欲しい。\n",
      "あと560本。\u001b[31m年間45本ペースなら12年でいける。\u001b[0m」\n",
      "No.3\n",
      "「終盤は流石に満身創痍だったしあれ以上エンゼルスで出ても数字の上積み含め、リターンよりリスクの方がはるかに大きかった。\n",
      "無理せずシーズンを切り上げ、即座にメスを入れたのはタイミングとしては最適。\n",
      "\n",
      "\n",
      "\u001b[31m投手としてどこまで戻るかはまだ未知数だが、打者としては最高峰だと誰もが分かってる。\u001b[0m\n",
      "予定より少々回復が遅れたからとてその実力を疑う者も要素も存在しないのだし、この際まずはゆっくりゆっくりして、まずは来年打者としてプレーできるようにやね。」\n",
      "No.4\n",
      "「もう手術成功！？\n",
      "来年は打者で復帰、再来年には二刀流復帰？\u001b[31m\n",
      "これは最高のニュースだね！\u001b[0m\n",
      "\n",
      "使い過ぎた身体を休ませる意味でもかえって良かったとも思える。\n",
      "とにかく大谷の出場がないのは最悪だったが、シーズンも間もなく終わるしHR王もほぼ確実。これでよかったよかった。大谷翔平は必ずまた復活して新しい衝撃を与えてくれると信じよう！」\n",
      "No.5\n",
      "「来シーズンは打者に専念出来ると前向きに考えたら良いですね。あれだけの身体能力があっても体が悲鳴をあげる程のパフォーマンス。\u001b[31mそりゃ最高峰での二刀流ならそうなるか。\u001b[0m」\n",
      "No.6\n",
      "「手術成功有難うございます\n",
      "大谷さんを応援することで元気を貰ってます。\n",
      "体が資本。永く応援させてください。\n",
      "楽しむ事で結果成績もついてきます。\u001b[31m大谷さんの笑顔最高です。\u001b[0m」\n",
      "No.7\n",
      "「もう投手としては終わりでいいとおもう。\u001b[31m\n",
      "対トラウトは一つの最高のピークだった。\u001b[0mこれからは投げる分も打ちまくって欲しい。\n",
      "それよりも身体を大切にできる環境に移ってくれればいちばん良い。」\n"
     ]
    }
   ],
   "source": [
    "expandHlda.print_topic_multi_document_by_sentence(comment_list=comment_list, corpus=comment_dataset.comment_list, topic_id=121)"
   ]
  },
  {
   "cell_type": "code",
   "execution_count": 40,
   "id": "1dff8730-5448-4e04-b5d8-1b68626f99b3",
   "metadata": {},
   "outputs": [
    {
     "name": "stdout",
     "output_type": "stream",
     "text": [
      "sentence:ひじにかかる負荷を測る装具着けるたり、細心の注意を払うてるてもじん帯は損傷する。\n",
      "node_id:121, node_words:最高(2.0),現実(1.0),似合う(1.0),ペース(1.0),出場(1.0),最優秀防御率(1.0),最多勝利(1.0),望み(1.0),キング(1.0),絶つ(1.0),帰国(1.0),くつろぐ(1.0),シーズン終了(1.0),厳しい(1.0),含める(1.0),いける(1.0),止める(1.0),取る(1.0),面白い(1.0),前半(1.0),12年(1.0),なのかな(1.0),完璧(1.0),仰向け(0.0),先発(0.0),任期(0.0),休み(0.0),休む(0.0),会う(0.0),休める(0.0),休場(0.0),休息(0.0),休日(0.0),仰る(0.0),休暇(0.0),休養(0.0),優勝争い(0.0),会社(0.0),先生(0.0),伝わる(0.0),伝説(0.0),伴う(0.0),伸ばす(0.0),伸びる(0.0),似る(0.0),先日(0.0),位置(0.0),低い(0.0),低迷(0.0),佐々木(0.0),体制(0.0),体力(0.0),以降(0.0),以前(0.0),体調管理(0.0),今期(0.0),人間(0.0),人間性(0.0),今シーズン(0.0),入る(0.0),今回(0.0),今季(0.0),今年(0.0),今度(0.0),今後(0.0),今日(0.0),入り(0.0),今更(0.0),今月中(0.0),仕上がり(0.0),代理人(0.0),仕事(0.0),免れる(0.0),仕振り(0.0),先輩(0.0),仕方(0.0),先発投手(0.0),仕方無い(0.0),他人(0.0),付き合い(0.0),付く(0.0),付ける(0.0),付近(0.0),代わる(0.0),体調(0.0),何とか(0.0),優勝(0.0),偏り(0.0),保険(0.0),信じる(0.0),信号(0.0),信頼(0.0),元手(0.0),修正(0.0),個々(0.0),個人(0.0),個人差(0.0),個人的(0.0),倍増(0.0),倣う(0.0)\n",
      "probability:0.0\n",
      "各単語の出現回数:最高 (word_weight:2.0) (word_appear_count0), 現実 (word_weight:1.0) (word_appear_count0), 似合う (word_weight:1.0) (word_appear_count0), ペース (word_weight:1.0) (word_appear_count0), 出場 (word_weight:1.0) (word_appear_count0), 最優秀防御率 (word_weight:1.0) (word_appear_count0), 最多勝利 (word_weight:1.0) (word_appear_count0), 望み (word_weight:1.0) (word_appear_count0), キング (word_weight:1.0) (word_appear_count0), 絶つ (word_weight:1.0) (word_appear_count0), 帰国 (word_weight:1.0) (word_appear_count0), くつろぐ (word_weight:1.0) (word_appear_count0), シーズン終了 (word_weight:1.0) (word_appear_count0), 厳しい (word_weight:1.0) (word_appear_count0), 含める (word_weight:1.0) (word_appear_count0), いける (word_weight:1.0) (word_appear_count0), 止める (word_weight:1.0) (word_appear_count0), 取る (word_weight:1.0) (word_appear_count0), 面白い (word_weight:1.0) (word_appear_count0), 前半 (word_weight:1.0) (word_appear_count0), 12年 (word_weight:1.0) (word_appear_count0), なのかな (word_weight:1.0) (word_appear_count0), 完璧 (word_weight:1.0) (word_appear_count0), 仰向け (word_weight:0.0) (word_appear_count0), 先発 (word_weight:0.0) (word_appear_count0), 任期 (word_weight:0.0) (word_appear_count0), 休み (word_weight:0.0) (word_appear_count0), 休む (word_weight:0.0) (word_appear_count0), 会う (word_weight:0.0) (word_appear_count0), 休める (word_weight:0.0) (word_appear_count0), 休場 (word_weight:0.0) (word_appear_count0), 休息 (word_weight:0.0) (word_appear_count0), 休日 (word_weight:0.0) (word_appear_count0), 仰る (word_weight:0.0) (word_appear_count0), 休暇 (word_weight:0.0) (word_appear_count0), 休養 (word_weight:0.0) (word_appear_count0), 優勝争い (word_weight:0.0) (word_appear_count0), 会社 (word_weight:0.0) (word_appear_count0), 先生 (word_weight:0.0) (word_appear_count0), 伝わる (word_weight:0.0) (word_appear_count0), 伝説 (word_weight:0.0) (word_appear_count0), 伴う (word_weight:0.0) (word_appear_count0), 伸ばす (word_weight:0.0) (word_appear_count0), 伸びる (word_weight:0.0) (word_appear_count0), 似る (word_weight:0.0) (word_appear_count0), 先日 (word_weight:0.0) (word_appear_count0), 位置 (word_weight:0.0) (word_appear_count0), 低い (word_weight:0.0) (word_appear_count0), 低迷 (word_weight:0.0) (word_appear_count0), 佐々木 (word_weight:0.0) (word_appear_count0), 体制 (word_weight:0.0) (word_appear_count0), 体力 (word_weight:0.0) (word_appear_count0), 以降 (word_weight:0.0) (word_appear_count0), 以前 (word_weight:0.0) (word_appear_count0), 体調管理 (word_weight:0.0) (word_appear_count0), 今期 (word_weight:0.0) (word_appear_count0), 人間 (word_weight:0.0) (word_appear_count0), 人間性 (word_weight:0.0) (word_appear_count0), 今シーズン (word_weight:0.0) (word_appear_count0), 入る (word_weight:0.0) (word_appear_count0), 今回 (word_weight:0.0) (word_appear_count0), 今季 (word_weight:0.0) (word_appear_count0), 今年 (word_weight:0.0) (word_appear_count0), 今度 (word_weight:0.0) (word_appear_count0), 今後 (word_weight:0.0) (word_appear_count0), 今日 (word_weight:0.0) (word_appear_count0), 入り (word_weight:0.0) (word_appear_count0), 今更 (word_weight:0.0) (word_appear_count0), 今月中 (word_weight:0.0) (word_appear_count0), 仕上がり (word_weight:0.0) (word_appear_count0), 代理人 (word_weight:0.0) (word_appear_count0), 仕事 (word_weight:0.0) (word_appear_count0), 免れる (word_weight:0.0) (word_appear_count0), 仕振り (word_weight:0.0) (word_appear_count0), 先輩 (word_weight:0.0) (word_appear_count0), 仕方 (word_weight:0.0) (word_appear_count0), 先発投手 (word_weight:0.0) (word_appear_count0), 仕方無い (word_weight:0.0) (word_appear_count0), 他人 (word_weight:0.0) (word_appear_count0), 付き合い (word_weight:0.0) (word_appear_count0), 付く (word_weight:0.0) (word_appear_count0), 付ける (word_weight:0.0) (word_appear_count0), 付近 (word_weight:0.0) (word_appear_count0), 代わる (word_weight:0.0) (word_appear_count0), 体調 (word_weight:0.0) (word_appear_count0), 何とか (word_weight:0.0) (word_appear_count0), 優勝 (word_weight:0.0) (word_appear_count0), 偏り (word_weight:0.0) (word_appear_count0), 保険 (word_weight:0.0) (word_appear_count0), 信じる (word_weight:0.0) (word_appear_count0), 信号 (word_weight:0.0) (word_appear_count0), 信頼 (word_weight:0.0) (word_appear_count0), 元手 (word_weight:0.0) (word_appear_count0), 修正 (word_weight:0.0) (word_appear_count0), 個々 (word_weight:0.0) (word_appear_count0), 個人 (word_weight:0.0) (word_appear_count0), 個人差 (word_weight:0.0) (word_appear_count0), 個人的 (word_weight:0.0) (word_appear_count0), 倍増 (word_weight:0.0) (word_appear_count0), 倣う (word_weight:0.0) (word_appear_count0), \n",
      "------------------------------------------------------------------\n"
     ]
    }
   ],
   "source": [
    "sentence = \"ひじにかかる負荷を測る装具着けたり、細心の注意を払っててもじん帯は損傷する。\"\n",
    "\n",
    "expandHlda.get_topic_one_sentence_with_color(sentence=sentence, corpus=comment_dataset.comment_list, n_words=100, node_id=121)"
   ]
  },
  {
   "cell_type": "code",
   "execution_count": 12,
   "id": "c9f200df-04a0-4cb8-b1be-f3db994b643d",
   "metadata": {},
   "outputs": [],
   "source": [
    "# expandHlda.print_topic_phrase_by_sentence(comment_list=comment_list, corpus=comment_dataset.comment_list, topic_id=376)"
   ]
  },
  {
   "cell_type": "code",
   "execution_count": null,
   "id": "9c4b76e8-1acf-4131-b8f0-53538942ff51",
   "metadata": {},
   "outputs": [],
   "source": [
    "expandHlda.get_topic_multi_document(comment_list=comment_list, corpus=comment_dataset.comment_list)"
   ]
  }
 ],
 "metadata": {
  "kernelspec": {
   "display_name": "Python 3 (ipykernel)",
   "language": "python",
   "name": "python3"
  },
  "language_info": {
   "codemirror_mode": {
    "name": "ipython",
    "version": 3
   },
   "file_extension": ".py",
   "mimetype": "text/x-python",
   "name": "python",
   "nbconvert_exporter": "python",
   "pygments_lexer": "ipython3",
   "version": "3.10.1"
  }
 },
 "nbformat": 4,
 "nbformat_minor": 5
}
