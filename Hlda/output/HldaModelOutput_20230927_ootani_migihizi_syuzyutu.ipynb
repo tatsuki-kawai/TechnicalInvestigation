{
 "cells": [
  {
   "cell_type": "code",
   "execution_count": 1,
   "id": "7995cb4a-dc33-41c3-ba5d-ecf72afa83a6",
   "metadata": {},
   "outputs": [],
   "source": [
    "import sys\n",
    "sys.path.append('../model')\n",
    "sys.path.append('../../Data')\n",
    "sys.path.append('../../NLP')\n",
    "sys.path.append('../../GenerateLabel')\n",
    "\n",
    "import pandas as pd\n",
    "import numpy as np\n",
    "import time\n",
    "from CommentDataset import CommentDataset\n",
    "\n",
    "comment_list_name = \"20230927_ootani_migihizi_syuzyutu\"\n",
    "comment_list_path = \"2023_09_27/\" + comment_list_name + \".csv\"\n",
    "\n",
    "# # 指定すべき文字コードはファイルによる(cp932 or utf-8)\n",
    "df = pd.read_csv(\"../../Data/yahoo/\"+comment_list_path, encoding=\"cp932\", header=None)\n",
    "comment_list = df[0][1:].to_numpy().tolist()\n",
    "comment_dataset = CommentDataset(comment_list)\n",
    "comment_dataset.delete_comment_specified_string(50)\n",
    "comment_list = comment_dataset.comment_list\n",
    "comment_dataset.formatted_input_hlda(appear_tagging_list=[\"名詞\", \"形容詞\", \"動詞\"], stop_tagging_list=[\"助詞\", \"助動詞\", \"非自立\"])"
   ]
  },
  {
   "cell_type": "code",
   "execution_count": 2,
   "id": "af116522-6eda-4137-ac02-7299bd5e0c35",
   "metadata": {},
   "outputs": [
    {
     "name": "stdout",
     "output_type": "stream",
     "text": [
      "412\n"
     ]
    }
   ],
   "source": [
    "print(len(comment_list))"
   ]
  },
  {
   "cell_type": "code",
   "execution_count": 3,
   "id": "ef1f2780-973b-45ab-8f9b-e3f527db0b88",
   "metadata": {},
   "outputs": [],
   "source": [
    "from HldaModel import ExpandHldaModel\n",
    "\n",
    "model_path = \"../model/pickle/2023_09_27/20230927_ootani_migihizi_syuzyutu_default.pickle\"\n",
    "expandHlda = ExpandHldaModel(pickle_path=model_path)"
   ]
  },
  {
   "cell_type": "code",
   "execution_count": 4,
   "id": "6b61f5ed-899a-47a8-8327-bca51d6927be",
   "metadata": {},
   "outputs": [
    {
     "name": "stdout",
     "output_type": "stream",
     "text": [
      "topic=0 level=0 (documents=412): 手術 (263), 大谷 (246), 選手 (183), 成功 (159), 思う (158), \n",
      "    topic=1 level=1 (documents=91): 二刀流 (29), 打者 (20), 投手 (16), 負担 (10), できる (10), \n",
      "        topic=310 level=2 (documents=11): 上げる (5), 酷使 (4), 悲鳴 (4), おかしい (2), 自身 (2), \n",
      "        topic=318 level=2 (documents=9): バッターボックス (3), 勝てる (2), プレー (2), 届ける (2), 勇気 (2), \n",
      "        topic=320 level=2 (documents=8): 2025年 (2), 記録 (2), 前回 (1), 走る (1), 貢献 (1), \n",
      "        topic=342 level=2 (documents=7): スタート (3), 塁打 (2), 投打 (2), 渡る (2), 球場 (2), \n",
      "        topic=369 level=2 (documents=4): マメ (3), 明らか (2), 指先 (2), 充分 (2), 頼る (2), \n",
      "        topic=370 level=2 (documents=5): 感心 (2), ブランク (2), 進む (1), 練習 (1), こっち (1), \n",
      "        topic=371 level=2 (documents=9): 早期 (2), 盗塁 (2), チーム (1), プラス (1), 快復 (1), \n",
      "        topic=377 level=2 (documents=16): 観る (6), 仕事 (5), 希望 (5), 寂しい (4), お金 (3), \n",
      "        topic=386 level=2 (documents=5): 遅れる (2), 入れる (2), 存在 (2), メス (2), 満身創痍 (1), \n",
      "        topic=396 level=2 (documents=9): 経験 (4), 進化 (3), 勇気 (3), 復帰 (2), 違う (2), \n",
      "        topic=398 level=2 (documents=8): 故障 (3), ベンチ (2), 左投手 (2), 困難 (2), 箇所 (2), \n",
      "    topic=3 level=1 (documents=79): 打者 (36), 二刀流 (32), 投手 (18), 言う (15), 専念 (14), \n",
      "        topic=121 level=2 (documents=4): 最高 (2), 現実 (1), 似合う (1), ペース (1), 出場 (1), \n",
      "        topic=323 level=2 (documents=8): 凄い (3), 来年度 (3), 高額 (2), 神様 (2), 年俸 (2), \n",
      "        topic=354 level=2 (documents=4): そりゃ (2), 小生 (2), 体調 (2), 在る (2), 五十路 (1), \n",
      "        topic=355 level=2 (documents=6): 話題 (2), 接触 (1), デカ (1), 本当 (1), 穏やか (1), \n",
      "        topic=357 level=2 (documents=9): 強化 (2), かかる (2), 存在 (2), 子供 (2), 肉体 (1), \n",
      "        topic=358 level=2 (documents=6): 戻れる (3), 離れる (3), グラウンド (2), 環境 (2), ぬるま湯 (1), \n",
      "        topic=375 level=2 (documents=10): 継続 (5), 球団 (4), 強化 (4), 今後 (4), できる (3), \n",
      "        topic=376 level=2 (documents=11): 期間 (4), 負担 (4), 球種 (4), 減らす (3), 変化球 (3), \n",
      "        topic=380 level=2 (documents=4): マスコミ (4), メディア (4), 情報 (3), 意図 (1), スタッフ (1), \n",
      "        topic=393 level=2 (documents=13): 本塁打 (2), 130打点 (2), 60本 (2), 3冠王 (2), 抜本的 (1), \n",
      "        topic=397 level=2 (documents=4): いい (2), 2年後 (2), はやる (1), 聞く (1), だし (1), \n",
      "    topic=12 level=1 (documents=96): 二刀流 (33), 打者 (29), 投手 (26), できる (22), 負担 (14), \n",
      "        topic=346 level=2 (documents=10): 故障 (3), 選手生命 (3), 絞る (2), 認識 (2), すごい (2), \n",
      "        topic=347 level=2 (documents=5): イチロー (3), 聞く (3), 確実 (2), 間に合う (2), こちら (2), \n",
      "        topic=364 level=2 (documents=9): 以前 (3), 最近 (3), 辛い (2), 最善 (2), 球速 (2), \n",
      "        topic=367 level=2 (documents=8): 筋肉 (6), 作用 (2), 日々 (2), しなやか (2), 体調管理 (2), \n",
      "        topic=372 level=2 (documents=3): 9割 (3), 160キロ (2), 山本昌 (2), すい (1), いける (1), \n",
      "        topic=378 level=2 (documents=7): 成績 (2), 結果 (2), 2025年 (2), 実績 (1), 楽しみ (1), \n",
      "        topic=381 level=2 (documents=2): 世界 (2), スーパースター (2), 熱意 (2), オーバーワーク (2), 切り替える (1), \n",
      "        topic=383 level=2 (documents=12): 意味 (3), 変化球 (3), 必要 (3), 多投 (2), あれだけ (2), \n",
      "        topic=395 level=2 (documents=2): どちら (2), 戦力 (2), 書く (1), 焦点 (1), 支援 (1), \n",
      "        topic=399 level=2 (documents=12): 着る (4), ユニフォーム (4), 状態 (2), 今季 (2), 打点 (2), \n",
      "        topic=400 level=2 (documents=11): 判断 (4), 長い (3), 安心 (2), 至る (2), 静養 (2), \n",
      "        topic=401 level=2 (documents=10): そうだ (2), 早い (2), 決まる (2), 痛い (2), あちこち (2), \n",
      "        topic=402 level=2 (documents=5): 投打 (3), タイミング (2), 本当 (2), 鼓舞 (1), 回避 (1), \n",
      "    topic=14 level=1 (documents=146): 二刀流 (48), 打者 (33), 投手 (26), できる (23), 言う (19), \n",
      "        topic=15 level=2 (documents=8): ホームラン王 (4), 今期 (4), 間違い (3), 休める (3), 変わる (3), \n",
      "        topic=217 level=2 (documents=3): ケガ (3), ヵ月 (2), 諦める (1), 冷静 (1), 集まる (1), \n",
      "        topic=246 level=2 (documents=7): 専念 (2), 不幸 (2), オペ (2), グランド (2), 楽しみ (2), \n",
      "        topic=260 level=2 (documents=5): 多い (3), 滑る (2), 怪我人 (2), 検査 (2), ボール (2), \n",
      "        topic=276 level=2 (documents=5): 程度 (4), ムリ (3), 治癒 (1), 火傷 (1), 無念 (1), \n",
      "        topic=322 level=2 (documents=4): 出し手 (2), 痛める (2), 悪化 (2), 6人 (1), 吉報 (1), \n",
      "        topic=328 level=2 (documents=7): ピッチャー (3), 筋肉 (3), 記事 (2), イチロー (2), 耐える (2), \n",
      "        topic=329 level=2 (documents=9): 失敗 (3), 勝負 (2), 絶対 (2), プレースタイル (2), 受ける (2), \n",
      "        topic=336 level=2 (documents=9): 状態 (2), かける (2), 意思 (2), 執刀 (2), 励ます (1), \n",
      "        topic=345 level=2 (documents=9): 速い (5), 行動 (4), 決断 (4), 原因 (3), 振る (2), \n",
      "        topic=348 level=2 (documents=6): 有る (3), 貰う (3), 出す (2), 目指す (2), グランド (2), \n",
      "        topic=352 level=2 (documents=10): ボール (9), 滑る (4), 日本 (3), 真剣 (2), 供給 (2), \n",
      "        topic=356 level=2 (documents=9): 保存 (2), 療法 (2), 余裕 (1), 2年 (1), スタート (1), \n",
      "        topic=359 level=2 (documents=4): 好き (2), 描く (1), 舞台 (1), ポストシーズン (1), 伝わる (1), \n",
      "        topic=374 level=2 (documents=12): クリニック (3), 打席 (3), 何事 (2), 試練 (2), 終える (2), \n",
      "        topic=379 level=2 (documents=5): ユニホーム (2), 右肘 (2), 今シーズン (2), 含める (2), 裏切る (1), \n",
      "        topic=387 level=2 (documents=7): 療法 (2), ダブルヘッダー (2), 2試合 (2), バッティング (2), 保存 (2), \n",
      "        topic=388 level=2 (documents=6): 時間 (3), シーズン終了 (2), 比べる (2), 優秀 (2), ダル (1), \n",
      "        topic=389 level=2 (documents=11): 現役 (3), こだわる (2), ブランク (2), 感覚 (2), 始まる (2), \n",
      "        topic=394 level=2 (documents=10): 早期 (5), 間に合う (4), 笑顔 (3), 感じる (3), 含める (3), \n"
     ]
    }
   ],
   "source": [
    "expandHlda.print_nodes(n_words = 5, weights = True)"
   ]
  },
  {
   "cell_type": "code",
   "execution_count": 5,
   "id": "625b5768-53fc-433a-b59e-367028d44657",
   "metadata": {},
   "outputs": [
    {
     "name": "stdout",
     "output_type": "stream",
     "text": [
      "topic=402 (documents=3) 投打とも, このタイミング, 覚悟, \n",
      "topic=395 (documents=12) ワールドシリーズ制覇を狙える戦力, 戦力, どちら, \n",
      "topic=246 (documents=11) 幸い, 楽しみ本人, 楽しみ, \n",
      "topic=375 (documents=10) 徹底強化をしない限り, ない球団だから勝てないので出た方, 二刀流継続, \n",
      "topic=398 (documents=9) たくさん語らい太陽, ように明るく輝いていました手術, 二日間ベンチ, \n",
      "topic=15 (documents=13) 今期終了, 今期, 投手復活, \n",
      "topic=379 (documents=5) 様々な豪華かつ走攻守, どのようなユニホーム, ユニホーム, \n",
      "topic=399 (documents=4) ことなので今季を上回るホームラン, 負荷を測る装具, じん帯, \n",
      "topic=310 (documents=10) 悲鳴を上げる大谷翔平, 酷使, 本来, \n",
      "topic=364 (documents=7) 以前, 最近, 球速, \n",
      "topic=348 (documents=3) 再来年度, コメント通り, 二刀流を目指すと宣言できた事, \n",
      "topic=323 (documents=7) とんでもない高額年俸, 高額年俸, 来年度, \n",
      "topic=400 (documents=8) 非常にスピーディーな判断, 早くて2025シーズンかないずれ, シーズン途中, \n",
      "topic=396 (documents=8) 一人経験者, 経験者, 進化した大谷選手, \n",
      "topic=336 (documents=7) 意思, 完璧な二刀流, 執刀医, \n",
      "topic=121 (documents=11) 望みを絶たれるまで出場しようとしていたということ, 最高の舞台, 最高のニュース, \n",
      "topic=377 (documents=2) ゆっくりテレビ観戦したら、どかーんとでっかいホームラン, 仕事, 休日, \n",
      "topic=367 (documents=7) しなやかに投げる筋肉, 打撃筋肉, 筋肉維持, \n",
      "topic=378 (documents=6) 成績を残す選手, 成績, どういう結果, \n",
      "topic=389 (documents=4) あの壮絶なリハビリ, 長く現役続けること, 大きいな怪我, \n",
      "topic=386 (documents=7) 比類ない存在, メスを入れる決断を早くした方, メスを入れるということ, \n",
      "topic=322 (documents=5) 無理をしてけがを悪化させること, シーズン途中離脱し手術を受けたこと, 筋肉, \n",
      "topic=383 (documents=2) 必要, 休養, 楽しみ, \n",
      "topic=345 (documents=7) やると決めたら迷わず即行動する決断力, 速くなるというケース, 行動力, \n",
      "topic=374 (documents=3) クリニック, ロサンゼルス市内, ジョーブ博士, \n",
      "topic=369 (documents=6) マメのトラブル, 指先, トラブル, \n",
      "topic=376 (documents=6) 負担を掛けるので投球禁止, 負担, 大きな負担, \n",
      "topic=329 (documents=5) 絶対, 勝負, 成否, \n",
      "topic=355 (documents=4) 怪しいって動画, 話題, 結構本当, \n",
      "topic=388 (documents=3) 時間, 不安要素を払拭すること, フリーエージェント, \n",
      "topic=381 (documents=7) スーパースター, オーバーワーク, 世界, \n",
      "topic=342 (documents=4) スタート, 先導役を長きに渡り見させてもらいまいた昨年, 投打, \n",
      "topic=397 (documents=37) いい状態, いいような気, そんなに無理をしなくてもいいチーム, \n",
      "topic=393 (documents=4) 育成世代, 野球人生, 打率.335、130打点, \n",
      "topic=318 (documents=5) 来年も素晴らしいプレー, バッターボックス, 名刀(バット)を構える姿を楽しみ, \n",
      "topic=356 (documents=4) 保存療法, 超人的な力, カーブ, \n",
      "topic=394 (documents=10) 早期手術, 早期, 素敵な笑顔, \n",
      "topic=354 (documents=7) 体調見通し等々知る術, 小生自身, 小生, \n",
      "topic=347 (documents=4) 黄色信号, こちら, 打者メイン, \n",
      "topic=328 (documents=9) ピッチャー復帰, 筋肉, 「ピッチャー, \n",
      "topic=359 (documents=24) 好きで好きでたまらない、とプレーをしている姿, 好きな選手, チーム環境, \n",
      "topic=346 (documents=4) 故障頻度, 大変な事態, 故障, \n",
      "topic=217 (documents=14) ケガなく自身をマネジメントしながら活躍してもらいたいのが本心, ケガ, 一ヵ月, \n",
      "topic=358 (documents=11) 最適な環境, 環境, グラウンド, \n",
      "topic=371 (documents=3) 30盗塁, 場合, ポストシーズン進出, \n",
      "topic=372 (documents=12) 145キロ付近, メスを入れないと続けられないスポーツ選手, 復帰後160キロ, \n",
      "topic=260 (documents=5) 無い過密スケジュール, 様々な要因, 消耗具合をモニタリングをするくらいの事, \n",
      "topic=320 (documents=7) 記録, ホームラン速報, ハード, \n",
      "topic=357 (documents=6) 希望を与えられる存在, 強化, 子供, \n",
      "topic=401 (documents=5) 早い復帰, あちこち, 脇腹周辺, \n",
      "topic=387 (documents=8) バッティング, ダブルヘッダー, 2試合数イニング, \n",
      "topic=370 (documents=10) ゆっくりでもブランクを埋められるような練習, 感心, ブランク, \n",
      "topic=352 (documents=17) ボールを供給している会社, 生命を食い潰す滑るボール, 滑りやすいボール, \n",
      "topic=276 (documents=9) いくから致命傷にならない程度, タイミング程度, 6～7勝程度, \n",
      "topic=380 (documents=11) 連日オータニオータニを繰り返すマスコミ, マスコミを、賑やかすこと, 情報空間, \n"
     ]
    }
   ],
   "source": [
    "expandHlda.print_phrases_by_sentence(comment_list=comment_list, corpus=comment_dataset.comment_list, n_phrase=3, with_score=False)"
   ]
  },
  {
   "cell_type": "code",
   "execution_count": 11,
   "id": "2f07b120-49a0-4dbd-9646-7d6ed58e2838",
   "metadata": {},
   "outputs": [
    {
     "name": "stdout",
     "output_type": "stream",
     "text": [
      "No.1\n",
      "「とりあえず手術が成功してホッとしています。二刀流を見たいけれど、大谷選手の選手生命が短くなってしまう。二刀流よりもプレーしてる姿をできるだけ長く見ていたいです。早く完全復活できることを祈っていますし、今後は二刀流だとしても休息をとるなど怪我に気をつけて、活躍している姿に期待しています。」\n",
      "\n",
      "No.2\n",
      "「遠征には帯同を不参加、ロッカーの整理と聞いたので手術だと思っていましたが、早いですね。\n",
      "終わっていたとは驚きました。\n",
      "二刀流復活への成功を祈るだけです。\n",
      "大谷選手は特を積んで来た選手ですから、復活は間違い無いと思います。」\n",
      "\n",
      "No.3\n",
      "「今期はまず間違いなくア・リーグホームラン王を取れると思うので来期は球団が変わっても2年連続のホームラン王を狙って欲しい。\n",
      "その間，肩を休め25年の投手復活で二刀流で今期に勝る数字をあげてほしい。」\n",
      "\n",
      "No.4\n",
      "「今期はまず間違いなくア・リーグホームラン王を取れると思うので来期は球団が変わっても2年連続のホームラン王を狙って欲しい。\n",
      "その間，肩を休め25年の投手復活で二刀流で今期に勝る数字をあげてほしい。」\n",
      "\n",
      "No.5\n",
      "「いろんな意見を聞きながら、本人も納得しての、手術だったのでしょう。\n",
      "必ず二刀流でやるんだという強い気持ちに変わりはないと思うので、無理なくリハビリ頑張ってください。ずっと応援しています。」\n",
      "\n",
      "No.6\n",
      "「苦難の度に乗り越えて更に強くそして更に進化した大谷翔平選手を待っています！\n",
      "人生は苦難を乗り越えてこそ価値があり、人生というご馳走の味が増すと思います！\n",
      "大谷翔平選手に栄光あれ！」\n",
      "\n",
      "No.7\n",
      "「素人目に見ても　あまりにも体を酷使していると思った。　もう少し自分を大事にしていただきたい。　また　彼を酷使しないチームで体をいたわりながらプレーしてほしい。」\n",
      "\n",
      "No.8\n",
      "「本人は無理をしたとは思ってないのかもしれないけど、体には十分気をつけて体を休めて欲しい。これからも活躍する姿をテレビで見ていたいから」\n",
      "\n"
     ]
    }
   ],
   "source": [
    "expandHlda.print_topic_document(comment_list=comment_list, corpus=comment_dataset.comment_list, topic_id=15)"
   ]
  },
  {
   "cell_type": "code",
   "execution_count": 12,
   "id": "2af175fe-1004-4198-8788-9139a8f5fade",
   "metadata": {},
   "outputs": [
    {
     "name": "stdout",
     "output_type": "stream",
     "text": [
      "No.1\n",
      "「大谷選手が右肘の手術をしたということは再び投打の二刀流として試合に出たいという決意表明でしょう。\n",
      "手術をすると来シーズンは二刀流として試合に出ることはできなくなりますが打者としての大谷選手の活躍を見ることはできると思います。\n",
      "今年の大谷選手はＷＢＣの時から二刀流として大活躍していたので常に疲労によるケガの心配がありました。\u001b[31m\n",
      "それでも、今シーズンの大谷選手はホームラン王とＭＶＰのタイトルは取ることができると思います。\u001b[0m\n",
      "来シーズンは打者として三冠王を目指して頑張ってください。\n",
      "大谷選手なら三冠王も夢ではないと思います。」\n",
      "No.2\n",
      "「普通の人であれば日常生活に支障をきたす運動障害や痛みは取り除くことができれば手術成功ですが、プロ野球選手、いや大谷選手の手術は今まで通りに打撃、投球ができて初めて成功したといえるのでしょう。\n",
      "\u001b[31m来年いや再来年に手術成功して良かったとなるようにホームラン王や最多勝利を期待しています。\u001b[0m」\n",
      "No.3\n",
      "「遠征には帯同を不参加、ロッカーの整理と聞いたので手術だと思っていましたが、早いですね。\n",
      "終わっていたとは驚きました。\n",
      "二刀流復活への成功を祈るだけです。\u001b[31m\n",
      "大谷選手は特を積んで来た選手ですから、復活は間違い無いと思います。\u001b[0m」\n",
      "No.4\n",
      "「決断というか対応が早いですね。\u001b[31m\n",
      "2.3日前にロッカーを片付けて今期終了の報道を見ました。\u001b[0mネビン監督が翔平は悔しがっていたと話していましたが感傷的になるのは一瞬で間髪入れずに手術とは驚きました。\n",
      "近い将来少しでも早く復帰する為の思いがうかがわせます。焦ることなく充分な形で戻って来てください。」\n",
      "No.5\n",
      "「\u001b[31m今期はまず間違いなくア・リーグホームラン王を取れると思うので来期は球団が変わっても2年連続のホームラン王を狙って欲しい。\u001b[0m\n",
      "\u001b[31mその間，肩を休め25年の投手復活で二刀流で今期に勝る数字をあげてほしい。\u001b[0m」\n",
      "No.6\n",
      "「\u001b[31m今期はまず間違いなくア・リーグホームラン王を取れると思うので来期は球団が変わっても2年連続のホームラン王を狙って欲しい。\u001b[0m\n",
      "\u001b[31mその間，肩を休め25年の投手復活で二刀流で今期に勝る数字をあげてほしい。\u001b[0m」\n",
      "No.7\n",
      "「取り敢えずは本当に成功して良かった。\u001b[31m後はアジア人初のホームラン王が取れたらいいね。\u001b[0m本当に2023年はフル稼働お疲れ様でした。WBCの感動は永遠に忘れない。ホンマにお疲れ様でした。夢をありがとうございます。」\n",
      "No.8\n",
      "「普通の投手なら「来季絶望」みたいになってチームもファンも残念がるところ、大谷選手には打があるからね。\u001b[31m\n",
      "\n",
      "この際、ホームラン王と打点王、もっといけそうなら三冠王目指しちゃってください！！\u001b[0m」\n",
      "No.9\n",
      "「右肘手術成功おめでとうございます。来シーズンに備えてゆっくり休んで下さい。\u001b[31mまずはホームラン王のタイトルが獲れるとよいですね。\u001b[0m」\n",
      "No.10\n",
      "「安心しました。休養期間が必要なので、エンジェルスに在籍することも濃厚かと。\n",
      "\n",
      "喜ばしいニュースですね。\u001b[31mホームラン王も取れそうですし\u001b[0m」\n",
      "No.11\n",
      "「右腕の筋力が元に戻るまでに、どれほどの忍耐が必要なのか想像もつかないが、大谷なら心配いらんだろう。\u001b[31mとりあえず来年はホームラン王だけでいいよ。\u001b[0m」\n"
     ]
    }
   ],
   "source": [
    "expandHlda.print_topic_multi_document_by_sentence(comment_list=comment_list, corpus=comment_dataset.comment_list, topic_id=15)"
   ]
  },
  {
   "cell_type": "code",
   "execution_count": 8,
   "id": "1dff8730-5448-4e04-b5d8-1b68626f99b3",
   "metadata": {},
   "outputs": [
    {
     "name": "stdout",
     "output_type": "stream",
     "text": [
      "sentence:これまでの\u001b[31m自身\u001b[0mの\u001b[31m歩み\u001b[0mでの\u001b[31m決断\u001b[0mと\u001b[31m挑戦\u001b[0mに\u001b[31m感服\u001b[0mするます\n",
      "node_id:310, node_words:上げる(5.0),酷使(4.0),悲鳴(4.0),おかしい(2.0),自身(2.0),アスリート(2.0),期待(2.0),言葉(2.0),本来(2.0),連日(2.0),気持ち(2.0),待ち望む(1.0),部分(1.0),選手生活(1.0),気づく(1.0),永い(1.0),決断(1.0),リセット(1.0),フル(1.0),場所(1.0),出発(1.0),鍛える(1.0),だし(1.0),プロ(1.0),エール(1.0),指し手(1.0),年齢(1.0),じん帯(1.0),伸びる(1.0),しれる(1.0), probability:0.062\n",
      "各単語の出現回数:上げる (word_weight:5.0) (word_appear_count0), 酷使 (word_weight:4.0) (word_appear_count0), 悲鳴 (word_weight:4.0) (word_appear_count0), おかしい (word_weight:2.0) (word_appear_count0), 自身 (word_weight:2.0) (word_appear_count1), アスリート (word_weight:2.0) (word_appear_count0), 期待 (word_weight:2.0) (word_appear_count0), 言葉 (word_weight:2.0) (word_appear_count0), 本来 (word_weight:2.0) (word_appear_count0), 連日 (word_weight:2.0) (word_appear_count0), 気持ち (word_weight:2.0) (word_appear_count0), 待ち望む (word_weight:1.0) (word_appear_count0), 部分 (word_weight:1.0) (word_appear_count0), 選手生活 (word_weight:1.0) (word_appear_count0), 気づく (word_weight:1.0) (word_appear_count0), 永い (word_weight:1.0) (word_appear_count0), 決断 (word_weight:1.0) (word_appear_count1), リセット (word_weight:1.0) (word_appear_count0), フル (word_weight:1.0) (word_appear_count0), 場所 (word_weight:1.0) (word_appear_count0), 出発 (word_weight:1.0) (word_appear_count0), 鍛える (word_weight:1.0) (word_appear_count0), だし (word_weight:1.0) (word_appear_count0), プロ (word_weight:1.0) (word_appear_count0), エール (word_weight:1.0) (word_appear_count0), 指し手 (word_weight:1.0) (word_appear_count0), 年齢 (word_weight:1.0) (word_appear_count0), じん帯 (word_weight:1.0) (word_appear_count0), 伸びる (word_weight:1.0) (word_appear_count0), しれる (word_weight:1.0) (word_appear_count0), \n",
      "------------------------------------------------------------------\n"
     ]
    }
   ],
   "source": [
    "sentence = \"これまでの自身の歩みでの決断と挑戦に感服します\"\n",
    "\n",
    "expandHlda.get_topic_one_sentence_with_color(sentence=sentence, corpus=comment_dataset.comment_list, n_words=30, node_id=310)"
   ]
  },
  {
   "cell_type": "code",
   "execution_count": null,
   "id": "9c4b76e8-1acf-4131-b8f0-53538942ff51",
   "metadata": {},
   "outputs": [],
   "source": [
    "expandHlda.get_topic_multi_document(comment_list=comment_list, corpus=comment_dataset.comment_list)"
   ]
  }
 ],
 "metadata": {
  "kernelspec": {
   "display_name": "Python 3 (ipykernel)",
   "language": "python",
   "name": "python3"
  },
  "language_info": {
   "codemirror_mode": {
    "name": "ipython",
    "version": 3
   },
   "file_extension": ".py",
   "mimetype": "text/x-python",
   "name": "python",
   "nbconvert_exporter": "python",
   "pygments_lexer": "ipython3",
   "version": "3.10.1"
  }
 },
 "nbformat": 4,
 "nbformat_minor": 5
}
