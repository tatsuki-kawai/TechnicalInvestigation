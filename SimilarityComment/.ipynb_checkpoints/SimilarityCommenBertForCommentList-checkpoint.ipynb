{
 "cells": [
  {
   "cell_type": "code",
   "execution_count": null,
   "id": "ce2dcf9b-1183-42ee-91e5-58fae713aa40",
   "metadata": {},
   "outputs": [],
   "source": [
    "import pandas as pd\n",
    "import numpy as np\n",
    "import time\n",
    "from MyNLP import Divider"
   ]
  },
  {
   "cell_type": "code",
   "execution_count": null,
   "id": "1c446e86-c1cc-4727-9a48-631f359dd02e",
   "metadata": {},
   "outputs": [],
   "source": [
    "# データの読みこみ\n",
    "comment_list = []\n",
    "comment_sentence_list = []\n",
    "df1 = pd.read_csv(\"comment_keitaiso_0~99_2022_09_22.csv\", encoding=\"Shift-jis\")\n",
    "df2 = pd.read_csv(\"comment_keitaiso_100~199_2022_09_22.csv\", encoding=\"Shift-jis\")\n",
    "df3 = pd.read_csv(\"comment_keitaiso_200~299_2022_09_22.csv\", encoding=\"Shift-jis\")\n",
    "df4 = pd.read_csv(\"comment_keitaiso_300~397_2022_09_22.csv\", encoding=\"Shift-jis\")\n",
    "df5 = pd.read_csv(\"comment_keitaiso_398~459_2022_09_22.csv\", encoding=\"Shift-jis\")\n",
    "\n",
    "comment_sentence_list.extend(df1.to_numpy().tolist())\n",
    "comment_sentence_list.extend(df2.to_numpy().tolist())\n",
    "comment_sentence_list.extend(df3.to_numpy().tolist())\n",
    "comment_sentence_list.extend(df4.to_numpy().tolist())\n",
    "comment_sentence_list.extend(df5.to_numpy().tolist())\n",
    "comment_sentence_list = pd.DataFrame(comment_sentence_list)\n",
    "\n",
    "# コメントの列だけを抽出\n",
    "comment_sentence_list = comment_sentence_list.iloc[:, 1]\n",
    "\n",
    "# 欠損値のデータを削除\n",
    "comment_sentence_list = comment_sentence_list.dropna()\n",
    "# dfをリストに変換\n",
    "comment_sentence_list = comment_sentence_list.tolist()"
   ]
  },
  {
   "cell_type": "code",
   "execution_count": null,
   "id": "c57bb596-7a9e-4903-8822-a42123c49918",
   "metadata": {},
   "outputs": [
    {
     "name": "stderr",
     "output_type": "stream",
     "text": [
      "Some weights of the model checkpoint at cl-tohoku/bert-base-japanese-whole-word-masking were not used when initializing BertModel: ['cls.seq_relationship.bias', 'cls.predictions.transform.LayerNorm.weight', 'cls.predictions.decoder.weight', 'cls.predictions.transform.dense.bias', 'cls.predictions.transform.dense.weight', 'cls.seq_relationship.weight', 'cls.predictions.bias', 'cls.predictions.transform.LayerNorm.bias']\n",
      "- This IS expected if you are initializing BertModel from the checkpoint of a model trained on another task or with another architecture (e.g. initializing a BertForSequenceClassification model from a BertForPreTraining model).\n",
      "- This IS NOT expected if you are initializing BertModel from the checkpoint of a model that you expect to be exactly identical (initializing a BertForSequenceClassification model from a BertForSequenceClassification model).\n"
     ]
    },
    {
     "data": {
      "text/plain": [
       "BertModel(\n",
       "  (embeddings): BertEmbeddings(\n",
       "    (word_embeddings): Embedding(32000, 768, padding_idx=0)\n",
       "    (position_embeddings): Embedding(512, 768)\n",
       "    (token_type_embeddings): Embedding(2, 768)\n",
       "    (LayerNorm): LayerNorm((768,), eps=1e-12, elementwise_affine=True)\n",
       "    (dropout): Dropout(p=0.1, inplace=False)\n",
       "  )\n",
       "  (encoder): BertEncoder(\n",
       "    (layer): ModuleList(\n",
       "      (0-11): 12 x BertLayer(\n",
       "        (attention): BertAttention(\n",
       "          (self): BertSelfAttention(\n",
       "            (query): Linear(in_features=768, out_features=768, bias=True)\n",
       "            (key): Linear(in_features=768, out_features=768, bias=True)\n",
       "            (value): Linear(in_features=768, out_features=768, bias=True)\n",
       "            (dropout): Dropout(p=0.1, inplace=False)\n",
       "          )\n",
       "          (output): BertSelfOutput(\n",
       "            (dense): Linear(in_features=768, out_features=768, bias=True)\n",
       "            (LayerNorm): LayerNorm((768,), eps=1e-12, elementwise_affine=True)\n",
       "            (dropout): Dropout(p=0.1, inplace=False)\n",
       "          )\n",
       "        )\n",
       "        (intermediate): BertIntermediate(\n",
       "          (dense): Linear(in_features=768, out_features=3072, bias=True)\n",
       "          (intermediate_act_fn): GELUActivation()\n",
       "        )\n",
       "        (output): BertOutput(\n",
       "          (dense): Linear(in_features=3072, out_features=768, bias=True)\n",
       "          (LayerNorm): LayerNorm((768,), eps=1e-12, elementwise_affine=True)\n",
       "          (dropout): Dropout(p=0.1, inplace=False)\n",
       "        )\n",
       "      )\n",
       "    )\n",
       "  )\n",
       "  (pooler): BertPooler(\n",
       "    (dense): Linear(in_features=768, out_features=768, bias=True)\n",
       "    (activation): Tanh()\n",
       "  )\n",
       ")"
      ]
     },
     "execution_count": 4,
     "metadata": {},
     "output_type": "execute_result"
    }
   ],
   "source": [
    "import torch\n",
    "from transformers import BertModel, BertTokenizer\n",
    "\n",
    "# GPUが利用可能な場合はGPUを、利用できない場合はCPUを使用する\n",
    "device = torch.device(\"cuda\" if torch.cuda.is_available() else \"cpu\")\n",
    "\n",
    "# BERTの事前学習済みモデルを読み込む\n",
    "model = BertModel.from_pretrained('cl-tohoku/bert-base-japanese-whole-word-masking')\n",
    "\n",
    "# モデルをデバイスに転送する\n",
    "model.to(device)"
   ]
  },
  {
   "cell_type": "code",
   "execution_count": 17,
   "id": "49f89154-d7be-492f-8a76-39b9f6d0aebb",
   "metadata": {},
   "outputs": [],
   "source": [
    "# テキストデータをトークナイズする\n",
    "from transformers import BertJapaneseTokenizer\n",
    "\n",
    "# tokenizer = BertTokenizer.from_pretrained('cl-tohoku/bert-base-japanese-whole-word-masking')\n",
    "tokenizer = BertJapaneseTokenizer.from_pretrained('cl-tohoku/bert-base-japanese-whole-word-masking')\n",
    "# comment_sentence_list = [\"代わりに自分は原則としてヨドバシしか利用していない。\"]\n",
    "inputs = tokenizer(comment_sentence_list, return_tensors=\"pt\", padding=True).to(device)"
   ]
  },
  {
   "cell_type": "code",
   "execution_count": null,
   "id": "aa9fd2e7-6564-4209-8541-1e5d56a0b489",
   "metadata": {},
   "outputs": [],
   "source": [
    "# モデルに入力を与えて、テキストデータをエンコードする\n",
    "\n",
    "input_size = 10\n",
    "outputs = []\n",
    "for i in range(0, len(comment_sentence_list), input_size):\n",
    "    input_dict = {'input_ids':inputs['input_ids'][i:i+input_size], 'token_type_ids':inputs['token_type_ids'][i:i+input_size], 'attention_mask':inputs['attention_mask'][i:i+input_size]}\n",
    "    encoded_outputs = model(**input_dict)\n",
    "    outputs.extend(encoded_outputs.pooler_output.to('cpu').detach().numpy().copy())"
   ]
  },
  {
   "cell_type": "code",
   "execution_count": 18,
   "id": "b2db4167-2bbe-4c80-9e9e-de9d0b56e230",
   "metadata": {},
   "outputs": [],
   "source": [
    "# 閾値以上の類似度である文のペアを保存するプログラム\n",
    "\n",
    "from sklearn.metrics.pairwise import cosine_similarity\n",
    "\n",
    "pair_list = []\n",
    "\n",
    "for id1, comment1 in enumerate(outputs.pooler_output):\n",
    "    for id2, comment2 in enumerate(outputs.pooler_output):\n",
    "        # 同じコメント同士でなければ、コサイン類似度を計算する\n",
    "        if not id1 == id2: \n",
    "            similarity = cosine_similarity(comment1.to('cpu').detach().numpy().copy().reshape(1, -1), comment2.to('cpu').detach().numpy().copy().reshape(1, -1))\n",
    "            if not [id2, id1, comment_sentence_list[id2], comment_sentence_list[id1], similarity[0][0]] in pair_list:\n",
    "                pair_list.append([id1, id2, comment_sentence_list[id1], comment_sentence_list[id2], similarity[0][0]])"
   ]
  },
  {
   "cell_type": "code",
   "execution_count": 19,
   "id": "f5fb9519-7364-4b5b-b188-163099fd07a0",
   "metadata": {},
   "outputs": [],
   "source": [
    "# CSVに保存するプログラム\n",
    "import csv\n",
    "with open('Result/2023_04_15/comment_similarity_Bert.csv', 'w', newline='') as csv_file:\n",
    "    fieldnames = ['id1','id2', 'comment1', 'comment2', 'similarity']\n",
    "    writer = csv.DictWriter(csv_file, fieldnames=fieldnames)\n",
    "    writer.writeheader()\n",
    "    for pair in pair_list:\n",
    "        data = {'id1': pair[0],'id2': pair[1], 'comment1': pair[2], 'comment2': pair[3], 'similarity': pair[4]}\n",
    "        try:\n",
    "            writer.writerow(data)\n",
    "        except UnicodeEncodeError:\n",
    "            continue"
   ]
  },
  {
   "cell_type": "code",
   "execution_count": null,
   "id": "c9129251-b222-4028-ae62-b78d1230fba0",
   "metadata": {},
   "outputs": [],
   "source": []
  }
 ],
 "metadata": {
  "kernelspec": {
   "display_name": "Python 3 (ipykernel)",
   "language": "python",
   "name": "python3"
  },
  "language_info": {
   "codemirror_mode": {
    "name": "ipython",
    "version": 3
   },
   "file_extension": ".py",
   "mimetype": "text/x-python",
   "name": "python",
   "nbconvert_exporter": "python",
   "pygments_lexer": "ipython3",
   "version": "3.10.1"
  }
 },
 "nbformat": 4,
 "nbformat_minor": 5
}
