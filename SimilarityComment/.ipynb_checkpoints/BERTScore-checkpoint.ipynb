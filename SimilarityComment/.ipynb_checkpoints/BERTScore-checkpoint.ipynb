{
 "cells": [
  {
   "cell_type": "code",
   "execution_count": 1,
   "id": "18a8de11-af51-4fde-b86b-e9a38c18ed80",
   "metadata": {},
   "outputs": [],
   "source": [
    "import sys\n",
    "sys.path.append('../Data')\n",
    "\n",
    "import pandas as pd\n",
    "import numpy as np\n",
    "import time\n",
    "from CommentDataset import CommentDataset\n",
    "from CommentDataset import CommentDataset\n",
    "\n",
    "df = pd.read_csv(\"../Data/yahoo/2023_03_28/split_comment_2022_09_22_by_sentence2.csv\", encoding=\"cp932\", header=None)\n",
    "comment_list = df[0][1:].to_numpy().tolist()\n",
    "comment_dataset = CommentDataset(comment_list)"
   ]
  },
  {
   "cell_type": "code",
   "execution_count": null,
   "id": "d9da76dd-321a-448a-be15-87cbcc1f4ee3",
   "metadata": {},
   "outputs": [],
   "source": [
    "from bert_score import score\n",
    "\n",
    "def calc_bert_score(cands, refs):\n",
    "    Precision, Recall, F1 = score(cands, refs, lang=\"ja\", verbose=True)\n",
    "    return F1.numpy().tolist() #F1のみ返す\n",
    "\n",
    "if __name__ == \"__main__\":\n",
    "    with open(\"test.txt\", encoding='utf-8', errors='ignore') as f:\n",
    "        list = [line.strip() for line in f]\n",
    "\n",
    "    result = []\n",
    "    for index, item in enumerate(list):\n",
    "        cands = []\n",
    "        for item in list:\n",
    "            cands.append(list[index]) #総当たり用配列\n",
    "\n",
    "        F1 = calc_bert_score(cands, list)\n",
    "        data = []\n",
    "        for i, item in enumerate(F1):\n",
    "            data.append([item, i])\n",
    "        del data[index]\n",
    "        data.sort(reverse=True)\n",
    "        result.append(data)\n",
    "\n",
    "        print(data)\n",
    "\n",
    "    for i, item in enumerate(result):\n",
    "        n = 0\n",
    "        print(list[i])\n",
    "        for score in item:\n",
    "            print(\"   \" + str(score[0]) + \" : \" + list[score[1]])\n"
   ]
  },
  {
   "cell_type": "code",
   "execution_count": null,
   "id": "c9edd04d-eb0b-4a79-9f5b-0fcf22ca153d",
   "metadata": {},
   "outputs": [],
   "source": []
  },
  {
   "cell_type": "code",
   "execution_count": null,
   "id": "9ddf19dc-a261-4688-b0df-d47ee931dfe3",
   "metadata": {},
   "outputs": [],
   "source": []
  }
 ],
 "metadata": {
  "kernelspec": {
   "display_name": "Python 3 (ipykernel)",
   "language": "python",
   "name": "python3"
  },
  "language_info": {
   "codemirror_mode": {
    "name": "ipython",
    "version": 3
   },
   "file_extension": ".py",
   "mimetype": "text/x-python",
   "name": "python",
   "nbconvert_exporter": "python",
   "pygments_lexer": "ipython3",
   "version": "3.10.1"
  }
 },
 "nbformat": 4,
 "nbformat_minor": 5
}
