{
 "cells": [
  {
   "cell_type": "code",
   "execution_count": 1,
   "id": "0cc5b0e6-16e2-4dd1-a0fe-84ca62ef4507",
   "metadata": {},
   "outputs": [],
   "source": [
    "import pandas as pd\n",
    "import numpy as np\n",
    "import time\n",
    "from MyNLP import Divider"
   ]
  },
  {
   "cell_type": "code",
   "execution_count": 2,
   "id": "b524851d-5cc7-411b-ab9c-e717ed4f993e",
   "metadata": {},
   "outputs": [
    {
     "name": "stderr",
     "output_type": "stream",
     "text": [
      "Some weights of the model checkpoint at cl-tohoku/bert-base-japanese-whole-word-masking were not used when initializing BertModel: ['cls.predictions.transform.dense.bias', 'cls.seq_relationship.weight', 'cls.predictions.decoder.weight', 'cls.predictions.bias', 'cls.predictions.transform.LayerNorm.bias', 'cls.predictions.transform.LayerNorm.weight', 'cls.seq_relationship.bias', 'cls.predictions.transform.dense.weight']\n",
      "- This IS expected if you are initializing BertModel from the checkpoint of a model trained on another task or with another architecture (e.g. initializing a BertForSequenceClassification model from a BertForPreTraining model).\n",
      "- This IS NOT expected if you are initializing BertModel from the checkpoint of a model that you expect to be exactly identical (initializing a BertForSequenceClassification model from a BertForSequenceClassification model).\n"
     ]
    },
    {
     "data": {
      "text/plain": [
       "BertModel(\n",
       "  (embeddings): BertEmbeddings(\n",
       "    (word_embeddings): Embedding(32000, 768, padding_idx=0)\n",
       "    (position_embeddings): Embedding(512, 768)\n",
       "    (token_type_embeddings): Embedding(2, 768)\n",
       "    (LayerNorm): LayerNorm((768,), eps=1e-12, elementwise_affine=True)\n",
       "    (dropout): Dropout(p=0.1, inplace=False)\n",
       "  )\n",
       "  (encoder): BertEncoder(\n",
       "    (layer): ModuleList(\n",
       "      (0-11): 12 x BertLayer(\n",
       "        (attention): BertAttention(\n",
       "          (self): BertSelfAttention(\n",
       "            (query): Linear(in_features=768, out_features=768, bias=True)\n",
       "            (key): Linear(in_features=768, out_features=768, bias=True)\n",
       "            (value): Linear(in_features=768, out_features=768, bias=True)\n",
       "            (dropout): Dropout(p=0.1, inplace=False)\n",
       "          )\n",
       "          (output): BertSelfOutput(\n",
       "            (dense): Linear(in_features=768, out_features=768, bias=True)\n",
       "            (LayerNorm): LayerNorm((768,), eps=1e-12, elementwise_affine=True)\n",
       "            (dropout): Dropout(p=0.1, inplace=False)\n",
       "          )\n",
       "        )\n",
       "        (intermediate): BertIntermediate(\n",
       "          (dense): Linear(in_features=768, out_features=3072, bias=True)\n",
       "          (intermediate_act_fn): GELUActivation()\n",
       "        )\n",
       "        (output): BertOutput(\n",
       "          (dense): Linear(in_features=3072, out_features=768, bias=True)\n",
       "          (LayerNorm): LayerNorm((768,), eps=1e-12, elementwise_affine=True)\n",
       "          (dropout): Dropout(p=0.1, inplace=False)\n",
       "        )\n",
       "      )\n",
       "    )\n",
       "  )\n",
       "  (pooler): BertPooler(\n",
       "    (dense): Linear(in_features=768, out_features=768, bias=True)\n",
       "    (activation): Tanh()\n",
       "  )\n",
       ")"
      ]
     },
     "execution_count": 2,
     "metadata": {},
     "output_type": "execute_result"
    }
   ],
   "source": [
    "import torch\n",
    "from transformers import BertModel, BertTokenizer\n",
    "\n",
    "# GPUが利用可能な場合はGPUを、利用できない場合はCPUを使用する\n",
    "device = torch.device(\"cuda\" if torch.cuda.is_available() else \"cpu\")\n",
    "\n",
    "# BERTの事前学習済みモデルを読み込む\n",
    "model = BertModel.from_pretrained('cl-tohoku/bert-base-japanese-whole-word-masking')\n",
    "\n",
    "# モデルをデバイスに転送する\n",
    "model.to(device)"
   ]
  },
  {
   "cell_type": "code",
   "execution_count": 8,
   "id": "0ae82c9b-4a20-4dd3-94f6-a20121d64344",
   "metadata": {},
   "outputs": [],
   "source": [
    "# テキストデータをトークナイズする\n",
    "from transformers import BertJapaneseTokenizer\n",
    "\n",
    "# tokenizer = BertTokenizer.from_pretrained('cl-tohoku/bert-base-japanese-whole-word-masking')\n",
    "tokenizer = BertJapaneseTokenizer.from_pretrained('cl-tohoku/bert-base-japanese-whole-word-masking')\n",
    "comment_sentence_list = [\"代わりに自分は原則としてヨドバシしか利用していない。\", \"日本人\"]\n",
    "inputs = tokenizer(comment_sentence_list, return_tensors=\"pt\", padding=True).to(device)"
   ]
  },
  {
   "cell_type": "code",
   "execution_count": 9,
   "id": "bd66f840-f06c-45c1-b7ab-b556b890436d",
   "metadata": {},
   "outputs": [],
   "source": [
    "# モデルに入力を与えて、テキストデータをエンコードする\n",
    "\n",
    "input_size = 10\n",
    "outputs = []\n",
    "for i in range(0, len(comment_sentence_list), input_size):\n",
    "    input_dict = {'input_ids':inputs['input_ids'][i:i+input_size], 'token_type_ids':inputs['token_type_ids'][i:i+input_size], 'attention_mask':inputs['attention_mask'][i:i+input_size]}\n",
    "    encoded_outputs = model(**input_dict)\n",
    "    outputs.extend(encoded_outputs.last_hidden_state.to('cpu').detach().numpy().copy())"
   ]
  },
  {
   "cell_type": "code",
   "execution_count": 26,
   "id": "17d0ec23-a9c9-49be-b563-018478a22010",
   "metadata": {},
   "outputs": [],
   "source": [
    "# 単語の分散表現を表す箇所のインデックスを取得する（単語＝１，特殊トークン＝０のフラグで表す）\n",
    "index_list = []\n",
    "for input_ids in inputs.input_ids:\n",
    "    index = []\n",
    "    for i in input_ids:\n",
    "        if i.to('cpu').numpy() not in [0, 2, 3]:\n",
    "            index.append(1)\n",
    "        else:\n",
    "            index.append(0)\n",
    "    index_list.append(index)\n",
    "\n",
    "# Bertの出力から単語の分散表現のみを取得する\n",
    "word_only_inputs = []\n",
    "for i, output_by_sentence in enumerate(outputs):\n",
    "    word_vectors = []\n",
    "    for j, word_vector in enumerate(output_by_sentence):\n",
    "        if index_list[i][j] == 1:\n",
    "            word_vectors.append(word_vector)\n",
    "    word_only_inputs.append(word_vectors)"
   ]
  },
  {
   "cell_type": "code",
   "execution_count": 29,
   "id": "a4e2bcd5-5b4b-4487-8010-7214dd0a659f",
   "metadata": {},
   "outputs": [
    {
     "data": {
      "text/plain": [
       "(2, 768)"
      ]
     },
     "execution_count": 29,
     "metadata": {},
     "output_type": "execute_result"
    }
   ],
   "source": [
    "# 単語分散表現のリストを文章の分散表現で表す（単語ベクトルの平均を求める）\n",
    "sentence_vectors = []\n",
    "\n",
    "for word_vectors in word_only_inputs:\n",
    "    sentence_vector = np.mean(word_vectors, axis=0)\n",
    "    sentence_vectors.append(sentence_vector)"
   ]
  },
  {
   "cell_type": "code",
   "execution_count": null,
   "id": "a6f51fca-e83a-417c-8036-7de3efcf6847",
   "metadata": {},
   "outputs": [],
   "source": [
    "# コメントの類似度を総当たりで計算するプログラム\n",
    "\n",
    "from sklearn.metrics.pairwise import cosine_similarity\n",
    "\n",
    "pair_list = []\n",
    "\n",
    "for id1, comment1 in enumerate(sentence_vectors):\n",
    "    for id2, comment2 in enumerate(sentence_vectors):\n",
    "        # 同じコメント同士でなければ、コサイン類似度を計算する\n",
    "        if not id1 == id2: \n",
    "            similarity = cosine_similarity(comment1.reshape(1, -1), comment2.reshape(1, -1))\n",
    "            if not [id2, id1, comment_sentence_list[id2], comment_sentence_list[id1], similarity[0][0]] in pair_list:\n",
    "                pair_list.append([id1, id2, comment_sentence_list[id1], comment_sentence_list[id2], similarity[0][0]])\n",
    "    print(id1)"
   ]
  }
 ],
 "metadata": {
  "kernelspec": {
   "display_name": "Python 3 (ipykernel)",
   "language": "python",
   "name": "python3"
  },
  "language_info": {
   "codemirror_mode": {
    "name": "ipython",
    "version": 3
   },
   "file_extension": ".py",
   "mimetype": "text/x-python",
   "name": "python",
   "nbconvert_exporter": "python",
   "pygments_lexer": "ipython3",
   "version": "3.10.1"
  }
 },
 "nbformat": 4,
 "nbformat_minor": 5
}
