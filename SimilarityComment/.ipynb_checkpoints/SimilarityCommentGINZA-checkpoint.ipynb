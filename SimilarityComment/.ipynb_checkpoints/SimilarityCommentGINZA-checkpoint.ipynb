{
 "cells": [
  {
   "cell_type": "code",
   "execution_count": 2,
   "id": "615d1366-036e-4e52-be2f-cc604b5f31dd",
   "metadata": {},
   "outputs": [],
   "source": [
    "import spacy\n",
    "\n",
    "# Languageクラス 変数名をnlpで宣言するのが一般的（spaCy推奨）\n",
    "nlp: spacy.Language = spacy.load('ja_ginza')"
   ]
  },
  {
   "cell_type": "code",
   "execution_count": 4,
   "id": "b3c817d4-fdd6-4315-8c67-e470ecc8234c",
   "metadata": {},
   "outputs": [
    {
     "name": "stdout",
     "output_type": "stream",
     "text": [
      "doc1 代わりに自分は原則としてヨドバシしか利用していない。\n",
      "doc2 普段からヨドバシを利用する。\n",
      "cos類似度: 0.8961378607630199\n",
      "doc 代わりに自分は原則としてヨドバシしか利用していない。\n",
      "doc3 僕は数年前からAmazonしか利用していない。\n",
      "cos類似度: 0.940372534022193\n",
      "doc1 代わりに自分は原則としてヨドバシしか利用していない。\n",
      "doc4 文章の類似度計算してみた。\n",
      "cos類似度: 0.8242970877466835\n",
      "doc1 代わりに自分は原則としてヨドバシしか利用していない。\n",
      "doc5 v最協決定戦楽しみ。\n",
      "cos類似度: 0.5649015010349366\n",
      "doc1 代わりに自分は原則としてヨドバシしか利用していない。\n",
      "doc1 代わりに自分は原則としてヨドバシしか利用していない。\n",
      "cos類似度: 1.0\n"
     ]
    }
   ],
   "source": [
    "# text を Doc クラスに変換する\n",
    "doc = nlp('代わりに自分は原則としてヨドバシしか利用していない。')\n",
    "doc2 = nlp('普段からヨドバシを利用する。')\n",
    "doc3 = nlp('僕は数年前からAmazonしか利用していない。')\n",
    "doc4 = nlp('文章の類似度計算してみた。')\n",
    "doc5 = nlp('v最協決定戦楽しみ。')\n",
    "\n",
    "print('doc1',doc.text)\n",
    "print('doc2',doc2.text)\n",
    "\n",
    "# 2つの文の類似度を求める\n",
    "print('cos類似度:', doc.similarity(doc2))\n",
    "\n",
    "print('doc',doc.text)\n",
    "print('doc3',doc3.text)\n",
    "\n",
    "# 2つの文の類似度を求める\n",
    "print('cos類似度:', doc.similarity(doc3))\n",
    "\n",
    "print('doc1',doc.text)\n",
    "print('doc4',doc4.text)\n",
    "\n",
    "# 2つの文の類似度を求める\n",
    "print('cos類似度:', doc.similarity(doc4))\n",
    "\n",
    "print('doc1',doc.text)\n",
    "print('doc5',doc5.text)\n",
    "\n",
    "# 2つの文の類似度を求める\n",
    "print('cos類似度:', doc.similarity(doc5))\n",
    "\n",
    "print('doc1',doc.text)\n",
    "print('doc1',doc.text)\n",
    "\n",
    "# 2つの文の類似度を求める\n",
    "print('cos類似度:', doc.similarity(doc))"
   ]
  },
  {
   "cell_type": "code",
   "execution_count": 5,
   "id": "ee5ee37f-0979-40a4-8cc6-086f72b50d4e",
   "metadata": {},
   "outputs": [
    {
     "name": "stdout",
     "output_type": "stream",
     "text": [
      "doc1 夜の街にオープンしているワイナリーの入り口\n",
      "doc2 レンジの壁の建物に黄緑色の看板がある\n",
      "cos類似度: 0.8105937406737416\n"
     ]
    }
   ],
   "source": [
    "# text を Doc クラスに変換する\n",
    "doc = nlp('夜の街にオープンしているワイナリーの入り口')\n",
    "doc2 = nlp('レンジの壁の建物に黄緑色の看板がある')\n",
    "doc3 = nlp('夜で、まだオープンしている場所の入り口')\n",
    "\n",
    "print('doc1',doc.text)\n",
    "print('doc2',doc2.text)\n",
    "\n",
    "# 2つの文の類似度を求める\n",
    "print('cos類似度:', doc.similarity(doc2))"
   ]
  },
  {
   "cell_type": "code",
   "execution_count": null,
   "id": "c4c6700f-539b-41c7-bf4b-a2f0770d1e6f",
   "metadata": {},
   "outputs": [],
   "source": []
  }
 ],
 "metadata": {
  "kernelspec": {
   "display_name": "Python 3 (ipykernel)",
   "language": "python",
   "name": "python3"
  },
  "language_info": {
   "codemirror_mode": {
    "name": "ipython",
    "version": 3
   },
   "file_extension": ".py",
   "mimetype": "text/x-python",
   "name": "python",
   "nbconvert_exporter": "python",
   "pygments_lexer": "ipython3",
   "version": "3.10.1"
  }
 },
 "nbformat": 4,
 "nbformat_minor": 5
}
