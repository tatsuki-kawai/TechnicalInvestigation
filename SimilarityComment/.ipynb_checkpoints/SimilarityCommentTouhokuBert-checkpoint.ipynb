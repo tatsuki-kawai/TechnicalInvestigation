{
 "cells": [
  {
   "cell_type": "code",
   "execution_count": 14,
   "id": "247eaf04-59e6-4352-beb2-d3fc13667c41",
   "metadata": {},
   "outputs": [],
   "source": [
    "import torch\n",
    "from transformers import BertModel, BertTokenizer\n",
    "import numpy as np"
   ]
  },
  {
   "cell_type": "code",
   "execution_count": 15,
   "id": "db42ddbe-faab-42f9-be75-212e624918fb",
   "metadata": {},
   "outputs": [
    {
     "name": "stderr",
     "output_type": "stream",
     "text": [
      "Some weights of the model checkpoint at cl-tohoku/bert-base-japanese-whole-word-masking were not used when initializing BertModel: ['cls.predictions.decoder.weight', 'cls.predictions.bias', 'cls.seq_relationship.weight', 'cls.seq_relationship.bias', 'cls.predictions.transform.LayerNorm.weight', 'cls.predictions.transform.dense.bias', 'cls.predictions.transform.dense.weight', 'cls.predictions.transform.LayerNorm.bias']\n",
      "- This IS expected if you are initializing BertModel from the checkpoint of a model trained on another task or with another architecture (e.g. initializing a BertForSequenceClassification model from a BertForPreTraining model).\n",
      "- This IS NOT expected if you are initializing BertModel from the checkpoint of a model that you expect to be exactly identical (initializing a BertForSequenceClassification model from a BertForSequenceClassification model).\n"
     ]
    },
    {
     "data": {
      "text/plain": [
       "BertModel(\n",
       "  (embeddings): BertEmbeddings(\n",
       "    (word_embeddings): Embedding(32000, 768, padding_idx=0)\n",
       "    (position_embeddings): Embedding(512, 768)\n",
       "    (token_type_embeddings): Embedding(2, 768)\n",
       "    (LayerNorm): LayerNorm((768,), eps=1e-12, elementwise_affine=True)\n",
       "    (dropout): Dropout(p=0.1, inplace=False)\n",
       "  )\n",
       "  (encoder): BertEncoder(\n",
       "    (layer): ModuleList(\n",
       "      (0-11): 12 x BertLayer(\n",
       "        (attention): BertAttention(\n",
       "          (self): BertSelfAttention(\n",
       "            (query): Linear(in_features=768, out_features=768, bias=True)\n",
       "            (key): Linear(in_features=768, out_features=768, bias=True)\n",
       "            (value): Linear(in_features=768, out_features=768, bias=True)\n",
       "            (dropout): Dropout(p=0.1, inplace=False)\n",
       "          )\n",
       "          (output): BertSelfOutput(\n",
       "            (dense): Linear(in_features=768, out_features=768, bias=True)\n",
       "            (LayerNorm): LayerNorm((768,), eps=1e-12, elementwise_affine=True)\n",
       "            (dropout): Dropout(p=0.1, inplace=False)\n",
       "          )\n",
       "        )\n",
       "        (intermediate): BertIntermediate(\n",
       "          (dense): Linear(in_features=768, out_features=3072, bias=True)\n",
       "          (intermediate_act_fn): GELUActivation()\n",
       "        )\n",
       "        (output): BertOutput(\n",
       "          (dense): Linear(in_features=3072, out_features=768, bias=True)\n",
       "          (LayerNorm): LayerNorm((768,), eps=1e-12, elementwise_affine=True)\n",
       "          (dropout): Dropout(p=0.1, inplace=False)\n",
       "        )\n",
       "      )\n",
       "    )\n",
       "  )\n",
       "  (pooler): BertPooler(\n",
       "    (dense): Linear(in_features=768, out_features=768, bias=True)\n",
       "    (activation): Tanh()\n",
       "  )\n",
       ")"
      ]
     },
     "execution_count": 15,
     "metadata": {},
     "output_type": "execute_result"
    }
   ],
   "source": [
    "# GPUが利用可能な場合はGPUを、利用できない場合はCPUを使用する\n",
    "device = torch.device(\"cuda\" if torch.cuda.is_available() else \"cpu\")\n",
    "\n",
    "# BERTの事前学習済みモデルを読み込む\n",
    "model = BertModel.from_pretrained('cl-tohoku/bert-base-japanese-whole-word-masking')\n",
    "\n",
    "# モデルをデバイスに転送する\n",
    "model.to(device)\n",
    "\n",
    "# 以下でモデルを使用するコードを記述する"
   ]
  },
  {
   "cell_type": "code",
   "execution_count": 16,
   "id": "eb266569-05a4-47bb-8a92-3a1d681b779f",
   "metadata": {},
   "outputs": [
    {
     "data": {
      "text/plain": [
       "{'input_ids': tensor([[    2,  2713,     7,  1040,     9,  3747,    50,   801, 28493, 28531,\n",
       "         28494,   278,   666,    15,    16,    21,    80,     8,     3],\n",
       "        [    2,  9406,    40,   801, 28493, 28531, 28494,    11,   666,    34,\n",
       "             8,     3,     0,     0,     0,     0,     0,     0,     0],\n",
       "        [    2,  6259,     9,   276,    19,   174,    40, 17609,   278,   666,\n",
       "            15,    16,    21,    80,     3,     0,     0,     0,     0],\n",
       "        [    2,  7204,     5,  4629,   559,  3181,    15,    16,   546,    10,\n",
       "             8,     3,     0,     0,     0,     0,     0,     0,     0]],\n",
       "       device='cuda:0'), 'token_type_ids': tensor([[0, 0, 0, 0, 0, 0, 0, 0, 0, 0, 0, 0, 0, 0, 0, 0, 0, 0, 0],\n",
       "        [0, 0, 0, 0, 0, 0, 0, 0, 0, 0, 0, 0, 0, 0, 0, 0, 0, 0, 0],\n",
       "        [0, 0, 0, 0, 0, 0, 0, 0, 0, 0, 0, 0, 0, 0, 0, 0, 0, 0, 0],\n",
       "        [0, 0, 0, 0, 0, 0, 0, 0, 0, 0, 0, 0, 0, 0, 0, 0, 0, 0, 0]],\n",
       "       device='cuda:0'), 'attention_mask': tensor([[1, 1, 1, 1, 1, 1, 1, 1, 1, 1, 1, 1, 1, 1, 1, 1, 1, 1, 1],\n",
       "        [1, 1, 1, 1, 1, 1, 1, 1, 1, 1, 1, 1, 0, 0, 0, 0, 0, 0, 0],\n",
       "        [1, 1, 1, 1, 1, 1, 1, 1, 1, 1, 1, 1, 1, 1, 1, 0, 0, 0, 0],\n",
       "        [1, 1, 1, 1, 1, 1, 1, 1, 1, 1, 1, 1, 0, 0, 0, 0, 0, 0, 0]],\n",
       "       device='cuda:0')}"
      ]
     },
     "execution_count": 16,
     "metadata": {},
     "output_type": "execute_result"
    }
   ],
   "source": [
    "from transformers import BertJapaneseTokenizer\n",
    "\n",
    "# テキストデータをトークナイズする\n",
    "# tokenizer = BertTokenizer.from_pretrained('cl-tohoku/bert-base-japanese-whole-word-masking')\n",
    "tokenizer = BertJapaneseTokenizer.from_pretrained('cl-tohoku/bert-base-japanese-whole-word-masking')\n",
    "text_list = [\"代わりに自分は原則としてヨドバシしか利用していない。\", \"普段からヨドバシを利用する。\", \"僕は数年前からAmazonしか利用していない\", \"文章の類似度計算してみた。\"]\n",
    "inputs = tokenizer(text_list, return_tensors=\"pt\", padding=True).to(device)\n",
    "inputs"
   ]
  },
  {
   "cell_type": "code",
   "execution_count": 17,
   "id": "fa8ae7c5-8908-41ef-bdb0-c94f1c3ce55e",
   "metadata": {},
   "outputs": [
    {
     "data": {
      "text/plain": [
       "'[CLS] 代わり に 自分 は 原則 として ヨドバシ しか 利用 し て い ない 。 [SEP]'"
      ]
     },
     "execution_count": 17,
     "metadata": {},
     "output_type": "execute_result"
    }
   ],
   "source": [
    "tokenizer.decode(inputs['input_ids'][0])"
   ]
  },
  {
   "cell_type": "code",
   "execution_count": 18,
   "id": "92839125-50a6-4610-b27f-e6924d8fe9e5",
   "metadata": {},
   "outputs": [
    {
     "name": "stdout",
     "output_type": "stream",
     "text": [
      "odict_keys(['last_hidden_state', 'pooler_output'])\n",
      "torch.Size([4, 768])\n",
      "torch.Size([4, 19, 768])\n"
     ]
    }
   ],
   "source": [
    "# モデルに入力を与えて、テキストデータをエンコードする\n",
    "outputs = model(**inputs)\n",
    "    \n",
    "print(outputs.keys())\n",
    "print(outputs.pooler_output.shape)\n",
    "print(outputs.last_hidden_state.shape)"
   ]
  },
  {
   "cell_type": "code",
   "execution_count": 20,
   "id": "986aeaf5-b05b-4ced-add7-ce365e86c85d",
   "metadata": {},
   "outputs": [
    {
     "name": "stdout",
     "output_type": "stream",
     "text": [
      "[[0.82439315]]\n",
      "[[0.86359704]]\n",
      "[[0.62414646]]\n"
     ]
    }
   ],
   "source": [
    "from sklearn.metrics.pairwise import cosine_similarity\n",
    "import numpy as np\n",
    "\n",
    "# 文章の分散表現\n",
    "a = outputs.pooler_output[0].to('cpu').detach().numpy().copy()\n",
    "b = outputs.pooler_output[1].to('cpu').detach().numpy().copy()\n",
    "similarity = cosine_similarity(a.reshape(1, -1), b.reshape(1, -1))\n",
    "print(similarity)\n",
    "\n",
    "a = outputs.pooler_output[0].to('cpu').detach().numpy().copy()\n",
    "b = outputs.pooler_output[2].to('cpu').detach().numpy().copy()\n",
    "similarity = cosine_similarity(a.reshape(1, -1), b.reshape(1, -1))\n",
    "print(similarity)\n",
    "\n",
    "a = outputs.pooler_output[0].to('cpu').detach().numpy().copy()\n",
    "b = outputs.pooler_output[3].to('cpu').detach().numpy().copy()\n",
    "similarity = cosine_similarity(a.reshape(1, -1), b.reshape(1, -1))\n",
    "print(similarity[0][0])\n",
    "\n",
    "\n",
    "# 単語の分散表現\n",
    "# a = outputs.last_hidden_state[0].to('cpu').detach().numpy().copy()\n",
    "# b = outputs.last_hidden_state[1].to('cpu').detach().numpy().copy()\n",
    "\n",
    "# similarity = cosine_similarity(a.reshape(1, -1), b.reshape(1, -1))\n",
    "# print(similarity)"
   ]
  },
  {
   "cell_type": "code",
   "execution_count": null,
   "id": "5252aa01-0051-4097-acdd-c851e2b89b98",
   "metadata": {},
   "outputs": [],
   "source": []
  }
 ],
 "metadata": {
  "kernelspec": {
   "display_name": "Python 3 (ipykernel)",
   "language": "python",
   "name": "python3"
  },
  "language_info": {
   "codemirror_mode": {
    "name": "ipython",
    "version": 3
   },
   "file_extension": ".py",
   "mimetype": "text/x-python",
   "name": "python",
   "nbconvert_exporter": "python",
   "pygments_lexer": "ipython3",
   "version": "3.10.1"
  }
 },
 "nbformat": 4,
 "nbformat_minor": 5
}
