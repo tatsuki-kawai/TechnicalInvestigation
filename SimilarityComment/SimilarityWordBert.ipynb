{
 "cells": [
  {
   "cell_type": "code",
   "execution_count": 1,
   "id": "8f2751bf-e70a-482f-9bc7-69ab64795730",
   "metadata": {},
   "outputs": [],
   "source": [
    "import pandas as pd\n",
    "import numpy as np\n",
    "import time\n",
    "from MyNLP import Divider"
   ]
  },
  {
   "cell_type": "code",
   "execution_count": 2,
   "id": "be9a06b5-f5d3-4fde-b46d-6975cdf34c84",
   "metadata": {},
   "outputs": [
    {
     "name": "stderr",
     "output_type": "stream",
     "text": [
      "Some weights of the model checkpoint at cl-tohoku/bert-base-japanese-whole-word-masking were not used when initializing BertModel: ['cls.predictions.transform.dense.weight', 'cls.predictions.transform.LayerNorm.bias', 'cls.predictions.transform.dense.bias', 'cls.predictions.bias', 'cls.predictions.decoder.weight', 'cls.predictions.transform.LayerNorm.weight', 'cls.seq_relationship.weight', 'cls.seq_relationship.bias']\n",
      "- This IS expected if you are initializing BertModel from the checkpoint of a model trained on another task or with another architecture (e.g. initializing a BertForSequenceClassification model from a BertForPreTraining model).\n",
      "- This IS NOT expected if you are initializing BertModel from the checkpoint of a model that you expect to be exactly identical (initializing a BertForSequenceClassification model from a BertForSequenceClassification model).\n"
     ]
    },
    {
     "data": {
      "text/plain": [
       "BertModel(\n",
       "  (embeddings): BertEmbeddings(\n",
       "    (word_embeddings): Embedding(32000, 768, padding_idx=0)\n",
       "    (position_embeddings): Embedding(512, 768)\n",
       "    (token_type_embeddings): Embedding(2, 768)\n",
       "    (LayerNorm): LayerNorm((768,), eps=1e-12, elementwise_affine=True)\n",
       "    (dropout): Dropout(p=0.1, inplace=False)\n",
       "  )\n",
       "  (encoder): BertEncoder(\n",
       "    (layer): ModuleList(\n",
       "      (0-11): 12 x BertLayer(\n",
       "        (attention): BertAttention(\n",
       "          (self): BertSelfAttention(\n",
       "            (query): Linear(in_features=768, out_features=768, bias=True)\n",
       "            (key): Linear(in_features=768, out_features=768, bias=True)\n",
       "            (value): Linear(in_features=768, out_features=768, bias=True)\n",
       "            (dropout): Dropout(p=0.1, inplace=False)\n",
       "          )\n",
       "          (output): BertSelfOutput(\n",
       "            (dense): Linear(in_features=768, out_features=768, bias=True)\n",
       "            (LayerNorm): LayerNorm((768,), eps=1e-12, elementwise_affine=True)\n",
       "            (dropout): Dropout(p=0.1, inplace=False)\n",
       "          )\n",
       "        )\n",
       "        (intermediate): BertIntermediate(\n",
       "          (dense): Linear(in_features=768, out_features=3072, bias=True)\n",
       "          (intermediate_act_fn): GELUActivation()\n",
       "        )\n",
       "        (output): BertOutput(\n",
       "          (dense): Linear(in_features=3072, out_features=768, bias=True)\n",
       "          (LayerNorm): LayerNorm((768,), eps=1e-12, elementwise_affine=True)\n",
       "          (dropout): Dropout(p=0.1, inplace=False)\n",
       "        )\n",
       "      )\n",
       "    )\n",
       "  )\n",
       "  (pooler): BertPooler(\n",
       "    (dense): Linear(in_features=768, out_features=768, bias=True)\n",
       "    (activation): Tanh()\n",
       "  )\n",
       ")"
      ]
     },
     "execution_count": 36,
     "metadata": {},
     "output_type": "execute_result"
    }
   ],
   "source": [
    "import torch\n",
    "from transformers import BertModel, BertTokenizer\n",
    "\n",
    "# GPUが利用可能な場合はGPUを、利用できない場合はCPUを使用する\n",
    "device = torch.device(\"cuda\" if torch.cuda.is_available() else \"cpu\")\n",
    "\n",
    "# BERTの事前学習済みモデルを読み込む\n",
    "model = BertModel.from_pretrained('cl-tohoku/bert-base-japanese-whole-word-masking')\n",
    "\n",
    "# モデルをデバイスに転送する\n",
    "model.to(device)"
   ]
  },
  {
   "cell_type": "code",
   "execution_count": 97,
   "id": "1761595d-d17f-4668-861a-efcf14f2b062",
   "metadata": {},
   "outputs": [],
   "source": [
    "# テキストデータをトークナイズする\n",
    "from transformers import BertJapaneseTokenizer\n",
    "\n",
    "# tokenizer = BertTokenizer.from_pretrained('cl-tohoku/bert-base-japanese-whole-word-masking')\n",
    "tokenizer = BertJapaneseTokenizer.from_pretrained('cl-tohoku/bert-base-japanese-whole-word-masking')\n",
    "comment_sentence_list = [\"鞍替えしています\", '利用していない', 'したが為に']\n",
    "inputs = tokenizer(comment_sentence_list, return_tensors=\"pt\", padding=True).to(device)"
   ]
  },
  {
   "cell_type": "code",
   "execution_count": 98,
   "id": "c0604e62-fb45-4ba3-9e62-3546ad5b527e",
   "metadata": {},
   "outputs": [
    {
     "data": {
      "text/plain": [
       "tensor(666, device='cuda:0')"
      ]
     },
     "execution_count": 98,
     "metadata": {},
     "output_type": "execute_result"
    }
   ],
   "source": [
    "inputs['input_ids'][1][1]"
   ]
  },
  {
   "cell_type": "code",
   "execution_count": 99,
   "id": "d5bcf47b-e19e-4443-8e75-15350dcbcea7",
   "metadata": {},
   "outputs": [
    {
     "data": {
      "text/plain": [
       "tensor([[   2, 9247, 2331,   15,   16,   21, 2610,    3],\n",
       "        [   2,  666,   15,   16,   21,   80,    3,    0],\n",
       "        [   2,   15,   10,   14, 1863,    7,    3,    0]], device='cuda:0')"
      ]
     },
     "execution_count": 99,
     "metadata": {},
     "output_type": "execute_result"
    }
   ],
   "source": [
    "inputs.input_ids"
   ]
  },
  {
   "cell_type": "code",
   "execution_count": 100,
   "id": "6038f6a5-cd1b-49b6-b212-1649d9ada5ab",
   "metadata": {},
   "outputs": [
    {
     "name": "stdout",
     "output_type": "stream",
     "text": [
      "[CLS] 鞍替え し て い ます [SEP]\n",
      "[CLS] 利用 し て い ない [SEP] [PAD]\n",
      "[CLS] し た が 為 に [SEP] [PAD]\n"
     ]
    }
   ],
   "source": [
    "for i in range(len(comment_sentence_list)):\n",
    "    print(tokenizer.decode(inputs['input_ids'][i]))"
   ]
  },
  {
   "cell_type": "code",
   "execution_count": 101,
   "id": "bce33263-1a48-4986-aa15-1a7980aa7150",
   "metadata": {},
   "outputs": [
    {
     "name": "stdout",
     "output_type": "stream",
     "text": [
      "odict_keys(['last_hidden_state', 'pooler_output'])\n",
      "torch.Size([3, 8, 768])\n"
     ]
    }
   ],
   "source": [
    "# モデルに入力を与えて、テキストデータをエンコードする\n",
    "outputs = model(**inputs)\n",
    "    \n",
    "print(outputs.keys())\n",
    "print(outputs.last_hidden_state.shape)"
   ]
  },
  {
   "cell_type": "code",
   "execution_count": 102,
   "id": "1d015389-8bbf-48ed-853c-290210d787e2",
   "metadata": {},
   "outputs": [
    {
     "name": "stdout",
     "output_type": "stream",
     "text": [
      "[[0.846479]]\n",
      "[[0.78406954]]\n"
     ]
    },
    {
     "data": {
      "text/plain": [
       "\"\\na = outputs.pooler_output[0].to('cpu').detach().numpy().copy()\\nb = outputs.pooler_output[3].to('cpu').detach().numpy().copy()\\nsimilarity = cosine_similarity(a.reshape(1, -1), b.reshape(1, -1))\\nprint(similarity)\\n\\na = outputs.pooler_output[0].to('cpu').detach().numpy().copy()\\nb = outputs.pooler_output[4].to('cpu').detach().numpy().copy()\\nsimilarity = cosine_similarity(a.reshape(1, -1), b.reshape(1, -1))\\nprint(similarity)\\n\""
      ]
     },
     "execution_count": 102,
     "metadata": {},
     "output_type": "execute_result"
    }
   ],
   "source": [
    "from sklearn.metrics.pairwise import cosine_similarity\n",
    "import numpy as np\n",
    "\n",
    "# 文章の分散表現\n",
    "#a = outputs.last_hidden_state[0][1].to('cpu').detach().numpy().copy()\n",
    "#b = outputs.last_hidden_state[1][1].to('cpu').detach().numpy().copy()\n",
    "#similarity = cosine_similarity(a.reshape(1, -1), b.reshape(1, -1))\n",
    "#print(similarity)\n",
    "\n",
    "a = outputs.pooler_output[0].to('cpu').detach().numpy().copy()\n",
    "b = outputs.pooler_output[1].to('cpu').detach().numpy().copy()\n",
    "similarity = cosine_similarity(a.reshape(1, -1), b.reshape(1, -1))\n",
    "print(similarity)\n",
    "\n",
    "a = outputs.pooler_output[0].to('cpu').detach().numpy().copy()\n",
    "b = outputs.pooler_output[2].to('cpu').detach().numpy().copy()\n",
    "similarity = cosine_similarity(a.reshape(1, -1), b.reshape(1, -1))\n",
    "print(similarity)\n",
    "\n",
    "'''\n",
    "a = outputs.pooler_output[0].to('cpu').detach().numpy().copy()\n",
    "b = outputs.pooler_output[3].to('cpu').detach().numpy().copy()\n",
    "similarity = cosine_similarity(a.reshape(1, -1), b.reshape(1, -1))\n",
    "print(similarity)\n",
    "\n",
    "a = outputs.pooler_output[0].to('cpu').detach().numpy().copy()\n",
    "b = outputs.pooler_output[4].to('cpu').detach().numpy().copy()\n",
    "similarity = cosine_similarity(a.reshape(1, -1), b.reshape(1, -1))\n",
    "print(similarity)\n",
    "'''"
   ]
  },
  {
   "cell_type": "code",
   "execution_count": null,
   "id": "0bf6687e-71c2-46cc-9e30-4b335ac7404b",
   "metadata": {},
   "outputs": [],
   "source": []
  }
 ],
 "metadata": {
  "kernelspec": {
   "display_name": "Python 3 (ipykernel)",
   "language": "python",
   "name": "python3"
  },
  "language_info": {
   "codemirror_mode": {
    "name": "ipython",
    "version": 3
   },
   "file_extension": ".py",
   "mimetype": "text/x-python",
   "name": "python",
   "nbconvert_exporter": "python",
   "pygments_lexer": "ipython3",
   "version": "3.10.1"
  }
 },
 "nbformat": 4,
 "nbformat_minor": 5
}
