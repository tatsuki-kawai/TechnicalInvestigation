{
 "cells": [
  {
   "cell_type": "code",
   "execution_count": 2,
   "id": "118ed38f-b1fc-4239-82b8-99e21d33334e",
   "metadata": {},
   "outputs": [],
   "source": [
    "import pandas as pd\n",
    "import numpy as np\n",
    "import time"
   ]
  },
  {
   "cell_type": "code",
   "execution_count": null,
   "id": "c5756c66-58a0-4008-9335-f2551b8ccef5",
   "metadata": {},
   "outputs": [],
   "source": [
    "df = pd.read_csv(\"../Result/2023_04_16/comment_similarity_Bert.csv\", encoding=\"cp932\", header=None)\n",
    "OneDrive/デスクトップ/program/TechnicalInvestigation/SimilarityComment/Result/2023_04_16/comment_similarity_Bert_word_mean_vector.csv\n",
    "comment_list = []\n",
    "row_data = df[0][1:].to_numpy().tolist()\n",
    "wd = WordDividerMecab()\n",
    "stop_word_list = [\"まだ\", \"ある\", \"なる\", \"なる\", \"する\", \"し\", \"する\", \"いる\", \"なっ\", \"せ\", \"い\", \"やる\"]\n",
    "comment_list = [wd.wakati_text_delete(text=text, stop_word_list=stop_word_list) for text in row_data]\n",
    "#comment_list = [comment for comment in comment_list if comment != '']\n",
    "\n",
    "import matplotlib.pyplot as plt\n",
    "import math\n",
    "import numpy as np\n",
    "\n",
    "x = []\n",
    "comment_count_list = []\n",
    "for i, comment in enumerate(comment_list):\n",
    "    comment_count_list.append(len(comment))\n",
    "    \n",
    "x = np.linspace(0, max(comment_count_list), max(comment_count_list)+1, dtype=int)\n",
    "y = np.zeros(max(comment_count_list)+1)\n",
    "\n",
    "for count in comment_count_list:\n",
    "    y[count] += 1\n",
    "\n",
    "plt.plot(x, y)\n",
    "plt.xlabel('number of characters')\n",
    "plt.ylabel('Number of comments')\n",
    "plt.show()\n",
    "\n",
    "comment_count_list = []\n",
    "for i, comment in enumerate(row_data):\n",
    "    comment_count_list.append(len(comment))\n",
    "    \n",
    "y = np.zeros(max(comment_count_list)+1)\n",
    "\n",
    "for count in comment_count_list:\n",
    "    y[count] += 1\n",
    "\n",
    "start = 0\n",
    "max_count = max(comment_count_list)+1\n",
    "x = []\n",
    "new_y = []\n",
    "for num in range(50, max_count, 50):\n",
    "    new_y.append(sum(y[start:num]))\n",
    "    finish = num\n",
    "    start = finish\n",
    "    x.append(finish)\n",
    "    \n",
    "    \n",
    "plt.plot(x, new_y)\n",
    "plt.xlabel('number of characters')\n",
    "plt.ylabel('Number of comments')\n",
    "plt.show()\n",
    "\n",
    "def calcNumChar(start, finish, comments):\n",
    "    #コメントの文字数がstart以上, finish以下のコメント数を表示する\n",
    "    print(sum(comments[start:finish+1]))\n",
    "\n",
    "calcNumChar(0, 400, y)"
   ]
  }
 ],
 "metadata": {
  "kernelspec": {
   "display_name": "Python 3 (ipykernel)",
   "language": "python",
   "name": "python3"
  },
  "language_info": {
   "codemirror_mode": {
    "name": "ipython",
    "version": 3
   },
   "file_extension": ".py",
   "mimetype": "text/x-python",
   "name": "python",
   "nbconvert_exporter": "python",
   "pygments_lexer": "ipython3",
   "version": "3.10.1"
  }
 },
 "nbformat": 4,
 "nbformat_minor": 5
}
