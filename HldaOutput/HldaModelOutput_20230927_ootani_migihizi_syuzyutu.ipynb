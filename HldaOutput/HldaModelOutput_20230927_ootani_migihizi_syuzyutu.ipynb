{
 "cells": [
  {
   "cell_type": "code",
   "execution_count": 3,
   "id": "7995cb4a-dc33-41c3-ba5d-ecf72afa83a6",
   "metadata": {},
   "outputs": [],
   "source": [
    "import sys\n",
    "sys.path.append('../Data')\n",
    "\n",
    "import pandas as pd\n",
    "import numpy as np\n",
    "import time\n",
    "from CommentDataset import CommentDataset\n",
    "\n",
    "comment_list_name = \"20230927_ootani_migihizi_syuzyutu\"\n",
    "comment_list_path = \"2023_09_27/\" + comment_list_name + \".csv\"\n",
    "\n",
    "# # 指定すべき文字コードはファイルによる(cp932 or utf-8)\n",
    "df = pd.read_csv(\"../Data/yahoo/\"+comment_list_path, encoding=\"cp932\", header=None)\n",
    "comment_list = df[0][1:].to_numpy().tolist()\n",
    "comment_dataset = CommentDataset(comment_list)\n",
    "comment_dataset.delete_comment_specified_string(50)\n",
    "comment_list = comment_dataset.comment_list\n",
    "comment_dataset.formatted_input_hlda(appear_tagging_list=[\"名詞\", \"形容詞\", \"動詞\"], stop_tagging_list=[\"助詞\", \"助動詞\", \"非自立\"])"
   ]
  },
  {
   "cell_type": "code",
   "execution_count": 4,
   "id": "af116522-6eda-4137-ac02-7299bd5e0c35",
   "metadata": {},
   "outputs": [
    {
     "name": "stdout",
     "output_type": "stream",
     "text": [
      "412\n"
     ]
    }
   ],
   "source": [
    "print(len(comment_list))"
   ]
  },
  {
   "cell_type": "code",
   "execution_count": 7,
   "id": "ef1f2780-973b-45ab-8f9b-e3f527db0b88",
   "metadata": {},
   "outputs": [],
   "source": [
    "from model.HldaModel import ExpandHldaModel\n",
    "\n",
    "model_path = \"../HldaInput/model/pickle/2023_09_27/20230927_ootani_migihizi_syuzyutu_default.pickle\"\n",
    "expandHlda = ExpandHldaModel(pickle_path=model_path)"
   ]
  },
  {
   "cell_type": "code",
   "execution_count": 8,
   "id": "6b61f5ed-899a-47a8-8327-bca51d6927be",
   "metadata": {},
   "outputs": [
    {
     "name": "stdout",
     "output_type": "stream",
     "text": [
      "topic=0 level=0 (documents=412): 手術 (263), 大谷 (246), 選手 (183), 成功 (159), 思う (158), \n",
      "    topic=1 level=1 (documents=91): 二刀流 (29), 打者 (20), 投手 (16), 負担 (10), できる (10), \n",
      "        topic=310 level=2 (documents=11): 上げる (5), 酷使 (4), 悲鳴 (4), おかしい (2), 自身 (2), \n",
      "        topic=318 level=2 (documents=9): バッターボックス (3), 勝てる (2), プレー (2), 届ける (2), 勇気 (2), \n",
      "        topic=320 level=2 (documents=8): 2025年 (2), 記録 (2), 前回 (1), 走る (1), 貢献 (1), \n",
      "        topic=342 level=2 (documents=7): スタート (3), 塁打 (2), 投打 (2), 渡る (2), 球場 (2), \n",
      "        topic=369 level=2 (documents=4): マメ (3), 明らか (2), 指先 (2), 充分 (2), 頼る (2), \n",
      "        topic=370 level=2 (documents=5): 感心 (2), ブランク (2), 進む (1), 練習 (1), こっち (1), \n",
      "        topic=371 level=2 (documents=9): 早期 (2), 盗塁 (2), チーム (1), プラス (1), 快復 (1), \n",
      "        topic=377 level=2 (documents=16): 観る (6), 仕事 (5), 希望 (5), 寂しい (4), お金 (3), \n",
      "        topic=386 level=2 (documents=5): 遅れる (2), 入れる (2), 存在 (2), メス (2), 満身創痍 (1), \n",
      "        topic=396 level=2 (documents=9): 経験 (4), 進化 (3), 勇気 (3), 復帰 (2), 違う (2), \n",
      "        topic=398 level=2 (documents=8): 故障 (3), ベンチ (2), 左投手 (2), 困難 (2), 箇所 (2), \n",
      "    topic=3 level=1 (documents=79): 打者 (36), 二刀流 (32), 投手 (18), 言う (15), 専念 (14), \n",
      "        topic=121 level=2 (documents=4): 最高 (2), 現実 (1), 似合う (1), ペース (1), 出場 (1), \n",
      "        topic=323 level=2 (documents=8): 凄い (3), 来年度 (3), 高額 (2), 神様 (2), 年俸 (2), \n",
      "        topic=354 level=2 (documents=4): そりゃ (2), 小生 (2), 体調 (2), 在る (2), 五十路 (1), \n",
      "        topic=355 level=2 (documents=6): 話題 (2), 接触 (1), デカ (1), 本当 (1), 穏やか (1), \n",
      "        topic=357 level=2 (documents=9): 強化 (2), かかる (2), 存在 (2), 子供 (2), 肉体 (1), \n",
      "        topic=358 level=2 (documents=6): 戻れる (3), 離れる (3), グラウンド (2), 環境 (2), ぬるま湯 (1), \n",
      "        topic=375 level=2 (documents=10): 継続 (5), 球団 (4), 強化 (4), 今後 (4), できる (3), \n",
      "        topic=376 level=2 (documents=11): 期間 (4), 負担 (4), 球種 (4), 減らす (3), 変化球 (3), \n",
      "        topic=380 level=2 (documents=4): マスコミ (4), メディア (4), 情報 (3), 意図 (1), スタッフ (1), \n",
      "        topic=393 level=2 (documents=13): 本塁打 (2), 130打点 (2), 60本 (2), 3冠王 (2), 抜本的 (1), \n",
      "        topic=397 level=2 (documents=4): いい (2), 2年後 (2), はやる (1), 聞く (1), だし (1), \n",
      "    topic=12 level=1 (documents=96): 二刀流 (33), 打者 (29), 投手 (26), できる (22), 負担 (14), \n",
      "        topic=346 level=2 (documents=10): 故障 (3), 選手生命 (3), 絞る (2), 認識 (2), すごい (2), \n",
      "        topic=347 level=2 (documents=5): イチロー (3), 聞く (3), 確実 (2), 間に合う (2), こちら (2), \n",
      "        topic=364 level=2 (documents=9): 以前 (3), 最近 (3), 辛い (2), 最善 (2), 球速 (2), \n",
      "        topic=367 level=2 (documents=8): 筋肉 (6), 作用 (2), 日々 (2), しなやか (2), 体調管理 (2), \n",
      "        topic=372 level=2 (documents=3): 9割 (3), 160キロ (2), 山本昌 (2), すい (1), いける (1), \n",
      "        topic=378 level=2 (documents=7): 成績 (2), 結果 (2), 2025年 (2), 実績 (1), 楽しみ (1), \n",
      "        topic=381 level=2 (documents=2): 世界 (2), スーパースター (2), 熱意 (2), オーバーワーク (2), 切り替える (1), \n",
      "        topic=383 level=2 (documents=12): 意味 (3), 変化球 (3), 必要 (3), 多投 (2), あれだけ (2), \n",
      "        topic=395 level=2 (documents=2): どちら (2), 戦力 (2), 書く (1), 焦点 (1), 支援 (1), \n",
      "        topic=399 level=2 (documents=12): 着る (4), ユニフォーム (4), 状態 (2), 今季 (2), 打点 (2), \n",
      "        topic=400 level=2 (documents=11): 判断 (4), 長い (3), 安心 (2), 至る (2), 静養 (2), \n",
      "        topic=401 level=2 (documents=10): そうだ (2), 早い (2), 決まる (2), 痛い (2), あちこち (2), \n",
      "        topic=402 level=2 (documents=5): 投打 (3), タイミング (2), 本当 (2), 鼓舞 (1), 回避 (1), \n",
      "    topic=14 level=1 (documents=146): 二刀流 (48), 打者 (33), 投手 (26), できる (23), 言う (19), \n",
      "        topic=15 level=2 (documents=8): ホームラン王 (4), 今期 (4), 間違い (3), 休める (3), 変わる (3), \n",
      "        topic=217 level=2 (documents=3): ケガ (3), ヵ月 (2), 諦める (1), 冷静 (1), 集まる (1), \n",
      "        topic=246 level=2 (documents=7): 専念 (2), 不幸 (2), オペ (2), グランド (2), 楽しみ (2), \n",
      "        topic=260 level=2 (documents=5): 多い (3), 滑る (2), 怪我人 (2), 検査 (2), ボール (2), \n",
      "        topic=276 level=2 (documents=5): 程度 (4), ムリ (3), 治癒 (1), 火傷 (1), 無念 (1), \n",
      "        topic=322 level=2 (documents=4): 出し手 (2), 痛める (2), 悪化 (2), 6人 (1), 吉報 (1), \n",
      "        topic=328 level=2 (documents=7): ピッチャー (3), 筋肉 (3), 記事 (2), イチロー (2), 耐える (2), \n",
      "        topic=329 level=2 (documents=9): 失敗 (3), 勝負 (2), 絶対 (2), プレースタイル (2), 受ける (2), \n",
      "        topic=336 level=2 (documents=9): 状態 (2), かける (2), 意思 (2), 執刀 (2), 励ます (1), \n",
      "        topic=345 level=2 (documents=9): 速い (5), 行動 (4), 決断 (4), 原因 (3), 振る (2), \n",
      "        topic=348 level=2 (documents=6): 有る (3), 貰う (3), 出す (2), 目指す (2), グランド (2), \n",
      "        topic=352 level=2 (documents=10): ボール (9), 滑る (4), 日本 (3), 真剣 (2), 供給 (2), \n",
      "        topic=356 level=2 (documents=9): 保存 (2), 療法 (2), 余裕 (1), 2年 (1), スタート (1), \n",
      "        topic=359 level=2 (documents=4): 好き (2), 描く (1), 舞台 (1), ポストシーズン (1), 伝わる (1), \n",
      "        topic=374 level=2 (documents=12): クリニック (3), 打席 (3), 何事 (2), 試練 (2), 終える (2), \n",
      "        topic=379 level=2 (documents=5): ユニホーム (2), 右肘 (2), 今シーズン (2), 含める (2), 裏切る (1), \n",
      "        topic=387 level=2 (documents=7): 療法 (2), ダブルヘッダー (2), 2試合 (2), バッティング (2), 保存 (2), \n",
      "        topic=388 level=2 (documents=6): 時間 (3), シーズン終了 (2), 比べる (2), 優秀 (2), ダル (1), \n",
      "        topic=389 level=2 (documents=11): 現役 (3), こだわる (2), ブランク (2), 感覚 (2), 始まる (2), \n",
      "        topic=394 level=2 (documents=10): 早期 (5), 間に合う (4), 笑顔 (3), 感じる (3), 含める (3), \n"
     ]
    }
   ],
   "source": [
    "expandHlda.print_nodes(n_words = 5, weights = True)"
   ]
  },
  {
   "cell_type": "code",
   "execution_count": 9,
   "id": "625b5768-53fc-433a-b59e-367028d44657",
   "metadata": {},
   "outputs": [
    {
     "name": "stdout",
     "output_type": "stream",
     "text": [
      "topic=402 (documents=3) 投打とも, このタイミング, 覚悟, \n",
      "topic=395 (documents=12) ワールドシリーズ制覇を狙える戦力, ホームラン王獲得, どちら, \n",
      "topic=246 (documents=11) 幸い, 楽しみ本人, 不幸中, \n",
      "topic=375 (documents=10) 徹底強化をしない限り, 強化, ない球団だから勝てないので出た方, \n",
      "topic=398 (documents=9) 笑顔をたくさん見せチームメート, たくさん語らい太陽, 二日間ベンチ, \n",
      "topic=15 (documents=13) ホームラン王, 今期終了, 今期, \n",
      "topic=379 (documents=5) 様々な豪華かつ走攻守, 活躍シーン, 右肘, \n",
      "topic=399 (documents=4) ことなので今季を上回るホームラン, 負荷を測る装具, じん帯, \n",
      "topic=310 (documents=10) 悲鳴を上げる大谷翔平, 酷使, 本来, \n",
      "topic=364 (documents=7) 以前, 最近, 球速, \n",
      "topic=348 (documents=3) 二刀流を目指すと宣言できた事, 再来年度, コメント通り, \n",
      "topic=323 (documents=7) とんでもない高額年俸, 高額年俸, 来年度, \n",
      "topic=400 (documents=8) 非常にスピーディーな判断, 最終的に一番弱い肘, 早くて2025シーズンかないずれ, \n",
      "topic=396 (documents=8) 一人経験者, 経験者, 進化した大谷選手, \n",
      "topic=336 (documents=7) 意思, 完璧な二刀流, 執刀医, \n",
      "topic=121 (documents=11) 望みを絶たれるまで出場しようとしていたということ, 最高の舞台, 最高のニュース, \n",
      "topic=377 (documents=2) ゆっくりテレビ観戦したら、どかーんとでっかいホームラン, 仕事, 休日, \n",
      "topic=367 (documents=7) しなやかに投げる筋肉, 打撃筋肉, 筋肉維持, \n",
      "topic=378 (documents=6) 成績を残す選手, 打者専門大谷, どういう結果, \n",
      "topic=389 (documents=4) あの壮絶なリハビリ, 長く現役続けること, 大きいな怪我, \n",
      "topic=386 (documents=7) 比類ない存在, メスを入れる決断を早くした方, メスを入れるということ, \n",
      "topic=322 (documents=5) 無理をしてけがを悪化させること, シーズン途中離脱し手術を受けたこと, まだちょっと先なんだろうと思ってた心配する暇, \n",
      "topic=383 (documents=2) 必要, 休養, 楽しみ, \n",
      "topic=345 (documents=7) 速くなるというケース, やると決めたら迷わず即行動する決断力, 行動, \n",
      "topic=374 (documents=3) クリニック, ロサンゼルス市内, ジョーブ博士, \n",
      "topic=369 (documents=6) マメのトラブル, 指先, 一瞬, \n",
      "topic=376 (documents=6) 負担を掛けるので投球禁止, 新たな球種チェンジアップ, 球種, \n",
      "topic=329 (documents=5) 絶対, 勝負, 成否, \n",
      "topic=355 (documents=4) 怪しいって動画, 話題, なっても　争奪戦必至, \n",
      "topic=388 (documents=3) 不安要素を払拭すること, 時間, 人たち, \n",
      "topic=381 (documents=7) あと10年15年, スーパースター, 世界, \n",
      "topic=342 (documents=4) 先導役を長きに渡り見させてもらいまいた昨年, スタート, 投打, \n",
      "topic=397 (documents=37) いい状態, いいような気, そんなに無理をしなくてもいいチーム, \n",
      "topic=393 (documents=4) .330 60本 130打点, 打率.335、130打点, 3割70本120打点, \n",
      "topic=318 (documents=5) 来年も素晴らしいプレー, バッターボックス, 名刀(バット)を構える姿を楽しみ, \n",
      "topic=356 (documents=4) 保存療法, 超人的な力, カーブ, \n",
      "topic=394 (documents=10) 早期手術, 素敵な笑顔, 早期, \n",
      "topic=354 (documents=7) 体調見通し等々知る術, 御見舞い申し上げる次第, 小生自身, \n",
      "topic=347 (documents=4) 黄色信号, こちら, 打者メイン, \n",
      "topic=328 (documents=9) ピッチャー復帰, 筋肉, 「ピッチャー, \n",
      "topic=359 (documents=24) 好きで好きでたまらない、とプレーをしている姿, 好きな選手, チーム環境, \n",
      "topic=346 (documents=4) 二刀流を意識し過ぎると選手生命を断たれる事態, 故障頻度, 大変な事態, \n",
      "topic=217 (documents=14) ケガなく自身をマネジメントしながら活躍してもらいたいのが本心, ケガ, 一ヵ月, \n",
      "topic=358 (documents=11) 最適な環境, 環境, グラウンド, \n",
      "topic=371 (documents=3) 30盗塁, ポストシーズン進出, 場合, \n",
      "topic=372 (documents=12) 9割, 145キロ付近, 復帰後160キロ, \n",
      "topic=260 (documents=5) 様々な要因, 無い過密スケジュール, 怪我人, \n",
      "topic=320 (documents=7) 記録, 2025年, 解説者, \n",
      "topic=357 (documents=6) 希望を与えられる存在, 強化, それをしたらアウト, \n",
      "topic=401 (documents=5) 良い戯言, あちこち, 早い復帰, \n",
      "topic=387 (documents=8) 2試合数イニング, 2試合目, バッティング, \n",
      "topic=370 (documents=10) 感心, ブランク, 1年間ブランク, \n",
      "topic=352 (documents=17) ボールを供給している会社, 生命を食い潰す滑るボール, ボール, \n",
      "topic=276 (documents=9) いくから致命傷にならない程度, タイミング程度, 6～7勝程度, \n",
      "topic=380 (documents=11) 連日オータニオータニを繰り返すマスコミ, マスコミを、賑やかすこと, 情報空間, \n"
     ]
    }
   ],
   "source": [
    "expandHlda.print_phrases_by_sentence(comment_list=comment_list, corpus=comment_dataset.comment_list, n_phrase=3, with_score=False)"
   ]
  },
  {
   "cell_type": "code",
   "execution_count": null,
   "id": "2af175fe-1004-4198-8788-9139a8f5fade",
   "metadata": {},
   "outputs": [],
   "source": [
    "expandHlda.print_topic_multi_document_by_sentence(comment_list=comment_list, corpus=comment_dataset.comment_list, topic_id=36)"
   ]
  },
  {
   "cell_type": "code",
   "execution_count": null,
   "id": "9c4b76e8-1acf-4131-b8f0-53538942ff51",
   "metadata": {},
   "outputs": [],
   "source": [
    "expandHlda.get_topic_multi_document(comment_list=comment_list, corpus=comment_dataset.comment_list)"
   ]
  }
 ],
 "metadata": {
  "kernelspec": {
   "display_name": "Python 3 (ipykernel)",
   "language": "python",
   "name": "python3"
  },
  "language_info": {
   "codemirror_mode": {
    "name": "ipython",
    "version": 3
   },
   "file_extension": ".py",
   "mimetype": "text/x-python",
   "name": "python",
   "nbconvert_exporter": "python",
   "pygments_lexer": "ipython3",
   "version": "3.8.10"
  }
 },
 "nbformat": 4,
 "nbformat_minor": 5
}
