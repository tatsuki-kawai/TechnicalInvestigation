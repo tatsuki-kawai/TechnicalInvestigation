{
 "cells": [
  {
   "cell_type": "code",
   "execution_count": 8,
   "id": "600c1c99-aa24-45a4-a42d-b6d0986321d2",
   "metadata": {},
   "outputs": [],
   "source": [
    "import numpy as np\n",
    "import pandas as pd\n",
    "import janome\n",
    "import matplotlib.pyplot as plt\n",
    "import pickle\n",
    "from janome.tokenizer import Tokenizer\n",
    "from sklearn.pipeline import Pipeline\n",
    "from sklearn.model_selection import train_test_split\n",
    "from sklearn.model_selection import learning_curve\n",
    "from sklearn.feature_extraction.text import CountVectorizer, TfidfTransformer, TfidfVectorizer\n",
    "from sklearn.linear_model import PassiveAggressiveClassifier\n",
    "from sklearn.linear_model import SGDClassifier\n",
    "from sklearn.linear_model import LogisticRegression\n",
    "from sklearn.metrics import confusion_matrix, accuracy_score, precision_score, recall_score, f1_score, classification_report\n",
    "from imblearn.under_sampling import RandomUnderSampler\n",
    "from sklearn.model_selection import StratifiedKFold\n",
    "from sklearn.model_selection import cross_val_score"
   ]
  },
  {
   "cell_type": "code",
   "execution_count": 9,
   "id": "d6ffab39-d231-406c-af2c-7a632e30b85c",
   "metadata": {},
   "outputs": [],
   "source": [
    "class WordDivider:\n",
    "    def __init__(self):\n",
    "        self.wakati = Tokenizer(wakati=True)\n",
    "        self.t = Tokenizer()\n",
    "\n",
    "    def wakati_words(self, text):\n",
    "        if not text:\n",
    "            return []\n",
    "\n",
    "        words = []\n",
    "        text = list(self.wakati.tokenize(text))\n",
    "        for word in text:\n",
    "            words.append(word)\n",
    "\n",
    "        return words\n",
    "\n",
    "    def surface_words(self, text):\n",
    "        if not text:\n",
    "            return []\n",
    "\n",
    "        words = []\n",
    "        for token in self.t.tokenize(text):\n",
    "            words.append(token.base_form)\n",
    "        return words\n",
    "\n",
    "    def wakati_text(self, text):\n",
    "        if not text:\n",
    "            return []\n",
    "\n",
    "        words = []\n",
    "        wakati = list(self.wakati.tokenize(text))\n",
    "        for word in wakati:\n",
    "            words.append(word)\n",
    "\n",
    "        output = \"\"\n",
    "        for word in words:\n",
    "            output += word\n",
    "            output += \" \"\n",
    "        return output\n"
   ]
  },
  {
   "cell_type": "code",
   "execution_count": 20,
   "id": "87398bb5-bdd6-40c1-95ce-43dc206b6997",
   "metadata": {},
   "outputs": [
    {
     "name": "stdout",
     "output_type": "stream",
     "text": [
      "0.0    422\n",
      "1.0    422\n",
      "Name: label, dtype: int64\n",
      "Cross Validation ( Iter = 10 )\n",
      "-> Train data size : 760\n",
      "-> Test data size  : 84\n",
      "------------------------\n",
      "  k=0: 0.6470588235294118\n",
      "  k=1: 0.6705882352941176\n",
      "  k=2: 0.7647058823529411\n",
      "  k=3: 0.6235294117647059\n",
      "  k=4: 0.5952380952380952\n",
      "  k=5: 0.6190476190476191\n",
      "  k=6: 0.6666666666666666\n",
      "  k=7: 0.6666666666666666\n",
      "  k=8: 0.7380952380952381\n",
      "  k=9: 0.7261904761904762\n",
      "accuracy: 0.672 ＋／ー 0.053\n"
     ]
    }
   ],
   "source": [
    "from sklearn.ensemble import StackingClassifier\n",
    "\n",
    "#アンサンブルの作成(スタッキング）\n",
    "estimators = [\n",
    "    ('PA', PassiveAggressiveClassifier()),\n",
    "    ('linear SVM', SGDClassifier(loss='hinge'))\n",
    "]\n",
    "\n",
    "clf = StackingClassifier(\n",
    "    estimators=estimators, final_estimator=LogisticRegression()\n",
    ")\n",
    "\n",
    "#パイプラインの作成\n",
    "tfidf = TfidfVectorizer(ngram_range=(1, 5))\n",
    "lr_tfidf = Pipeline([(\"vect\", tfidf), (\"clf\", clf)])\n",
    "\n",
    "df = pd.read_csv(\"./experiment4.csv\")\n",
    "print(df[\"label\"].value_counts())\n",
    "x_train, y_train = df.loc[:, \"comment_sentence\"].tolist(), df.loc[:, \"label\"].tolist()\n",
    "wd = WordDivider()\n",
    "x_train = [wd.wakati_text(text) for text in x_train]"
   ]
  },
  {
   "cell_type": "code",
   "execution_count": null,
   "id": "a6e4abab-28cb-43d9-bc0e-9cc01c08f967",
   "metadata": {},
   "outputs": [],
   "source": [
    "scores = []\n",
    "iter = 10\n",
    "test_size = float(1) / iter\n",
    "cvs = cross_val_score(lr_tfidf, x_train, y_train, cv=10)\n",
    "print('Cross Validation ( Iter = {0} )'.format(iter))\n",
    "print('-> Train data size : {:.0f}'.format(len(x_train) - test_size * len(x_train)))\n",
    "print('-> Test data size  : {:.0f}'.format(len(x_train) * test_size))\n",
    "print('------------------------')\n",
    "for i,score in enumerate(cvs):\n",
    "    print('  k={0}: {1}'.format(i, score))\n",
    "    scores.append(score)\n",
    "print('accuracy: %.3f ＋／ー %.3f' % (np.mean(scores), np.std(scores)))"
   ]
  },
  {
   "cell_type": "code",
   "execution_count": null,
   "id": "020e1116-9a75-43dd-bd65-4064d43fcf4a",
   "metadata": {},
   "outputs": [],
   "source": []
  }
 ],
 "metadata": {
  "kernelspec": {
   "display_name": "Python 3 (ipykernel)",
   "language": "python",
   "name": "python3"
  },
  "language_info": {
   "codemirror_mode": {
    "name": "ipython",
    "version": 3
   },
   "file_extension": ".py",
   "mimetype": "text/x-python",
   "name": "python",
   "nbconvert_exporter": "python",
   "pygments_lexer": "ipython3",
   "version": "3.10.1"
  }
 },
 "nbformat": 4,
 "nbformat_minor": 5
}
