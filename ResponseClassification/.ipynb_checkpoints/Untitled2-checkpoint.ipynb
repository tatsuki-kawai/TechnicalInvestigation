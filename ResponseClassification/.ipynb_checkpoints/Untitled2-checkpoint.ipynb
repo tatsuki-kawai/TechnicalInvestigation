{
 "cells": [
  {
   "cell_type": "code",
   "execution_count": 10,
   "id": "9c3225c6-012c-4a43-b811-9b7e6dd50a31",
   "metadata": {},
   "outputs": [],
   "source": [
    "import numpy as np\n",
    "import pandas as pd\n",
    "import janome\n",
    "import matplotlib.pyplot as plt\n",
    "import pickle\n",
    "from janome.tokenizer import Tokenizer\n",
    "from sklearn.pipeline import Pipeline\n",
    "from sklearn.model_selection import train_test_split\n",
    "from sklearn.model_selection import learning_curve\n",
    "from sklearn.feature_extraction.text import CountVectorizer, TfidfTransformer, TfidfVectorizer\n",
    "from sklearn.linear_model import PassiveAggressiveClassifier\n",
    "from sklearn.linear_model import SGDClassifier\n",
    "from sklearn.linear_model import LogisticRegression\n",
    "from sklearn.metrics import confusion_matrix, accuracy_score, precision_score, recall_score, f1_score, classification_report\n",
    "from imblearn.under_sampling import RandomUnderSampler\n",
    "\n",
    "class WordDivider:\n",
    "    def __init__(self):\n",
    "        self.wakati = Tokenizer(wakati=True)\n",
    "        self.t = Tokenizer()\n",
    "\n",
    "    def wakati_words(self, text):\n",
    "        if not text:\n",
    "            return []\n",
    "\n",
    "        words = []\n",
    "        text = list(self.wakati.tokenize(text))\n",
    "        for word in text:\n",
    "            words.append(word)\n",
    "\n",
    "        return words\n",
    "\n",
    "    def surface_words(self, text):\n",
    "        if not text:\n",
    "            return []\n",
    "\n",
    "        words = []\n",
    "        for token in self.t.tokenize(text):\n",
    "            words.append(token.base_form)\n",
    "        return words\n",
    "\n",
    "    def wakati_text(self, text):\n",
    "        if not text:\n",
    "            return []\n",
    "\n",
    "        words = []\n",
    "        wakati = list(self.wakati.tokenize(text))\n",
    "        for word in wakati:\n",
    "            words.append(word)\n",
    "\n",
    "        output = \"\"\n",
    "        for word in words:\n",
    "            output += word\n",
    "            output += \" \"\n",
    "        return output"
   ]
  },
  {
   "cell_type": "code",
   "execution_count": 11,
   "id": "25a4d194-6a36-4b6f-9d54-8e34d694edd4",
   "metadata": {},
   "outputs": [
    {
     "data": {
      "text/plain": [
       "'その 固い 頭 を 柔らかく し た 方 が 生産 的 '"
      ]
     },
     "execution_count": 11,
     "metadata": {},
     "output_type": "execute_result"
    }
   ],
   "source": [
    "wd = WordDivider()\n",
    "text_list = []\n",
    "text1 = \"キミが更迭だな\"\n",
    "text2 = \"その固い頭を柔らかくした方が生産的\"\n",
    "text3 = \"頭のネジが飛んだのか？\"\n",
    "text4 = \"本当生産性のない奴らw\"\n",
    "text5 = \"頭大丈夫なのかしら、と。\"\n",
    "text_list.append(text1)\n",
    "text_list.append(text2)\n",
    "text_list.append(text3)\n",
    "text_list.append(text4)\n",
    "text_list.append(text5)\n",
    "keitaiso = [wd.wakati_text(text) for text in text_list]"
   ]
  },
  {
   "cell_type": "code",
   "execution_count": 24,
   "id": "ccf6a056-7df5-461a-ab00-f5f574153b72",
   "metadata": {},
   "outputs": [
    {
     "name": "stdout",
     "output_type": "stream",
     "text": [
      "(1, 10)\n",
      "[[0.31622777 0.31622777 0.31622777 0.31622777 0.31622777 0.31622777\n",
      "  0.31622777 0.31622777 0.31622777 0.31622777]]\n"
     ]
    },
    {
     "data": {
      "text/plain": [
       "<1x10 sparse matrix of type '<class 'numpy.float64'>'\n",
       "\twith 10 stored elements in Compressed Sparse Row format>"
      ]
     },
     "execution_count": 24,
     "metadata": {},
     "output_type": "execute_result"
    }
   ],
   "source": [
    "train = pd.read_csv(\"./experiment4_train.csv\")\n",
    "test = pd.read_csv(\"./experiment4_test.csv\")\n",
    "x_train, y_train = train.loc[:, \"comment_sentence\"].tolist(), train.loc[:, \"label\"].tolist()\n",
    "x_test, y_test = test.loc[:, \"comment_sentence\"].tolist(), test.loc[:, \"label\"].tolist()\n",
    "wd = WordDivider()\n",
    "x_train = [wd.wakati_text(text) for text in x_train]\n",
    "x_test = [wd.wakati_text(text) for text in x_test]\n",
    "\n",
    "tfidf = TfidfVectorizer(ngram_range=(1, 5))\n",
    "doc = []\n",
    "doc.append(keitaiso)\n",
    "tfidf.fit(doc)\n",
    "text_vec = tfidf.transform(doc)\n",
    "print(text_vec.shape)\n",
    "print(text_vec.toarray())\n",
    "text_vec"
   ]
  },
  {
   "cell_type": "code",
   "execution_count": null,
   "id": "9d2ba723-8850-4568-b953-62d35097f572",
   "metadata": {},
   "outputs": [],
   "source": []
  }
 ],
 "metadata": {
  "kernelspec": {
   "display_name": "Python 3 (ipykernel)",
   "language": "python",
   "name": "python3"
  },
  "language_info": {
   "codemirror_mode": {
    "name": "ipython",
    "version": 3
   },
   "file_extension": ".py",
   "mimetype": "text/x-python",
   "name": "python",
   "nbconvert_exporter": "python",
   "pygments_lexer": "ipython3",
   "version": "3.10.1"
  }
 },
 "nbformat": 4,
 "nbformat_minor": 5
}
