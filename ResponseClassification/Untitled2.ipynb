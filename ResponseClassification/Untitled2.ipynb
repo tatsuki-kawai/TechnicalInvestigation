{
 "cells": [
  {
   "cell_type": "code",
   "execution_count": 3,
   "metadata": {},
   "outputs": [],
   "source": [
    "import numpy as np\n",
    "import pandas as pd\n",
    "import janome\n",
    "import matplotlib.pyplot as plt\n",
    "import pickle\n",
    "from janome.tokenizer import Tokenizer\n",
    "from sklearn.pipeline import Pipeline\n",
    "from sklearn.model_selection import train_test_split\n",
    "from sklearn.model_selection import learning_curve\n",
    "from sklearn.feature_extraction.text import CountVectorizer, TfidfTransformer, TfidfVectorizer\n",
    "from sklearn.linear_model import PassiveAggressiveClassifier\n",
    "from sklearn.linear_model import SGDClassifier\n",
    "from sklearn.linear_model import LogisticRegression\n",
    "from sklearn.metrics import confusion_matrix, accuracy_score, precision_score, recall_score, f1_score, classification_report\n",
    "# from imblearn.under_sampling import RandomUnderSampler\n",
    "\n",
    "class WordDivider:\n",
    "    def __init__(self):\n",
    "        self.wakati = Tokenizer(wakati=True)\n",
    "        self.t = Tokenizer()\n",
    "\n",
    "    def wakati_words(self, text):\n",
    "        if not text:\n",
    "            return []\n",
    "\n",
    "        words = []\n",
    "        text = list(self.wakati.tokenize(text))\n",
    "        for word in text:\n",
    "            words.append(word)\n",
    "\n",
    "        return words\n",
    "\n",
    "    def surface_words(self, text):\n",
    "        if not text:\n",
    "            return []\n",
    "\n",
    "        words = []\n",
    "        for token in self.t.tokenize(text):\n",
    "            words.append(token.base_form)\n",
    "        return words\n",
    "\n",
    "    def wakati_text(self, text):\n",
    "        if not text:\n",
    "            return []\n",
    "\n",
    "        words = []\n",
    "        wakati = list(self.wakati.tokenize(text))\n",
    "        for word in wakati:\n",
    "            words.append(word)\n",
    "\n",
    "        output = \"\"\n",
    "        for word in words:\n",
    "            output += word\n",
    "            output += \" \"\n",
    "        return output"
   ]
  },
  {
   "cell_type": "code",
   "execution_count": 5,
   "metadata": {},
   "outputs": [
    {
     "data": {
      "text/plain": [
       "['せんべい は 固い ほう が 好き ',\n",
       " 'その 固い 頭 を 柔らかく し た 方 が 生産 的 ',\n",
       " '頭 の ネジ が 飛ん だ の か ？ ',\n",
       " '本当 生産 性 の ない 奴ら w ',\n",
       " '固い 頭 を ほぐし た ほう が いい かも ね ']"
      ]
     },
     "execution_count": 5,
     "metadata": {},
     "output_type": "execute_result"
    }
   ],
   "source": [
    "wd = WordDivider()\n",
    "text_list = []\n",
    "text1 = \"せんべいは固いほうが好き\"\n",
    "text2 = \"その固い頭を柔らかくした方が生産的\"\n",
    "text3 = \"頭のネジが飛んだのか？\"\n",
    "text4 = \"本当生産性のない奴らw\"\n",
    "text5 = \"固い頭をほぐしたほうがいいかもね\"\n",
    "text6 = \"柔らかいのも好きだけど、\"\n",
    "text_list.append(text1)\n",
    "text_list.append(text2)\n",
    "text_list.append(text3)\n",
    "text_list.append(text4)\n",
    "text_list.append(text5)\n",
    "keitaiso = [wd.wakati_text(text) for text in text_list]"
   ]
  },
  {
   "cell_type": "code",
   "execution_count": 3,
   "metadata": {},
   "outputs": [
    {
     "name": "stdout",
     "output_type": "stream",
     "text": [
      "{'せんべい': 3, '固い': 23, 'ほう': 13, '好き': 33, 'せんべい 固い': 4, '固い ほう': 24, 'ほう 好き': 16, 'せんべい 固い ほう': 5, '固い ほう 好き': 25, 'せんべい 固い ほう 好き': 6, 'その': 7, '柔らかく': 38, '生産': 40, 'その 固い': 8, '固い 柔らかく': 30, '柔らかく 生産': 39, 'その 固い 柔らかく': 9, '固い 柔らかく 生産': 31, 'その 固い 柔らかく 生産': 10, 'ネジ': 21, '飛ん': 43, 'ネジ 飛ん': 22, '本当': 34, 'ない': 11, '奴ら': 32, '本当 生産': 35, '生産 ない': 41, 'ない 奴ら': 12, '本当 生産 ない': 36, '生産 ない 奴ら': 42, '本当 生産 ない 奴ら': 37, 'ほぐし': 17, 'いい': 0, 'かも': 2, '固い ほぐし': 26, 'ほぐし ほう': 18, 'ほう いい': 14, 'いい かも': 1, '固い ほぐし ほう': 27, 'ほぐし ほう いい': 19, 'ほう いい かも': 15, '固い ほぐし ほう いい': 28, 'ほぐし ほう いい かも': 20, '固い ほぐし ほう いい かも': 29}\n",
      "その 固い 頭 を 柔らかく し た 方 が 生産 的 \n",
      "(1, 44)\n",
      "[[0.         0.         0.         0.         0.         0.\n",
      "  0.         0.33150716 0.33150716 0.33150716 0.33150716 0.\n",
      "  0.         0.         0.         0.         0.         0.\n",
      "  0.         0.         0.         0.         0.         0.22201421\n",
      "  0.         0.         0.         0.         0.         0.\n",
      "  0.33150716 0.33150716 0.         0.         0.         0.\n",
      "  0.         0.         0.33150716 0.33150716 0.26745789 0.\n",
      "  0.         0.        ]]\n"
     ]
    },
    {
     "data": {
      "text/plain": [
       "<1x44 sparse matrix of type '<class 'numpy.float64'>'\n",
       "\twith 10 stored elements in Compressed Sparse Row format>"
      ]
     },
     "execution_count": 3,
     "metadata": {},
     "output_type": "execute_result"
    }
   ],
   "source": [
    "train = pd.read_csv(\"./experiment4_train.csv\")\n",
    "test = pd.read_csv(\"./experiment4_test.csv\")\n",
    "x_train, y_train = train.loc[:, \"comment_sentence\"].tolist(), train.loc[:, \"label\"].tolist()\n",
    "x_test, y_test = test.loc[:, \"comment_sentence\"].tolist(), test.loc[:, \"label\"].tolist()\n",
    "wd = WordDivider()\n",
    "x_train = [wd.wakati_text(text) for text in x_train]\n",
    "x_test = [wd.wakati_text(text) for text in x_test]\n",
    "\n",
    "tfidf = TfidfVectorizer(ngram_range=(1, 5))\n",
    "# tfidf = TfidfVectorizer()\n",
    "tfidf.fit(keitaiso)\n",
    "print(tfidf.vocabulary_)\n",
    "doc = []\n",
    "doc.append(keitaiso[1])\n",
    "print(keitaiso[1])\n",
    "text_vec = tfidf.transform(doc)\n",
    "print(text_vec.shape)\n",
    "print(text_vec.toarray())\n",
    "text_vec"
   ]
  },
  {
   "cell_type": "code",
   "execution_count": null,
   "metadata": {},
   "outputs": [],
   "source": []
  }
 ],
 "metadata": {
  "kernelspec": {
   "display_name": "Python 3",
   "language": "python",
   "name": "python3"
  },
  "language_info": {
   "codemirror_mode": {
    "name": "ipython",
    "version": 3
   },
   "file_extension": ".py",
   "mimetype": "text/x-python",
   "name": "python",
   "nbconvert_exporter": "python",
   "pygments_lexer": "ipython3",
   "version": "3.8.1"
  }
 },
 "nbformat": 4,
 "nbformat_minor": 5
}
